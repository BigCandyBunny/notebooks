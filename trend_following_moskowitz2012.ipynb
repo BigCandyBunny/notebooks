{
 "cells": [
  {
   "cell_type": "markdown",
   "id": "empty-poultry",
   "metadata": {
    "papermill": {
     "duration": 0.018878,
     "end_time": "2021-02-10T09:49:13.975377",
     "exception": false,
     "start_time": "2021-02-10T09:49:13.956499",
     "status": "completed"
    },
    "tags": []
   },
   "source": [
    "# Trend-following\n",
    "\n",
    "This notebook displays the performance of trend-following strategies across major asset classes. The trend signal used here is the same as the one proposed in Moskowitz et al (2012) to illustrate the basic properties of trend-following strategies. Concretely, the signal at time $t$ is defined in the paper as follows:\n",
    "$$\n",
    "signal_t^s = {\\rm sign} \\left( r_{t-12, t}^{s} \\right) \\frac{40\\%}{\\sigma_{t}^{s}}  \n",
    "$$\n",
    "where $r_{t-12, t}^{s}$ is a return from time $t-12$ to $t$ for an instrument $s$ (return is measured on a monthly basis), $\\sigma_{t}^{s}$ is a trailing realised volatility. Therefore the trend signal is just binary based on the past 1 year returns, adjusted by the realised volatility to achieve the target volatility (40%).\n",
    "\n",
    "Note that like the notebook for long-only returns, results are computed by using a private library called `vivace`."
   ]
  },
  {
   "cell_type": "code",
   "execution_count": 1,
   "id": "copyrighted-perspective",
   "metadata": {
    "ExecuteTime": {
     "end_time": "2020-08-30T21:08:49.524262Z",
     "start_time": "2020-08-30T21:08:48.720115Z"
    },
    "execution": {
     "iopub.execute_input": "2021-02-10T09:49:14.025172Z",
     "iopub.status.busy": "2021-02-10T09:49:14.024590Z",
     "iopub.status.idle": "2021-02-10T09:49:22.015747Z",
     "shell.execute_reply": "2021-02-10T09:49:22.015093Z",
     "shell.execute_reply.started": "2020-11-28T23:16:21.893348Z"
    },
    "papermill": {
     "duration": 8.022187,
     "end_time": "2021-02-10T09:49:22.015918",
     "exception": false,
     "start_time": "2021-02-10T09:49:13.993731",
     "status": "completed"
    },
    "tags": []
   },
   "outputs": [],
   "source": [
    "%matplotlib inline\n",
    "from datetime import datetime\n",
    "import logging\n",
    "import warnings\n",
    "warnings.simplefilter(action='ignore', category=FutureWarning)\n",
    "\n",
    "import pandas as pd\n",
    "import matplotlib.pyplot as plt\n",
    "plt.style.use('bmh')\n",
    "\n",
    "from vivace.backtest import signal\n",
    "from vivace.backtest import processing\n",
    "from vivace.backtest.contract import all_futures_moskowitz2012\n",
    "from vivace.backtest.engine import BacktestEngine\n",
    "from vivace.backtest.enums import Strategy, Weighting\n",
    "from vivace.backtest.stats import Performance, PerfStats"
   ]
  },
  {
   "cell_type": "markdown",
   "id": "underlying-romance",
   "metadata": {
    "papermill": {
     "duration": 0.01802,
     "end_time": "2021-02-10T09:49:22.051944",
     "exception": false,
     "start_time": "2021-02-10T09:49:22.033924",
     "status": "completed"
    },
    "tags": []
   },
   "source": [
    "# Data"
   ]
  },
  {
   "cell_type": "code",
   "execution_count": 2,
   "id": "novel-active",
   "metadata": {
    "ExecuteTime": {
     "end_time": "2020-08-30T21:08:49.529214Z",
     "start_time": "2020-08-30T21:08:49.525465Z"
    },
    "execution": {
     "iopub.execute_input": "2021-02-10T09:49:22.094287Z",
     "iopub.status.busy": "2021-02-10T09:49:22.093708Z",
     "iopub.status.idle": "2021-02-10T09:49:22.096795Z",
     "shell.execute_reply": "2021-02-10T09:49:22.096227Z",
     "shell.execute_reply.started": "2020-11-28T23:16:24.195088Z"
    },
    "papermill": {
     "duration": 0.027098,
     "end_time": "2021-02-10T09:49:22.096919",
     "exception": false,
     "start_time": "2021-02-10T09:49:22.069821",
     "status": "completed"
    },
    "tags": []
   },
   "outputs": [
    {
     "data": {
      "text/plain": [
       "array(['Aluminium', 'Brent Crude Oil', 'Live Cattle', 'Cocoa', 'Coffee',\n",
       "       'Copper', 'Corn', 'Cotton', 'WTI Crude Oil', 'Gas Oil', 'Gold',\n",
       "       'Heating Oil', 'Lean Hog', 'Natural Gas', 'Nickel', 'Platinum',\n",
       "       'Silver', 'Soybean', 'Soybean Meal', 'Soybean Oil', 'Sugar',\n",
       "       'Gasoline', 'Wheat', 'Zinc', 'Australian Dollar', 'British Pound',\n",
       "       'Euro', 'Canadian Dollar', 'Japanese Yen', 'SPI 200', 'DAX',\n",
       "       'IBEX 35', 'CAC 40', 'Topix', 'AEX', 'FTSE 100', 'S&P 500',\n",
       "       'Australia 3-year Treasury', 'Australia 10-year Treasury',\n",
       "       'Germany Schatz', 'Germany Bobl', 'Germany Bund', 'Germany Buxl',\n",
       "       'Canada 10-year Treasury', 'JGB', 'Gilt', 'US 2-year Treasury',\n",
       "       'US 5-year Treasury', 'US 10-year Treasury', 'US treasury Bond'],\n",
       "      dtype=object)"
      ]
     },
     "execution_count": 2,
     "metadata": {},
     "output_type": "execute_result"
    }
   ],
   "source": [
    "all_futures_moskowitz2012['name'].values"
   ]
  },
  {
   "cell_type": "code",
   "execution_count": 3,
   "id": "threaded-performance",
   "metadata": {
    "ExecuteTime": {
     "end_time": "2020-08-30T21:08:49.542477Z",
     "start_time": "2020-08-30T21:08:49.530487Z"
    },
    "execution": {
     "iopub.execute_input": "2021-02-10T09:49:22.138038Z",
     "iopub.status.busy": "2021-02-10T09:49:22.137422Z",
     "iopub.status.idle": "2021-02-10T09:49:22.140096Z",
     "shell.execute_reply": "2021-02-10T09:49:22.140581Z",
     "shell.execute_reply.started": "2020-11-28T23:16:24.205766Z"
    },
    "papermill": {
     "duration": 0.025414,
     "end_time": "2021-02-10T09:49:22.140778",
     "exception": false,
     "start_time": "2021-02-10T09:49:22.115364",
     "status": "completed"
    },
    "tags": []
   },
   "outputs": [
    {
     "data": {
      "text/plain": [
       "50"
      ]
     },
     "execution_count": 3,
     "metadata": {},
     "output_type": "execute_result"
    }
   ],
   "source": [
    "len(all_futures_moskowitz2012)"
   ]
  },
  {
   "cell_type": "markdown",
   "id": "canadian-hierarchy",
   "metadata": {
    "papermill": {
     "duration": 0.018655,
     "end_time": "2021-02-10T09:49:22.178111",
     "exception": false,
     "start_time": "2021-02-10T09:49:22.159456",
     "status": "completed"
    },
    "tags": []
   },
   "source": [
    "We try to use the same contract as the original paper where possible, resulting 50 futures contracts to analyse. The trading universe covers a wide range of asset classes and regions, and is made up of following instruments:\n",
    "- Equity index futures\n",
    "- Government bond futures\n",
    "- FX futures\n",
    "- Commodity futures\n",
    "\n",
    "where the same trend detection method is applied."
   ]
  },
  {
   "cell_type": "markdown",
   "id": "corporate-valley",
   "metadata": {
    "papermill": {
     "duration": 0.019204,
     "end_time": "2021-02-10T09:49:22.216158",
     "exception": false,
     "start_time": "2021-02-10T09:49:22.196954",
     "status": "completed"
    },
    "tags": []
   },
   "source": [
    "# Performance\n",
    "\n",
    "## Run backtest\n",
    "We can initiate an engine instance by specifying certain signal methodologies. Here in addition to using the proposed trend signal formula, the signal is then observed on a monthly basis to be in line with the assumption of the paper. (defined in the `post_process` argument).  \n",
    "\n",
    "The calculation of signal itself requires just one line and is implemented like follows (in the `calculate` method):\n",
    "```python\n",
    "class TSMOMMoskowitz2012(TimeSeriesSignal):\n",
    "    def __init__(self, lookback: int = 252, shift: int = 2,\n",
    "                 post_process=processing.AsFreq(freq='m', method='pad')):\n",
    "        super().__init__()\n",
    "        self.lookback = lookback\n",
    "        self.shift = shift\n",
    "        self.post_process = post_process\n",
    "\n",
    "    def calculate(self, instrument_return: pd.Series, *args, **kwargs) -> pd.Series:\n",
    "        signal = instrument_return.rolling(self.lookback).sum().fillna(0).pipe(np.sign).shift(self.shift)\n",
    "        return signal\n",
    "```\n",
    "\n",
    "Furthermore, the ex-ante voaltility is measured by the exponentially weighted standard deviation with the center of mass of 60 days, as used in the paper. One difference from the paper is that the backtest also employs a cap on the volatility scaling (parameter `signal_cap`) in order to ensure that leverages are below trailing 95%ile. This is required for certain commodity futures because they had significantly large returns which could bankrupt the backtest in the early days."
   ]
  },
  {
   "cell_type": "code",
   "execution_count": null,
   "id": "dried-valve",
   "metadata": {
    "ExecuteTime": {
     "end_time": "2020-08-30T21:18:24.661167Z",
     "start_time": "2020-08-30T21:08:49.544232Z"
    },
    "execution": {
     "iopub.execute_input": "2020-11-28T23:16:24.220396Z",
     "iopub.status.busy": "2020-11-28T23:16:24.220069Z",
     "iopub.status.idle": "2020-11-28T23:22:03.574150Z",
     "shell.execute_reply": "2020-11-28T23:22:03.573803Z",
     "shell.execute_reply.started": "2020-11-28T23:16:24.220358Z"
    },
    "papermill": {
     "duration": null,
     "end_time": null,
     "exception": false,
     "start_time": "2021-02-10T09:49:22.235144",
     "status": "running"
    },
    "tags": []
   },
   "outputs": [],
   "source": [
    "engine = BacktestEngine(\n",
    "    strategy=Strategy.DELTA_ONE.value,\n",
    "    instrument=all_futures_moskowitz2012.index,\n",
    "    signal=signal.ParallelSignal([\n",
    "        signal.VolatilityScale(agg_method='ewm', com=60, ann_factor=261, \n",
    "                               shift=0, target_volatility=0.4, signal_cap=0.95,\n",
    "                               post_process=processing.AsFreq(freq='m', method='pad')),\n",
    "        signal.TSMOMMoskowitz2012(post_process=processing.AsFreq(freq='m', method='pad'))\n",
    "    ], weighting='product'),\n",
    "    weighting=Weighting.EQUAL_WEIGHT.value,\n",
    "    log_level=logging.WARN,\n",
    ")\n",
    "engine.run()"
   ]
  },
  {
   "cell_type": "markdown",
   "id": "governmental-remove",
   "metadata": {
    "papermill": {
     "duration": null,
     "end_time": null,
     "exception": null,
     "start_time": null,
     "status": "pending"
    },
    "tags": []
   },
   "source": [
    "## Portfolio\n",
    "\n",
    "The portfolio is constructed with a equal-risk (realised volatility) weighting methodology. This is simple to compute however in practice this is not desiable because of various reasons. The biggest reason is liquidity because not all of the futures have the same liquidity. Certainly S&P500 futures would have much deeper liquidity than some other isoteric commodity futures."
   ]
  },
  {
   "cell_type": "code",
   "execution_count": null,
   "id": "statutory-scenario",
   "metadata": {
    "ExecuteTime": {
     "end_time": "2020-08-30T21:19:28.992288Z",
     "start_time": "2020-08-30T21:18:24.662276Z"
    },
    "execution": {
     "iopub.execute_input": "2020-11-28T23:22:03.574691Z",
     "iopub.status.busy": "2020-11-28T23:22:03.574596Z",
     "iopub.status.idle": "2020-11-28T23:22:53.420747Z",
     "shell.execute_reply": "2020-11-28T23:22:53.420394Z",
     "shell.execute_reply.started": "2020-11-28T23:22:03.574679Z"
    },
    "papermill": {
     "duration": null,
     "end_time": null,
     "exception": null,
     "start_time": null,
     "status": "pending"
    },
    "tags": []
   },
   "outputs": [],
   "source": [
    "portfolio_return = (engine.calculate_equity_curve(calculate_net=False, rebalance_freq='m')\n",
    "                    .rename('Trend-following portfolio (Moskowitz 2012)'))"
   ]
  },
  {
   "cell_type": "markdown",
   "id": "turned-height",
   "metadata": {
    "papermill": {
     "duration": null,
     "end_time": null,
     "exception": null,
     "start_time": null,
     "status": "pending"
    },
    "tags": []
   },
   "source": [
    "This portfolio worked well over 60 years with a Sharpe ratio of above 1.0 (gross of costs), however notice that this naive implementation of trend following seems to have somewhat weakened since around 2015."
   ]
  },
  {
   "cell_type": "code",
   "execution_count": null,
   "id": "located-society",
   "metadata": {
    "ExecuteTime": {
     "end_time": "2020-08-30T21:19:29.413070Z",
     "start_time": "2020-08-30T21:19:28.993404Z"
    },
    "execution": {
     "iopub.execute_input": "2020-11-28T23:22:53.421520Z",
     "iopub.status.busy": "2020-11-28T23:22:53.421383Z",
     "iopub.status.idle": "2020-11-28T23:22:53.891556Z",
     "shell.execute_reply": "2020-11-28T23:22:53.891174Z",
     "shell.execute_reply.started": "2020-11-28T23:22:53.421503Z"
    },
    "papermill": {
     "duration": null,
     "end_time": null,
     "exception": null,
     "start_time": null,
     "status": "pending"
    },
    "tags": []
   },
   "outputs": [],
   "source": [
    "fig, ax = plt.subplots(figsize=(8, 4.5))\n",
    "portfolio_return.plot(ax=ax, logy=True);\n",
    "ax.set_title('Trend-following portfolio (Moskowitz 2012)')\n",
    "ax.set_ylabel('Cumulative returns');"
   ]
  },
  {
   "cell_type": "code",
   "execution_count": null,
   "id": "peaceful-steering",
   "metadata": {
    "ExecuteTime": {
     "end_time": "2020-08-30T21:19:29.721845Z",
     "start_time": "2020-08-30T21:19:29.414098Z"
    },
    "execution": {
     "iopub.execute_input": "2020-11-28T23:22:53.892194Z",
     "iopub.status.busy": "2020-11-28T23:22:53.892094Z",
     "iopub.status.idle": "2020-11-28T23:22:54.046632Z",
     "shell.execute_reply": "2020-11-28T23:22:54.046186Z",
     "shell.execute_reply.started": "2020-11-28T23:22:53.892181Z"
    },
    "papermill": {
     "duration": null,
     "end_time": null,
     "exception": null,
     "start_time": null,
     "status": "pending"
    },
    "tags": []
   },
   "outputs": [],
   "source": [
    "portfolio_return.pipe(Performance).summary()"
   ]
  },
  {
   "cell_type": "markdown",
   "id": "indian-killer",
   "metadata": {
    "papermill": {
     "duration": null,
     "end_time": null,
     "exception": null,
     "start_time": null,
     "status": "pending"
    },
    "tags": []
   },
   "source": [
    "## Breakdown by futures contract\n",
    "\n",
    "Most of the contracts contributed positively when the trend-following signal is applied."
   ]
  },
  {
   "cell_type": "code",
   "execution_count": null,
   "id": "located-youth",
   "metadata": {
    "ExecuteTime": {
     "end_time": "2020-08-30T21:20:30.856989Z",
     "start_time": "2020-08-30T21:19:29.723274Z"
    },
    "execution": {
     "iopub.execute_input": "2020-11-28T23:22:54.047321Z",
     "iopub.status.busy": "2020-11-28T23:22:54.047180Z",
     "iopub.status.idle": "2020-11-28T23:23:39.816799Z",
     "shell.execute_reply": "2020-11-28T23:23:39.816291Z",
     "shell.execute_reply.started": "2020-11-28T23:22:54.047304Z"
    },
    "papermill": {
     "duration": null,
     "end_time": null,
     "exception": null,
     "start_time": null,
     "status": "pending"
    },
    "tags": []
   },
   "outputs": [],
   "source": [
    "instrument_returns = engine.get_return_by_instrument(calculate_net=False).cumsum()"
   ]
  },
  {
   "cell_type": "code",
   "execution_count": null,
   "id": "natural-folder",
   "metadata": {
    "ExecuteTime": {
     "end_time": "2020-08-30T21:20:31.258799Z",
     "start_time": "2020-08-30T21:20:30.858285Z"
    },
    "execution": {
     "iopub.execute_input": "2020-11-28T23:23:39.817983Z",
     "iopub.status.busy": "2020-11-28T23:23:39.817835Z",
     "iopub.status.idle": "2020-11-28T23:23:40.048760Z",
     "shell.execute_reply": "2020-11-28T23:23:40.048214Z",
     "shell.execute_reply.started": "2020-11-28T23:23:39.817966Z"
    },
    "papermill": {
     "duration": null,
     "end_time": null,
     "exception": null,
     "start_time": null,
     "status": "pending"
    },
    "scrolled": true,
    "tags": []
   },
   "outputs": [],
   "source": [
    "instrument_sharpe = (instrument_returns.pipe(Performance, return_type='diff').summary()\n",
    "                     .loc[PerfStats.SHARPE.value, :]\n",
    "                     .to_frame().join(all_futures_moskowitz2012)\n",
    "                     .sort_values(['asset_class', 'name'])\n",
    "                     .set_index('name')\n",
    "                     .squeeze())"
   ]
  },
  {
   "cell_type": "code",
   "execution_count": null,
   "id": "applicable-crash",
   "metadata": {
    "ExecuteTime": {
     "end_time": "2020-08-30T21:20:31.707948Z",
     "start_time": "2020-08-30T21:20:31.259887Z"
    },
    "execution": {
     "iopub.execute_input": "2020-11-28T23:23:40.049611Z",
     "iopub.status.busy": "2020-11-28T23:23:40.049479Z",
     "iopub.status.idle": "2020-11-28T23:23:40.473548Z",
     "shell.execute_reply": "2020-11-28T23:23:40.473171Z",
     "shell.execute_reply.started": "2020-11-28T23:23:40.049594Z"
    },
    "papermill": {
     "duration": null,
     "end_time": null,
     "exception": null,
     "start_time": null,
     "status": "pending"
    },
    "tags": []
   },
   "outputs": [],
   "source": [
    "fig, ax = plt.subplots(figsize=(14, 4))\n",
    "instrument_sharpe.plot(kind='bar', ax=ax)\n",
    "\n",
    "ax.set_title('Trend-following (Moskowitz 2012) Sharpe ratio')\n",
    "ax.set_ylabel(PerfStats.SHARPE.value);\n",
    "ax.set_xlabel('Instrument name')\n",
    "ax.axhline(0, lw=1, color='black');\n",
    "ax.axvline(23.5, lw=1, color='black');\n",
    "ax.axvline(28.5, lw=1, color='black');\n",
    "ax.axvline(36.5, lw=1, color='black');"
   ]
  },
  {
   "cell_type": "markdown",
   "id": "olympic-meditation",
   "metadata": {
    "papermill": {
     "duration": null,
     "end_time": null,
     "exception": null,
     "start_time": null,
     "status": "pending"
    },
    "tags": []
   },
   "source": [
    "## Post puiblication"
   ]
  },
  {
   "cell_type": "code",
   "execution_count": null,
   "id": "optimum-emergency",
   "metadata": {
    "ExecuteTime": {
     "end_time": "2020-08-30T21:20:32.222886Z",
     "start_time": "2020-08-30T21:20:31.709152Z"
    },
    "execution": {
     "iopub.execute_input": "2020-11-28T23:23:40.474260Z",
     "iopub.status.busy": "2020-11-28T23:23:40.474150Z",
     "iopub.status.idle": "2020-11-28T23:23:40.954180Z",
     "shell.execute_reply": "2020-11-28T23:23:40.953811Z",
     "shell.execute_reply.started": "2020-11-28T23:23:40.474247Z"
    },
    "papermill": {
     "duration": null,
     "end_time": null,
     "exception": null,
     "start_time": null,
     "status": "pending"
    },
    "tags": []
   },
   "outputs": [],
   "source": [
    "publication_date = datetime(2011, 12, 11)\n",
    "\n",
    "fig, ax = plt.subplots(1, 2, figsize=(14, 4))\n",
    "portfolio_return.plot(ax=ax[0], logy=True);\n",
    "ax[0].set_title('Trend-following portfolio (Moskowitz 2012)')\n",
    "ax[0].set_ylabel('Cumulative returns');\n",
    "ax[0].axvline(publication_date, lw=1, ls='--', color='black')\n",
    "ax[0].text(publication_date, 100, 'Publication date ', ha='right')\n",
    "\n",
    "portfolio_return.loc[publication_date:].plot(ax=ax[1], logy=True);\n",
    "ax[1].set_title('Trend-following portfolio\\n(Moskowitz 2012, post publication)');"
   ]
  },
  {
   "cell_type": "markdown",
   "id": "oriented-belief",
   "metadata": {
    "papermill": {
     "duration": null,
     "end_time": null,
     "exception": null,
     "start_time": null,
     "status": "pending"
    },
    "tags": []
   },
   "source": [
    "## Recent performance"
   ]
  },
  {
   "cell_type": "code",
   "execution_count": null,
   "id": "configured-township",
   "metadata": {
    "ExecuteTime": {
     "end_time": "2020-08-30T21:20:32.428386Z",
     "start_time": "2020-08-30T21:20:32.223928Z"
    },
    "execution": {
     "iopub.execute_input": "2020-11-28T23:23:40.954683Z",
     "iopub.status.busy": "2020-11-28T23:23:40.954588Z",
     "iopub.status.idle": "2020-11-28T23:23:41.153337Z",
     "shell.execute_reply": "2020-11-28T23:23:41.152867Z",
     "shell.execute_reply.started": "2020-11-28T23:23:40.954670Z"
    },
    "papermill": {
     "duration": null,
     "end_time": null,
     "exception": null,
     "start_time": null,
     "status": "pending"
    },
    "tags": []
   },
   "outputs": [],
   "source": [
    "fig, ax = plt.subplots(figsize=(8, 4.5))\n",
    "portfolio_return.tail(252 * 2).plot(ax=ax, logy=True);\n",
    "ax.set_title('Trend-following portfolio (Moskowitz 2012)')\n",
    "ax.set_ylabel('Cumulative returns');"
   ]
  },
  {
   "cell_type": "markdown",
   "id": "instructional-stream",
   "metadata": {
    "papermill": {
     "duration": null,
     "end_time": null,
     "exception": null,
     "start_time": null,
     "status": "pending"
    },
    "tags": []
   },
   "source": [
    "# Reference\n",
    "\n",
    "- Moskowitz, T.J., Ooi, Y.H. and Pedersen, L.H., 2012. Time series momentum. Journal of financial economics, 104(2), pp.228-250."
   ]
  },
  {
   "cell_type": "code",
   "execution_count": null,
   "id": "permanent-ballet",
   "metadata": {
    "ExecuteTime": {
     "end_time": "2020-08-30T21:20:32.431574Z",
     "start_time": "2020-08-30T21:20:32.429370Z"
    },
    "execution": {
     "iopub.execute_input": "2020-11-28T23:23:41.153888Z",
     "iopub.status.busy": "2020-11-28T23:23:41.153791Z",
     "iopub.status.idle": "2020-11-28T23:23:41.156117Z",
     "shell.execute_reply": "2020-11-28T23:23:41.155854Z",
     "shell.execute_reply.started": "2020-11-28T23:23:41.153875Z"
    },
    "papermill": {
     "duration": null,
     "end_time": null,
     "exception": null,
     "start_time": null,
     "status": "pending"
    },
    "tags": []
   },
   "outputs": [],
   "source": [
    "print(f'Updated: {datetime.utcnow().strftime(\"%d-%b-%Y %H:%M\")}')"
   ]
  }
 ],
 "metadata": {
  "hide_input": false,
  "kernelspec": {
   "display_name": "Python 3",
   "language": "python",
   "name": "python3"
  },
  "language_info": {
   "codemirror_mode": {
    "name": "ipython",
    "version": 3
   },
   "file_extension": ".py",
   "mimetype": "text/x-python",
   "name": "python",
   "nbconvert_exporter": "python",
   "pygments_lexer": "ipython3",
   "version": "3.8.1"
  },
  "nav_menu": {},
  "papermill": {
   "default_parameters": {},
   "duration": null,
   "end_time": null,
   "environment_variables": {},
   "exception": null,
   "input_path": "notebooks/papermill/trend_following_moskowitz2012.ipynb",
   "output_path": "notebooks/trend_following_moskowitz2012.ipynb",
   "parameters": {},
   "start_time": "2021-02-10T09:49:12.809807",
   "version": "2.3.1"
  },
  "toc": {
   "base_numbering": 1,
   "nav_menu": {},
   "number_sections": true,
   "sideBar": true,
   "skip_h1_title": false,
   "title_cell": "Table of Contents",
   "title_sidebar": "Contents",
   "toc_cell": true,
   "toc_position": {
    "height": "calc(100% - 180px)",
    "left": "10px",
    "top": "150px",
    "width": "165px"
   },
   "toc_section_display": "block",
   "toc_window_display": true
  }
 },
 "nbformat": 4,
 "nbformat_minor": 5
}