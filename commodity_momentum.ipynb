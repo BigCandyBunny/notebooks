{
 "cells": [
  {
   "cell_type": "markdown",
   "id": "powerful-democrat",
   "metadata": {
    "papermill": {
     "duration": 0.011197,
     "end_time": "2021-03-23T07:12:05.952055",
     "exception": false,
     "start_time": "2021-03-23T07:12:05.940858",
     "status": "completed"
    },
    "tags": []
   },
   "source": [
    "# Commodity momentum\n",
    "\n",
    "This notebook analyses commodity cross-sectional momentum strategy. The strategy takes long positions on contracts with best 1-year perfomance and short positions on ones with worst 1-year performance."
   ]
  },
  {
   "cell_type": "code",
   "execution_count": 1,
   "id": "distinct-friendship",
   "metadata": {
    "ExecuteTime": {
     "end_time": "2020-08-31T19:29:24.852122Z",
     "start_time": "2020-08-31T19:29:24.038266Z"
    },
    "execution": {
     "iopub.execute_input": "2021-03-23T07:12:05.989663Z",
     "iopub.status.busy": "2021-03-23T07:12:05.989129Z",
     "iopub.status.idle": "2021-03-23T07:12:08.714941Z",
     "shell.execute_reply": "2021-03-23T07:12:08.714341Z"
    },
    "papermill": {
     "duration": 2.749022,
     "end_time": "2021-03-23T07:12:08.715115",
     "exception": false,
     "start_time": "2021-03-23T07:12:05.966093",
     "status": "completed"
    },
    "tags": []
   },
   "outputs": [],
   "source": [
    "%matplotlib inline\n",
    "from datetime import datetime\n",
    "import logging\n",
    "import warnings\n",
    "warnings.simplefilter(action='ignore', category=FutureWarning)\n",
    "\n",
    "import pandas as pd\n",
    "import matplotlib.pyplot as plt\n",
    "import matplotlib.ticker as mticker\n",
    "plt.style.use('bmh')\n",
    "\n",
    "from vivace.backtest import signal\n",
    "from vivace.backtest import processing\n",
    "from vivace.backtest.contract import all_futures_hollstein2020\n",
    "from vivace.backtest.engine import BacktestEngine\n",
    "from vivace.backtest.enums import Strategy\n",
    "from vivace.backtest.stats import Performance"
   ]
  },
  {
   "cell_type": "markdown",
   "id": "patent-contrast",
   "metadata": {
    "papermill": {
     "duration": 0.01024,
     "end_time": "2021-03-23T07:12:08.736040",
     "exception": false,
     "start_time": "2021-03-23T07:12:08.725800",
     "status": "completed"
    },
    "tags": []
   },
   "source": [
    "# Data\n",
    "\n",
    "26 commodity futures are used as per Hollstein 2020."
   ]
  },
  {
   "cell_type": "code",
   "execution_count": 2,
   "id": "turkish-english",
   "metadata": {
    "ExecuteTime": {
     "end_time": "2020-08-31T19:29:25.399795Z",
     "start_time": "2020-08-31T19:29:25.371862Z"
    },
    "execution": {
     "iopub.execute_input": "2021-03-23T07:12:08.764813Z",
     "iopub.status.busy": "2021-03-23T07:12:08.763990Z",
     "iopub.status.idle": "2021-03-23T07:12:08.771418Z",
     "shell.execute_reply": "2021-03-23T07:12:08.771865Z"
    },
    "papermill": {
     "duration": 0.025662,
     "end_time": "2021-03-23T07:12:08.772003",
     "exception": false,
     "start_time": "2021-03-23T07:12:08.746341",
     "status": "completed"
    },
    "tags": []
   },
   "outputs": [
    {
     "data": {
      "text/html": [
       "<div>\n",
       "<style scoped>\n",
       "    .dataframe tbody tr th:only-of-type {\n",
       "        vertical-align: middle;\n",
       "    }\n",
       "\n",
       "    .dataframe tbody tr th {\n",
       "        vertical-align: top;\n",
       "    }\n",
       "\n",
       "    .dataframe thead th {\n",
       "        text-align: right;\n",
       "    }\n",
       "</style>\n",
       "<table border=\"1\" class=\"dataframe\">\n",
       "  <thead>\n",
       "    <tr style=\"text-align: right;\">\n",
       "      <th></th>\n",
       "      <th>name</th>\n",
       "    </tr>\n",
       "    <tr>\n",
       "      <th>ticker</th>\n",
       "      <th></th>\n",
       "    </tr>\n",
       "  </thead>\n",
       "  <tbody>\n",
       "    <tr>\n",
       "      <th>CO</th>\n",
       "      <td>Brent Crude Oil</td>\n",
       "    </tr>\n",
       "    <tr>\n",
       "      <th>CC</th>\n",
       "      <td>Cocoa</td>\n",
       "    </tr>\n",
       "    <tr>\n",
       "      <th>KC</th>\n",
       "      <td>Coffee</td>\n",
       "    </tr>\n",
       "    <tr>\n",
       "      <th>C</th>\n",
       "      <td>Corn</td>\n",
       "    </tr>\n",
       "    <tr>\n",
       "      <th>CT</th>\n",
       "      <td>Cotton</td>\n",
       "    </tr>\n",
       "    <tr>\n",
       "      <th>FC</th>\n",
       "      <td>Feeder Cattle</td>\n",
       "    </tr>\n",
       "    <tr>\n",
       "      <th>GC</th>\n",
       "      <td>Gold</td>\n",
       "    </tr>\n",
       "    <tr>\n",
       "      <th>HO</th>\n",
       "      <td>Heating Oil</td>\n",
       "    </tr>\n",
       "    <tr>\n",
       "      <th>HG</th>\n",
       "      <td>Copper</td>\n",
       "    </tr>\n",
       "    <tr>\n",
       "      <th>LH</th>\n",
       "      <td>Lean Hog</td>\n",
       "    </tr>\n",
       "    <tr>\n",
       "      <th>LC</th>\n",
       "      <td>Live Cattle</td>\n",
       "    </tr>\n",
       "    <tr>\n",
       "      <th>LB</th>\n",
       "      <td>Lumber</td>\n",
       "    </tr>\n",
       "    <tr>\n",
       "      <th>DA</th>\n",
       "      <td>Milk</td>\n",
       "    </tr>\n",
       "    <tr>\n",
       "      <th>NG</th>\n",
       "      <td>Natural Gas</td>\n",
       "    </tr>\n",
       "    <tr>\n",
       "      <th>ZO</th>\n",
       "      <td>Oats</td>\n",
       "    </tr>\n",
       "    <tr>\n",
       "      <th>OJ</th>\n",
       "      <td>Orange Juice</td>\n",
       "    </tr>\n",
       "    <tr>\n",
       "      <th>PA</th>\n",
       "      <td>Palladium</td>\n",
       "    </tr>\n",
       "    <tr>\n",
       "      <th>PL</th>\n",
       "      <td>Platinum</td>\n",
       "    </tr>\n",
       "    <tr>\n",
       "      <th>RR</th>\n",
       "      <td>Rough Rice</td>\n",
       "    </tr>\n",
       "    <tr>\n",
       "      <th>SI</th>\n",
       "      <td>Silver</td>\n",
       "    </tr>\n",
       "    <tr>\n",
       "      <th>S</th>\n",
       "      <td>Soybean</td>\n",
       "    </tr>\n",
       "    <tr>\n",
       "      <th>SM</th>\n",
       "      <td>Soybean Meal</td>\n",
       "    </tr>\n",
       "    <tr>\n",
       "      <th>BO</th>\n",
       "      <td>Soybean Oil</td>\n",
       "    </tr>\n",
       "    <tr>\n",
       "      <th>SB</th>\n",
       "      <td>Sugar</td>\n",
       "    </tr>\n",
       "    <tr>\n",
       "      <th>W</th>\n",
       "      <td>Wheat</td>\n",
       "    </tr>\n",
       "    <tr>\n",
       "      <th>CL</th>\n",
       "      <td>WTI Crude Oil</td>\n",
       "    </tr>\n",
       "  </tbody>\n",
       "</table>\n",
       "</div>"
      ],
      "text/plain": [
       "                   name\n",
       "ticker                 \n",
       "CO      Brent Crude Oil\n",
       "CC                Cocoa\n",
       "KC               Coffee\n",
       "C                  Corn\n",
       "CT               Cotton\n",
       "FC        Feeder Cattle\n",
       "GC                 Gold\n",
       "HO          Heating Oil\n",
       "HG               Copper\n",
       "LH             Lean Hog\n",
       "LC          Live Cattle\n",
       "LB               Lumber\n",
       "DA                 Milk\n",
       "NG          Natural Gas\n",
       "ZO                 Oats\n",
       "OJ         Orange Juice\n",
       "PA            Palladium\n",
       "PL             Platinum\n",
       "RR           Rough Rice\n",
       "SI               Silver\n",
       "S               Soybean\n",
       "SM         Soybean Meal\n",
       "BO          Soybean Oil\n",
       "SB                Sugar\n",
       "W                 Wheat\n",
       "CL        WTI Crude Oil"
      ]
     },
     "execution_count": 2,
     "metadata": {},
     "output_type": "execute_result"
    }
   ],
   "source": [
    "all_futures_hollstein2020"
   ]
  },
  {
   "cell_type": "code",
   "execution_count": 3,
   "id": "pleased-subsection",
   "metadata": {
    "ExecuteTime": {
     "end_time": "2020-08-31T19:29:26.170389Z",
     "start_time": "2020-08-31T19:29:26.166205Z"
    },
    "execution": {
     "iopub.execute_input": "2021-03-23T07:12:08.797653Z",
     "iopub.status.busy": "2021-03-23T07:12:08.797072Z",
     "iopub.status.idle": "2021-03-23T07:12:08.800112Z",
     "shell.execute_reply": "2021-03-23T07:12:08.799555Z"
    },
    "papermill": {
     "duration": 0.016995,
     "end_time": "2021-03-23T07:12:08.800227",
     "exception": false,
     "start_time": "2021-03-23T07:12:08.783232",
     "status": "completed"
    },
    "tags": []
   },
   "outputs": [
    {
     "data": {
      "text/plain": [
       "(26, 1)"
      ]
     },
     "execution_count": 3,
     "metadata": {},
     "output_type": "execute_result"
    }
   ],
   "source": [
    "all_futures_hollstein2020.shape"
   ]
  },
  {
   "cell_type": "markdown",
   "id": "falling-diversity",
   "metadata": {
    "papermill": {
     "duration": 0.011455,
     "end_time": "2021-03-23T07:12:08.823292",
     "exception": false,
     "start_time": "2021-03-23T07:12:08.811837",
     "status": "completed"
    },
    "tags": []
   },
   "source": [
    "# Performance"
   ]
  },
  {
   "cell_type": "markdown",
   "id": "caring-argentina",
   "metadata": {
    "papermill": {
     "duration": 0.011369,
     "end_time": "2021-03-23T07:12:08.846231",
     "exception": false,
     "start_time": "2021-03-23T07:12:08.834862",
     "status": "completed"
    },
    "tags": []
   },
   "source": [
    "## Run backtest\n",
    "\n",
    "A simple portfolio is constructed by using trailing 1-year returns of each commodity futures. Unlike studies in equities, the recent 1-month is included in the formation period. Positions are rebalanced on a monthly basis.\n",
    "\n",
    "Similar to other popular academic strategies, this commodity momentum signal has been stalling since around 2015."
   ]
  },
  {
   "cell_type": "code",
   "execution_count": 4,
   "id": "opening-grove",
   "metadata": {
    "ExecuteTime": {
     "end_time": "2020-09-02T22:09:35.368377Z",
     "start_time": "2020-09-02T21:34:59.850395Z"
    },
    "execution": {
     "iopub.execute_input": "2021-03-23T07:12:08.874442Z",
     "iopub.status.busy": "2021-03-23T07:12:08.873656Z",
     "iopub.status.idle": "2021-03-23T07:16:20.143951Z",
     "shell.execute_reply": "2021-03-23T07:16:20.144389Z"
    },
    "papermill": {
     "duration": 251.286852,
     "end_time": "2021-03-23T07:16:20.144530",
     "exception": false,
     "start_time": "2021-03-23T07:12:08.857678",
     "status": "completed"
    },
    "tags": []
   },
   "outputs": [],
   "source": [
    "engine = BacktestEngine(\n",
    "    strategy=Strategy.DELTA_ONE.value,\n",
    "    instrument=all_futures_hollstein2020.index,\n",
    "    signal=signal.XSMomentum(lookback=252),\n",
    "    log_level=logging.WARN,\n",
    ")\n",
    "engine.run()"
   ]
  },
  {
   "cell_type": "code",
   "execution_count": 5,
   "id": "composed-glass",
   "metadata": {
    "ExecuteTime": {
     "end_time": "2020-09-02T20:42:14.779932Z",
     "start_time": "2020-09-02T20:40:39.222688Z"
    },
    "execution": {
     "iopub.execute_input": "2021-03-23T07:16:21.327578Z",
     "iopub.status.busy": "2021-03-23T07:16:20.255437Z",
     "iopub.status.idle": "2021-03-23T07:17:57.060699Z",
     "shell.execute_reply": "2021-03-23T07:17:57.060113Z"
    },
    "papermill": {
     "duration": 96.903656,
     "end_time": "2021-03-23T07:17:57.060817",
     "exception": false,
     "start_time": "2021-03-23T07:16:20.157161",
     "status": "completed"
    },
    "tags": []
   },
   "outputs": [],
   "source": [
    "portfolio_return = (engine.calculate_equity_curve(calculate_net=False)\n",
    "                    .rename('Commodity momentum portfolio'))"
   ]
  },
  {
   "cell_type": "code",
   "execution_count": 6,
   "id": "developing-sample",
   "metadata": {
    "ExecuteTime": {
     "end_time": "2020-09-02T20:45:59.608937Z",
     "start_time": "2020-09-02T20:45:59.405601Z"
    },
    "execution": {
     "iopub.execute_input": "2021-03-23T07:17:57.107569Z",
     "iopub.status.busy": "2021-03-23T07:17:57.107016Z",
     "iopub.status.idle": "2021-03-23T07:17:57.681504Z",
     "shell.execute_reply": "2021-03-23T07:17:57.681914Z"
    },
    "papermill": {
     "duration": 0.608582,
     "end_time": "2021-03-23T07:17:57.682054",
     "exception": false,
     "start_time": "2021-03-23T07:17:57.073472",
     "status": "completed"
    },
    "tags": []
   },
   "outputs": [
    {
     "data": {
      "image/png": "[encoded data removed]",
      "text/plain": [
       "<Figure size 576x324 with 1 Axes>"
      ]
     },
     "metadata": {
      "needs_background": "light"
     },
     "output_type": "display_data"
    }
   ],
   "source": [
    "fig, ax = plt.subplots(figsize=(8, 4.5))\n",
    "portfolio_return.plot(ax=ax, logy=True);\n",
    "ax.set_title('Commodity momentum portfolio')\n",
    "ax.set_ylabel('Cumulative returns');"
   ]
  },
  {
   "cell_type": "code",
   "execution_count": 7,
   "id": "golden-delaware",
   "metadata": {
    "ExecuteTime": {
     "end_time": "2020-08-31T20:06:51.873126Z",
     "start_time": "2020-08-31T20:06:51.866509Z"
    },
    "execution": {
     "iopub.execute_input": "2021-03-23T07:17:57.713598Z",
     "iopub.status.busy": "2021-03-23T07:17:57.713073Z",
     "iopub.status.idle": "2021-03-23T07:17:57.972017Z",
     "shell.execute_reply": "2021-03-23T07:17:57.971487Z"
    },
    "papermill": {
     "duration": 0.276023,
     "end_time": "2021-03-23T07:17:57.972139",
     "exception": false,
     "start_time": "2021-03-23T07:17:57.696116",
     "status": "completed"
    },
    "tags": []
   },
   "outputs": [
    {
     "data": {
      "text/html": [
       "<div>\n",
       "<style scoped>\n",
       "    .dataframe tbody tr th:only-of-type {\n",
       "        vertical-align: middle;\n",
       "    }\n",
       "\n",
       "    .dataframe tbody tr th {\n",
       "        vertical-align: top;\n",
       "    }\n",
       "\n",
       "    .dataframe thead th {\n",
       "        text-align: right;\n",
       "    }\n",
       "</style>\n",
       "<table border=\"1\" class=\"dataframe\">\n",
       "  <thead>\n",
       "    <tr style=\"text-align: right;\">\n",
       "      <th></th>\n",
       "      <th>Commodity momentum portfolio</th>\n",
       "    </tr>\n",
       "  </thead>\n",
       "  <tbody>\n",
       "    <tr>\n",
       "      <th>annualised return</th>\n",
       "      <td>0.126585</td>\n",
       "    </tr>\n",
       "    <tr>\n",
       "      <th>annualised vol</th>\n",
       "      <td>0.182814</td>\n",
       "    </tr>\n",
       "    <tr>\n",
       "      <th>Sharpe ratio</th>\n",
       "      <td>0.692426</td>\n",
       "    </tr>\n",
       "    <tr>\n",
       "      <th>max drawdown</th>\n",
       "      <td>0.551329</td>\n",
       "    </tr>\n",
       "    <tr>\n",
       "      <th>Calmar ratio</th>\n",
       "      <td>0.229600</td>\n",
       "    </tr>\n",
       "    <tr>\n",
       "      <th>skewness</th>\n",
       "      <td>-0.148101</td>\n",
       "    </tr>\n",
       "    <tr>\n",
       "      <th>kurtosis</th>\n",
       "      <td>2.653111</td>\n",
       "    </tr>\n",
       "    <tr>\n",
       "      <th>worst return</th>\n",
       "      <td>-0.112480</td>\n",
       "    </tr>\n",
       "    <tr>\n",
       "      <th>worst 1d return</th>\n",
       "      <td>-0.112480</td>\n",
       "    </tr>\n",
       "    <tr>\n",
       "      <th>worst 1w return</th>\n",
       "      <td>-0.137201</td>\n",
       "    </tr>\n",
       "    <tr>\n",
       "      <th>worst 1m return</th>\n",
       "      <td>-0.224319</td>\n",
       "    </tr>\n",
       "  </tbody>\n",
       "</table>\n",
       "</div>"
      ],
      "text/plain": [
       "                   Commodity momentum portfolio\n",
       "annualised return                      0.126585\n",
       "annualised vol                         0.182814\n",
       "Sharpe ratio                           0.692426\n",
       "max drawdown                           0.551329\n",
       "Calmar ratio                           0.229600\n",
       "skewness                              -0.148101\n",
       "kurtosis                               2.653111\n",
       "worst return                          -0.112480\n",
       "worst 1d return                       -0.112480\n",
       "worst 1w return                       -0.137201\n",
       "worst 1m return                       -0.224319"
      ]
     },
     "execution_count": 7,
     "metadata": {},
     "output_type": "execute_result"
    }
   ],
   "source": [
    "portfolio_return.pipe(Performance).summary()"
   ]
  },
  {
   "cell_type": "markdown",
   "id": "greenhouse-coalition",
   "metadata": {
    "papermill": {
     "duration": 0.01422,
     "end_time": "2021-03-23T07:17:58.000273",
     "exception": false,
     "start_time": "2021-03-23T07:17:57.986053",
     "status": "completed"
    },
    "tags": []
   },
   "source": [
    "## Recent performance"
   ]
  },
  {
   "cell_type": "code",
   "execution_count": 8,
   "id": "funny-relations",
   "metadata": {
    "execution": {
     "iopub.execute_input": "2021-03-23T07:17:58.053814Z",
     "iopub.status.busy": "2021-03-23T07:17:58.053274Z",
     "iopub.status.idle": "2021-03-23T07:17:58.417250Z",
     "shell.execute_reply": "2021-03-23T07:17:58.417688Z"
    },
    "papermill": {
     "duration": 0.403405,
     "end_time": "2021-03-23T07:17:58.417824",
     "exception": false,
     "start_time": "2021-03-23T07:17:58.014419",
     "status": "completed"
    },
    "tags": []
   },
   "outputs": [
    {
     "data": {
      "image/png": "[encoded data removed]",
      "text/plain": [
       "<Figure size 576x324 with 1 Axes>"
      ]
     },
     "metadata": {
      "needs_background": "light"
     },
     "output_type": "display_data"
    }
   ],
   "source": [
    "fig, ax = plt.subplots(figsize=(8, 4.5))\n",
    "portfolio_return.tail(252 * 2).plot(ax=ax, logy=True);\n",
    "ax.set_title('Commodity momentum portfolio')\n",
    "ax.set_ylabel('Cumulative returns');"
   ]
  },
  {
   "cell_type": "markdown",
   "id": "monetary-dancing",
   "metadata": {
    "papermill": {
     "duration": 0.015112,
     "end_time": "2021-03-23T07:17:58.448069",
     "exception": false,
     "start_time": "2021-03-23T07:17:58.432957",
     "status": "completed"
    },
    "tags": []
   },
   "source": [
    "# Reference\n",
    "- Asness, C.S., Moskowitz, T.J. and Pedersen, L.H., 2013. Value and momentum everywhere. The Journal of Finance, 68(3), pp.929-985.\n",
    "- Hollstein, F., Prokopczuk, M. and Tharann, B., 2020. Anomalies in commodity futures markets: Risk or mispricing?. Available at SSRN."
   ]
  },
  {
   "cell_type": "code",
   "execution_count": 9,
   "id": "pending-catering",
   "metadata": {
    "ExecuteTime": {
     "end_time": "2020-08-31T05:52:23.734170Z",
     "start_time": "2020-08-31T05:52:23.731627Z"
    },
    "execution": {
     "iopub.execute_input": "2021-03-23T07:17:58.485245Z",
     "iopub.status.busy": "2021-03-23T07:17:58.484665Z",
     "iopub.status.idle": "2021-03-23T07:17:58.486694Z",
     "shell.execute_reply": "2021-03-23T07:17:58.487122Z"
    },
    "papermill": {
     "duration": 0.02218,
     "end_time": "2021-03-23T07:17:58.487252",
     "exception": false,
     "start_time": "2021-03-23T07:17:58.465072",
     "status": "completed"
    },
    "tags": []
   },
   "outputs": [
    {
     "name": "stdout",
     "output_type": "stream",
     "text": [
      "Updated: 23-Mar-2021 07:17\n"
     ]
    }
   ],
   "source": [
    "print(f'Updated: {datetime.utcnow().strftime(\"%d-%b-%Y %H:%M\")}')"
   ]
  }
 ],
 "metadata": {
  "kernelspec": {
   "display_name": "Python 3",
   "language": "python",
   "name": "python3"
  },
  "language_info": {
   "codemirror_mode": {
    "name": "ipython",
    "version": 3
   },
   "file_extension": ".py",
   "mimetype": "text/x-python",
   "name": "python",
   "nbconvert_exporter": "python",
   "pygments_lexer": "ipython3",
   "version": "3.8.2"
  },
  "papermill": {
   "default_parameters": {},
   "duration": 355.3939,
   "end_time": "2021-03-23T07:18:00.399090",
   "environment_variables": {},
   "exception": null,
   "input_path": "notebooks/papermill/commodity_momentum.ipynb",
   "output_path": "notebooks/commodity_momentum.ipynb",
   "parameters": {},
   "start_time": "2021-03-23T07:12:05.005190",
   "version": "2.3.1"
  },
  "toc": {
   "base_numbering": 1,
   "nav_menu": {},
   "number_sections": true,
   "sideBar": true,
   "skip_h1_title": false,
   "title_cell": "Table of Contents",
   "title_sidebar": "Contents",
   "toc_cell": true,
   "toc_position": {
    "height": "calc(100% - 180px)",
    "left": "10px",
    "top": "150px",
    "width": "165px"
   },
   "toc_section_display": true,
   "toc_window_display": true
  },
  "toc-autonumbering": true,
  "toc-showmarkdowntxt": true,
  "toc-showtags": false
 },
 "nbformat": 4,
 "nbformat_minor": 5
}