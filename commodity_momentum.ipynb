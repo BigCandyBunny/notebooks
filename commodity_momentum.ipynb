{
 "cells": [
  {
   "cell_type": "markdown",
   "metadata": {
    "papermill": {
     "duration": 0.009806,
     "end_time": "2020-11-15T09:13:38.221755",
     "exception": false,
     "start_time": "2020-11-15T09:13:38.211949",
     "status": "completed"
    },
    "tags": []
   },
   "source": [
    "# Commodity momentum\n",
    "\n",
    "This notebook analyses commodity cross-sectional momentum strategy. The strategy takes long positions on contracts with best 1-year perfomance and short positions on ones with worst 1-year performance."
   ]
  },
  {
   "cell_type": "code",
   "execution_count": 1,
   "metadata": {
    "ExecuteTime": {
     "end_time": "2020-08-31T19:29:24.852122Z",
     "start_time": "2020-08-31T19:29:24.038266Z"
    },
    "execution": {
     "iopub.execute_input": "2020-11-15T09:13:38.247446Z",
     "iopub.status.busy": "2020-11-15T09:13:38.246924Z",
     "iopub.status.idle": "2020-11-15T09:13:40.288511Z",
     "shell.execute_reply": "2020-11-15T09:13:40.287788Z"
    },
    "papermill": {
     "duration": 2.057665,
     "end_time": "2020-11-15T09:13:40.288719",
     "exception": false,
     "start_time": "2020-11-15T09:13:38.231054",
     "status": "completed"
    },
    "tags": []
   },
   "outputs": [],
   "source": [
    "%matplotlib inline\n",
    "from datetime import datetime\n",
    "import logging\n",
    "import warnings\n",
    "warnings.simplefilter(action='ignore', category=FutureWarning)\n",
    "\n",
    "import pandas as pd\n",
    "import matplotlib.pyplot as plt\n",
    "import matplotlib.ticker as mticker\n",
    "plt.style.use('bmh')\n",
    "\n",
    "from vivace.backtest import signal\n",
    "from vivace.backtest import processing\n",
    "from vivace.backtest.contract import all_futures_hollstein2020\n",
    "from vivace.backtest.engine import BacktestEngine\n",
    "from vivace.backtest.enums import Strategy\n",
    "from vivace.backtest.stats import Performance"
   ]
  },
  {
   "cell_type": "markdown",
   "metadata": {
    "papermill": {
     "duration": 0.008934,
     "end_time": "2020-11-15T09:13:40.307380",
     "exception": false,
     "start_time": "2020-11-15T09:13:40.298446",
     "status": "completed"
    },
    "tags": []
   },
   "source": [
    "# Data\n",
    "\n",
    "26 commodity futures are used as per Hollstein 2020."
   ]
  },
  {
   "cell_type": "code",
   "execution_count": 2,
   "metadata": {
    "ExecuteTime": {
     "end_time": "2020-08-31T19:29:25.399795Z",
     "start_time": "2020-08-31T19:29:25.371862Z"
    },
    "execution": {
     "iopub.execute_input": "2020-11-15T09:13:40.332663Z",
     "iopub.status.busy": "2020-11-15T09:13:40.332147Z",
     "iopub.status.idle": "2020-11-15T09:13:40.338948Z",
     "shell.execute_reply": "2020-11-15T09:13:40.338427Z"
    },
    "papermill": {
     "duration": 0.022614,
     "end_time": "2020-11-15T09:13:40.339052",
     "exception": false,
     "start_time": "2020-11-15T09:13:40.316438",
     "status": "completed"
    },
    "tags": []
   },
   "outputs": [
    {
     "data": {
      "text/html": [
       "<div>\n",
       "<style scoped>\n",
       "    .dataframe tbody tr th:only-of-type {\n",
       "        vertical-align: middle;\n",
       "    }\n",
       "\n",
       "    .dataframe tbody tr th {\n",
       "        vertical-align: top;\n",
       "    }\n",
       "\n",
       "    .dataframe thead th {\n",
       "        text-align: right;\n",
       "    }\n",
       "</style>\n",
       "<table border=\"1\" class=\"dataframe\">\n",
       "  <thead>\n",
       "    <tr style=\"text-align: right;\">\n",
       "      <th></th>\n",
       "      <th>name</th>\n",
       "    </tr>\n",
       "    <tr>\n",
       "      <th>ticker</th>\n",
       "      <th></th>\n",
       "    </tr>\n",
       "  </thead>\n",
       "  <tbody>\n",
       "    <tr>\n",
       "      <th>CO</th>\n",
       "      <td>Brent Crude Oil</td>\n",
       "    </tr>\n",
       "    <tr>\n",
       "      <th>CC</th>\n",
       "      <td>Cocoa</td>\n",
       "    </tr>\n",
       "    <tr>\n",
       "      <th>KC</th>\n",
       "      <td>Coffee C Arabica</td>\n",
       "    </tr>\n",
       "    <tr>\n",
       "      <th>C</th>\n",
       "      <td>Corn Futures</td>\n",
       "    </tr>\n",
       "    <tr>\n",
       "      <th>CT</th>\n",
       "      <td>Cotton #2</td>\n",
       "    </tr>\n",
       "    <tr>\n",
       "      <th>FC</th>\n",
       "      <td>Feeder Cattle Futures</td>\n",
       "    </tr>\n",
       "    <tr>\n",
       "      <th>GC</th>\n",
       "      <td>Gold Futures</td>\n",
       "    </tr>\n",
       "    <tr>\n",
       "      <th>HO</th>\n",
       "      <td>NY Harbor ULSD Futures</td>\n",
       "    </tr>\n",
       "    <tr>\n",
       "      <th>HG</th>\n",
       "      <td>Copper Futures</td>\n",
       "    </tr>\n",
       "    <tr>\n",
       "      <th>LH</th>\n",
       "      <td>Lean Hog Futures</td>\n",
       "    </tr>\n",
       "    <tr>\n",
       "      <th>LC</th>\n",
       "      <td>Live Cattle Futures</td>\n",
       "    </tr>\n",
       "    <tr>\n",
       "      <th>LB</th>\n",
       "      <td>Lumber</td>\n",
       "    </tr>\n",
       "    <tr>\n",
       "      <th>DA</th>\n",
       "      <td>Class III Milk Futures</td>\n",
       "    </tr>\n",
       "    <tr>\n",
       "      <th>NG</th>\n",
       "      <td>Henry Hub Natural Gas Futures</td>\n",
       "    </tr>\n",
       "    <tr>\n",
       "      <th>ZO</th>\n",
       "      <td>Oats</td>\n",
       "    </tr>\n",
       "    <tr>\n",
       "      <th>OJ</th>\n",
       "      <td>Orange Juice</td>\n",
       "    </tr>\n",
       "    <tr>\n",
       "      <th>PA</th>\n",
       "      <td>Palladium Futures</td>\n",
       "    </tr>\n",
       "    <tr>\n",
       "      <th>PL</th>\n",
       "      <td>Platinum Futures</td>\n",
       "    </tr>\n",
       "    <tr>\n",
       "      <th>RR</th>\n",
       "      <td>Rough Rice</td>\n",
       "    </tr>\n",
       "    <tr>\n",
       "      <th>SI</th>\n",
       "      <td>Silver Futures</td>\n",
       "    </tr>\n",
       "    <tr>\n",
       "      <th>S</th>\n",
       "      <td>Soybean Futures</td>\n",
       "    </tr>\n",
       "    <tr>\n",
       "      <th>SM</th>\n",
       "      <td>Soybean Meal Futures</td>\n",
       "    </tr>\n",
       "    <tr>\n",
       "      <th>BO</th>\n",
       "      <td>Soybean Oil Futures</td>\n",
       "    </tr>\n",
       "    <tr>\n",
       "      <th>SB</th>\n",
       "      <td>Sugar #11</td>\n",
       "    </tr>\n",
       "    <tr>\n",
       "      <th>W</th>\n",
       "      <td>Wheat Futures</td>\n",
       "    </tr>\n",
       "    <tr>\n",
       "      <th>CL</th>\n",
       "      <td>Light Sweet Crude Oil Futures</td>\n",
       "    </tr>\n",
       "  </tbody>\n",
       "</table>\n",
       "</div>"
      ],
      "text/plain": [
       "                                 name\n",
       "ticker                               \n",
       "CO                    Brent Crude Oil\n",
       "CC                              Cocoa\n",
       "KC                   Coffee C Arabica\n",
       "C                        Corn Futures\n",
       "CT                          Cotton #2\n",
       "FC              Feeder Cattle Futures\n",
       "GC                       Gold Futures\n",
       "HO             NY Harbor ULSD Futures\n",
       "HG                     Copper Futures\n",
       "LH                   Lean Hog Futures\n",
       "LC                Live Cattle Futures\n",
       "LB                             Lumber\n",
       "DA             Class III Milk Futures\n",
       "NG      Henry Hub Natural Gas Futures\n",
       "ZO                               Oats\n",
       "OJ                       Orange Juice\n",
       "PA                  Palladium Futures\n",
       "PL                   Platinum Futures\n",
       "RR                         Rough Rice\n",
       "SI                     Silver Futures\n",
       "S                     Soybean Futures\n",
       "SM               Soybean Meal Futures\n",
       "BO                Soybean Oil Futures\n",
       "SB                          Sugar #11\n",
       "W                       Wheat Futures\n",
       "CL      Light Sweet Crude Oil Futures"
      ]
     },
     "execution_count": 2,
     "metadata": {},
     "output_type": "execute_result"
    }
   ],
   "source": [
    "all_futures_hollstein2020"
   ]
  },
  {
   "cell_type": "code",
   "execution_count": 3,
   "metadata": {
    "ExecuteTime": {
     "end_time": "2020-08-31T19:29:26.170389Z",
     "start_time": "2020-08-31T19:29:26.166205Z"
    },
    "execution": {
     "iopub.execute_input": "2020-11-15T09:13:40.361931Z",
     "iopub.status.busy": "2020-11-15T09:13:40.361352Z",
     "iopub.status.idle": "2020-11-15T09:13:40.363740Z",
     "shell.execute_reply": "2020-11-15T09:13:40.364147Z"
    },
    "papermill": {
     "duration": 0.015354,
     "end_time": "2020-11-15T09:13:40.364267",
     "exception": false,
     "start_time": "2020-11-15T09:13:40.348913",
     "status": "completed"
    },
    "tags": []
   },
   "outputs": [
    {
     "data": {
      "text/plain": [
       "(26, 1)"
      ]
     },
     "execution_count": 3,
     "metadata": {},
     "output_type": "execute_result"
    }
   ],
   "source": [
    "all_futures_hollstein2020.shape"
   ]
  },
  {
   "cell_type": "markdown",
   "metadata": {
    "papermill": {
     "duration": 0.010647,
     "end_time": "2020-11-15T09:13:40.385918",
     "exception": false,
     "start_time": "2020-11-15T09:13:40.375271",
     "status": "completed"
    },
    "tags": []
   },
   "source": [
    "# Performance"
   ]
  },
  {
   "cell_type": "markdown",
   "metadata": {
    "papermill": {
     "duration": 0.01014,
     "end_time": "2020-11-15T09:13:40.407054",
     "exception": false,
     "start_time": "2020-11-15T09:13:40.396914",
     "status": "completed"
    },
    "tags": []
   },
   "source": [
    "## Run backtest\n",
    "\n",
    "A simple portfolio is constructed by using trailing 1-year returns of each commodity futures. Unlike studies in equities, the recent 1-month is included in the formation period. Positions are rebalanced on a monthly basis.\n",
    "\n",
    "Similar to other popular academic strategies, this commodity momentum signal has been stalling since around 2015."
   ]
  },
  {
   "cell_type": "code",
   "execution_count": 4,
   "metadata": {
    "ExecuteTime": {
     "end_time": "2020-09-02T22:09:35.368377Z",
     "start_time": "2020-09-02T21:34:59.850395Z"
    },
    "execution": {
     "iopub.execute_input": "2020-11-15T09:13:40.432878Z",
     "iopub.status.busy": "2020-11-15T09:13:40.432339Z",
     "iopub.status.idle": "2020-11-15T09:18:16.726731Z",
     "shell.execute_reply": "2020-11-15T09:18:16.727173Z"
    },
    "papermill": {
     "duration": 276.309946,
     "end_time": "2020-11-15T09:18:16.727310",
     "exception": false,
     "start_time": "2020-11-15T09:13:40.417364",
     "status": "completed"
    },
    "tags": []
   },
   "outputs": [],
   "source": [
    "engine = BacktestEngine(\n",
    "    strategy=Strategy.DELTA_ONE.value,\n",
    "    instrument=all_futures_hollstein2020.index,\n",
    "    signal=signal.XSMomentum(lookback=252),\n",
    "    log_level=logging.WARN,\n",
    ")\n",
    "engine.run()"
   ]
  },
  {
   "cell_type": "code",
   "execution_count": 5,
   "metadata": {
    "ExecuteTime": {
     "end_time": "2020-09-02T20:42:14.779932Z",
     "start_time": "2020-09-02T20:40:39.222688Z"
    },
    "execution": {
     "iopub.execute_input": "2020-11-15T09:18:16.971133Z",
     "iopub.status.busy": "2020-11-15T09:18:16.968553Z",
     "iopub.status.idle": "2020-11-15T09:20:04.332857Z",
     "shell.execute_reply": "2020-11-15T09:20:04.332391Z"
    },
    "papermill": {
     "duration": 107.59496,
     "end_time": "2020-11-15T09:20:04.332980",
     "exception": false,
     "start_time": "2020-11-15T09:18:16.738020",
     "status": "completed"
    },
    "tags": []
   },
   "outputs": [],
   "source": [
    "portfolio_return = (engine.calculate_equity_curve(calculate_net=False)\n",
    "                    .rename('Commodity momentum portfolio'))"
   ]
  },
  {
   "cell_type": "code",
   "execution_count": 6,
   "metadata": {
    "ExecuteTime": {
     "end_time": "2020-09-02T20:45:59.608937Z",
     "start_time": "2020-09-02T20:45:59.405601Z"
    },
    "execution": {
     "iopub.execute_input": "2020-11-15T09:20:04.376570Z",
     "iopub.status.busy": "2020-11-15T09:20:04.376029Z",
     "iopub.status.idle": "2020-11-15T09:20:04.939923Z",
     "shell.execute_reply": "2020-11-15T09:20:04.939386Z"
    },
    "papermill": {
     "duration": 0.596124,
     "end_time": "2020-11-15T09:20:04.940036",
     "exception": false,
     "start_time": "2020-11-15T09:20:04.343912",
     "status": "completed"
    },
    "tags": []
   },
   "outputs": [
    {
     "data": {
      "image/png": "[encoded data removed]",
      "text/plain": [
       "<Figure size 576x324 with 1 Axes>"
      ]
     },
     "metadata": {
      "needs_background": "light"
     },
     "output_type": "display_data"
    }
   ],
   "source": [
    "fig, ax = plt.subplots(figsize=(8, 4.5))\n",
    "portfolio_return.plot(ax=ax, logy=True);\n",
    "ax.set_title('Commodity momentum portfolio')\n",
    "ax.set_ylabel('Cumulative returns');"
   ]
  },
  {
   "cell_type": "code",
   "execution_count": 7,
   "metadata": {
    "ExecuteTime": {
     "end_time": "2020-08-31T20:06:51.873126Z",
     "start_time": "2020-08-31T20:06:51.866509Z"
    },
    "execution": {
     "iopub.execute_input": "2020-11-15T09:20:04.969258Z",
     "iopub.status.busy": "2020-11-15T09:20:04.967624Z",
     "iopub.status.idle": "2020-11-15T09:20:05.236696Z",
     "shell.execute_reply": "2020-11-15T09:20:05.236144Z"
    },
    "papermill": {
     "duration": 0.284914,
     "end_time": "2020-11-15T09:20:05.236812",
     "exception": false,
     "start_time": "2020-11-15T09:20:04.951898",
     "status": "completed"
    },
    "tags": []
   },
   "outputs": [
    {
     "data": {
      "text/html": [
       "<div>\n",
       "<style scoped>\n",
       "    .dataframe tbody tr th:only-of-type {\n",
       "        vertical-align: middle;\n",
       "    }\n",
       "\n",
       "    .dataframe tbody tr th {\n",
       "        vertical-align: top;\n",
       "    }\n",
       "\n",
       "    .dataframe thead th {\n",
       "        text-align: right;\n",
       "    }\n",
       "</style>\n",
       "<table border=\"1\" class=\"dataframe\">\n",
       "  <thead>\n",
       "    <tr style=\"text-align: right;\">\n",
       "      <th></th>\n",
       "      <th>Commodity momentum portfolio</th>\n",
       "    </tr>\n",
       "  </thead>\n",
       "  <tbody>\n",
       "    <tr>\n",
       "      <th>annualised return</th>\n",
       "      <td>0.123598</td>\n",
       "    </tr>\n",
       "    <tr>\n",
       "      <th>annualised vol</th>\n",
       "      <td>0.182600</td>\n",
       "    </tr>\n",
       "    <tr>\n",
       "      <th>Sharpe ratio</th>\n",
       "      <td>0.676878</td>\n",
       "    </tr>\n",
       "    <tr>\n",
       "      <th>max drawdown</th>\n",
       "      <td>0.564411</td>\n",
       "    </tr>\n",
       "    <tr>\n",
       "      <th>Calmar ratio</th>\n",
       "      <td>0.218986</td>\n",
       "    </tr>\n",
       "    <tr>\n",
       "      <th>skewness</th>\n",
       "      <td>-0.176058</td>\n",
       "    </tr>\n",
       "    <tr>\n",
       "      <th>kurtosis</th>\n",
       "      <td>2.636066</td>\n",
       "    </tr>\n",
       "    <tr>\n",
       "      <th>worst return</th>\n",
       "      <td>-0.112557</td>\n",
       "    </tr>\n",
       "    <tr>\n",
       "      <th>worst 1d return</th>\n",
       "      <td>-0.112557</td>\n",
       "    </tr>\n",
       "    <tr>\n",
       "      <th>worst 1w return</th>\n",
       "      <td>-0.136935</td>\n",
       "    </tr>\n",
       "    <tr>\n",
       "      <th>worst 1m return</th>\n",
       "      <td>-0.263279</td>\n",
       "    </tr>\n",
       "  </tbody>\n",
       "</table>\n",
       "</div>"
      ],
      "text/plain": [
       "                   Commodity momentum portfolio\n",
       "annualised return                      0.123598\n",
       "annualised vol                         0.182600\n",
       "Sharpe ratio                           0.676878\n",
       "max drawdown                           0.564411\n",
       "Calmar ratio                           0.218986\n",
       "skewness                              -0.176058\n",
       "kurtosis                               2.636066\n",
       "worst return                          -0.112557\n",
       "worst 1d return                       -0.112557\n",
       "worst 1w return                       -0.136935\n",
       "worst 1m return                       -0.263279"
      ]
     },
     "execution_count": 7,
     "metadata": {},
     "output_type": "execute_result"
    }
   ],
   "source": [
    "portfolio_return.pipe(Performance).summary()"
   ]
  },
  {
   "cell_type": "markdown",
   "metadata": {
    "papermill": {
     "duration": 0.013341,
     "end_time": "2020-11-15T09:20:05.264054",
     "exception": false,
     "start_time": "2020-11-15T09:20:05.250713",
     "status": "completed"
    },
    "tags": []
   },
   "source": [
    "## Recent performance"
   ]
  },
  {
   "cell_type": "code",
   "execution_count": 8,
   "metadata": {
    "execution": {
     "iopub.execute_input": "2020-11-15T09:20:05.314168Z",
     "iopub.status.busy": "2020-11-15T09:20:05.313590Z",
     "iopub.status.idle": "2020-11-15T09:20:05.665964Z",
     "shell.execute_reply": "2020-11-15T09:20:05.666512Z"
    },
    "papermill": {
     "duration": 0.389988,
     "end_time": "2020-11-15T09:20:05.666653",
     "exception": false,
     "start_time": "2020-11-15T09:20:05.276665",
     "status": "completed"
    },
    "tags": []
   },
   "outputs": [
    {
     "data": {
      "image/png": "[encoded data removed]",
      "text/plain": [
       "<Figure size 576x324 with 1 Axes>"
      ]
     },
     "metadata": {
      "needs_background": "light"
     },
     "output_type": "display_data"
    }
   ],
   "source": [
    "fig, ax = plt.subplots(figsize=(8, 4.5))\n",
    "portfolio_return.tail(252 * 2).plot(ax=ax, logy=True);\n",
    "ax.set_title('Commodity momentum portfolio')\n",
    "ax.set_ylabel('Cumulative returns');"
   ]
  },
  {
   "cell_type": "markdown",
   "metadata": {
    "papermill": {
     "duration": 0.013576,
     "end_time": "2020-11-15T09:20:05.693971",
     "exception": false,
     "start_time": "2020-11-15T09:20:05.680395",
     "status": "completed"
    },
    "tags": []
   },
   "source": [
    "# Reference\n",
    "- Asness, C.S., Moskowitz, T.J. and Pedersen, L.H., 2013. Value and momentum everywhere. The Journal of Finance, 68(3), pp.929-985.\n",
    "- Hollstein, F., Prokopczuk, M. and Tharann, B., 2020. Anomalies in commodity futures markets: Risk or mispricing?. Available at SSRN."
   ]
  },
  {
   "cell_type": "code",
   "execution_count": 9,
   "metadata": {
    "ExecuteTime": {
     "end_time": "2020-08-31T05:52:23.734170Z",
     "start_time": "2020-08-31T05:52:23.731627Z"
    },
    "execution": {
     "iopub.execute_input": "2020-11-15T09:20:05.724892Z",
     "iopub.status.busy": "2020-11-15T09:20:05.724366Z",
     "iopub.status.idle": "2020-11-15T09:20:05.726588Z",
     "shell.execute_reply": "2020-11-15T09:20:05.727001Z"
    },
    "papermill": {
     "duration": 0.019533,
     "end_time": "2020-11-15T09:20:05.727136",
     "exception": false,
     "start_time": "2020-11-15T09:20:05.707603",
     "status": "completed"
    },
    "tags": []
   },
   "outputs": [
    {
     "name": "stdout",
     "output_type": "stream",
     "text": [
      "Updated: 15-Nov-2020 09:20\n"
     ]
    }
   ],
   "source": [
    "print(f'Updated: {datetime.utcnow().strftime(\"%d-%b-%Y %H:%M\")}')"
   ]
  }
 ],
 "metadata": {
  "kernelspec": {
   "display_name": "Python 3",
   "language": "python",
   "name": "python3"
  },
  "language_info": {
   "codemirror_mode": {
    "name": "ipython",
    "version": 3
   },
   "file_extension": ".py",
   "mimetype": "text/x-python",
   "name": "python",
   "nbconvert_exporter": "python",
   "pygments_lexer": "ipython3",
   "version": "3.8.2"
  },
  "papermill": {
   "duration": 390.064934,
   "end_time": "2020-11-15T09:20:07.250581",
   "environment_variables": {},
   "exception": null,
   "input_path": "notebooks/papermill/commodity_momentum.ipynb",
   "output_path": "notebooks/commodity_momentum.ipynb",
   "parameters": {},
   "start_time": "2020-11-15T09:13:37.185647",
   "version": "2.1.3"
  },
  "toc": {
   "base_numbering": 1,
   "nav_menu": {},
   "number_sections": true,
   "sideBar": true,
   "skip_h1_title": false,
   "title_cell": "Table of Contents",
   "title_sidebar": "Contents",
   "toc_cell": true,
   "toc_position": {
    "height": "calc(100% - 180px)",
    "left": "10px",
    "top": "150px",
    "width": "165px"
   },
   "toc_section_display": true,
   "toc_window_display": true
  },
  "toc-autonumbering": true,
  "toc-showmarkdowntxt": true,
  "toc-showtags": false
 },
 "nbformat": 4,
 "nbformat_minor": 4
}