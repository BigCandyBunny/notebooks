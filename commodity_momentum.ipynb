{
 "cells": [
  {
   "cell_type": "markdown",
   "id": "congressional-imperial",
   "metadata": {
    "papermill": {
     "duration": 0.010833,
     "end_time": "2021-02-11T07:06:57.022234",
     "exception": false,
     "start_time": "2021-02-11T07:06:57.011401",
     "status": "completed"
    },
    "tags": []
   },
   "source": [
    "# Commodity momentum\n",
    "\n",
    "This notebook analyses commodity cross-sectional momentum strategy. The strategy takes long positions on contracts with best 1-year perfomance and short positions on ones with worst 1-year performance."
   ]
  },
  {
   "cell_type": "code",
   "execution_count": 1,
   "id": "indian-effect",
   "metadata": {
    "ExecuteTime": {
     "end_time": "2020-08-31T19:29:24.852122Z",
     "start_time": "2020-08-31T19:29:24.038266Z"
    },
    "execution": {
     "iopub.execute_input": "2021-02-11T07:06:57.054822Z",
     "iopub.status.busy": "2021-02-11T07:06:57.054299Z",
     "iopub.status.idle": "2021-02-11T07:06:59.586442Z",
     "shell.execute_reply": "2021-02-11T07:06:59.585597Z"
    },
    "papermill": {
     "duration": 2.554014,
     "end_time": "2021-02-11T07:06:59.586598",
     "exception": false,
     "start_time": "2021-02-11T07:06:57.032584",
     "status": "completed"
    },
    "tags": []
   },
   "outputs": [],
   "source": [
    "%matplotlib inline\n",
    "from datetime import datetime\n",
    "import logging\n",
    "import warnings\n",
    "warnings.simplefilter(action='ignore', category=FutureWarning)\n",
    "\n",
    "import pandas as pd\n",
    "import matplotlib.pyplot as plt\n",
    "import matplotlib.ticker as mticker\n",
    "plt.style.use('bmh')\n",
    "\n",
    "from vivace.backtest import signal\n",
    "from vivace.backtest import processing\n",
    "from vivace.backtest.contract import all_futures_hollstein2020\n",
    "from vivace.backtest.engine import BacktestEngine\n",
    "from vivace.backtest.enums import Strategy\n",
    "from vivace.backtest.stats import Performance"
   ]
  },
  {
   "cell_type": "markdown",
   "id": "specific-james",
   "metadata": {
    "papermill": {
     "duration": 0.010104,
     "end_time": "2021-02-11T07:06:59.607299",
     "exception": false,
     "start_time": "2021-02-11T07:06:59.597195",
     "status": "completed"
    },
    "tags": []
   },
   "source": [
    "# Data\n",
    "\n",
    "26 commodity futures are used as per Hollstein 2020."
   ]
  },
  {
   "cell_type": "code",
   "execution_count": 2,
   "id": "objective-offset",
   "metadata": {
    "ExecuteTime": {
     "end_time": "2020-08-31T19:29:25.399795Z",
     "start_time": "2020-08-31T19:29:25.371862Z"
    },
    "execution": {
     "iopub.execute_input": "2021-02-11T07:06:59.634735Z",
     "iopub.status.busy": "2021-02-11T07:06:59.634208Z",
     "iopub.status.idle": "2021-02-11T07:06:59.641102Z",
     "shell.execute_reply": "2021-02-11T07:06:59.641534Z"
    },
    "papermill": {
     "duration": 0.024214,
     "end_time": "2021-02-11T07:06:59.641674",
     "exception": false,
     "start_time": "2021-02-11T07:06:59.617460",
     "status": "completed"
    },
    "tags": []
   },
   "outputs": [
    {
     "data": {
      "text/html": [
       "<div>\n",
       "<style scoped>\n",
       "    .dataframe tbody tr th:only-of-type {\n",
       "        vertical-align: middle;\n",
       "    }\n",
       "\n",
       "    .dataframe tbody tr th {\n",
       "        vertical-align: top;\n",
       "    }\n",
       "\n",
       "    .dataframe thead th {\n",
       "        text-align: right;\n",
       "    }\n",
       "</style>\n",
       "<table border=\"1\" class=\"dataframe\">\n",
       "  <thead>\n",
       "    <tr style=\"text-align: right;\">\n",
       "      <th></th>\n",
       "      <th>name</th>\n",
       "    </tr>\n",
       "    <tr>\n",
       "      <th>ticker</th>\n",
       "      <th></th>\n",
       "    </tr>\n",
       "  </thead>\n",
       "  <tbody>\n",
       "    <tr>\n",
       "      <th>CO</th>\n",
       "      <td>Brent Crude Oil</td>\n",
       "    </tr>\n",
       "    <tr>\n",
       "      <th>CC</th>\n",
       "      <td>Cocoa</td>\n",
       "    </tr>\n",
       "    <tr>\n",
       "      <th>KC</th>\n",
       "      <td>Coffee</td>\n",
       "    </tr>\n",
       "    <tr>\n",
       "      <th>C</th>\n",
       "      <td>Corn</td>\n",
       "    </tr>\n",
       "    <tr>\n",
       "      <th>CT</th>\n",
       "      <td>Cotton</td>\n",
       "    </tr>\n",
       "    <tr>\n",
       "      <th>FC</th>\n",
       "      <td>Feeder Cattle</td>\n",
       "    </tr>\n",
       "    <tr>\n",
       "      <th>GC</th>\n",
       "      <td>Gold</td>\n",
       "    </tr>\n",
       "    <tr>\n",
       "      <th>HO</th>\n",
       "      <td>Heating Oil</td>\n",
       "    </tr>\n",
       "    <tr>\n",
       "      <th>HG</th>\n",
       "      <td>Copper</td>\n",
       "    </tr>\n",
       "    <tr>\n",
       "      <th>LH</th>\n",
       "      <td>Lean Hog</td>\n",
       "    </tr>\n",
       "    <tr>\n",
       "      <th>LC</th>\n",
       "      <td>Live Cattle</td>\n",
       "    </tr>\n",
       "    <tr>\n",
       "      <th>LB</th>\n",
       "      <td>Lumber</td>\n",
       "    </tr>\n",
       "    <tr>\n",
       "      <th>DA</th>\n",
       "      <td>Milk</td>\n",
       "    </tr>\n",
       "    <tr>\n",
       "      <th>NG</th>\n",
       "      <td>Natural Gas</td>\n",
       "    </tr>\n",
       "    <tr>\n",
       "      <th>ZO</th>\n",
       "      <td>Oats</td>\n",
       "    </tr>\n",
       "    <tr>\n",
       "      <th>OJ</th>\n",
       "      <td>Orange Juice</td>\n",
       "    </tr>\n",
       "    <tr>\n",
       "      <th>PA</th>\n",
       "      <td>Palladium</td>\n",
       "    </tr>\n",
       "    <tr>\n",
       "      <th>PL</th>\n",
       "      <td>Platinum</td>\n",
       "    </tr>\n",
       "    <tr>\n",
       "      <th>RR</th>\n",
       "      <td>Rough Rice</td>\n",
       "    </tr>\n",
       "    <tr>\n",
       "      <th>SI</th>\n",
       "      <td>Silver</td>\n",
       "    </tr>\n",
       "    <tr>\n",
       "      <th>S</th>\n",
       "      <td>Soybean</td>\n",
       "    </tr>\n",
       "    <tr>\n",
       "      <th>SM</th>\n",
       "      <td>Soybean Meal</td>\n",
       "    </tr>\n",
       "    <tr>\n",
       "      <th>BO</th>\n",
       "      <td>Soybean Oil</td>\n",
       "    </tr>\n",
       "    <tr>\n",
       "      <th>SB</th>\n",
       "      <td>Sugar</td>\n",
       "    </tr>\n",
       "    <tr>\n",
       "      <th>W</th>\n",
       "      <td>Wheat</td>\n",
       "    </tr>\n",
       "    <tr>\n",
       "      <th>CL</th>\n",
       "      <td>WTI Crude Oil</td>\n",
       "    </tr>\n",
       "  </tbody>\n",
       "</table>\n",
       "</div>"
      ],
      "text/plain": [
       "                   name\n",
       "ticker                 \n",
       "CO      Brent Crude Oil\n",
       "CC                Cocoa\n",
       "KC               Coffee\n",
       "C                  Corn\n",
       "CT               Cotton\n",
       "FC        Feeder Cattle\n",
       "GC                 Gold\n",
       "HO          Heating Oil\n",
       "HG               Copper\n",
       "LH             Lean Hog\n",
       "LC          Live Cattle\n",
       "LB               Lumber\n",
       "DA                 Milk\n",
       "NG          Natural Gas\n",
       "ZO                 Oats\n",
       "OJ         Orange Juice\n",
       "PA            Palladium\n",
       "PL             Platinum\n",
       "RR           Rough Rice\n",
       "SI               Silver\n",
       "S               Soybean\n",
       "SM         Soybean Meal\n",
       "BO          Soybean Oil\n",
       "SB                Sugar\n",
       "W                 Wheat\n",
       "CL        WTI Crude Oil"
      ]
     },
     "execution_count": 2,
     "metadata": {},
     "output_type": "execute_result"
    }
   ],
   "source": [
    "all_futures_hollstein2020"
   ]
  },
  {
   "cell_type": "code",
   "execution_count": 3,
   "id": "vocal-receiver",
   "metadata": {
    "ExecuteTime": {
     "end_time": "2020-08-31T19:29:26.170389Z",
     "start_time": "2020-08-31T19:29:26.166205Z"
    },
    "execution": {
     "iopub.execute_input": "2021-02-11T07:06:59.670693Z",
     "iopub.status.busy": "2021-02-11T07:06:59.670182Z",
     "iopub.status.idle": "2021-02-11T07:06:59.673089Z",
     "shell.execute_reply": "2021-02-11T07:06:59.672563Z"
    },
    "papermill": {
     "duration": 0.020176,
     "end_time": "2021-02-11T07:06:59.673197",
     "exception": false,
     "start_time": "2021-02-11T07:06:59.653021",
     "status": "completed"
    },
    "tags": []
   },
   "outputs": [
    {
     "data": {
      "text/plain": [
       "(26, 1)"
      ]
     },
     "execution_count": 3,
     "metadata": {},
     "output_type": "execute_result"
    }
   ],
   "source": [
    "all_futures_hollstein2020.shape"
   ]
  },
  {
   "cell_type": "markdown",
   "id": "amino-vinyl",
   "metadata": {
    "papermill": {
     "duration": 0.011245,
     "end_time": "2021-02-11T07:06:59.695780",
     "exception": false,
     "start_time": "2021-02-11T07:06:59.684535",
     "status": "completed"
    },
    "tags": []
   },
   "source": [
    "# Performance"
   ]
  },
  {
   "cell_type": "markdown",
   "id": "periodic-vertical",
   "metadata": {
    "papermill": {
     "duration": 0.011448,
     "end_time": "2021-02-11T07:06:59.718837",
     "exception": false,
     "start_time": "2021-02-11T07:06:59.707389",
     "status": "completed"
    },
    "tags": []
   },
   "source": [
    "## Run backtest\n",
    "\n",
    "A simple portfolio is constructed by using trailing 1-year returns of each commodity futures. Unlike studies in equities, the recent 1-month is included in the formation period. Positions are rebalanced on a monthly basis.\n",
    "\n",
    "Similar to other popular academic strategies, this commodity momentum signal has been stalling since around 2015."
   ]
  },
  {
   "cell_type": "code",
   "execution_count": 4,
   "id": "bronze-alert",
   "metadata": {
    "ExecuteTime": {
     "end_time": "2020-09-02T22:09:35.368377Z",
     "start_time": "2020-09-02T21:34:59.850395Z"
    },
    "execution": {
     "iopub.execute_input": "2021-02-11T07:06:59.746729Z",
     "iopub.status.busy": "2021-02-11T07:06:59.746137Z",
     "iopub.status.idle": "2021-02-11T07:11:08.295465Z",
     "shell.execute_reply": "2021-02-11T07:11:08.294976Z"
    },
    "papermill": {
     "duration": 248.565307,
     "end_time": "2021-02-11T07:11:08.295581",
     "exception": false,
     "start_time": "2021-02-11T07:06:59.730274",
     "status": "completed"
    },
    "tags": []
   },
   "outputs": [],
   "source": [
    "engine = BacktestEngine(\n",
    "    strategy=Strategy.DELTA_ONE.value,\n",
    "    instrument=all_futures_hollstein2020.index,\n",
    "    signal=signal.XSMomentum(lookback=252),\n",
    "    log_level=logging.WARN,\n",
    ")\n",
    "engine.run()"
   ]
  },
  {
   "cell_type": "code",
   "execution_count": 5,
   "id": "european-fellow",
   "metadata": {
    "ExecuteTime": {
     "end_time": "2020-09-02T20:42:14.779932Z",
     "start_time": "2020-09-02T20:40:39.222688Z"
    },
    "execution": {
     "iopub.execute_input": "2021-02-11T07:11:09.284936Z",
     "iopub.status.busy": "2021-02-11T07:11:08.870544Z",
     "iopub.status.idle": "2021-02-11T07:12:45.256786Z",
     "shell.execute_reply": "2021-02-11T07:12:45.256241Z"
    },
    "papermill": {
     "duration": 96.949606,
     "end_time": "2021-02-11T07:12:45.256900",
     "exception": false,
     "start_time": "2021-02-11T07:11:08.307294",
     "status": "completed"
    },
    "tags": []
   },
   "outputs": [],
   "source": [
    "portfolio_return = (engine.calculate_equity_curve(calculate_net=False)\n",
    "                    .rename('Commodity momentum portfolio'))"
   ]
  },
  {
   "cell_type": "code",
   "execution_count": 6,
   "id": "authorized-straight",
   "metadata": {
    "ExecuteTime": {
     "end_time": "2020-09-02T20:45:59.608937Z",
     "start_time": "2020-09-02T20:45:59.405601Z"
    },
    "execution": {
     "iopub.execute_input": "2021-02-11T07:12:45.301129Z",
     "iopub.status.busy": "2021-02-11T07:12:45.296748Z",
     "iopub.status.idle": "2021-02-11T07:12:45.867212Z",
     "shell.execute_reply": "2021-02-11T07:12:45.866774Z"
    },
    "papermill": {
     "duration": 0.598529,
     "end_time": "2021-02-11T07:12:45.867327",
     "exception": false,
     "start_time": "2021-02-11T07:12:45.268798",
     "status": "completed"
    },
    "tags": []
   },
   "outputs": [
    {
     "data": {
      "image/png": "[encoded data removed]",
      "text/plain": [
       "<Figure size 576x324 with 1 Axes>"
      ]
     },
     "metadata": {
      "needs_background": "light"
     },
     "output_type": "display_data"
    }
   ],
   "source": [
    "fig, ax = plt.subplots(figsize=(8, 4.5))\n",
    "portfolio_return.plot(ax=ax, logy=True);\n",
    "ax.set_title('Commodity momentum portfolio')\n",
    "ax.set_ylabel('Cumulative returns');"
   ]
  },
  {
   "cell_type": "code",
   "execution_count": 7,
   "id": "organic-needle",
   "metadata": {
    "ExecuteTime": {
     "end_time": "2020-08-31T20:06:51.873126Z",
     "start_time": "2020-08-31T20:06:51.866509Z"
    },
    "execution": {
     "iopub.execute_input": "2021-02-11T07:12:45.904101Z",
     "iopub.status.busy": "2021-02-11T07:12:45.903570Z",
     "iopub.status.idle": "2021-02-11T07:12:46.164334Z",
     "shell.execute_reply": "2021-02-11T07:12:46.164749Z"
    },
    "papermill": {
     "duration": 0.27952,
     "end_time": "2021-02-11T07:12:46.164884",
     "exception": false,
     "start_time": "2021-02-11T07:12:45.885364",
     "status": "completed"
    },
    "tags": []
   },
   "outputs": [
    {
     "data": {
      "text/html": [
       "<div>\n",
       "<style scoped>\n",
       "    .dataframe tbody tr th:only-of-type {\n",
       "        vertical-align: middle;\n",
       "    }\n",
       "\n",
       "    .dataframe tbody tr th {\n",
       "        vertical-align: top;\n",
       "    }\n",
       "\n",
       "    .dataframe thead th {\n",
       "        text-align: right;\n",
       "    }\n",
       "</style>\n",
       "<table border=\"1\" class=\"dataframe\">\n",
       "  <thead>\n",
       "    <tr style=\"text-align: right;\">\n",
       "      <th></th>\n",
       "      <th>Commodity momentum portfolio</th>\n",
       "    </tr>\n",
       "  </thead>\n",
       "  <tbody>\n",
       "    <tr>\n",
       "      <th>annualised return</th>\n",
       "      <td>0.126080</td>\n",
       "    </tr>\n",
       "    <tr>\n",
       "      <th>annualised vol</th>\n",
       "      <td>0.182875</td>\n",
       "    </tr>\n",
       "    <tr>\n",
       "      <th>Sharpe ratio</th>\n",
       "      <td>0.689434</td>\n",
       "    </tr>\n",
       "    <tr>\n",
       "      <th>max drawdown</th>\n",
       "      <td>0.551329</td>\n",
       "    </tr>\n",
       "    <tr>\n",
       "      <th>Calmar ratio</th>\n",
       "      <td>0.228684</td>\n",
       "    </tr>\n",
       "    <tr>\n",
       "      <th>skewness</th>\n",
       "      <td>-0.148112</td>\n",
       "    </tr>\n",
       "    <tr>\n",
       "      <th>kurtosis</th>\n",
       "      <td>2.653460</td>\n",
       "    </tr>\n",
       "    <tr>\n",
       "      <th>worst return</th>\n",
       "      <td>-0.112480</td>\n",
       "    </tr>\n",
       "    <tr>\n",
       "      <th>worst 1d return</th>\n",
       "      <td>-0.112480</td>\n",
       "    </tr>\n",
       "    <tr>\n",
       "      <th>worst 1w return</th>\n",
       "      <td>-0.137201</td>\n",
       "    </tr>\n",
       "    <tr>\n",
       "      <th>worst 1m return</th>\n",
       "      <td>-0.224319</td>\n",
       "    </tr>\n",
       "  </tbody>\n",
       "</table>\n",
       "</div>"
      ],
      "text/plain": [
       "                   Commodity momentum portfolio\n",
       "annualised return                      0.126080\n",
       "annualised vol                         0.182875\n",
       "Sharpe ratio                           0.689434\n",
       "max drawdown                           0.551329\n",
       "Calmar ratio                           0.228684\n",
       "skewness                              -0.148112\n",
       "kurtosis                               2.653460\n",
       "worst return                          -0.112480\n",
       "worst 1d return                       -0.112480\n",
       "worst 1w return                       -0.137201\n",
       "worst 1m return                       -0.224319"
      ]
     },
     "execution_count": 7,
     "metadata": {},
     "output_type": "execute_result"
    }
   ],
   "source": [
    "portfolio_return.pipe(Performance).summary()"
   ]
  },
  {
   "cell_type": "markdown",
   "id": "ready-decade",
   "metadata": {
    "papermill": {
     "duration": 0.013019,
     "end_time": "2021-02-11T07:12:46.191046",
     "exception": false,
     "start_time": "2021-02-11T07:12:46.178027",
     "status": "completed"
    },
    "tags": []
   },
   "source": [
    "## Recent performance"
   ]
  },
  {
   "cell_type": "code",
   "execution_count": 8,
   "id": "sticky-ballet",
   "metadata": {
    "execution": {
     "iopub.execute_input": "2021-02-11T07:12:46.243570Z",
     "iopub.status.busy": "2021-02-11T07:12:46.241415Z",
     "iopub.status.idle": "2021-02-11T07:12:46.555885Z",
     "shell.execute_reply": "2021-02-11T07:12:46.555364Z"
    },
    "papermill": {
     "duration": 0.35177,
     "end_time": "2021-02-11T07:12:46.555996",
     "exception": false,
     "start_time": "2021-02-11T07:12:46.204226",
     "status": "completed"
    },
    "tags": []
   },
   "outputs": [
    {
     "data": {
      "image/png": "[encoded data removed]",
      "text/plain": [
       "<Figure size 576x324 with 1 Axes>"
      ]
     },
     "metadata": {
      "needs_background": "light"
     },
     "output_type": "display_data"
    }
   ],
   "source": [
    "fig, ax = plt.subplots(figsize=(8, 4.5))\n",
    "portfolio_return.tail(252 * 2).plot(ax=ax, logy=True);\n",
    "ax.set_title('Commodity momentum portfolio')\n",
    "ax.set_ylabel('Cumulative returns');"
   ]
  },
  {
   "cell_type": "markdown",
   "id": "rolled-champagne",
   "metadata": {
    "papermill": {
     "duration": 0.014382,
     "end_time": "2021-02-11T07:12:46.585024",
     "exception": false,
     "start_time": "2021-02-11T07:12:46.570642",
     "status": "completed"
    },
    "tags": []
   },
   "source": [
    "# Reference\n",
    "- Asness, C.S., Moskowitz, T.J. and Pedersen, L.H., 2013. Value and momentum everywhere. The Journal of Finance, 68(3), pp.929-985.\n",
    "- Hollstein, F., Prokopczuk, M. and Tharann, B., 2020. Anomalies in commodity futures markets: Risk or mispricing?. Available at SSRN."
   ]
  },
  {
   "cell_type": "code",
   "execution_count": 9,
   "id": "excellent-buying",
   "metadata": {
    "ExecuteTime": {
     "end_time": "2020-08-31T05:52:23.734170Z",
     "start_time": "2020-08-31T05:52:23.731627Z"
    },
    "execution": {
     "iopub.execute_input": "2021-02-11T07:12:46.617531Z",
     "iopub.status.busy": "2021-02-11T07:12:46.616993Z",
     "iopub.status.idle": "2021-02-11T07:12:46.619612Z",
     "shell.execute_reply": "2021-02-11T07:12:46.619089Z"
    },
    "papermill": {
     "duration": 0.020257,
     "end_time": "2021-02-11T07:12:46.619720",
     "exception": false,
     "start_time": "2021-02-11T07:12:46.599463",
     "status": "completed"
    },
    "tags": []
   },
   "outputs": [
    {
     "name": "stdout",
     "output_type": "stream",
     "text": [
      "Updated: 11-Feb-2021 07:12\n"
     ]
    }
   ],
   "source": [
    "print(f'Updated: {datetime.utcnow().strftime(\"%d-%b-%Y %H:%M\")}')"
   ]
  }
 ],
 "metadata": {
  "kernelspec": {
   "display_name": "Python 3",
   "language": "python",
   "name": "python3"
  },
  "language_info": {
   "codemirror_mode": {
    "name": "ipython",
    "version": 3
   },
   "file_extension": ".py",
   "mimetype": "text/x-python",
   "name": "python",
   "nbconvert_exporter": "python",
   "pygments_lexer": "ipython3",
   "version": "3.8.2"
  },
  "papermill": {
   "default_parameters": {},
   "duration": 351.837442,
   "end_time": "2021-02-11T07:12:47.941961",
   "environment_variables": {},
   "exception": null,
   "input_path": "notebooks/papermill/commodity_momentum.ipynb",
   "output_path": "notebooks/commodity_momentum.ipynb",
   "parameters": {},
   "start_time": "2021-02-11T07:06:56.104519",
   "version": "2.3.1"
  },
  "toc": {
   "base_numbering": 1,
   "nav_menu": {},
   "number_sections": true,
   "sideBar": true,
   "skip_h1_title": false,
   "title_cell": "Table of Contents",
   "title_sidebar": "Contents",
   "toc_cell": true,
   "toc_position": {
    "height": "calc(100% - 180px)",
    "left": "10px",
    "top": "150px",
    "width": "165px"
   },
   "toc_section_display": true,
   "toc_window_display": true
  },
  "toc-autonumbering": true,
  "toc-showmarkdowntxt": true,
  "toc-showtags": false
 },
 "nbformat": 4,
 "nbformat_minor": 5
}