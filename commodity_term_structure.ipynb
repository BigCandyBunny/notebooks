{
 "cells": [
  {
   "cell_type": "markdown",
   "id": "adjacent-individual",
   "metadata": {
    "papermill": {
     "duration": 0.021117,
     "end_time": "2021-03-27T10:18:37.370872",
     "exception": false,
     "start_time": "2021-03-27T10:18:37.349755",
     "status": "completed"
    },
    "tags": []
   },
   "source": [
    "# Commodity term structure\n",
    "\n",
    "This notebook analyses commodity term structure strategy which utilises commodity futures' roll yield. The strategy takes long positions on contracts with most backwardation and short positions on ones with most contango. This idea is analogous to FX carry trade and hence this strategy can be classified as commodity carry trade."
   ]
  },
  {
   "cell_type": "code",
   "execution_count": 1,
   "id": "vital-glossary",
   "metadata": {
    "ExecuteTime": {
     "end_time": "2020-08-31T19:29:24.852122Z",
     "start_time": "2020-08-31T19:29:24.038266Z"
    },
    "execution": {
     "iopub.execute_input": "2021-03-27T10:18:37.423218Z",
     "iopub.status.busy": "2021-03-27T10:18:37.418277Z",
     "iopub.status.idle": "2021-03-27T10:18:40.530272Z",
     "shell.execute_reply": "2021-03-27T10:18:40.529756Z",
     "shell.execute_reply.started": "2020-11-26T05:49:13.176626Z"
    },
    "papermill": {
     "duration": 3.139199,
     "end_time": "2021-03-27T10:18:40.530431",
     "exception": false,
     "start_time": "2021-03-27T10:18:37.391232",
     "status": "completed"
    },
    "tags": []
   },
   "outputs": [],
   "source": [
    "%matplotlib inline\n",
    "from datetime import datetime\n",
    "import logging\n",
    "import warnings\n",
    "warnings.simplefilter(action='ignore', category=FutureWarning)\n",
    "\n",
    "import pandas as pd\n",
    "import matplotlib.pyplot as plt\n",
    "import matplotlib.ticker as mticker\n",
    "plt.style.use('bmh')\n",
    "\n",
    "from vivace.backtest import signal\n",
    "from vivace.backtest import processing\n",
    "from vivace.backtest.contract import all_futures_hollstein2020\n",
    "from vivace.backtest.engine import BacktestEngine\n",
    "from vivace.backtest.enums import Strategy\n",
    "from vivace.backtest.stats import Performance"
   ]
  },
  {
   "cell_type": "markdown",
   "id": "advance-guest",
   "metadata": {
    "papermill": {
     "duration": 0.017977,
     "end_time": "2021-03-27T10:18:40.566742",
     "exception": false,
     "start_time": "2021-03-27T10:18:40.548765",
     "status": "completed"
    },
    "tags": []
   },
   "source": [
    "# Data\n",
    "\n",
    "26 commodity futures are used as per Hollstein 2020."
   ]
  },
  {
   "cell_type": "code",
   "execution_count": 2,
   "id": "liquid-witch",
   "metadata": {
    "ExecuteTime": {
     "end_time": "2020-08-31T19:29:25.399795Z",
     "start_time": "2020-08-31T19:29:25.371862Z"
    },
    "execution": {
     "iopub.execute_input": "2021-03-27T10:18:40.609755Z",
     "iopub.status.busy": "2021-03-27T10:18:40.609229Z",
     "iopub.status.idle": "2021-03-27T10:18:40.615807Z",
     "shell.execute_reply": "2021-03-27T10:18:40.616224Z",
     "shell.execute_reply.started": "2020-11-26T05:49:14.192297Z"
    },
    "papermill": {
     "duration": 0.031814,
     "end_time": "2021-03-27T10:18:40.616363",
     "exception": false,
     "start_time": "2021-03-27T10:18:40.584549",
     "status": "completed"
    },
    "tags": []
   },
   "outputs": [
    {
     "data": {
      "text/html": [
       "<div>\n",
       "<style scoped>\n",
       "    .dataframe tbody tr th:only-of-type {\n",
       "        vertical-align: middle;\n",
       "    }\n",
       "\n",
       "    .dataframe tbody tr th {\n",
       "        vertical-align: top;\n",
       "    }\n",
       "\n",
       "    .dataframe thead th {\n",
       "        text-align: right;\n",
       "    }\n",
       "</style>\n",
       "<table border=\"1\" class=\"dataframe\">\n",
       "  <thead>\n",
       "    <tr style=\"text-align: right;\">\n",
       "      <th></th>\n",
       "      <th>name</th>\n",
       "    </tr>\n",
       "    <tr>\n",
       "      <th>ticker</th>\n",
       "      <th></th>\n",
       "    </tr>\n",
       "  </thead>\n",
       "  <tbody>\n",
       "    <tr>\n",
       "      <th>CO</th>\n",
       "      <td>Brent Crude Oil</td>\n",
       "    </tr>\n",
       "    <tr>\n",
       "      <th>CC</th>\n",
       "      <td>Cocoa</td>\n",
       "    </tr>\n",
       "    <tr>\n",
       "      <th>KC</th>\n",
       "      <td>Coffee</td>\n",
       "    </tr>\n",
       "    <tr>\n",
       "      <th>C</th>\n",
       "      <td>Corn</td>\n",
       "    </tr>\n",
       "    <tr>\n",
       "      <th>CT</th>\n",
       "      <td>Cotton</td>\n",
       "    </tr>\n",
       "    <tr>\n",
       "      <th>FC</th>\n",
       "      <td>Feeder Cattle</td>\n",
       "    </tr>\n",
       "    <tr>\n",
       "      <th>GC</th>\n",
       "      <td>Gold</td>\n",
       "    </tr>\n",
       "    <tr>\n",
       "      <th>HO</th>\n",
       "      <td>Heating Oil</td>\n",
       "    </tr>\n",
       "    <tr>\n",
       "      <th>HG</th>\n",
       "      <td>Copper</td>\n",
       "    </tr>\n",
       "    <tr>\n",
       "      <th>LH</th>\n",
       "      <td>Lean Hog</td>\n",
       "    </tr>\n",
       "    <tr>\n",
       "      <th>LC</th>\n",
       "      <td>Live Cattle</td>\n",
       "    </tr>\n",
       "    <tr>\n",
       "      <th>LB</th>\n",
       "      <td>Lumber</td>\n",
       "    </tr>\n",
       "    <tr>\n",
       "      <th>DA</th>\n",
       "      <td>Milk</td>\n",
       "    </tr>\n",
       "    <tr>\n",
       "      <th>NG</th>\n",
       "      <td>Natural Gas</td>\n",
       "    </tr>\n",
       "    <tr>\n",
       "      <th>ZO</th>\n",
       "      <td>Oats</td>\n",
       "    </tr>\n",
       "    <tr>\n",
       "      <th>OJ</th>\n",
       "      <td>Orange Juice</td>\n",
       "    </tr>\n",
       "    <tr>\n",
       "      <th>PA</th>\n",
       "      <td>Palladium</td>\n",
       "    </tr>\n",
       "    <tr>\n",
       "      <th>PL</th>\n",
       "      <td>Platinum</td>\n",
       "    </tr>\n",
       "    <tr>\n",
       "      <th>RR</th>\n",
       "      <td>Rough Rice</td>\n",
       "    </tr>\n",
       "    <tr>\n",
       "      <th>SI</th>\n",
       "      <td>Silver</td>\n",
       "    </tr>\n",
       "    <tr>\n",
       "      <th>S</th>\n",
       "      <td>Soybean</td>\n",
       "    </tr>\n",
       "    <tr>\n",
       "      <th>SM</th>\n",
       "      <td>Soybean Meal</td>\n",
       "    </tr>\n",
       "    <tr>\n",
       "      <th>BO</th>\n",
       "      <td>Soybean Oil</td>\n",
       "    </tr>\n",
       "    <tr>\n",
       "      <th>SB</th>\n",
       "      <td>Sugar</td>\n",
       "    </tr>\n",
       "    <tr>\n",
       "      <th>W</th>\n",
       "      <td>Wheat</td>\n",
       "    </tr>\n",
       "    <tr>\n",
       "      <th>CL</th>\n",
       "      <td>WTI Crude Oil</td>\n",
       "    </tr>\n",
       "  </tbody>\n",
       "</table>\n",
       "</div>"
      ],
      "text/plain": [
       "                   name\n",
       "ticker                 \n",
       "CO      Brent Crude Oil\n",
       "CC                Cocoa\n",
       "KC               Coffee\n",
       "C                  Corn\n",
       "CT               Cotton\n",
       "FC        Feeder Cattle\n",
       "GC                 Gold\n",
       "HO          Heating Oil\n",
       "HG               Copper\n",
       "LH             Lean Hog\n",
       "LC          Live Cattle\n",
       "LB               Lumber\n",
       "DA                 Milk\n",
       "NG          Natural Gas\n",
       "ZO                 Oats\n",
       "OJ         Orange Juice\n",
       "PA            Palladium\n",
       "PL             Platinum\n",
       "RR           Rough Rice\n",
       "SI               Silver\n",
       "S               Soybean\n",
       "SM         Soybean Meal\n",
       "BO          Soybean Oil\n",
       "SB                Sugar\n",
       "W                 Wheat\n",
       "CL        WTI Crude Oil"
      ]
     },
     "execution_count": 2,
     "metadata": {},
     "output_type": "execute_result"
    }
   ],
   "source": [
    "all_futures_hollstein2020"
   ]
  },
  {
   "cell_type": "code",
   "execution_count": 3,
   "id": "earned-charger",
   "metadata": {
    "ExecuteTime": {
     "end_time": "2020-08-31T19:29:26.170389Z",
     "start_time": "2020-08-31T19:29:26.166205Z"
    },
    "execution": {
     "iopub.execute_input": "2021-03-27T10:18:40.657285Z",
     "iopub.status.busy": "2021-03-27T10:18:40.656766Z",
     "iopub.status.idle": "2021-03-27T10:18:40.659126Z",
     "shell.execute_reply": "2021-03-27T10:18:40.659572Z",
     "shell.execute_reply.started": "2020-11-26T05:49:14.201265Z"
    },
    "papermill": {
     "duration": 0.024481,
     "end_time": "2021-03-27T10:18:40.659705",
     "exception": false,
     "start_time": "2021-03-27T10:18:40.635224",
     "status": "completed"
    },
    "tags": []
   },
   "outputs": [
    {
     "data": {
      "text/plain": [
       "(26, 1)"
      ]
     },
     "execution_count": 3,
     "metadata": {},
     "output_type": "execute_result"
    }
   ],
   "source": [
    "all_futures_hollstein2020.shape"
   ]
  },
  {
   "cell_type": "markdown",
   "id": "technical-breakdown",
   "metadata": {
    "papermill": {
     "duration": 0.018874,
     "end_time": "2021-03-27T10:18:40.697691",
     "exception": false,
     "start_time": "2021-03-27T10:18:40.678817",
     "status": "completed"
    },
    "tags": []
   },
   "source": [
    "# Performance"
   ]
  },
  {
   "cell_type": "markdown",
   "id": "healthy-roads",
   "metadata": {
    "papermill": {
     "duration": 0.019148,
     "end_time": "2021-03-27T10:18:40.735762",
     "exception": false,
     "start_time": "2021-03-27T10:18:40.716614",
     "status": "completed"
    },
    "tags": []
   },
   "source": [
    "## Run backtest\n",
    "\n",
    "Bakshi et al., 2017 used second front contracts and treated first front contracts as 'spot'. This is implemented by specifiying `nth_expiry=2` in this backtest. Term structure (i.e., carry) is then calculated by\n",
    "\n",
    "$$\n",
    "Carry_t = {\\rm log} \\left( \\frac{F_{1, t}}{F_{2, t}} \\right) \\cdot annualisationFactor\n",
    "$$\n",
    "\n",
    "where $F_{1, t}$ is the 1st contract price, $F_{2, t}$ is the 2nd contract price and $annualisationFactor$ is the constant to make the log return annual while considering contract listing schedules for each commodity.\n",
    "\n",
    "Hollstein 2020 uses trailing 1 year average of $Carry$ to avoid an influence of seasonality. The `SMA` post processing takes care of it. Signals are observed on a monthly basis and reflected to the portfolio by taking long  (short) positions for top (bottom) 33% contracts.\n",
    "\n",
    "As typically the case in many studies about cross-sectional strategies, these commodity futures are equally weighted. However in practice some are much less liquid compared to major ones like crude oil. Some liquidity constraints need to be added to run more realistic analysis."
   ]
  },
  {
   "cell_type": "code",
   "execution_count": 4,
   "id": "concerned-beads",
   "metadata": {
    "ExecuteTime": {
     "end_time": "2020-09-02T22:09:35.368377Z",
     "start_time": "2020-09-02T21:34:59.850395Z"
    },
    "execution": {
     "iopub.execute_input": "2021-03-27T10:18:40.780001Z",
     "iopub.status.busy": "2021-03-27T10:18:40.779451Z",
     "iopub.status.idle": "2021-03-27T10:50:34.947147Z",
     "shell.execute_reply": "2021-03-27T10:50:34.942334Z",
     "shell.execute_reply.started": "2020-11-26T05:49:14.219727Z"
    },
    "papermill": {
     "duration": 1914.192875,
     "end_time": "2021-03-27T10:50:34.948015",
     "exception": false,
     "start_time": "2021-03-27T10:18:40.755140",
     "status": "completed"
    },
    "tags": []
   },
   "outputs": [],
   "source": [
    "engine = BacktestEngine(\n",
    "    strategy=Strategy.DELTA_ONE.value,\n",
    "    instrument=all_futures_hollstein2020.index,\n",
    "    signal=signal.XSCarryFutureFuture(nth_expiry_shift=1, \n",
    "                                      post_process=processing.Pipeline([\n",
    "                                          processing.SMA(252),\n",
    "                                          processing.AsFreq(freq='m', method='pad')\n",
    "                                      ])),\n",
    "    log_level=logging.WARN,\n",
    ")\n",
    "engine.run()"
   ]
  },
  {
   "cell_type": "code",
   "execution_count": 5,
   "id": "complete-battery",
   "metadata": {
    "ExecuteTime": {
     "end_time": "2020-09-02T20:42:14.779932Z",
     "start_time": "2020-09-02T20:40:39.222688Z"
    },
    "execution": {
     "iopub.execute_input": "2021-03-27T10:50:35.097087Z",
     "iopub.status.busy": "2021-03-27T10:50:35.096349Z",
     "iopub.status.idle": "2021-03-27T10:52:15.361887Z",
     "shell.execute_reply": "2021-03-27T10:52:15.361160Z",
     "shell.execute_reply.started": "2020-11-26T06:21:36.185128Z"
    },
    "papermill": {
     "duration": 100.361371,
     "end_time": "2021-03-27T10:52:15.362001",
     "exception": false,
     "start_time": "2021-03-27T10:50:35.000630",
     "status": "completed"
    },
    "tags": []
   },
   "outputs": [],
   "source": [
    "portfolio_return = (engine.calculate_equity_curve(calculate_net=False)\n",
    "                    .rename('Commodity term structure portfolio'))"
   ]
  },
  {
   "cell_type": "code",
   "execution_count": 6,
   "id": "hispanic-twelve",
   "metadata": {
    "ExecuteTime": {
     "end_time": "2020-09-02T20:45:59.608937Z",
     "start_time": "2020-09-02T20:45:59.405601Z"
    },
    "execution": {
     "iopub.execute_input": "2021-03-27T10:52:15.422718Z",
     "iopub.status.busy": "2021-03-27T10:52:15.422017Z",
     "iopub.status.idle": "2021-03-27T10:52:15.906196Z",
     "shell.execute_reply": "2021-03-27T10:52:15.906624Z",
     "shell.execute_reply.started": "2020-11-26T06:23:02.670727Z"
    },
    "papermill": {
     "duration": 0.525609,
     "end_time": "2021-03-27T10:52:15.906755",
     "exception": false,
     "start_time": "2021-03-27T10:52:15.381146",
     "status": "completed"
    },
    "tags": []
   },
   "outputs": [
    {
     "data": {
      "image/png": "[encoded data removed]",
      "text/plain": [
       "<Figure size 576x324 with 1 Axes>"
      ]
     },
     "metadata": {
      "needs_background": "light"
     },
     "output_type": "display_data"
    }
   ],
   "source": [
    "fig, ax = plt.subplots(figsize=(8, 4.5))\n",
    "portfolio_return.plot(ax=ax, logy=True);\n",
    "ax.set_title('Commodity term structure portfolio')\n",
    "ax.set_ylabel('Cumulative returns');"
   ]
  },
  {
   "cell_type": "code",
   "execution_count": 7,
   "id": "functioning-lincoln",
   "metadata": {
    "ExecuteTime": {
     "end_time": "2020-08-31T20:06:51.873126Z",
     "start_time": "2020-08-31T20:06:51.866509Z"
    },
    "execution": {
     "iopub.execute_input": "2021-03-27T10:52:15.950480Z",
     "iopub.status.busy": "2021-03-27T10:52:15.949758Z",
     "iopub.status.idle": "2021-03-27T10:52:16.219286Z",
     "shell.execute_reply": "2021-03-27T10:52:16.221091Z",
     "shell.execute_reply.started": "2020-11-26T06:23:03.091583Z"
    },
    "papermill": {
     "duration": 0.294652,
     "end_time": "2021-03-27T10:52:16.221232",
     "exception": false,
     "start_time": "2021-03-27T10:52:15.926580",
     "status": "completed"
    },
    "tags": []
   },
   "outputs": [
    {
     "data": {
      "text/html": [
       "<div>\n",
       "<style scoped>\n",
       "    .dataframe tbody tr th:only-of-type {\n",
       "        vertical-align: middle;\n",
       "    }\n",
       "\n",
       "    .dataframe tbody tr th {\n",
       "        vertical-align: top;\n",
       "    }\n",
       "\n",
       "    .dataframe thead th {\n",
       "        text-align: right;\n",
       "    }\n",
       "</style>\n",
       "<table border=\"1\" class=\"dataframe\">\n",
       "  <thead>\n",
       "    <tr style=\"text-align: right;\">\n",
       "      <th></th>\n",
       "      <th>Commodity term structure portfolio</th>\n",
       "    </tr>\n",
       "  </thead>\n",
       "  <tbody>\n",
       "    <tr>\n",
       "      <th>annualised return</th>\n",
       "      <td>0.066905</td>\n",
       "    </tr>\n",
       "    <tr>\n",
       "      <th>annualised vol</th>\n",
       "      <td>0.113280</td>\n",
       "    </tr>\n",
       "    <tr>\n",
       "      <th>Sharpe ratio</th>\n",
       "      <td>0.590621</td>\n",
       "    </tr>\n",
       "    <tr>\n",
       "      <th>max drawdown</th>\n",
       "      <td>0.335821</td>\n",
       "    </tr>\n",
       "    <tr>\n",
       "      <th>Calmar ratio</th>\n",
       "      <td>0.199229</td>\n",
       "    </tr>\n",
       "    <tr>\n",
       "      <th>skewness</th>\n",
       "      <td>-0.133682</td>\n",
       "    </tr>\n",
       "    <tr>\n",
       "      <th>kurtosis</th>\n",
       "      <td>2.572344</td>\n",
       "    </tr>\n",
       "    <tr>\n",
       "      <th>worst return</th>\n",
       "      <td>-0.073517</td>\n",
       "    </tr>\n",
       "    <tr>\n",
       "      <th>worst 1d return</th>\n",
       "      <td>-0.073517</td>\n",
       "    </tr>\n",
       "    <tr>\n",
       "      <th>worst 1w return</th>\n",
       "      <td>-0.094895</td>\n",
       "    </tr>\n",
       "    <tr>\n",
       "      <th>worst 1m return</th>\n",
       "      <td>-0.169116</td>\n",
       "    </tr>\n",
       "  </tbody>\n",
       "</table>\n",
       "</div>"
      ],
      "text/plain": [
       "                   Commodity term structure portfolio\n",
       "annualised return                            0.066905\n",
       "annualised vol                               0.113280\n",
       "Sharpe ratio                                 0.590621\n",
       "max drawdown                                 0.335821\n",
       "Calmar ratio                                 0.199229\n",
       "skewness                                    -0.133682\n",
       "kurtosis                                     2.572344\n",
       "worst return                                -0.073517\n",
       "worst 1d return                             -0.073517\n",
       "worst 1w return                             -0.094895\n",
       "worst 1m return                             -0.169116"
      ]
     },
     "execution_count": 7,
     "metadata": {},
     "output_type": "execute_result"
    }
   ],
   "source": [
    "portfolio_return.pipe(Performance).summary()"
   ]
  },
  {
   "cell_type": "markdown",
   "id": "amended-trial",
   "metadata": {
    "papermill": {
     "duration": 0.019976,
     "end_time": "2021-03-27T10:52:16.261430",
     "exception": false,
     "start_time": "2021-03-27T10:52:16.241454",
     "status": "completed"
    },
    "tags": []
   },
   "source": [
    "## Recent performance"
   ]
  },
  {
   "cell_type": "code",
   "execution_count": 8,
   "id": "removable-minnesota",
   "metadata": {
    "execution": {
     "iopub.execute_input": "2021-03-27T10:52:16.326455Z",
     "iopub.status.busy": "2021-03-27T10:52:16.325521Z",
     "iopub.status.idle": "2021-03-27T10:52:16.634006Z",
     "shell.execute_reply": "2021-03-27T10:52:16.634452Z",
     "shell.execute_reply.started": "2020-11-26T06:23:03.327788Z"
    },
    "papermill": {
     "duration": 0.353171,
     "end_time": "2021-03-27T10:52:16.634589",
     "exception": false,
     "start_time": "2021-03-27T10:52:16.281418",
     "status": "completed"
    },
    "tags": []
   },
   "outputs": [
    {
     "data": {
      "image/png": "[encoded data removed]",
      "text/plain": [
       "<Figure size 576x324 with 1 Axes>"
      ]
     },
     "metadata": {
      "needs_background": "light"
     },
     "output_type": "display_data"
    }
   ],
   "source": [
    "fig, ax = plt.subplots(figsize=(8, 4.5))\n",
    "portfolio_return.tail(252 * 2).plot(ax=ax, logy=True);\n",
    "ax.set_title('Commodity term structure portfolio')\n",
    "ax.set_ylabel('Cumulative returns');"
   ]
  },
  {
   "cell_type": "markdown",
   "id": "ecological-reservoir",
   "metadata": {
    "papermill": {
     "duration": 0.023863,
     "end_time": "2021-03-27T10:52:16.679774",
     "exception": false,
     "start_time": "2021-03-27T10:52:16.655911",
     "status": "completed"
    },
    "tags": []
   },
   "source": [
    "## Carry\n",
    "\n",
    "The chart below shows the current annualised carry (1y average) across contracts."
   ]
  },
  {
   "cell_type": "code",
   "execution_count": 9,
   "id": "formal-shooting",
   "metadata": {
    "ExecuteTime": {
     "end_time": "2020-09-02T20:44:34.552570Z",
     "start_time": "2020-09-02T20:44:34.362169Z"
    },
    "execution": {
     "iopub.execute_input": "2021-03-27T10:52:16.743657Z",
     "iopub.status.busy": "2021-03-27T10:52:16.743080Z",
     "iopub.status.idle": "2021-03-27T10:52:17.078962Z",
     "shell.execute_reply": "2021-03-27T10:52:17.078432Z",
     "shell.execute_reply.started": "2020-11-26T06:23:03.546101Z"
    },
    "papermill": {
     "duration": 0.377684,
     "end_time": "2021-03-27T10:52:17.079084",
     "exception": false,
     "start_time": "2021-03-27T10:52:16.701400",
     "status": "completed"
    },
    "tags": []
   },
   "outputs": [
    {
     "data": {
      "image/png": "[encoded data removed]",
      "text/plain": [
       "<Figure size 1008x288 with 1 Axes>"
      ]
     },
     "metadata": {
      "needs_background": "light"
     },
     "output_type": "display_data"
    }
   ],
   "source": [
    "fig, ax = plt.subplots(figsize=(14, 4))\n",
    "(engine.pipeline.pipeline[0].carry.rolling(252).mean().asfreq('m', method='pad').tail(1).squeeze().sort_values()\n",
    " .rename(index=all_futures_hollstein2020.squeeze())\n",
    " .plot(kind='bar', ax=ax));\n",
    "ax.yaxis.set_major_formatter(mticker.PercentFormatter(1, decimals=0))\n",
    "ax.axhline(0, color='black', lw=1, ls='--')\n",
    "ax.set_ylabel('Annualised carry');"
   ]
  },
  {
   "cell_type": "markdown",
   "id": "thorough-conspiracy",
   "metadata": {
    "papermill": {
     "duration": 0.026568,
     "end_time": "2021-03-27T10:52:17.127987",
     "exception": false,
     "start_time": "2021-03-27T10:52:17.101419",
     "status": "completed"
    },
    "tags": []
   },
   "source": [
    "Carry for natural gas tends to have extreme values in winter."
   ]
  },
  {
   "cell_type": "code",
   "execution_count": 10,
   "id": "stretch-investing",
   "metadata": {
    "execution": {
     "iopub.execute_input": "2021-03-27T10:52:17.192771Z",
     "iopub.status.busy": "2021-03-27T10:52:17.177899Z",
     "iopub.status.idle": "2021-03-27T10:52:17.405450Z",
     "shell.execute_reply": "2021-03-27T10:52:17.405882Z",
     "shell.execute_reply.started": "2020-11-26T06:23:03.796481Z"
    },
    "papermill": {
     "duration": 0.255861,
     "end_time": "2021-03-27T10:52:17.406012",
     "exception": false,
     "start_time": "2021-03-27T10:52:17.150151",
     "status": "completed"
    },
    "tags": []
   },
   "outputs": [
    {
     "data": {
      "image/png": "[encoded data removed]",
      "text/plain": [
       "<Figure size 1008x288 with 1 Axes>"
      ]
     },
     "metadata": {
      "needs_background": "light"
     },
     "output_type": "display_data"
    }
   ],
   "source": [
    "fig, ax = plt.subplots(figsize=(14, 4))\n",
    "engine.pipeline.pipeline[0].carry.loc['2010':, 'NG'].plot(ax=ax, label='Natural gas');\n",
    "engine.pipeline.pipeline[0].carry.rolling(252).mean().loc['2010':, 'NG'].plot(ax=ax, label='Natural gas (1y average)');\n",
    "ax.yaxis.set_major_formatter(mticker.PercentFormatter(1, decimals=0))\n",
    "ax.axhline(0, color='black', lw=1, ls='--')\n",
    "ax.legend();\n",
    "ax.set_ylabel('Annualised carry');"
   ]
  },
  {
   "cell_type": "markdown",
   "id": "addressed-circular",
   "metadata": {
    "papermill": {
     "duration": 0.023212,
     "end_time": "2021-03-27T10:52:17.453153",
     "exception": false,
     "start_time": "2021-03-27T10:52:17.429941",
     "status": "completed"
    },
    "tags": []
   },
   "source": [
    "## Without carry smoothening\n",
    "\n",
    "The carry smoothening does not seem critical when constructing a portfolio. In fact, the portfolio without carry smoothening had higher volatility and Sharpe ratio, although recently it suffered a larger drawdown."
   ]
  },
  {
   "cell_type": "code",
   "execution_count": 11,
   "id": "affiliated-chase",
   "metadata": {
    "execution": {
     "iopub.execute_input": "2021-03-27T10:52:17.505211Z",
     "iopub.status.busy": "2021-03-27T10:52:17.504680Z",
     "iopub.status.idle": "2021-03-27T11:23:40.471192Z",
     "shell.execute_reply": "2021-03-27T11:23:40.470658Z",
     "shell.execute_reply.started": "2020-11-26T06:23:03.981985Z"
    },
    "papermill": {
     "duration": 1882.994485,
     "end_time": "2021-03-27T11:23:40.471313",
     "exception": false,
     "start_time": "2021-03-27T10:52:17.476828",
     "status": "completed"
    },
    "tags": []
   },
   "outputs": [],
   "source": [
    "engine_wo_sma = BacktestEngine(\n",
    "    strategy=Strategy.DELTA_ONE.value,\n",
    "    instrument=all_futures_hollstein2020.index,\n",
    "    signal=signal.XSCarryFutureFuture(nth_expiry_shift=1, \n",
    "                                      post_process=processing.Pipeline([\n",
    "                                          processing.AsFreq(freq='m', method='pad')\n",
    "                                      ])),\n",
    "    log_level=logging.WARN,\n",
    ")\n",
    "engine_wo_sma.run()"
   ]
  },
  {
   "cell_type": "code",
   "execution_count": 12,
   "id": "found-airfare",
   "metadata": {
    "execution": {
     "iopub.execute_input": "2021-03-27T11:23:40.537873Z",
     "iopub.status.busy": "2021-03-27T11:23:40.535453Z",
     "iopub.status.idle": "2021-03-27T11:25:15.799219Z",
     "shell.execute_reply": "2021-03-27T11:25:15.798667Z",
     "shell.execute_reply.started": "2020-11-26T06:52:52.907985Z"
    },
    "papermill": {
     "duration": 95.304249,
     "end_time": "2021-03-27T11:25:15.799332",
     "exception": false,
     "start_time": "2021-03-27T11:23:40.495083",
     "status": "completed"
    },
    "tags": []
   },
   "outputs": [],
   "source": [
    "portfolio_return_wo_sma = (engine_wo_sma.calculate_equity_curve(calculate_net=False)\n",
    "                           .rename('Commodity term structure portfolio (w/o carry smoothening)'))"
   ]
  },
  {
   "cell_type": "code",
   "execution_count": 13,
   "id": "balanced-comparison",
   "metadata": {
    "execution": {
     "iopub.execute_input": "2021-03-27T11:25:15.871832Z",
     "iopub.status.busy": "2021-03-27T11:25:15.869130Z",
     "iopub.status.idle": "2021-03-27T11:25:16.357540Z",
     "shell.execute_reply": "2021-03-27T11:25:16.357951Z",
     "shell.execute_reply.started": "2020-11-26T06:54:15.387959Z"
    },
    "papermill": {
     "duration": 0.535031,
     "end_time": "2021-03-27T11:25:16.358088",
     "exception": false,
     "start_time": "2021-03-27T11:25:15.823057",
     "status": "completed"
    },
    "tags": []
   },
   "outputs": [
    {
     "data": {
      "image/png": "[encoded data removed]",
      "text/plain": [
       "<Figure size 576x324 with 1 Axes>"
      ]
     },
     "metadata": {
      "needs_background": "light"
     },
     "output_type": "display_data"
    }
   ],
   "source": [
    "fig, ax = plt.subplots(figsize=(8, 4.5))\n",
    "portfolio_return.plot(ax=ax, logy=True, label='with carry smoothening');\n",
    "portfolio_return_wo_sma.plot(ax=ax, logy=True, label='without carry smoothening');\n",
    "ax.set_title('Commodity term structure portfolio')\n",
    "ax.set_ylabel('Cumulative returns')\n",
    "ax.legend();"
   ]
  },
  {
   "cell_type": "code",
   "execution_count": 14,
   "id": "deadly-length",
   "metadata": {
    "execution": {
     "iopub.execute_input": "2021-03-27T11:25:16.413322Z",
     "iopub.status.busy": "2021-03-27T11:25:16.412802Z",
     "iopub.status.idle": "2021-03-27T11:25:16.934196Z",
     "shell.execute_reply": "2021-03-27T11:25:16.934610Z",
     "shell.execute_reply.started": "2020-11-26T06:54:15.780012Z"
    },
    "papermill": {
     "duration": 0.55201,
     "end_time": "2021-03-27T11:25:16.934751",
     "exception": false,
     "start_time": "2021-03-27T11:25:16.382741",
     "status": "completed"
    },
    "tags": []
   },
   "outputs": [
    {
     "data": {
      "text/html": [
       "<div>\n",
       "<style scoped>\n",
       "    .dataframe tbody tr th:only-of-type {\n",
       "        vertical-align: middle;\n",
       "    }\n",
       "\n",
       "    .dataframe tbody tr th {\n",
       "        vertical-align: top;\n",
       "    }\n",
       "\n",
       "    .dataframe thead th {\n",
       "        text-align: right;\n",
       "    }\n",
       "</style>\n",
       "<table border=\"1\" class=\"dataframe\">\n",
       "  <thead>\n",
       "    <tr style=\"text-align: right;\">\n",
       "      <th></th>\n",
       "      <th>Commodity term structure portfolio</th>\n",
       "      <th>Commodity term structure portfolio (w/o carry smoothening)</th>\n",
       "    </tr>\n",
       "  </thead>\n",
       "  <tbody>\n",
       "    <tr>\n",
       "      <th>annualised return</th>\n",
       "      <td>0.066905</td>\n",
       "      <td>0.118274</td>\n",
       "    </tr>\n",
       "    <tr>\n",
       "      <th>annualised vol</th>\n",
       "      <td>0.113280</td>\n",
       "      <td>0.161166</td>\n",
       "    </tr>\n",
       "    <tr>\n",
       "      <th>Sharpe ratio</th>\n",
       "      <td>0.590621</td>\n",
       "      <td>0.733865</td>\n",
       "    </tr>\n",
       "    <tr>\n",
       "      <th>max drawdown</th>\n",
       "      <td>0.335821</td>\n",
       "      <td>0.473483</td>\n",
       "    </tr>\n",
       "    <tr>\n",
       "      <th>Calmar ratio</th>\n",
       "      <td>0.199229</td>\n",
       "      <td>0.249796</td>\n",
       "    </tr>\n",
       "    <tr>\n",
       "      <th>skewness</th>\n",
       "      <td>-0.133682</td>\n",
       "      <td>-0.050778</td>\n",
       "    </tr>\n",
       "    <tr>\n",
       "      <th>kurtosis</th>\n",
       "      <td>2.572344</td>\n",
       "      <td>5.353995</td>\n",
       "    </tr>\n",
       "    <tr>\n",
       "      <th>worst return</th>\n",
       "      <td>-0.073517</td>\n",
       "      <td>-0.140873</td>\n",
       "    </tr>\n",
       "    <tr>\n",
       "      <th>worst 1d return</th>\n",
       "      <td>-0.073517</td>\n",
       "      <td>-0.140873</td>\n",
       "    </tr>\n",
       "    <tr>\n",
       "      <th>worst 1w return</th>\n",
       "      <td>-0.094895</td>\n",
       "      <td>-0.125046</td>\n",
       "    </tr>\n",
       "    <tr>\n",
       "      <th>worst 1m return</th>\n",
       "      <td>-0.169116</td>\n",
       "      <td>-0.207643</td>\n",
       "    </tr>\n",
       "  </tbody>\n",
       "</table>\n",
       "</div>"
      ],
      "text/plain": [
       "                   Commodity term structure portfolio  \\\n",
       "annualised return                            0.066905   \n",
       "annualised vol                               0.113280   \n",
       "Sharpe ratio                                 0.590621   \n",
       "max drawdown                                 0.335821   \n",
       "Calmar ratio                                 0.199229   \n",
       "skewness                                    -0.133682   \n",
       "kurtosis                                     2.572344   \n",
       "worst return                                -0.073517   \n",
       "worst 1d return                             -0.073517   \n",
       "worst 1w return                             -0.094895   \n",
       "worst 1m return                             -0.169116   \n",
       "\n",
       "                   Commodity term structure portfolio (w/o carry smoothening)  \n",
       "annualised return                                           0.118274           \n",
       "annualised vol                                              0.161166           \n",
       "Sharpe ratio                                                0.733865           \n",
       "max drawdown                                                0.473483           \n",
       "Calmar ratio                                                0.249796           \n",
       "skewness                                                   -0.050778           \n",
       "kurtosis                                                    5.353995           \n",
       "worst return                                               -0.140873           \n",
       "worst 1d return                                            -0.140873           \n",
       "worst 1w return                                            -0.125046           \n",
       "worst 1m return                                            -0.207643           "
      ]
     },
     "execution_count": 14,
     "metadata": {},
     "output_type": "execute_result"
    }
   ],
   "source": [
    "pd.concat((\n",
    "    portfolio_return.pipe(Performance).summary(),\n",
    "    portfolio_return_wo_sma.pipe(Performance).summary(),\n",
    "), axis=1)"
   ]
  },
  {
   "cell_type": "markdown",
   "id": "established-procurement",
   "metadata": {
    "papermill": {
     "duration": 0.024963,
     "end_time": "2021-03-27T11:25:16.984656",
     "exception": false,
     "start_time": "2021-03-27T11:25:16.959693",
     "status": "completed"
    },
    "tags": []
   },
   "source": [
    "# Reference\n",
    "- Bakshi, G., Gao, X. and Rossi, A.G., 2019. Understanding the sources of risk underlying the cross section of commodity returns. Management Science, 65(2), pp.619-641.\n",
    "- Hollstein, F., Prokopczuk, M. and Tharann, B., 2020. Anomalies in commodity futures markets: Risk or mispricing?. Available at SSRN.\n",
    "- Koijen, R.S., Moskowitz, T.J., Pedersen, L.H. and Vrugt, E.B., 2018. Carry. Journal of Financial Economics, 127(2), pp.197-225."
   ]
  },
  {
   "cell_type": "code",
   "execution_count": 15,
   "id": "activated-hartford",
   "metadata": {
    "ExecuteTime": {
     "end_time": "2020-08-31T05:52:23.734170Z",
     "start_time": "2020-08-31T05:52:23.731627Z"
    },
    "execution": {
     "iopub.execute_input": "2021-03-27T11:25:17.038045Z",
     "iopub.status.busy": "2021-03-27T11:25:17.037532Z",
     "iopub.status.idle": "2021-03-27T11:25:17.040008Z",
     "shell.execute_reply": "2021-03-27T11:25:17.040445Z",
     "shell.execute_reply.started": "2020-11-26T06:54:16.160058Z"
    },
    "papermill": {
     "duration": 0.030904,
     "end_time": "2021-03-27T11:25:17.040582",
     "exception": false,
     "start_time": "2021-03-27T11:25:17.009678",
     "status": "completed"
    },
    "tags": []
   },
   "outputs": [
    {
     "name": "stdout",
     "output_type": "stream",
     "text": [
      "Updated: 27-Mar-2021 11:25\n"
     ]
    }
   ],
   "source": [
    "print(f'Updated: {datetime.utcnow().strftime(\"%d-%b-%Y %H:%M\")}')"
   ]
  }
 ],
 "metadata": {
  "kernelspec": {
   "display_name": "Python 3",
   "language": "python",
   "name": "python3"
  },
  "language_info": {
   "codemirror_mode": {
    "name": "ipython",
    "version": 3
   },
   "file_extension": ".py",
   "mimetype": "text/x-python",
   "name": "python",
   "nbconvert_exporter": "python",
   "pygments_lexer": "ipython3",
   "version": "3.8.2"
  },
  "papermill": {
   "default_parameters": {},
   "duration": 4002.68351,
   "end_time": "2021-03-27T11:25:19.107064",
   "environment_variables": {},
   "exception": null,
   "input_path": "notebooks/papermill/commodity_term_structure.ipynb",
   "output_path": "notebooks/commodity_term_structure.ipynb",
   "parameters": {},
   "start_time": "2021-03-27T10:18:36.423554",
   "version": "2.3.1"
  },
  "toc": {
   "base_numbering": 1,
   "nav_menu": {},
   "number_sections": true,
   "sideBar": true,
   "skip_h1_title": false,
   "title_cell": "Table of Contents",
   "title_sidebar": "Contents",
   "toc_cell": true,
   "toc_position": {
    "height": "calc(100% - 180px)",
    "left": "10px",
    "top": "150px",
    "width": "165px"
   },
   "toc_section_display": true,
   "toc_window_display": true
  },
  "toc-autonumbering": true,
  "toc-showmarkdowntxt": true,
  "toc-showtags": false
 },
 "nbformat": 4,
 "nbformat_minor": 5
}