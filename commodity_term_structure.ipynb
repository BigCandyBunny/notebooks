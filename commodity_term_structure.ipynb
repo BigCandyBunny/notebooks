{
 "cells": [
  {
   "cell_type": "markdown",
   "id": "bb3174b8",
   "metadata": {
    "papermill": {
     "duration": 0.018945,
     "end_time": "2021-10-19T19:51:30.355972",
     "exception": false,
     "start_time": "2021-10-19T19:51:30.337027",
     "status": "completed"
    },
    "tags": []
   },
   "source": [
    "# Commodity term structure\n",
    "\n",
    "This notebook analyses commodity term structure strategy which utilises commodity futures' roll yield. The strategy takes long positions on contracts with most backwardation and short positions on ones with most contango. This idea is analogous to FX carry trade and hence this strategy can be classified as commodity carry trade."
   ]
  },
  {
   "cell_type": "code",
   "execution_count": 1,
   "id": "cb072e7a",
   "metadata": {
    "ExecuteTime": {
     "end_time": "2020-08-31T19:29:24.852122Z",
     "start_time": "2020-08-31T19:29:24.038266Z"
    },
    "execution": {
     "iopub.execute_input": "2021-10-19T19:51:30.411375Z",
     "iopub.status.busy": "2021-10-19T19:51:30.410760Z",
     "iopub.status.idle": "2021-10-19T19:51:33.467380Z",
     "shell.execute_reply": "2021-10-19T19:51:33.467956Z",
     "shell.execute_reply.started": "2020-11-26T05:49:13.176626Z"
    },
    "papermill": {
     "duration": 3.094062,
     "end_time": "2021-10-19T19:51:33.468223",
     "exception": false,
     "start_time": "2021-10-19T19:51:30.374161",
     "status": "completed"
    },
    "tags": []
   },
   "outputs": [],
   "source": [
    "%matplotlib inline\n",
    "from datetime import datetime\n",
    "import logging\n",
    "import warnings\n",
    "warnings.simplefilter(action='ignore', category=FutureWarning)\n",
    "\n",
    "import pandas as pd\n",
    "import matplotlib.pyplot as plt\n",
    "import matplotlib.ticker as mticker\n",
    "plt.style.use('bmh')\n",
    "\n",
    "from vivace.backtest import signal\n",
    "from vivace.backtest import processing\n",
    "from vivace.backtest.contract import all_futures_hollstein2020\n",
    "from vivace.backtest.engine import BacktestEngine\n",
    "from vivace.backtest.enums import Strategy\n",
    "from vivace.backtest.stats import Performance"
   ]
  },
  {
   "cell_type": "markdown",
   "id": "99a91af0",
   "metadata": {
    "papermill": {
     "duration": 0.017508,
     "end_time": "2021-10-19T19:51:33.506964",
     "exception": false,
     "start_time": "2021-10-19T19:51:33.489456",
     "status": "completed"
    },
    "tags": []
   },
   "source": [
    "# Data\n",
    "\n",
    "26 commodity futures are used as per Hollstein 2020."
   ]
  },
  {
   "cell_type": "code",
   "execution_count": 2,
   "id": "84a0975f",
   "metadata": {
    "ExecuteTime": {
     "end_time": "2020-08-31T19:29:25.399795Z",
     "start_time": "2020-08-31T19:29:25.371862Z"
    },
    "execution": {
     "iopub.execute_input": "2021-10-19T19:51:33.550615Z",
     "iopub.status.busy": "2021-10-19T19:51:33.549753Z",
     "iopub.status.idle": "2021-10-19T19:51:33.557258Z",
     "shell.execute_reply": "2021-10-19T19:51:33.556697Z",
     "shell.execute_reply.started": "2020-11-26T05:49:14.192297Z"
    },
    "papermill": {
     "duration": 0.032936,
     "end_time": "2021-10-19T19:51:33.557372",
     "exception": false,
     "start_time": "2021-10-19T19:51:33.524436",
     "status": "completed"
    },
    "tags": []
   },
   "outputs": [
    {
     "data": {
      "text/html": [
       "<div>\n",
       "<style scoped>\n",
       "    .dataframe tbody tr th:only-of-type {\n",
       "        vertical-align: middle;\n",
       "    }\n",
       "\n",
       "    .dataframe tbody tr th {\n",
       "        vertical-align: top;\n",
       "    }\n",
       "\n",
       "    .dataframe thead th {\n",
       "        text-align: right;\n",
       "    }\n",
       "</style>\n",
       "<table border=\"1\" class=\"dataframe\">\n",
       "  <thead>\n",
       "    <tr style=\"text-align: right;\">\n",
       "      <th></th>\n",
       "      <th>name</th>\n",
       "    </tr>\n",
       "    <tr>\n",
       "      <th>ticker</th>\n",
       "      <th></th>\n",
       "    </tr>\n",
       "  </thead>\n",
       "  <tbody>\n",
       "    <tr>\n",
       "      <th>CO</th>\n",
       "      <td>Brent Crude Oil</td>\n",
       "    </tr>\n",
       "    <tr>\n",
       "      <th>CC</th>\n",
       "      <td>Cocoa</td>\n",
       "    </tr>\n",
       "    <tr>\n",
       "      <th>KC</th>\n",
       "      <td>Coffee</td>\n",
       "    </tr>\n",
       "    <tr>\n",
       "      <th>C</th>\n",
       "      <td>Corn</td>\n",
       "    </tr>\n",
       "    <tr>\n",
       "      <th>CT</th>\n",
       "      <td>Cotton</td>\n",
       "    </tr>\n",
       "    <tr>\n",
       "      <th>FC</th>\n",
       "      <td>Feeder Cattle</td>\n",
       "    </tr>\n",
       "    <tr>\n",
       "      <th>GC</th>\n",
       "      <td>Gold</td>\n",
       "    </tr>\n",
       "    <tr>\n",
       "      <th>HO</th>\n",
       "      <td>Heating Oil</td>\n",
       "    </tr>\n",
       "    <tr>\n",
       "      <th>HG</th>\n",
       "      <td>Copper</td>\n",
       "    </tr>\n",
       "    <tr>\n",
       "      <th>LH</th>\n",
       "      <td>Lean Hog</td>\n",
       "    </tr>\n",
       "    <tr>\n",
       "      <th>LC</th>\n",
       "      <td>Live Cattle</td>\n",
       "    </tr>\n",
       "    <tr>\n",
       "      <th>LB</th>\n",
       "      <td>Lumber</td>\n",
       "    </tr>\n",
       "    <tr>\n",
       "      <th>DA</th>\n",
       "      <td>Milk</td>\n",
       "    </tr>\n",
       "    <tr>\n",
       "      <th>NG</th>\n",
       "      <td>Natural Gas</td>\n",
       "    </tr>\n",
       "    <tr>\n",
       "      <th>ZO</th>\n",
       "      <td>Oats</td>\n",
       "    </tr>\n",
       "    <tr>\n",
       "      <th>OJ</th>\n",
       "      <td>Orange Juice</td>\n",
       "    </tr>\n",
       "    <tr>\n",
       "      <th>PA</th>\n",
       "      <td>Palladium</td>\n",
       "    </tr>\n",
       "    <tr>\n",
       "      <th>PL</th>\n",
       "      <td>Platinum</td>\n",
       "    </tr>\n",
       "    <tr>\n",
       "      <th>RR</th>\n",
       "      <td>Rough Rice</td>\n",
       "    </tr>\n",
       "    <tr>\n",
       "      <th>SI</th>\n",
       "      <td>Silver</td>\n",
       "    </tr>\n",
       "    <tr>\n",
       "      <th>S</th>\n",
       "      <td>Soybean</td>\n",
       "    </tr>\n",
       "    <tr>\n",
       "      <th>SM</th>\n",
       "      <td>Soybean Meal</td>\n",
       "    </tr>\n",
       "    <tr>\n",
       "      <th>BO</th>\n",
       "      <td>Soybean Oil</td>\n",
       "    </tr>\n",
       "    <tr>\n",
       "      <th>SB</th>\n",
       "      <td>Sugar</td>\n",
       "    </tr>\n",
       "    <tr>\n",
       "      <th>W</th>\n",
       "      <td>Wheat</td>\n",
       "    </tr>\n",
       "    <tr>\n",
       "      <th>CL</th>\n",
       "      <td>WTI Crude Oil</td>\n",
       "    </tr>\n",
       "  </tbody>\n",
       "</table>\n",
       "</div>"
      ],
      "text/plain": [
       "                   name\n",
       "ticker                 \n",
       "CO      Brent Crude Oil\n",
       "CC                Cocoa\n",
       "KC               Coffee\n",
       "C                  Corn\n",
       "CT               Cotton\n",
       "FC        Feeder Cattle\n",
       "GC                 Gold\n",
       "HO          Heating Oil\n",
       "HG               Copper\n",
       "LH             Lean Hog\n",
       "LC          Live Cattle\n",
       "LB               Lumber\n",
       "DA                 Milk\n",
       "NG          Natural Gas\n",
       "ZO                 Oats\n",
       "OJ         Orange Juice\n",
       "PA            Palladium\n",
       "PL             Platinum\n",
       "RR           Rough Rice\n",
       "SI               Silver\n",
       "S               Soybean\n",
       "SM         Soybean Meal\n",
       "BO          Soybean Oil\n",
       "SB                Sugar\n",
       "W                 Wheat\n",
       "CL        WTI Crude Oil"
      ]
     },
     "execution_count": 2,
     "metadata": {},
     "output_type": "execute_result"
    }
   ],
   "source": [
    "all_futures_hollstein2020"
   ]
  },
  {
   "cell_type": "code",
   "execution_count": 3,
   "id": "1f3d6a44",
   "metadata": {
    "ExecuteTime": {
     "end_time": "2020-08-31T19:29:26.170389Z",
     "start_time": "2020-08-31T19:29:26.166205Z"
    },
    "execution": {
     "iopub.execute_input": "2021-10-19T19:51:33.601675Z",
     "iopub.status.busy": "2021-10-19T19:51:33.601132Z",
     "iopub.status.idle": "2021-10-19T19:51:33.604031Z",
     "shell.execute_reply": "2021-10-19T19:51:33.603483Z",
     "shell.execute_reply.started": "2020-11-26T05:49:14.201265Z"
    },
    "papermill": {
     "duration": 0.026672,
     "end_time": "2021-10-19T19:51:33.604150",
     "exception": false,
     "start_time": "2021-10-19T19:51:33.577478",
     "status": "completed"
    },
    "tags": []
   },
   "outputs": [
    {
     "data": {
      "text/plain": [
       "(26, 1)"
      ]
     },
     "execution_count": 3,
     "metadata": {},
     "output_type": "execute_result"
    }
   ],
   "source": [
    "all_futures_hollstein2020.shape"
   ]
  },
  {
   "cell_type": "markdown",
   "id": "58c6bcf4",
   "metadata": {
    "papermill": {
     "duration": 0.018214,
     "end_time": "2021-10-19T19:51:33.641300",
     "exception": false,
     "start_time": "2021-10-19T19:51:33.623086",
     "status": "completed"
    },
    "tags": []
   },
   "source": [
    "# Performance"
   ]
  },
  {
   "cell_type": "markdown",
   "id": "d00f05b0",
   "metadata": {
    "papermill": {
     "duration": 0.018225,
     "end_time": "2021-10-19T19:51:33.677928",
     "exception": false,
     "start_time": "2021-10-19T19:51:33.659703",
     "status": "completed"
    },
    "tags": []
   },
   "source": [
    "## Run backtest\n",
    "\n",
    "Bakshi et al., 2017 used second front contracts and treated first front contracts as 'spot'. This is implemented by specifiying `nth_expiry=2` in this backtest. Term structure (i.e., carry) is then calculated by\n",
    "\n",
    "$$\n",
    "Carry_t = {\\rm log} \\left( \\frac{F_{1, t}}{F_{2, t}} \\right) \\cdot annualisationFactor\n",
    "$$\n",
    "\n",
    "where $F_{1, t}$ is the 1st contract price, $F_{2, t}$ is the 2nd contract price and $annualisationFactor$ is the constant to make the log return annual while considering contract listing schedules for each commodity.\n",
    "\n",
    "Hollstein 2020 uses trailing 1 year average of $Carry$ to avoid an influence of seasonality. The `SMA` post processing takes care of it. Signals are observed on a monthly basis and reflected to the portfolio by taking long  (short) positions for top (bottom) 33% contracts.\n",
    "\n",
    "As typically the case in many studies about cross-sectional strategies, these commodity futures are equally weighted. However in practice some are much less liquid compared to major ones like crude oil. Some liquidity constraints need to be added to run more realistic analysis."
   ]
  },
  {
   "cell_type": "code",
   "execution_count": 4,
   "id": "aabcfc1c",
   "metadata": {
    "ExecuteTime": {
     "end_time": "2020-09-02T22:09:35.368377Z",
     "start_time": "2020-09-02T21:34:59.850395Z"
    },
    "execution": {
     "iopub.execute_input": "2021-10-19T19:51:33.720150Z",
     "iopub.status.busy": "2021-10-19T19:51:33.716205Z",
     "iopub.status.idle": "2021-10-19T20:00:39.407874Z",
     "shell.execute_reply": "2021-10-19T20:00:39.407209Z",
     "shell.execute_reply.started": "2020-11-26T05:49:14.219727Z"
    },
    "papermill": {
     "duration": 545.711872,
     "end_time": "2021-10-19T20:00:39.407995",
     "exception": false,
     "start_time": "2021-10-19T19:51:33.696123",
     "status": "completed"
    },
    "tags": []
   },
   "outputs": [],
   "source": [
    "engine = BacktestEngine(\n",
    "    strategy=Strategy.DELTA_ONE.value,\n",
    "    instrument=all_futures_hollstein2020.index,\n",
    "    signal=signal.XSCarryFutureFuture(nth_expiry_shift=1, \n",
    "                                      post_process=processing.Pipeline([\n",
    "                                          processing.SMA(252),\n",
    "                                          processing.AsFreq(freq='m', method='pad')\n",
    "                                      ])),\n",
    "    log_level=logging.WARN,\n",
    ")\n",
    "engine.run()"
   ]
  },
  {
   "cell_type": "code",
   "execution_count": 5,
   "id": "8f12b9f0",
   "metadata": {
    "ExecuteTime": {
     "end_time": "2020-09-02T20:42:14.779932Z",
     "start_time": "2020-09-02T20:40:39.222688Z"
    },
    "execution": {
     "iopub.execute_input": "2021-10-19T20:00:40.742286Z",
     "iopub.status.busy": "2021-10-19T20:00:39.811861Z",
     "iopub.status.idle": "2021-10-19T20:02:17.181457Z",
     "shell.execute_reply": "2021-10-19T20:02:17.180985Z",
     "shell.execute_reply.started": "2020-11-26T06:21:36.185128Z"
    },
    "papermill": {
     "duration": 97.75466,
     "end_time": "2021-10-19T20:02:17.181569",
     "exception": false,
     "start_time": "2021-10-19T20:00:39.426909",
     "status": "completed"
    },
    "tags": []
   },
   "outputs": [],
   "source": [
    "portfolio_return = (engine.calculate_equity_curve(calculate_net=False)\n",
    "                    .rename('Commodity term structure portfolio'))"
   ]
  },
  {
   "cell_type": "code",
   "execution_count": 6,
   "id": "9d967936",
   "metadata": {
    "ExecuteTime": {
     "end_time": "2020-09-02T20:45:59.608937Z",
     "start_time": "2020-09-02T20:45:59.405601Z"
    },
    "execution": {
     "iopub.execute_input": "2021-10-19T20:02:17.241723Z",
     "iopub.status.busy": "2021-10-19T20:02:17.241189Z",
     "iopub.status.idle": "2021-10-19T20:02:17.767655Z",
     "shell.execute_reply": "2021-10-19T20:02:17.767200Z",
     "shell.execute_reply.started": "2020-11-26T06:23:02.670727Z"
    },
    "papermill": {
     "duration": 0.568062,
     "end_time": "2021-10-19T20:02:17.767763",
     "exception": false,
     "start_time": "2021-10-19T20:02:17.199701",
     "status": "completed"
    },
    "tags": []
   },
   "outputs": [
    {
     "data": {
      "image/png": "[encoded data removed]",
      "text/plain": [
       "<Figure size 576x324 with 1 Axes>"
      ]
     },
     "metadata": {
      "needs_background": "light"
     },
     "output_type": "display_data"
    }
   ],
   "source": [
    "fig, ax = plt.subplots(figsize=(8, 4.5))\n",
    "portfolio_return.plot(ax=ax, logy=True);\n",
    "ax.set_title('Commodity term structure portfolio')\n",
    "ax.set_ylabel('Cumulative returns');"
   ]
  },
  {
   "cell_type": "code",
   "execution_count": 7,
   "id": "9757cf17",
   "metadata": {
    "ExecuteTime": {
     "end_time": "2020-08-31T20:06:51.873126Z",
     "start_time": "2020-08-31T20:06:51.866509Z"
    },
    "execution": {
     "iopub.execute_input": "2021-10-19T20:02:17.810357Z",
     "iopub.status.busy": "2021-10-19T20:02:17.809822Z",
     "iopub.status.idle": "2021-10-19T20:02:17.884935Z",
     "shell.execute_reply": "2021-10-19T20:02:17.884411Z",
     "shell.execute_reply.started": "2020-11-26T06:23:03.091583Z"
    },
    "papermill": {
     "duration": 0.098131,
     "end_time": "2021-10-19T20:02:17.885044",
     "exception": false,
     "start_time": "2021-10-19T20:02:17.786913",
     "status": "completed"
    },
    "tags": []
   },
   "outputs": [
    {
     "data": {
      "text/html": [
       "<div>\n",
       "<style scoped>\n",
       "    .dataframe tbody tr th:only-of-type {\n",
       "        vertical-align: middle;\n",
       "    }\n",
       "\n",
       "    .dataframe tbody tr th {\n",
       "        vertical-align: top;\n",
       "    }\n",
       "\n",
       "    .dataframe thead th {\n",
       "        text-align: right;\n",
       "    }\n",
       "</style>\n",
       "<table border=\"1\" class=\"dataframe\">\n",
       "  <thead>\n",
       "    <tr style=\"text-align: right;\">\n",
       "      <th></th>\n",
       "      <th>Commodity term structure portfolio</th>\n",
       "    </tr>\n",
       "  </thead>\n",
       "  <tbody>\n",
       "    <tr>\n",
       "      <th>CAGR</th>\n",
       "      <td>0.058958</td>\n",
       "    </tr>\n",
       "    <tr>\n",
       "      <th>Annualised vol</th>\n",
       "      <td>0.113204</td>\n",
       "    </tr>\n",
       "    <tr>\n",
       "      <th>Sharpe ratio</th>\n",
       "      <td>0.520812</td>\n",
       "    </tr>\n",
       "    <tr>\n",
       "      <th>Max drawdown</th>\n",
       "      <td>0.335821</td>\n",
       "    </tr>\n",
       "    <tr>\n",
       "      <th>Calmar ratio</th>\n",
       "      <td>0.175564</td>\n",
       "    </tr>\n",
       "    <tr>\n",
       "      <th>Skewness</th>\n",
       "      <td>-0.133770</td>\n",
       "    </tr>\n",
       "    <tr>\n",
       "      <th>Kurtosis</th>\n",
       "      <td>2.556163</td>\n",
       "    </tr>\n",
       "    <tr>\n",
       "      <th>Worst return</th>\n",
       "      <td>-0.073517</td>\n",
       "    </tr>\n",
       "    <tr>\n",
       "      <th>Worst 1d return</th>\n",
       "      <td>-0.073517</td>\n",
       "    </tr>\n",
       "    <tr>\n",
       "      <th>Worst 1w return</th>\n",
       "      <td>-0.094895</td>\n",
       "    </tr>\n",
       "    <tr>\n",
       "      <th>Worst 1m return</th>\n",
       "      <td>-0.169116</td>\n",
       "    </tr>\n",
       "  </tbody>\n",
       "</table>\n",
       "</div>"
      ],
      "text/plain": [
       "                 Commodity term structure portfolio\n",
       "CAGR                                       0.058958\n",
       "Annualised vol                             0.113204\n",
       "Sharpe ratio                               0.520812\n",
       "Max drawdown                               0.335821\n",
       "Calmar ratio                               0.175564\n",
       "Skewness                                  -0.133770\n",
       "Kurtosis                                   2.556163\n",
       "Worst return                              -0.073517\n",
       "Worst 1d return                           -0.073517\n",
       "Worst 1w return                           -0.094895\n",
       "Worst 1m return                           -0.169116"
      ]
     },
     "execution_count": 7,
     "metadata": {},
     "output_type": "execute_result"
    }
   ],
   "source": [
    "portfolio_return.pipe(Performance).summary()"
   ]
  },
  {
   "cell_type": "markdown",
   "id": "301c4ad6",
   "metadata": {
    "papermill": {
     "duration": 0.019537,
     "end_time": "2021-10-19T20:02:17.923969",
     "exception": false,
     "start_time": "2021-10-19T20:02:17.904432",
     "status": "completed"
    },
    "tags": []
   },
   "source": [
    "## Recent performance"
   ]
  },
  {
   "cell_type": "code",
   "execution_count": 8,
   "id": "df9cd4ec",
   "metadata": {
    "execution": {
     "iopub.execute_input": "2021-10-19T20:02:17.987223Z",
     "iopub.status.busy": "2021-10-19T20:02:17.964726Z",
     "iopub.status.idle": "2021-10-19T20:02:18.327337Z",
     "shell.execute_reply": "2021-10-19T20:02:18.326818Z",
     "shell.execute_reply.started": "2020-11-26T06:23:03.327788Z"
    },
    "papermill": {
     "duration": 0.384045,
     "end_time": "2021-10-19T20:02:18.327443",
     "exception": false,
     "start_time": "2021-10-19T20:02:17.943398",
     "status": "completed"
    },
    "tags": []
   },
   "outputs": [
    {
     "data": {
      "image/png": "[encoded data removed]",
      "text/plain": [
       "<Figure size 576x324 with 1 Axes>"
      ]
     },
     "metadata": {
      "needs_background": "light"
     },
     "output_type": "display_data"
    }
   ],
   "source": [
    "fig, ax = plt.subplots(figsize=(8, 4.5))\n",
    "portfolio_return.tail(252 * 2).plot(ax=ax, logy=True);\n",
    "ax.set_title('Commodity term structure portfolio')\n",
    "ax.set_ylabel('Cumulative returns');"
   ]
  },
  {
   "cell_type": "markdown",
   "id": "78103637",
   "metadata": {
    "papermill": {
     "duration": 0.020648,
     "end_time": "2021-10-19T20:02:18.368945",
     "exception": false,
     "start_time": "2021-10-19T20:02:18.348297",
     "status": "completed"
    },
    "tags": []
   },
   "source": [
    "## Carry\n",
    "\n",
    "The chart below shows the current annualised carry (1y average) across contracts."
   ]
  },
  {
   "cell_type": "code",
   "execution_count": 9,
   "id": "3fcf1e65",
   "metadata": {
    "ExecuteTime": {
     "end_time": "2020-09-02T20:44:34.552570Z",
     "start_time": "2020-09-02T20:44:34.362169Z"
    },
    "execution": {
     "iopub.execute_input": "2021-10-19T20:02:18.434127Z",
     "iopub.status.busy": "2021-10-19T20:02:18.429662Z",
     "iopub.status.idle": "2021-10-19T20:02:18.877066Z",
     "shell.execute_reply": "2021-10-19T20:02:18.877480Z",
     "shell.execute_reply.started": "2020-11-26T06:23:03.546101Z"
    },
    "papermill": {
     "duration": 0.488267,
     "end_time": "2021-10-19T20:02:18.877618",
     "exception": false,
     "start_time": "2021-10-19T20:02:18.389351",
     "status": "completed"
    },
    "tags": []
   },
   "outputs": [
    {
     "data": {
      "image/png": "[encoded data removed]",
      "text/plain": [
       "<Figure size 1008x288 with 1 Axes>"
      ]
     },
     "metadata": {
      "needs_background": "light"
     },
     "output_type": "display_data"
    }
   ],
   "source": [
    "fig, ax = plt.subplots(figsize=(14, 4))\n",
    "(engine.pipeline.pipeline[0].carry.rolling(252).mean().asfreq('m', method='pad').tail(1).squeeze().sort_values()\n",
    " .rename(index=all_futures_hollstein2020.squeeze())\n",
    " .plot(kind='bar', ax=ax));\n",
    "ax.yaxis.set_major_formatter(mticker.PercentFormatter(1, decimals=0))\n",
    "ax.axhline(0, color='black', lw=1, ls='--')\n",
    "ax.set_ylabel('Annualised carry');"
   ]
  },
  {
   "cell_type": "markdown",
   "id": "08003ab3",
   "metadata": {
    "papermill": {
     "duration": 0.021586,
     "end_time": "2021-10-19T20:02:18.920994",
     "exception": false,
     "start_time": "2021-10-19T20:02:18.899408",
     "status": "completed"
    },
    "tags": []
   },
   "source": [
    "Carry for natural gas tends to have extreme values in winter."
   ]
  },
  {
   "cell_type": "code",
   "execution_count": 10,
   "id": "4eb40662",
   "metadata": {
    "execution": {
     "iopub.execute_input": "2021-10-19T20:02:18.990755Z",
     "iopub.status.busy": "2021-10-19T20:02:18.985519Z",
     "iopub.status.idle": "2021-10-19T20:02:19.260777Z",
     "shell.execute_reply": "2021-10-19T20:02:19.261223Z",
     "shell.execute_reply.started": "2020-11-26T06:23:03.796481Z"
    },
    "papermill": {
     "duration": 0.318425,
     "end_time": "2021-10-19T20:02:19.261358",
     "exception": false,
     "start_time": "2021-10-19T20:02:18.942933",
     "status": "completed"
    },
    "tags": []
   },
   "outputs": [
    {
     "data": {
      "image/png": "[encoded data removed]",
      "text/plain": [
       "<Figure size 1008x288 with 1 Axes>"
      ]
     },
     "metadata": {
      "needs_background": "light"
     },
     "output_type": "display_data"
    }
   ],
   "source": [
    "fig, ax = plt.subplots(figsize=(14, 4))\n",
    "engine.pipeline.pipeline[0].carry.loc['2010':, 'NG'].plot(ax=ax, label='Natural gas');\n",
    "engine.pipeline.pipeline[0].carry.rolling(252).mean().loc['2010':, 'NG'].plot(ax=ax, label='Natural gas (1y average)');\n",
    "ax.yaxis.set_major_formatter(mticker.PercentFormatter(1, decimals=0))\n",
    "ax.axhline(0, color='black', lw=1, ls='--')\n",
    "ax.legend();\n",
    "ax.set_ylabel('Annualised carry');"
   ]
  },
  {
   "cell_type": "markdown",
   "id": "6e033f2d",
   "metadata": {
    "papermill": {
     "duration": 0.02287,
     "end_time": "2021-10-19T20:02:19.307229",
     "exception": false,
     "start_time": "2021-10-19T20:02:19.284359",
     "status": "completed"
    },
    "tags": []
   },
   "source": [
    "## Without carry smoothening\n",
    "\n",
    "The carry smoothening does not seem critical when constructing a portfolio. In fact, the portfolio without carry smoothening had higher volatility and Sharpe ratio, although recently it suffered a larger drawdown."
   ]
  },
  {
   "cell_type": "code",
   "execution_count": 11,
   "id": "2d9b5408",
   "metadata": {
    "execution": {
     "iopub.execute_input": "2021-10-19T20:02:19.358768Z",
     "iopub.status.busy": "2021-10-19T20:02:19.358238Z",
     "iopub.status.idle": "2021-10-19T20:11:28.099773Z",
     "shell.execute_reply": "2021-10-19T20:11:28.100472Z",
     "shell.execute_reply.started": "2020-11-26T06:23:03.981985Z"
    },
    "papermill": {
     "duration": 548.770522,
     "end_time": "2021-10-19T20:11:28.100673",
     "exception": false,
     "start_time": "2021-10-19T20:02:19.330151",
     "status": "completed"
    },
    "tags": []
   },
   "outputs": [],
   "source": [
    "engine_wo_sma = BacktestEngine(\n",
    "    strategy=Strategy.DELTA_ONE.value,\n",
    "    instrument=all_futures_hollstein2020.index,\n",
    "    signal=signal.XSCarryFutureFuture(nth_expiry_shift=1, \n",
    "                                      post_process=processing.Pipeline([\n",
    "                                          processing.AsFreq(freq='m', method='pad')\n",
    "                                      ])),\n",
    "    log_level=logging.WARN,\n",
    ")\n",
    "engine_wo_sma.run()"
   ]
  },
  {
   "cell_type": "code",
   "execution_count": 12,
   "id": "5904bd56",
   "metadata": {
    "execution": {
     "iopub.execute_input": "2021-10-19T20:11:28.224906Z",
     "iopub.status.busy": "2021-10-19T20:11:28.221687Z",
     "iopub.status.idle": "2021-10-19T20:13:05.282962Z",
     "shell.execute_reply": "2021-10-19T20:13:05.283393Z",
     "shell.execute_reply.started": "2020-11-26T06:52:52.907985Z"
    },
    "papermill": {
     "duration": 97.152362,
     "end_time": "2021-10-19T20:13:05.283538",
     "exception": false,
     "start_time": "2021-10-19T20:11:28.131176",
     "status": "completed"
    },
    "tags": []
   },
   "outputs": [],
   "source": [
    "portfolio_return_wo_sma = (engine_wo_sma.calculate_equity_curve(calculate_net=False)\n",
    "                           .rename('Commodity term structure portfolio (w/o carry smoothening)'))"
   ]
  },
  {
   "cell_type": "code",
   "execution_count": 13,
   "id": "b795bfca",
   "metadata": {
    "execution": {
     "iopub.execute_input": "2021-10-19T20:13:05.355881Z",
     "iopub.status.busy": "2021-10-19T20:13:05.353162Z",
     "iopub.status.idle": "2021-10-19T20:13:06.009886Z",
     "shell.execute_reply": "2021-10-19T20:13:06.010512Z",
     "shell.execute_reply.started": "2020-11-26T06:54:15.387959Z"
    },
    "papermill": {
     "duration": 0.703867,
     "end_time": "2021-10-19T20:13:06.010692",
     "exception": false,
     "start_time": "2021-10-19T20:13:05.306825",
     "status": "completed"
    },
    "tags": []
   },
   "outputs": [
    {
     "data": {
      "image/png": "[encoded data removed]",
      "text/plain": [
       "<Figure size 576x324 with 1 Axes>"
      ]
     },
     "metadata": {
      "needs_background": "light"
     },
     "output_type": "display_data"
    }
   ],
   "source": [
    "fig, ax = plt.subplots(figsize=(8, 4.5))\n",
    "portfolio_return.plot(ax=ax, logy=True, label='with carry smoothening');\n",
    "portfolio_return_wo_sma.plot(ax=ax, logy=True, label='without carry smoothening');\n",
    "ax.set_title('Commodity term structure portfolio')\n",
    "ax.set_ylabel('Cumulative returns')\n",
    "ax.legend();"
   ]
  },
  {
   "cell_type": "code",
   "execution_count": 14,
   "id": "41ad3448",
   "metadata": {
    "execution": {
     "iopub.execute_input": "2021-10-19T20:13:06.080668Z",
     "iopub.status.busy": "2021-10-19T20:13:06.080130Z",
     "iopub.status.idle": "2021-10-19T20:13:06.227906Z",
     "shell.execute_reply": "2021-10-19T20:13:06.228313Z",
     "shell.execute_reply.started": "2020-11-26T06:54:15.780012Z"
    },
    "papermill": {
     "duration": 0.182519,
     "end_time": "2021-10-19T20:13:06.228450",
     "exception": false,
     "start_time": "2021-10-19T20:13:06.045931",
     "status": "completed"
    },
    "tags": []
   },
   "outputs": [
    {
     "data": {
      "text/html": [
       "<div>\n",
       "<style scoped>\n",
       "    .dataframe tbody tr th:only-of-type {\n",
       "        vertical-align: middle;\n",
       "    }\n",
       "\n",
       "    .dataframe tbody tr th {\n",
       "        vertical-align: top;\n",
       "    }\n",
       "\n",
       "    .dataframe thead th {\n",
       "        text-align: right;\n",
       "    }\n",
       "</style>\n",
       "<table border=\"1\" class=\"dataframe\">\n",
       "  <thead>\n",
       "    <tr style=\"text-align: right;\">\n",
       "      <th></th>\n",
       "      <th>Commodity term structure portfolio</th>\n",
       "      <th>Commodity term structure portfolio (w/o carry smoothening)</th>\n",
       "    </tr>\n",
       "  </thead>\n",
       "  <tbody>\n",
       "    <tr>\n",
       "      <th>CAGR</th>\n",
       "      <td>0.058958</td>\n",
       "      <td>0.108040</td>\n",
       "    </tr>\n",
       "    <tr>\n",
       "      <th>Annualised vol</th>\n",
       "      <td>0.113204</td>\n",
       "      <td>0.161283</td>\n",
       "    </tr>\n",
       "    <tr>\n",
       "      <th>Sharpe ratio</th>\n",
       "      <td>0.520812</td>\n",
       "      <td>0.669878</td>\n",
       "    </tr>\n",
       "    <tr>\n",
       "      <th>Max drawdown</th>\n",
       "      <td>0.335821</td>\n",
       "      <td>0.473483</td>\n",
       "    </tr>\n",
       "    <tr>\n",
       "      <th>Calmar ratio</th>\n",
       "      <td>0.175564</td>\n",
       "      <td>0.228182</td>\n",
       "    </tr>\n",
       "    <tr>\n",
       "      <th>Skewness</th>\n",
       "      <td>-0.133770</td>\n",
       "      <td>-0.053195</td>\n",
       "    </tr>\n",
       "    <tr>\n",
       "      <th>Kurtosis</th>\n",
       "      <td>2.556163</td>\n",
       "      <td>5.296844</td>\n",
       "    </tr>\n",
       "    <tr>\n",
       "      <th>Worst return</th>\n",
       "      <td>-0.073517</td>\n",
       "      <td>-0.140873</td>\n",
       "    </tr>\n",
       "    <tr>\n",
       "      <th>Worst 1d return</th>\n",
       "      <td>-0.073517</td>\n",
       "      <td>-0.140873</td>\n",
       "    </tr>\n",
       "    <tr>\n",
       "      <th>Worst 1w return</th>\n",
       "      <td>-0.094895</td>\n",
       "      <td>-0.125046</td>\n",
       "    </tr>\n",
       "    <tr>\n",
       "      <th>Worst 1m return</th>\n",
       "      <td>-0.169116</td>\n",
       "      <td>-0.207643</td>\n",
       "    </tr>\n",
       "  </tbody>\n",
       "</table>\n",
       "</div>"
      ],
      "text/plain": [
       "                 Commodity term structure portfolio  \\\n",
       "CAGR                                       0.058958   \n",
       "Annualised vol                             0.113204   \n",
       "Sharpe ratio                               0.520812   \n",
       "Max drawdown                               0.335821   \n",
       "Calmar ratio                               0.175564   \n",
       "Skewness                                  -0.133770   \n",
       "Kurtosis                                   2.556163   \n",
       "Worst return                              -0.073517   \n",
       "Worst 1d return                           -0.073517   \n",
       "Worst 1w return                           -0.094895   \n",
       "Worst 1m return                           -0.169116   \n",
       "\n",
       "                 Commodity term structure portfolio (w/o carry smoothening)  \n",
       "CAGR                                                      0.108040           \n",
       "Annualised vol                                            0.161283           \n",
       "Sharpe ratio                                              0.669878           \n",
       "Max drawdown                                              0.473483           \n",
       "Calmar ratio                                              0.228182           \n",
       "Skewness                                                 -0.053195           \n",
       "Kurtosis                                                  5.296844           \n",
       "Worst return                                             -0.140873           \n",
       "Worst 1d return                                          -0.140873           \n",
       "Worst 1w return                                          -0.125046           \n",
       "Worst 1m return                                          -0.207643           "
      ]
     },
     "execution_count": 14,
     "metadata": {},
     "output_type": "execute_result"
    }
   ],
   "source": [
    "pd.concat((\n",
    "    portfolio_return.pipe(Performance).summary(),\n",
    "    portfolio_return_wo_sma.pipe(Performance).summary(),\n",
    "), axis=1)"
   ]
  },
  {
   "cell_type": "markdown",
   "id": "ea1c154d",
   "metadata": {
    "papermill": {
     "duration": 0.02531,
     "end_time": "2021-10-19T20:13:06.278765",
     "exception": false,
     "start_time": "2021-10-19T20:13:06.253455",
     "status": "completed"
    },
    "tags": []
   },
   "source": [
    "# Reference\n",
    "- Bakshi, G., Gao, X. and Rossi, A.G., 2019. Understanding the sources of risk underlying the cross section of commodity returns. Management Science, 65(2), pp.619-641.\n",
    "- Hollstein, F., Prokopczuk, M. and Tharann, B., 2020. Anomalies in commodity futures markets: Risk or mispricing?. Available at SSRN.\n",
    "- Koijen, R.S., Moskowitz, T.J., Pedersen, L.H. and Vrugt, E.B., 2018. Carry. Journal of Financial Economics, 127(2), pp.197-225."
   ]
  },
  {
   "cell_type": "code",
   "execution_count": 15,
   "id": "3071e70b",
   "metadata": {
    "ExecuteTime": {
     "end_time": "2020-08-31T05:52:23.734170Z",
     "start_time": "2020-08-31T05:52:23.731627Z"
    },
    "execution": {
     "iopub.execute_input": "2021-10-19T20:13:06.332468Z",
     "iopub.status.busy": "2021-10-19T20:13:06.331940Z",
     "iopub.status.idle": "2021-10-19T20:13:06.334568Z",
     "shell.execute_reply": "2021-10-19T20:13:06.335001Z",
     "shell.execute_reply.started": "2020-11-26T06:54:16.160058Z"
    },
    "papermill": {
     "duration": 0.031348,
     "end_time": "2021-10-19T20:13:06.335134",
     "exception": false,
     "start_time": "2021-10-19T20:13:06.303786",
     "status": "completed"
    },
    "tags": []
   },
   "outputs": [
    {
     "name": "stdout",
     "output_type": "stream",
     "text": [
      "Updated: 19-Oct-2021 20:13\n"
     ]
    }
   ],
   "source": [
    "print(f'Updated: {datetime.utcnow().strftime(\"%d-%b-%Y %H:%M\")}')"
   ]
  }
 ],
 "metadata": {
  "kernelspec": {
   "display_name": "Python 3",
   "language": "python",
   "name": "python3"
  },
  "language_info": {
   "codemirror_mode": {
    "name": "ipython",
    "version": 3
   },
   "file_extension": ".py",
   "mimetype": "text/x-python",
   "name": "python",
   "nbconvert_exporter": "python",
   "pygments_lexer": "ipython3",
   "version": "3.9.6"
  },
  "papermill": {
   "default_parameters": {},
   "duration": 1299.688473,
   "end_time": "2021-10-19T20:13:08.474054",
   "environment_variables": {},
   "exception": null,
   "input_path": "notebooks/papermill/commodity_term_structure.ipynb",
   "output_path": "notebooks/commodity_term_structure.ipynb",
   "parameters": {},
   "start_time": "2021-10-19T19:51:28.785581",
   "version": "2.3.3"
  },
  "toc": {
   "base_numbering": 1,
   "nav_menu": {},
   "number_sections": true,
   "sideBar": true,
   "skip_h1_title": false,
   "title_cell": "Table of Contents",
   "title_sidebar": "Contents",
   "toc_cell": true,
   "toc_position": {
    "height": "calc(100% - 180px)",
    "left": "10px",
    "top": "150px",
    "width": "165px"
   },
   "toc_section_display": true,
   "toc_window_display": true
  },
  "toc-autonumbering": true,
  "toc-showmarkdowntxt": true,
  "toc-showtags": false
 },
 "nbformat": 4,
 "nbformat_minor": 5
}