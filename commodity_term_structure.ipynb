{
 "cells": [
  {
   "cell_type": "markdown",
   "id": "cbcf5b44",
   "metadata": {
    "papermill": {
     "duration": 0.018873,
     "end_time": "2021-12-10T06:01:05.803574",
     "exception": false,
     "start_time": "2021-12-10T06:01:05.784701",
     "status": "completed"
    },
    "tags": []
   },
   "source": [
    "# Commodity term structure\n",
    "\n",
    "This notebook analyses commodity term structure strategy which utilises commodity futures' roll yield. The strategy takes long positions on contracts with most backwardation and short positions on ones with most contango. This idea is analogous to FX carry trade and hence this strategy can be classified as commodity carry trade."
   ]
  },
  {
   "cell_type": "code",
   "execution_count": 1,
   "id": "a64d4246",
   "metadata": {
    "ExecuteTime": {
     "end_time": "2020-08-31T19:29:24.852122Z",
     "start_time": "2020-08-31T19:29:24.038266Z"
    },
    "execution": {
     "iopub.execute_input": "2021-12-10T06:01:05.857768Z",
     "iopub.status.busy": "2021-12-10T06:01:05.848188Z",
     "iopub.status.idle": "2021-12-10T06:01:09.092460Z",
     "shell.execute_reply": "2021-12-10T06:01:09.091843Z",
     "shell.execute_reply.started": "2020-11-26T05:49:13.176626Z"
    },
    "papermill": {
     "duration": 3.27087,
     "end_time": "2021-12-10T06:01:09.092602",
     "exception": false,
     "start_time": "2021-12-10T06:01:05.821732",
     "status": "completed"
    },
    "tags": []
   },
   "outputs": [],
   "source": [
    "%matplotlib inline\n",
    "from datetime import datetime\n",
    "import logging\n",
    "import warnings\n",
    "warnings.simplefilter(action='ignore', category=FutureWarning)\n",
    "\n",
    "import pandas as pd\n",
    "import matplotlib.pyplot as plt\n",
    "import matplotlib.ticker as mticker\n",
    "plt.style.use('bmh')\n",
    "\n",
    "from vivace.backtest import signal\n",
    "from vivace.backtest import processing\n",
    "from vivace.backtest.contract import all_futures_hollstein2020\n",
    "from vivace.backtest.engine import BacktestEngine\n",
    "from vivace.backtest.enums import Strategy\n",
    "from vivace.backtest.stats import Performance"
   ]
  },
  {
   "cell_type": "markdown",
   "id": "90f3db88",
   "metadata": {
    "papermill": {
     "duration": 0.017914,
     "end_time": "2021-12-10T06:01:09.128998",
     "exception": false,
     "start_time": "2021-12-10T06:01:09.111084",
     "status": "completed"
    },
    "tags": []
   },
   "source": [
    "# Data\n",
    "\n",
    "26 commodity futures are used as per Hollstein 2020."
   ]
  },
  {
   "cell_type": "code",
   "execution_count": 2,
   "id": "3c190909",
   "metadata": {
    "ExecuteTime": {
     "end_time": "2020-08-31T19:29:25.399795Z",
     "start_time": "2020-08-31T19:29:25.371862Z"
    },
    "execution": {
     "iopub.execute_input": "2021-12-10T06:01:09.172583Z",
     "iopub.status.busy": "2021-12-10T06:01:09.172005Z",
     "iopub.status.idle": "2021-12-10T06:01:09.180022Z",
     "shell.execute_reply": "2021-12-10T06:01:09.179470Z",
     "shell.execute_reply.started": "2020-11-26T05:49:14.192297Z"
    },
    "papermill": {
     "duration": 0.033376,
     "end_time": "2021-12-10T06:01:09.180140",
     "exception": false,
     "start_time": "2021-12-10T06:01:09.146764",
     "status": "completed"
    },
    "tags": []
   },
   "outputs": [
    {
     "data": {
      "text/html": [
       "<div>\n",
       "<style scoped>\n",
       "    .dataframe tbody tr th:only-of-type {\n",
       "        vertical-align: middle;\n",
       "    }\n",
       "\n",
       "    .dataframe tbody tr th {\n",
       "        vertical-align: top;\n",
       "    }\n",
       "\n",
       "    .dataframe thead th {\n",
       "        text-align: right;\n",
       "    }\n",
       "</style>\n",
       "<table border=\"1\" class=\"dataframe\">\n",
       "  <thead>\n",
       "    <tr style=\"text-align: right;\">\n",
       "      <th></th>\n",
       "      <th>name</th>\n",
       "    </tr>\n",
       "    <tr>\n",
       "      <th>ticker</th>\n",
       "      <th></th>\n",
       "    </tr>\n",
       "  </thead>\n",
       "  <tbody>\n",
       "    <tr>\n",
       "      <th>CO</th>\n",
       "      <td>Brent Crude Oil</td>\n",
       "    </tr>\n",
       "    <tr>\n",
       "      <th>CC</th>\n",
       "      <td>Cocoa</td>\n",
       "    </tr>\n",
       "    <tr>\n",
       "      <th>KC</th>\n",
       "      <td>Coffee</td>\n",
       "    </tr>\n",
       "    <tr>\n",
       "      <th>C</th>\n",
       "      <td>Corn</td>\n",
       "    </tr>\n",
       "    <tr>\n",
       "      <th>CT</th>\n",
       "      <td>Cotton</td>\n",
       "    </tr>\n",
       "    <tr>\n",
       "      <th>FC</th>\n",
       "      <td>Feeder Cattle</td>\n",
       "    </tr>\n",
       "    <tr>\n",
       "      <th>GC</th>\n",
       "      <td>Gold</td>\n",
       "    </tr>\n",
       "    <tr>\n",
       "      <th>HO</th>\n",
       "      <td>Heating Oil</td>\n",
       "    </tr>\n",
       "    <tr>\n",
       "      <th>HG</th>\n",
       "      <td>Copper</td>\n",
       "    </tr>\n",
       "    <tr>\n",
       "      <th>LH</th>\n",
       "      <td>Lean Hog</td>\n",
       "    </tr>\n",
       "    <tr>\n",
       "      <th>LC</th>\n",
       "      <td>Live Cattle</td>\n",
       "    </tr>\n",
       "    <tr>\n",
       "      <th>LB</th>\n",
       "      <td>Lumber</td>\n",
       "    </tr>\n",
       "    <tr>\n",
       "      <th>DA</th>\n",
       "      <td>Milk</td>\n",
       "    </tr>\n",
       "    <tr>\n",
       "      <th>NG</th>\n",
       "      <td>Natural Gas</td>\n",
       "    </tr>\n",
       "    <tr>\n",
       "      <th>ZO</th>\n",
       "      <td>Oats</td>\n",
       "    </tr>\n",
       "    <tr>\n",
       "      <th>OJ</th>\n",
       "      <td>Orange Juice</td>\n",
       "    </tr>\n",
       "    <tr>\n",
       "      <th>PA</th>\n",
       "      <td>Palladium</td>\n",
       "    </tr>\n",
       "    <tr>\n",
       "      <th>PL</th>\n",
       "      <td>Platinum</td>\n",
       "    </tr>\n",
       "    <tr>\n",
       "      <th>RR</th>\n",
       "      <td>Rough Rice</td>\n",
       "    </tr>\n",
       "    <tr>\n",
       "      <th>SI</th>\n",
       "      <td>Silver</td>\n",
       "    </tr>\n",
       "    <tr>\n",
       "      <th>S</th>\n",
       "      <td>Soybean</td>\n",
       "    </tr>\n",
       "    <tr>\n",
       "      <th>SM</th>\n",
       "      <td>Soybean Meal</td>\n",
       "    </tr>\n",
       "    <tr>\n",
       "      <th>BO</th>\n",
       "      <td>Soybean Oil</td>\n",
       "    </tr>\n",
       "    <tr>\n",
       "      <th>SB</th>\n",
       "      <td>Sugar</td>\n",
       "    </tr>\n",
       "    <tr>\n",
       "      <th>W</th>\n",
       "      <td>Wheat</td>\n",
       "    </tr>\n",
       "    <tr>\n",
       "      <th>CL</th>\n",
       "      <td>WTI Crude Oil</td>\n",
       "    </tr>\n",
       "  </tbody>\n",
       "</table>\n",
       "</div>"
      ],
      "text/plain": [
       "                   name\n",
       "ticker                 \n",
       "CO      Brent Crude Oil\n",
       "CC                Cocoa\n",
       "KC               Coffee\n",
       "C                  Corn\n",
       "CT               Cotton\n",
       "FC        Feeder Cattle\n",
       "GC                 Gold\n",
       "HO          Heating Oil\n",
       "HG               Copper\n",
       "LH             Lean Hog\n",
       "LC          Live Cattle\n",
       "LB               Lumber\n",
       "DA                 Milk\n",
       "NG          Natural Gas\n",
       "ZO                 Oats\n",
       "OJ         Orange Juice\n",
       "PA            Palladium\n",
       "PL             Platinum\n",
       "RR           Rough Rice\n",
       "SI               Silver\n",
       "S               Soybean\n",
       "SM         Soybean Meal\n",
       "BO          Soybean Oil\n",
       "SB                Sugar\n",
       "W                 Wheat\n",
       "CL        WTI Crude Oil"
      ]
     },
     "execution_count": 2,
     "metadata": {},
     "output_type": "execute_result"
    }
   ],
   "source": [
    "all_futures_hollstein2020"
   ]
  },
  {
   "cell_type": "code",
   "execution_count": 3,
   "id": "c8c28e9e",
   "metadata": {
    "ExecuteTime": {
     "end_time": "2020-08-31T19:29:26.170389Z",
     "start_time": "2020-08-31T19:29:26.166205Z"
    },
    "execution": {
     "iopub.execute_input": "2021-12-10T06:01:09.222164Z",
     "iopub.status.busy": "2021-12-10T06:01:09.221597Z",
     "iopub.status.idle": "2021-12-10T06:01:09.224472Z",
     "shell.execute_reply": "2021-12-10T06:01:09.223767Z",
     "shell.execute_reply.started": "2020-11-26T05:49:14.201265Z"
    },
    "papermill": {
     "duration": 0.025693,
     "end_time": "2021-12-10T06:01:09.224644",
     "exception": false,
     "start_time": "2021-12-10T06:01:09.198951",
     "status": "completed"
    },
    "tags": []
   },
   "outputs": [
    {
     "data": {
      "text/plain": [
       "(26, 1)"
      ]
     },
     "execution_count": 3,
     "metadata": {},
     "output_type": "execute_result"
    }
   ],
   "source": [
    "all_futures_hollstein2020.shape"
   ]
  },
  {
   "cell_type": "markdown",
   "id": "dc999576",
   "metadata": {
    "papermill": {
     "duration": 0.018901,
     "end_time": "2021-12-10T06:01:09.264800",
     "exception": false,
     "start_time": "2021-12-10T06:01:09.245899",
     "status": "completed"
    },
    "tags": []
   },
   "source": [
    "# Performance"
   ]
  },
  {
   "cell_type": "markdown",
   "id": "bcd86e0a",
   "metadata": {
    "papermill": {
     "duration": 0.018857,
     "end_time": "2021-12-10T06:01:09.302604",
     "exception": false,
     "start_time": "2021-12-10T06:01:09.283747",
     "status": "completed"
    },
    "tags": []
   },
   "source": [
    "## Run backtest\n",
    "\n",
    "Bakshi et al., 2017 used second front contracts and treated first front contracts as 'spot'. This is implemented by specifiying `nth_expiry=2` in this backtest. Term structure (i.e., carry) is then calculated by\n",
    "\n",
    "$$\n",
    "Carry_t = {\\rm log} \\left( \\frac{F_{1, t}}{F_{2, t}} \\right) \\cdot annualisationFactor\n",
    "$$\n",
    "\n",
    "where $F_{1, t}$ is the 1st contract price, $F_{2, t}$ is the 2nd contract price and $annualisationFactor$ is the constant to make the log return annual while considering contract listing schedules for each commodity.\n",
    "\n",
    "Hollstein 2020 uses trailing 1 year average of $Carry$ to avoid an influence of seasonality. The `SMA` post processing takes care of it. Signals are observed on a monthly basis and reflected to the portfolio by taking long  (short) positions for top (bottom) 33% contracts.\n",
    "\n",
    "As typically the case in many studies about cross-sectional strategies, these commodity futures are equally weighted. However in practice some are much less liquid compared to major ones like crude oil. Some liquidity constraints need to be added to run more realistic analysis."
   ]
  },
  {
   "cell_type": "code",
   "execution_count": 4,
   "id": "0a8d0a53",
   "metadata": {
    "ExecuteTime": {
     "end_time": "2020-09-02T22:09:35.368377Z",
     "start_time": "2020-09-02T21:34:59.850395Z"
    },
    "execution": {
     "iopub.execute_input": "2021-12-10T06:01:09.351539Z",
     "iopub.status.busy": "2021-12-10T06:01:09.350949Z",
     "iopub.status.idle": "2021-12-10T06:13:26.375954Z",
     "shell.execute_reply": "2021-12-10T06:13:26.375186Z",
     "shell.execute_reply.started": "2020-11-26T05:49:14.219727Z"
    },
    "papermill": {
     "duration": 737.051525,
     "end_time": "2021-12-10T06:13:26.376143",
     "exception": false,
     "start_time": "2021-12-10T06:01:09.324618",
     "status": "completed"
    },
    "tags": []
   },
   "outputs": [],
   "source": [
    "engine = BacktestEngine(\n",
    "    strategy=Strategy.DELTA_ONE.value,\n",
    "    instrument=all_futures_hollstein2020.index,\n",
    "    signal=signal.XSCarryFutureFuture(nth_expiry_shift=1, \n",
    "                                      post_process=processing.Pipeline([\n",
    "                                          processing.SMA(252),\n",
    "                                          processing.AsFreq(freq='m', method='pad')\n",
    "                                      ])),\n",
    "    log_level=logging.WARN,\n",
    ")\n",
    "engine.run()"
   ]
  },
  {
   "cell_type": "code",
   "execution_count": 5,
   "id": "e68b9e7e",
   "metadata": {
    "ExecuteTime": {
     "end_time": "2020-09-02T20:42:14.779932Z",
     "start_time": "2020-09-02T20:40:39.222688Z"
    },
    "execution": {
     "iopub.execute_input": "2021-12-10T06:13:27.201911Z",
     "iopub.status.busy": "2021-12-10T06:13:26.702910Z",
     "iopub.status.idle": "2021-12-10T06:15:54.018041Z",
     "shell.execute_reply": "2021-12-10T06:15:54.016998Z",
     "shell.execute_reply.started": "2020-11-26T06:21:36.185128Z"
    },
    "papermill": {
     "duration": 147.613555,
     "end_time": "2021-12-10T06:15:54.018264",
     "exception": false,
     "start_time": "2021-12-10T06:13:26.404709",
     "status": "completed"
    },
    "tags": []
   },
   "outputs": [],
   "source": [
    "portfolio_return = (engine.calculate_equity_curve(calculate_net=False)\n",
    "                    .rename('Commodity term structure portfolio'))"
   ]
  },
  {
   "cell_type": "code",
   "execution_count": 6,
   "id": "7eac0b7e",
   "metadata": {
    "ExecuteTime": {
     "end_time": "2020-09-02T20:45:59.608937Z",
     "start_time": "2020-09-02T20:45:59.405601Z"
    },
    "execution": {
     "iopub.execute_input": "2021-12-10T06:15:54.088007Z",
     "iopub.status.busy": "2021-12-10T06:15:54.086767Z",
     "iopub.status.idle": "2021-12-10T06:15:55.721596Z",
     "shell.execute_reply": "2021-12-10T06:15:55.722457Z",
     "shell.execute_reply.started": "2020-11-26T06:23:02.670727Z"
    },
    "papermill": {
     "duration": 1.671875,
     "end_time": "2021-12-10T06:15:55.722687",
     "exception": false,
     "start_time": "2021-12-10T06:15:54.050812",
     "status": "completed"
    },
    "tags": []
   },
   "outputs": [
    {
     "data": {
      "image/png": "[encoded data removed]",
      "text/plain": [
       "<Figure size 576x324 with 1 Axes>"
      ]
     },
     "metadata": {
      "needs_background": "light"
     },
     "output_type": "display_data"
    }
   ],
   "source": [
    "fig, ax = plt.subplots(figsize=(8, 4.5))\n",
    "portfolio_return.plot(ax=ax, logy=True);\n",
    "ax.set_title('Commodity term structure portfolio')\n",
    "ax.set_ylabel('Cumulative returns');"
   ]
  },
  {
   "cell_type": "code",
   "execution_count": 7,
   "id": "2f21b1fe",
   "metadata": {
    "ExecuteTime": {
     "end_time": "2020-08-31T20:06:51.873126Z",
     "start_time": "2020-08-31T20:06:51.866509Z"
    },
    "execution": {
     "iopub.execute_input": "2021-12-10T06:15:55.786110Z",
     "iopub.status.busy": "2021-12-10T06:15:55.784975Z",
     "iopub.status.idle": "2021-12-10T06:15:55.948769Z",
     "shell.execute_reply": "2021-12-10T06:15:55.947851Z",
     "shell.execute_reply.started": "2020-11-26T06:23:03.091583Z"
    },
    "papermill": {
     "duration": 0.197754,
     "end_time": "2021-12-10T06:15:55.948965",
     "exception": false,
     "start_time": "2021-12-10T06:15:55.751211",
     "status": "completed"
    },
    "tags": []
   },
   "outputs": [
    {
     "data": {
      "text/html": [
       "<div>\n",
       "<style scoped>\n",
       "    .dataframe tbody tr th:only-of-type {\n",
       "        vertical-align: middle;\n",
       "    }\n",
       "\n",
       "    .dataframe tbody tr th {\n",
       "        vertical-align: top;\n",
       "    }\n",
       "\n",
       "    .dataframe thead th {\n",
       "        text-align: right;\n",
       "    }\n",
       "</style>\n",
       "<table border=\"1\" class=\"dataframe\">\n",
       "  <thead>\n",
       "    <tr style=\"text-align: right;\">\n",
       "      <th></th>\n",
       "      <th>Commodity term structure portfolio</th>\n",
       "    </tr>\n",
       "  </thead>\n",
       "  <tbody>\n",
       "    <tr>\n",
       "      <th>CAGR</th>\n",
       "      <td>0.058409</td>\n",
       "    </tr>\n",
       "    <tr>\n",
       "      <th>Annualised vol</th>\n",
       "      <td>0.113197</td>\n",
       "    </tr>\n",
       "    <tr>\n",
       "      <th>Sharpe ratio</th>\n",
       "      <td>0.515989</td>\n",
       "    </tr>\n",
       "    <tr>\n",
       "      <th>Max drawdown</th>\n",
       "      <td>0.335821</td>\n",
       "    </tr>\n",
       "    <tr>\n",
       "      <th>Calmar ratio</th>\n",
       "      <td>0.173928</td>\n",
       "    </tr>\n",
       "    <tr>\n",
       "      <th>Skewness</th>\n",
       "      <td>-0.135521</td>\n",
       "    </tr>\n",
       "    <tr>\n",
       "      <th>Kurtosis</th>\n",
       "      <td>2.556491</td>\n",
       "    </tr>\n",
       "    <tr>\n",
       "      <th>Worst return</th>\n",
       "      <td>-0.073517</td>\n",
       "    </tr>\n",
       "    <tr>\n",
       "      <th>Worst 1d return</th>\n",
       "      <td>-0.073517</td>\n",
       "    </tr>\n",
       "    <tr>\n",
       "      <th>Worst 1w return</th>\n",
       "      <td>-0.094895</td>\n",
       "    </tr>\n",
       "    <tr>\n",
       "      <th>Worst 1m return</th>\n",
       "      <td>-0.169116</td>\n",
       "    </tr>\n",
       "  </tbody>\n",
       "</table>\n",
       "</div>"
      ],
      "text/plain": [
       "                 Commodity term structure portfolio\n",
       "CAGR                                       0.058409\n",
       "Annualised vol                             0.113197\n",
       "Sharpe ratio                               0.515989\n",
       "Max drawdown                               0.335821\n",
       "Calmar ratio                               0.173928\n",
       "Skewness                                  -0.135521\n",
       "Kurtosis                                   2.556491\n",
       "Worst return                              -0.073517\n",
       "Worst 1d return                           -0.073517\n",
       "Worst 1w return                           -0.094895\n",
       "Worst 1m return                           -0.169116"
      ]
     },
     "execution_count": 7,
     "metadata": {},
     "output_type": "execute_result"
    }
   ],
   "source": [
    "portfolio_return.pipe(Performance).summary()"
   ]
  },
  {
   "cell_type": "markdown",
   "id": "691e6484",
   "metadata": {
    "papermill": {
     "duration": 0.027862,
     "end_time": "2021-12-10T06:15:56.006664",
     "exception": false,
     "start_time": "2021-12-10T06:15:55.978802",
     "status": "completed"
    },
    "tags": []
   },
   "source": [
    "## Recent performance"
   ]
  },
  {
   "cell_type": "code",
   "execution_count": 8,
   "id": "9adbd2b8",
   "metadata": {
    "execution": {
     "iopub.execute_input": "2021-12-10T06:15:56.102040Z",
     "iopub.status.busy": "2021-12-10T06:15:56.088770Z",
     "iopub.status.idle": "2021-12-10T06:15:56.587983Z",
     "shell.execute_reply": "2021-12-10T06:15:56.587118Z",
     "shell.execute_reply.started": "2020-11-26T06:23:03.327788Z"
    },
    "papermill": {
     "duration": 0.555266,
     "end_time": "2021-12-10T06:15:56.588194",
     "exception": false,
     "start_time": "2021-12-10T06:15:56.032928",
     "status": "completed"
    },
    "tags": []
   },
   "outputs": [
    {
     "data": {
      "image/png": "[encoded data removed]",
      "text/plain": [
       "<Figure size 576x324 with 1 Axes>"
      ]
     },
     "metadata": {
      "needs_background": "light"
     },
     "output_type": "display_data"
    }
   ],
   "source": [
    "fig, ax = plt.subplots(figsize=(8, 4.5))\n",
    "portfolio_return.tail(252 * 2).plot(ax=ax, logy=True);\n",
    "ax.set_title('Commodity term structure portfolio')\n",
    "ax.set_ylabel('Cumulative returns');"
   ]
  },
  {
   "cell_type": "markdown",
   "id": "e26dd6e6",
   "metadata": {
    "papermill": {
     "duration": 0.033377,
     "end_time": "2021-12-10T06:15:56.655234",
     "exception": false,
     "start_time": "2021-12-10T06:15:56.621857",
     "status": "completed"
    },
    "tags": []
   },
   "source": [
    "## Carry\n",
    "\n",
    "The chart below shows the current annualised carry (1y average) across contracts."
   ]
  },
  {
   "cell_type": "code",
   "execution_count": 9,
   "id": "e13c13a0",
   "metadata": {
    "ExecuteTime": {
     "end_time": "2020-09-02T20:44:34.552570Z",
     "start_time": "2020-09-02T20:44:34.362169Z"
    },
    "execution": {
     "iopub.execute_input": "2021-12-10T06:15:56.744319Z",
     "iopub.status.busy": "2021-12-10T06:15:56.732974Z",
     "iopub.status.idle": "2021-12-10T06:15:57.404409Z",
     "shell.execute_reply": "2021-12-10T06:15:57.405160Z",
     "shell.execute_reply.started": "2020-11-26T06:23:03.546101Z"
    },
    "papermill": {
     "duration": 0.716886,
     "end_time": "2021-12-10T06:15:57.405474",
     "exception": false,
     "start_time": "2021-12-10T06:15:56.688588",
     "status": "completed"
    },
    "tags": []
   },
   "outputs": [
    {
     "data": {
      "image/png": "[encoded data removed]",
      "text/plain": [
       "<Figure size 1008x288 with 1 Axes>"
      ]
     },
     "metadata": {
      "needs_background": "light"
     },
     "output_type": "display_data"
    }
   ],
   "source": [
    "fig, ax = plt.subplots(figsize=(14, 4))\n",
    "(engine.pipeline.pipeline[0].carry.rolling(252).mean().asfreq('m', method='pad').tail(1).squeeze().sort_values()\n",
    " .rename(index=all_futures_hollstein2020.squeeze())\n",
    " .plot(kind='bar', ax=ax));\n",
    "ax.yaxis.set_major_formatter(mticker.PercentFormatter(1, decimals=0))\n",
    "ax.axhline(0, color='black', lw=1, ls='--')\n",
    "ax.set_ylabel('Annualised carry');"
   ]
  },
  {
   "cell_type": "markdown",
   "id": "3290e717",
   "metadata": {
    "papermill": {
     "duration": 0.027793,
     "end_time": "2021-12-10T06:15:57.466411",
     "exception": false,
     "start_time": "2021-12-10T06:15:57.438618",
     "status": "completed"
    },
    "tags": []
   },
   "source": [
    "Carry for natural gas tends to have extreme values in winter."
   ]
  },
  {
   "cell_type": "code",
   "execution_count": 10,
   "id": "12d56f74",
   "metadata": {
    "execution": {
     "iopub.execute_input": "2021-12-10T06:15:57.550816Z",
     "iopub.status.busy": "2021-12-10T06:15:57.550220Z",
     "iopub.status.idle": "2021-12-10T06:15:57.904908Z",
     "shell.execute_reply": "2021-12-10T06:15:57.905588Z",
     "shell.execute_reply.started": "2020-11-26T06:23:03.796481Z"
    },
    "papermill": {
     "duration": 0.4113,
     "end_time": "2021-12-10T06:15:57.905759",
     "exception": false,
     "start_time": "2021-12-10T06:15:57.494459",
     "status": "completed"
    },
    "tags": []
   },
   "outputs": [
    {
     "data": {
      "image/png": "[encoded data removed]",
      "text/plain": [
       "<Figure size 1008x288 with 1 Axes>"
      ]
     },
     "metadata": {
      "needs_background": "light"
     },
     "output_type": "display_data"
    }
   ],
   "source": [
    "fig, ax = plt.subplots(figsize=(14, 4))\n",
    "engine.pipeline.pipeline[0].carry.loc['2010':, 'NG'].plot(ax=ax, label='Natural gas');\n",
    "engine.pipeline.pipeline[0].carry.rolling(252).mean().loc['2010':, 'NG'].plot(ax=ax, label='Natural gas (1y average)');\n",
    "ax.yaxis.set_major_formatter(mticker.PercentFormatter(1, decimals=0))\n",
    "ax.axhline(0, color='black', lw=1, ls='--')\n",
    "ax.legend();\n",
    "ax.set_ylabel('Annualised carry');"
   ]
  },
  {
   "cell_type": "markdown",
   "id": "d755e6ec",
   "metadata": {
    "papermill": {
     "duration": 0.026699,
     "end_time": "2021-12-10T06:15:57.958320",
     "exception": false,
     "start_time": "2021-12-10T06:15:57.931621",
     "status": "completed"
    },
    "tags": []
   },
   "source": [
    "## Without carry smoothening\n",
    "\n",
    "The carry smoothening does not seem critical when constructing a portfolio. In fact, the portfolio without carry smoothening had higher volatility and Sharpe ratio, although recently it suffered a larger drawdown."
   ]
  },
  {
   "cell_type": "code",
   "execution_count": 11,
   "id": "68a15e33",
   "metadata": {
    "execution": {
     "iopub.execute_input": "2021-12-10T06:15:58.021816Z",
     "iopub.status.busy": "2021-12-10T06:15:58.021222Z",
     "iopub.status.idle": "2021-12-10T06:27:35.556306Z",
     "shell.execute_reply": "2021-12-10T06:27:35.557003Z",
     "shell.execute_reply.started": "2020-11-26T06:23:03.981985Z"
    },
    "papermill": {
     "duration": 697.571895,
     "end_time": "2021-12-10T06:27:35.557242",
     "exception": false,
     "start_time": "2021-12-10T06:15:57.985347",
     "status": "completed"
    },
    "tags": []
   },
   "outputs": [],
   "source": [
    "engine_wo_sma = BacktestEngine(\n",
    "    strategy=Strategy.DELTA_ONE.value,\n",
    "    instrument=all_futures_hollstein2020.index,\n",
    "    signal=signal.XSCarryFutureFuture(nth_expiry_shift=1, \n",
    "                                      post_process=processing.Pipeline([\n",
    "                                          processing.AsFreq(freq='m', method='pad')\n",
    "                                      ])),\n",
    "    log_level=logging.WARN,\n",
    ")\n",
    "engine_wo_sma.run()"
   ]
  },
  {
   "cell_type": "code",
   "execution_count": 12,
   "id": "9c2f466a",
   "metadata": {
    "execution": {
     "iopub.execute_input": "2021-12-10T06:27:36.165067Z",
     "iopub.status.busy": "2021-12-10T06:27:35.870063Z",
     "iopub.status.idle": "2021-12-10T06:29:45.898745Z",
     "shell.execute_reply": "2021-12-10T06:29:45.898217Z",
     "shell.execute_reply.started": "2020-11-26T06:52:52.907985Z"
    },
    "papermill": {
     "duration": 130.305394,
     "end_time": "2021-12-10T06:29:45.898922",
     "exception": false,
     "start_time": "2021-12-10T06:27:35.593528",
     "status": "completed"
    },
    "tags": []
   },
   "outputs": [],
   "source": [
    "portfolio_return_wo_sma = (engine_wo_sma.calculate_equity_curve(calculate_net=False)\n",
    "                           .rename('Commodity term structure portfolio (w/o carry smoothening)'))"
   ]
  },
  {
   "cell_type": "code",
   "execution_count": 13,
   "id": "65920da6",
   "metadata": {
    "execution": {
     "iopub.execute_input": "2021-12-10T06:29:45.972192Z",
     "iopub.status.busy": "2021-12-10T06:29:45.966569Z",
     "iopub.status.idle": "2021-12-10T06:29:46.851064Z",
     "shell.execute_reply": "2021-12-10T06:29:46.851624Z",
     "shell.execute_reply.started": "2020-11-26T06:54:15.387959Z"
    },
    "papermill": {
     "duration": 0.926746,
     "end_time": "2021-12-10T06:29:46.851773",
     "exception": false,
     "start_time": "2021-12-10T06:29:45.925027",
     "status": "completed"
    },
    "tags": []
   },
   "outputs": [
    {
     "data": {
      "image/png": "[encoded data removed]",
      "text/plain": [
       "<Figure size 576x324 with 1 Axes>"
      ]
     },
     "metadata": {
      "needs_background": "light"
     },
     "output_type": "display_data"
    }
   ],
   "source": [
    "fig, ax = plt.subplots(figsize=(8, 4.5))\n",
    "portfolio_return.plot(ax=ax, logy=True, label='with carry smoothening');\n",
    "portfolio_return_wo_sma.plot(ax=ax, logy=True, label='without carry smoothening');\n",
    "ax.set_title('Commodity term structure portfolio')\n",
    "ax.set_ylabel('Cumulative returns')\n",
    "ax.legend();"
   ]
  },
  {
   "cell_type": "code",
   "execution_count": 14,
   "id": "c44f3a20",
   "metadata": {
    "execution": {
     "iopub.execute_input": "2021-12-10T06:29:46.911885Z",
     "iopub.status.busy": "2021-12-10T06:29:46.911252Z",
     "iopub.status.idle": "2021-12-10T06:29:47.086455Z",
     "shell.execute_reply": "2021-12-10T06:29:47.085896Z",
     "shell.execute_reply.started": "2020-11-26T06:54:15.780012Z"
    },
    "papermill": {
     "duration": 0.206546,
     "end_time": "2021-12-10T06:29:47.086570",
     "exception": false,
     "start_time": "2021-12-10T06:29:46.880024",
     "status": "completed"
    },
    "tags": []
   },
   "outputs": [
    {
     "data": {
      "text/html": [
       "<div>\n",
       "<style scoped>\n",
       "    .dataframe tbody tr th:only-of-type {\n",
       "        vertical-align: middle;\n",
       "    }\n",
       "\n",
       "    .dataframe tbody tr th {\n",
       "        vertical-align: top;\n",
       "    }\n",
       "\n",
       "    .dataframe thead th {\n",
       "        text-align: right;\n",
       "    }\n",
       "</style>\n",
       "<table border=\"1\" class=\"dataframe\">\n",
       "  <thead>\n",
       "    <tr style=\"text-align: right;\">\n",
       "      <th></th>\n",
       "      <th>Commodity term structure portfolio</th>\n",
       "      <th>Commodity term structure portfolio (w/o carry smoothening)</th>\n",
       "    </tr>\n",
       "  </thead>\n",
       "  <tbody>\n",
       "    <tr>\n",
       "      <th>CAGR</th>\n",
       "      <td>0.058409</td>\n",
       "      <td>0.107305</td>\n",
       "    </tr>\n",
       "    <tr>\n",
       "      <th>Annualised vol</th>\n",
       "      <td>0.113197</td>\n",
       "      <td>0.161503</td>\n",
       "    </tr>\n",
       "    <tr>\n",
       "      <th>Sharpe ratio</th>\n",
       "      <td>0.515989</td>\n",
       "      <td>0.664415</td>\n",
       "    </tr>\n",
       "    <tr>\n",
       "      <th>Max drawdown</th>\n",
       "      <td>0.335821</td>\n",
       "      <td>0.473483</td>\n",
       "    </tr>\n",
       "    <tr>\n",
       "      <th>Calmar ratio</th>\n",
       "      <td>0.173928</td>\n",
       "      <td>0.226629</td>\n",
       "    </tr>\n",
       "    <tr>\n",
       "      <th>Skewness</th>\n",
       "      <td>-0.135521</td>\n",
       "      <td>-0.056864</td>\n",
       "    </tr>\n",
       "    <tr>\n",
       "      <th>Kurtosis</th>\n",
       "      <td>2.556491</td>\n",
       "      <td>5.264623</td>\n",
       "    </tr>\n",
       "    <tr>\n",
       "      <th>Worst return</th>\n",
       "      <td>-0.073517</td>\n",
       "      <td>-0.140873</td>\n",
       "    </tr>\n",
       "    <tr>\n",
       "      <th>Worst 1d return</th>\n",
       "      <td>-0.073517</td>\n",
       "      <td>-0.140873</td>\n",
       "    </tr>\n",
       "    <tr>\n",
       "      <th>Worst 1w return</th>\n",
       "      <td>-0.094895</td>\n",
       "      <td>-0.125046</td>\n",
       "    </tr>\n",
       "    <tr>\n",
       "      <th>Worst 1m return</th>\n",
       "      <td>-0.169116</td>\n",
       "      <td>-0.207643</td>\n",
       "    </tr>\n",
       "  </tbody>\n",
       "</table>\n",
       "</div>"
      ],
      "text/plain": [
       "                 Commodity term structure portfolio  \\\n",
       "CAGR                                       0.058409   \n",
       "Annualised vol                             0.113197   \n",
       "Sharpe ratio                               0.515989   \n",
       "Max drawdown                               0.335821   \n",
       "Calmar ratio                               0.173928   \n",
       "Skewness                                  -0.135521   \n",
       "Kurtosis                                   2.556491   \n",
       "Worst return                              -0.073517   \n",
       "Worst 1d return                           -0.073517   \n",
       "Worst 1w return                           -0.094895   \n",
       "Worst 1m return                           -0.169116   \n",
       "\n",
       "                 Commodity term structure portfolio (w/o carry smoothening)  \n",
       "CAGR                                                      0.107305           \n",
       "Annualised vol                                            0.161503           \n",
       "Sharpe ratio                                              0.664415           \n",
       "Max drawdown                                              0.473483           \n",
       "Calmar ratio                                              0.226629           \n",
       "Skewness                                                 -0.056864           \n",
       "Kurtosis                                                  5.264623           \n",
       "Worst return                                             -0.140873           \n",
       "Worst 1d return                                          -0.140873           \n",
       "Worst 1w return                                          -0.125046           \n",
       "Worst 1m return                                          -0.207643           "
      ]
     },
     "execution_count": 14,
     "metadata": {},
     "output_type": "execute_result"
    }
   ],
   "source": [
    "pd.concat((\n",
    "    portfolio_return.pipe(Performance).summary(),\n",
    "    portfolio_return_wo_sma.pipe(Performance).summary(),\n",
    "), axis=1)"
   ]
  },
  {
   "cell_type": "markdown",
   "id": "ba078435",
   "metadata": {
    "papermill": {
     "duration": 0.026449,
     "end_time": "2021-12-10T06:29:47.139082",
     "exception": false,
     "start_time": "2021-12-10T06:29:47.112633",
     "status": "completed"
    },
    "tags": []
   },
   "source": [
    "# Reference\n",
    "- Bakshi, G., Gao, X. and Rossi, A.G., 2019. Understanding the sources of risk underlying the cross section of commodity returns. Management Science, 65(2), pp.619-641.\n",
    "- Hollstein, F., Prokopczuk, M. and Tharann, B., 2020. Anomalies in commodity futures markets: Risk or mispricing?. Available at SSRN.\n",
    "- Koijen, R.S., Moskowitz, T.J., Pedersen, L.H. and Vrugt, E.B., 2018. Carry. Journal of Financial Economics, 127(2), pp.197-225."
   ]
  },
  {
   "cell_type": "code",
   "execution_count": 15,
   "id": "c9417795",
   "metadata": {
    "ExecuteTime": {
     "end_time": "2020-08-31T05:52:23.734170Z",
     "start_time": "2020-08-31T05:52:23.731627Z"
    },
    "execution": {
     "iopub.execute_input": "2021-12-10T06:29:47.196799Z",
     "iopub.status.busy": "2021-12-10T06:29:47.196128Z",
     "iopub.status.idle": "2021-12-10T06:29:47.198815Z",
     "shell.execute_reply": "2021-12-10T06:29:47.199407Z",
     "shell.execute_reply.started": "2020-11-26T06:54:16.160058Z"
    },
    "papermill": {
     "duration": 0.034018,
     "end_time": "2021-12-10T06:29:47.199604",
     "exception": false,
     "start_time": "2021-12-10T06:29:47.165586",
     "status": "completed"
    },
    "tags": []
   },
   "outputs": [
    {
     "name": "stdout",
     "output_type": "stream",
     "text": [
      "Updated: 10-Dec-2021 06:29\n"
     ]
    }
   ],
   "source": [
    "print(f'Updated: {datetime.utcnow().strftime(\"%d-%b-%Y %H:%M\")}')"
   ]
  }
 ],
 "metadata": {
  "kernelspec": {
   "display_name": "Python 3",
   "language": "python",
   "name": "python3"
  },
  "language_info": {
   "codemirror_mode": {
    "name": "ipython",
    "version": 3
   },
   "file_extension": ".py",
   "mimetype": "text/x-python",
   "name": "python",
   "nbconvert_exporter": "python",
   "pygments_lexer": "ipython3",
   "version": "3.9.6"
  },
  "papermill": {
   "default_parameters": {},
   "duration": 1725.305154,
   "end_time": "2021-12-10T06:29:49.552898",
   "environment_variables": {},
   "exception": null,
   "input_path": "notebooks/papermill/commodity_term_structure.ipynb",
   "output_path": "notebooks/commodity_term_structure.ipynb",
   "parameters": {},
   "start_time": "2021-12-10T06:01:04.247744",
   "version": "2.3.3"
  },
  "toc": {
   "base_numbering": 1,
   "nav_menu": {},
   "number_sections": true,
   "sideBar": true,
   "skip_h1_title": false,
   "title_cell": "Table of Contents",
   "title_sidebar": "Contents",
   "toc_cell": true,
   "toc_position": {
    "height": "calc(100% - 180px)",
    "left": "10px",
    "top": "150px",
    "width": "165px"
   },
   "toc_section_display": true,
   "toc_window_display": true
  },
  "toc-autonumbering": true,
  "toc-showmarkdowntxt": true,
  "toc-showtags": false
 },
 "nbformat": 4,
 "nbformat_minor": 5
}