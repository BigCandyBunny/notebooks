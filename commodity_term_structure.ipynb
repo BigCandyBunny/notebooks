{
 "cells": [
  {
   "cell_type": "markdown",
   "metadata": {
    "papermill": {
     "duration": 0.01769,
     "end_time": "2021-01-20T06:00:25.794096",
     "exception": false,
     "start_time": "2021-01-20T06:00:25.776406",
     "status": "completed"
    },
    "tags": []
   },
   "source": [
    "# Commodity term structure\n",
    "\n",
    "This notebook analyses commodity term structure strategy which utilises commodity futures' roll yield. The strategy takes long positions on contracts with most backwardation and short positions on ones with most contango. This idea is analogous to FX carry trade and hence this strategy can be classified as commodity carry trade."
   ]
  },
  {
   "cell_type": "code",
   "execution_count": 1,
   "metadata": {
    "ExecuteTime": {
     "end_time": "2020-08-31T19:29:24.852122Z",
     "start_time": "2020-08-31T19:29:24.038266Z"
    },
    "execution": {
     "iopub.execute_input": "2021-01-20T06:00:25.835429Z",
     "iopub.status.busy": "2021-01-20T06:00:25.834853Z",
     "iopub.status.idle": "2021-01-20T06:00:29.465509Z",
     "shell.execute_reply": "2021-01-20T06:00:29.464875Z",
     "shell.execute_reply.started": "2020-11-26T05:49:13.176626Z"
    },
    "papermill": {
     "duration": 3.654789,
     "end_time": "2021-01-20T06:00:29.465668",
     "exception": false,
     "start_time": "2021-01-20T06:00:25.810879",
     "status": "completed"
    },
    "tags": []
   },
   "outputs": [],
   "source": [
    "%matplotlib inline\n",
    "from datetime import datetime\n",
    "import logging\n",
    "import warnings\n",
    "warnings.simplefilter(action='ignore', category=FutureWarning)\n",
    "\n",
    "import pandas as pd\n",
    "import matplotlib.pyplot as plt\n",
    "import matplotlib.ticker as mticker\n",
    "plt.style.use('bmh')\n",
    "\n",
    "from vivace.backtest import signal\n",
    "from vivace.backtest import processing\n",
    "from vivace.backtest.contract import all_futures_hollstein2020\n",
    "from vivace.backtest.engine import BacktestEngine\n",
    "from vivace.backtest.enums import Strategy\n",
    "from vivace.backtest.stats import Performance"
   ]
  },
  {
   "cell_type": "markdown",
   "metadata": {
    "papermill": {
     "duration": 0.01668,
     "end_time": "2021-01-20T06:00:29.499536",
     "exception": false,
     "start_time": "2021-01-20T06:00:29.482856",
     "status": "completed"
    },
    "tags": []
   },
   "source": [
    "# Data\n",
    "\n",
    "26 commodity futures are used as per Hollstein 2020."
   ]
  },
  {
   "cell_type": "code",
   "execution_count": 2,
   "metadata": {
    "ExecuteTime": {
     "end_time": "2020-08-31T19:29:25.399795Z",
     "start_time": "2020-08-31T19:29:25.371862Z"
    },
    "execution": {
     "iopub.execute_input": "2021-01-20T06:00:29.541976Z",
     "iopub.status.busy": "2021-01-20T06:00:29.541323Z",
     "iopub.status.idle": "2021-01-20T06:00:29.549245Z",
     "shell.execute_reply": "2021-01-20T06:00:29.549707Z",
     "shell.execute_reply.started": "2020-11-26T05:49:14.192297Z"
    },
    "papermill": {
     "duration": 0.033565,
     "end_time": "2021-01-20T06:00:29.549854",
     "exception": false,
     "start_time": "2021-01-20T06:00:29.516289",
     "status": "completed"
    },
    "tags": []
   },
   "outputs": [
    {
     "data": {
      "text/html": [
       "<div>\n",
       "<style scoped>\n",
       "    .dataframe tbody tr th:only-of-type {\n",
       "        vertical-align: middle;\n",
       "    }\n",
       "\n",
       "    .dataframe tbody tr th {\n",
       "        vertical-align: top;\n",
       "    }\n",
       "\n",
       "    .dataframe thead th {\n",
       "        text-align: right;\n",
       "    }\n",
       "</style>\n",
       "<table border=\"1\" class=\"dataframe\">\n",
       "  <thead>\n",
       "    <tr style=\"text-align: right;\">\n",
       "      <th></th>\n",
       "      <th>name</th>\n",
       "    </tr>\n",
       "    <tr>\n",
       "      <th>ticker</th>\n",
       "      <th></th>\n",
       "    </tr>\n",
       "  </thead>\n",
       "  <tbody>\n",
       "    <tr>\n",
       "      <th>CO</th>\n",
       "      <td>Brent Crude Oil</td>\n",
       "    </tr>\n",
       "    <tr>\n",
       "      <th>CC</th>\n",
       "      <td>Cocoa</td>\n",
       "    </tr>\n",
       "    <tr>\n",
       "      <th>KC</th>\n",
       "      <td>Coffee</td>\n",
       "    </tr>\n",
       "    <tr>\n",
       "      <th>C</th>\n",
       "      <td>Corn</td>\n",
       "    </tr>\n",
       "    <tr>\n",
       "      <th>CT</th>\n",
       "      <td>Cotton</td>\n",
       "    </tr>\n",
       "    <tr>\n",
       "      <th>FC</th>\n",
       "      <td>Feeder Cattle</td>\n",
       "    </tr>\n",
       "    <tr>\n",
       "      <th>GC</th>\n",
       "      <td>Gold</td>\n",
       "    </tr>\n",
       "    <tr>\n",
       "      <th>HO</th>\n",
       "      <td>Heating Oil</td>\n",
       "    </tr>\n",
       "    <tr>\n",
       "      <th>HG</th>\n",
       "      <td>Copper</td>\n",
       "    </tr>\n",
       "    <tr>\n",
       "      <th>LH</th>\n",
       "      <td>Lean Hog</td>\n",
       "    </tr>\n",
       "    <tr>\n",
       "      <th>LC</th>\n",
       "      <td>Live Cattle</td>\n",
       "    </tr>\n",
       "    <tr>\n",
       "      <th>LB</th>\n",
       "      <td>Lumber</td>\n",
       "    </tr>\n",
       "    <tr>\n",
       "      <th>DA</th>\n",
       "      <td>Milk</td>\n",
       "    </tr>\n",
       "    <tr>\n",
       "      <th>NG</th>\n",
       "      <td>Natural Gas</td>\n",
       "    </tr>\n",
       "    <tr>\n",
       "      <th>ZO</th>\n",
       "      <td>Oats</td>\n",
       "    </tr>\n",
       "    <tr>\n",
       "      <th>OJ</th>\n",
       "      <td>Orange Juice</td>\n",
       "    </tr>\n",
       "    <tr>\n",
       "      <th>PA</th>\n",
       "      <td>Palladium</td>\n",
       "    </tr>\n",
       "    <tr>\n",
       "      <th>PL</th>\n",
       "      <td>Platinum</td>\n",
       "    </tr>\n",
       "    <tr>\n",
       "      <th>RR</th>\n",
       "      <td>Rough Rice</td>\n",
       "    </tr>\n",
       "    <tr>\n",
       "      <th>SI</th>\n",
       "      <td>Silver</td>\n",
       "    </tr>\n",
       "    <tr>\n",
       "      <th>S</th>\n",
       "      <td>Soybean</td>\n",
       "    </tr>\n",
       "    <tr>\n",
       "      <th>SM</th>\n",
       "      <td>Soybean Meal</td>\n",
       "    </tr>\n",
       "    <tr>\n",
       "      <th>BO</th>\n",
       "      <td>Soybean Oil</td>\n",
       "    </tr>\n",
       "    <tr>\n",
       "      <th>SB</th>\n",
       "      <td>Sugar</td>\n",
       "    </tr>\n",
       "    <tr>\n",
       "      <th>W</th>\n",
       "      <td>Wheat</td>\n",
       "    </tr>\n",
       "    <tr>\n",
       "      <th>CL</th>\n",
       "      <td>WTI Crude Oil</td>\n",
       "    </tr>\n",
       "  </tbody>\n",
       "</table>\n",
       "</div>"
      ],
      "text/plain": [
       "                   name\n",
       "ticker                 \n",
       "CO      Brent Crude Oil\n",
       "CC                Cocoa\n",
       "KC               Coffee\n",
       "C                  Corn\n",
       "CT               Cotton\n",
       "FC        Feeder Cattle\n",
       "GC                 Gold\n",
       "HO          Heating Oil\n",
       "HG               Copper\n",
       "LH             Lean Hog\n",
       "LC          Live Cattle\n",
       "LB               Lumber\n",
       "DA                 Milk\n",
       "NG          Natural Gas\n",
       "ZO                 Oats\n",
       "OJ         Orange Juice\n",
       "PA            Palladium\n",
       "PL             Platinum\n",
       "RR           Rough Rice\n",
       "SI               Silver\n",
       "S               Soybean\n",
       "SM         Soybean Meal\n",
       "BO          Soybean Oil\n",
       "SB                Sugar\n",
       "W                 Wheat\n",
       "CL        WTI Crude Oil"
      ]
     },
     "execution_count": 2,
     "metadata": {},
     "output_type": "execute_result"
    }
   ],
   "source": [
    "all_futures_hollstein2020"
   ]
  },
  {
   "cell_type": "code",
   "execution_count": 3,
   "metadata": {
    "ExecuteTime": {
     "end_time": "2020-08-31T19:29:26.170389Z",
     "start_time": "2020-08-31T19:29:26.166205Z"
    },
    "execution": {
     "iopub.execute_input": "2021-01-20T06:00:29.599197Z",
     "iopub.status.busy": "2021-01-20T06:00:29.598655Z",
     "iopub.status.idle": "2021-01-20T06:00:29.601275Z",
     "shell.execute_reply": "2021-01-20T06:00:29.601745Z",
     "shell.execute_reply.started": "2020-11-26T05:49:14.201265Z"
    },
    "papermill": {
     "duration": 0.030467,
     "end_time": "2021-01-20T06:00:29.601893",
     "exception": false,
     "start_time": "2021-01-20T06:00:29.571426",
     "status": "completed"
    },
    "tags": []
   },
   "outputs": [
    {
     "data": {
      "text/plain": [
       "(26, 1)"
      ]
     },
     "execution_count": 3,
     "metadata": {},
     "output_type": "execute_result"
    }
   ],
   "source": [
    "all_futures_hollstein2020.shape"
   ]
  },
  {
   "cell_type": "markdown",
   "metadata": {
    "papermill": {
     "duration": 0.017295,
     "end_time": "2021-01-20T06:00:29.636605",
     "exception": false,
     "start_time": "2021-01-20T06:00:29.619310",
     "status": "completed"
    },
    "tags": []
   },
   "source": [
    "# Performance"
   ]
  },
  {
   "cell_type": "markdown",
   "metadata": {
    "papermill": {
     "duration": 0.017166,
     "end_time": "2021-01-20T06:00:29.671082",
     "exception": false,
     "start_time": "2021-01-20T06:00:29.653916",
     "status": "completed"
    },
    "tags": []
   },
   "source": [
    "## Run backtest\n",
    "\n",
    "Bakshi et al., 2017 used second front contracts and treated first front contracts as 'spot'. This is implemented by specifiying `nth_expiry=2` in this backtest. Term structure (i.e., carry) is then calculated by\n",
    "\n",
    "$$\n",
    "Carry_t = {\\rm log} \\left( \\frac{F_{1, t}}{F_{2, t}} \\right) \\cdot annualisationFactor\n",
    "$$\n",
    "\n",
    "where $F_{1, t}$ is the 1st contract price, $F_{2, t}$ is the 2nd contract price and $annualisationFactor$ is the constant to make the log return annual while considering contract listing schedules for each commodity.\n",
    "\n",
    "Hollstein 2020 uses trailing 1 year average of $Carry$ to avoid an influence of seasonality. The `SMA` post processing takes care of it. Signals are observed on a monthly basis and reflected to the portfolio by taking long  (short) positions for top (bottom) 33% contracts.\n",
    "\n",
    "As typically the case in many studies about cross-sectional strategies, these commodity futures are equally weighted. However in practice some are much less liquid compared to major ones like crude oil. Some liquidity constraints need to be added to run more realistic analysis."
   ]
  },
  {
   "cell_type": "code",
   "execution_count": 4,
   "metadata": {
    "ExecuteTime": {
     "end_time": "2020-09-02T22:09:35.368377Z",
     "start_time": "2020-09-02T21:34:59.850395Z"
    },
    "execution": {
     "iopub.execute_input": "2021-01-20T06:00:29.711850Z",
     "iopub.status.busy": "2021-01-20T06:00:29.711270Z",
     "iopub.status.idle": "2021-01-20T06:32:23.226380Z",
     "shell.execute_reply": "2021-01-20T06:32:23.225764Z",
     "shell.execute_reply.started": "2020-11-26T05:49:14.219727Z"
    },
    "papermill": {
     "duration": 1913.538115,
     "end_time": "2021-01-20T06:32:23.226523",
     "exception": false,
     "start_time": "2021-01-20T06:00:29.688408",
     "status": "completed"
    },
    "tags": []
   },
   "outputs": [],
   "source": [
    "engine = BacktestEngine(\n",
    "    strategy=Strategy.DELTA_ONE.value,\n",
    "    instrument=all_futures_hollstein2020.index,\n",
    "    signal=signal.XSCarryFutureFuture(nth_expiry_shift=1, \n",
    "                                      post_process=processing.Pipeline([\n",
    "                                          processing.SMA(252),\n",
    "                                          processing.AsFreq(freq='m', method='pad')\n",
    "                                      ])),\n",
    "    log_level=logging.WARN,\n",
    ")\n",
    "engine.run()"
   ]
  },
  {
   "cell_type": "code",
   "execution_count": 5,
   "metadata": {
    "ExecuteTime": {
     "end_time": "2020-09-02T20:42:14.779932Z",
     "start_time": "2020-09-02T20:40:39.222688Z"
    },
    "execution": {
     "iopub.execute_input": "2021-01-20T06:32:23.316595Z",
     "iopub.status.busy": "2021-01-20T06:32:23.286503Z",
     "iopub.status.idle": "2021-01-20T06:34:02.741986Z",
     "shell.execute_reply": "2021-01-20T06:34:02.741359Z",
     "shell.execute_reply.started": "2020-11-26T06:21:36.185128Z"
    },
    "papermill": {
     "duration": 99.496752,
     "end_time": "2021-01-20T06:34:02.742103",
     "exception": false,
     "start_time": "2021-01-20T06:32:23.245351",
     "status": "completed"
    },
    "tags": []
   },
   "outputs": [],
   "source": [
    "portfolio_return = (engine.calculate_equity_curve(calculate_net=False)\n",
    "                    .rename('Commodity term structure portfolio'))"
   ]
  },
  {
   "cell_type": "code",
   "execution_count": 6,
   "metadata": {
    "ExecuteTime": {
     "end_time": "2020-09-02T20:45:59.608937Z",
     "start_time": "2020-09-02T20:45:59.405601Z"
    },
    "execution": {
     "iopub.execute_input": "2021-01-20T06:34:02.794188Z",
     "iopub.status.busy": "2021-01-20T06:34:02.793605Z",
     "iopub.status.idle": "2021-01-20T06:34:03.272322Z",
     "shell.execute_reply": "2021-01-20T06:34:03.272731Z",
     "shell.execute_reply.started": "2020-11-26T06:23:02.670727Z"
    },
    "papermill": {
     "duration": 0.512886,
     "end_time": "2021-01-20T06:34:03.272870",
     "exception": false,
     "start_time": "2021-01-20T06:34:02.759984",
     "status": "completed"
    },
    "tags": []
   },
   "outputs": [
    {
     "data": {
      "image/png": "[encoded data removed]",
      "text/plain": [
       "<Figure size 576x324 with 1 Axes>"
      ]
     },
     "metadata": {
      "needs_background": "light"
     },
     "output_type": "display_data"
    }
   ],
   "source": [
    "fig, ax = plt.subplots(figsize=(8, 4.5))\n",
    "portfolio_return.plot(ax=ax, logy=True);\n",
    "ax.set_title('Commodity term structure portfolio')\n",
    "ax.set_ylabel('Cumulative returns');"
   ]
  },
  {
   "cell_type": "code",
   "execution_count": 7,
   "metadata": {
    "ExecuteTime": {
     "end_time": "2020-08-31T20:06:51.873126Z",
     "start_time": "2020-08-31T20:06:51.866509Z"
    },
    "execution": {
     "iopub.execute_input": "2021-01-20T06:34:03.313917Z",
     "iopub.status.busy": "2021-01-20T06:34:03.313158Z",
     "iopub.status.idle": "2021-01-20T06:34:03.576646Z",
     "shell.execute_reply": "2021-01-20T06:34:03.577062Z",
     "shell.execute_reply.started": "2020-11-26T06:23:03.091583Z"
    },
    "papermill": {
     "duration": 0.28558,
     "end_time": "2021-01-20T06:34:03.577213",
     "exception": false,
     "start_time": "2021-01-20T06:34:03.291633",
     "status": "completed"
    },
    "tags": []
   },
   "outputs": [
    {
     "data": {
      "text/html": [
       "<div>\n",
       "<style scoped>\n",
       "    .dataframe tbody tr th:only-of-type {\n",
       "        vertical-align: middle;\n",
       "    }\n",
       "\n",
       "    .dataframe tbody tr th {\n",
       "        vertical-align: top;\n",
       "    }\n",
       "\n",
       "    .dataframe thead th {\n",
       "        text-align: right;\n",
       "    }\n",
       "</style>\n",
       "<table border=\"1\" class=\"dataframe\">\n",
       "  <thead>\n",
       "    <tr style=\"text-align: right;\">\n",
       "      <th></th>\n",
       "      <th>Commodity term structure portfolio</th>\n",
       "    </tr>\n",
       "  </thead>\n",
       "  <tbody>\n",
       "    <tr>\n",
       "      <th>annualised return</th>\n",
       "      <td>0.066851</td>\n",
       "    </tr>\n",
       "    <tr>\n",
       "      <th>annualised vol</th>\n",
       "      <td>0.113334</td>\n",
       "    </tr>\n",
       "    <tr>\n",
       "      <th>Sharpe ratio</th>\n",
       "      <td>0.589862</td>\n",
       "    </tr>\n",
       "    <tr>\n",
       "      <th>max drawdown</th>\n",
       "      <td>0.335821</td>\n",
       "    </tr>\n",
       "    <tr>\n",
       "      <th>Calmar ratio</th>\n",
       "      <td>0.199069</td>\n",
       "    </tr>\n",
       "    <tr>\n",
       "      <th>skewness</th>\n",
       "      <td>-0.134512</td>\n",
       "    </tr>\n",
       "    <tr>\n",
       "      <th>kurtosis</th>\n",
       "      <td>2.574005</td>\n",
       "    </tr>\n",
       "    <tr>\n",
       "      <th>worst return</th>\n",
       "      <td>-0.073517</td>\n",
       "    </tr>\n",
       "    <tr>\n",
       "      <th>worst 1d return</th>\n",
       "      <td>-0.073517</td>\n",
       "    </tr>\n",
       "    <tr>\n",
       "      <th>worst 1w return</th>\n",
       "      <td>-0.094895</td>\n",
       "    </tr>\n",
       "    <tr>\n",
       "      <th>worst 1m return</th>\n",
       "      <td>-0.169116</td>\n",
       "    </tr>\n",
       "  </tbody>\n",
       "</table>\n",
       "</div>"
      ],
      "text/plain": [
       "                   Commodity term structure portfolio\n",
       "annualised return                            0.066851\n",
       "annualised vol                               0.113334\n",
       "Sharpe ratio                                 0.589862\n",
       "max drawdown                                 0.335821\n",
       "Calmar ratio                                 0.199069\n",
       "skewness                                    -0.134512\n",
       "kurtosis                                     2.574005\n",
       "worst return                                -0.073517\n",
       "worst 1d return                             -0.073517\n",
       "worst 1w return                             -0.094895\n",
       "worst 1m return                             -0.169116"
      ]
     },
     "execution_count": 7,
     "metadata": {},
     "output_type": "execute_result"
    }
   ],
   "source": [
    "portfolio_return.pipe(Performance).summary()"
   ]
  },
  {
   "cell_type": "markdown",
   "metadata": {
    "papermill": {
     "duration": 0.018802,
     "end_time": "2021-01-20T06:34:03.615638",
     "exception": false,
     "start_time": "2021-01-20T06:34:03.596836",
     "status": "completed"
    },
    "tags": []
   },
   "source": [
    "## Recent performance"
   ]
  },
  {
   "cell_type": "code",
   "execution_count": 8,
   "metadata": {
    "execution": {
     "iopub.execute_input": "2021-01-20T06:34:03.679328Z",
     "iopub.status.busy": "2021-01-20T06:34:03.678786Z",
     "iopub.status.idle": "2021-01-20T06:34:03.963565Z",
     "shell.execute_reply": "2021-01-20T06:34:03.964003Z",
     "shell.execute_reply.started": "2020-11-26T06:23:03.327788Z"
    },
    "papermill": {
     "duration": 0.329407,
     "end_time": "2021-01-20T06:34:03.964137",
     "exception": false,
     "start_time": "2021-01-20T06:34:03.634730",
     "status": "completed"
    },
    "tags": []
   },
   "outputs": [
    {
     "data": {
      "image/png": "[encoded data removed]",
      "text/plain": [
       "<Figure size 576x324 with 1 Axes>"
      ]
     },
     "metadata": {
      "needs_background": "light"
     },
     "output_type": "display_data"
    }
   ],
   "source": [
    "fig, ax = plt.subplots(figsize=(8, 4.5))\n",
    "portfolio_return.tail(252 * 2).plot(ax=ax, logy=True);\n",
    "ax.set_title('Commodity term structure portfolio')\n",
    "ax.set_ylabel('Cumulative returns');"
   ]
  },
  {
   "cell_type": "markdown",
   "metadata": {
    "papermill": {
     "duration": 0.01983,
     "end_time": "2021-01-20T06:34:04.003822",
     "exception": false,
     "start_time": "2021-01-20T06:34:03.983992",
     "status": "completed"
    },
    "tags": []
   },
   "source": [
    "## Carry\n",
    "\n",
    "The chart below shows the current annualised carry (1y average) across contracts."
   ]
  },
  {
   "cell_type": "code",
   "execution_count": 9,
   "metadata": {
    "ExecuteTime": {
     "end_time": "2020-09-02T20:44:34.552570Z",
     "start_time": "2020-09-02T20:44:34.362169Z"
    },
    "execution": {
     "iopub.execute_input": "2021-01-20T06:34:04.066247Z",
     "iopub.status.busy": "2021-01-20T06:34:04.065692Z",
     "iopub.status.idle": "2021-01-20T06:34:04.386746Z",
     "shell.execute_reply": "2021-01-20T06:34:04.386214Z",
     "shell.execute_reply.started": "2020-11-26T06:23:03.546101Z"
    },
    "papermill": {
     "duration": 0.363327,
     "end_time": "2021-01-20T06:34:04.386859",
     "exception": false,
     "start_time": "2021-01-20T06:34:04.023532",
     "status": "completed"
    },
    "tags": []
   },
   "outputs": [
    {
     "data": {
      "image/png": "[encoded data removed]",
      "text/plain": [
       "<Figure size 1008x288 with 1 Axes>"
      ]
     },
     "metadata": {
      "needs_background": "light"
     },
     "output_type": "display_data"
    }
   ],
   "source": [
    "fig, ax = plt.subplots(figsize=(14, 4))\n",
    "(engine.pipeline.pipeline[0].carry.rolling(252).mean().asfreq('m', method='pad').tail(1).squeeze().sort_values()\n",
    " .rename(index=all_futures_hollstein2020.squeeze())\n",
    " .plot(kind='bar', ax=ax));\n",
    "ax.yaxis.set_major_formatter(mticker.PercentFormatter(1, decimals=0))\n",
    "ax.axhline(0, color='black', lw=1, ls='--')\n",
    "ax.set_ylabel('Annualised carry');"
   ]
  },
  {
   "cell_type": "markdown",
   "metadata": {
    "papermill": {
     "duration": 0.020818,
     "end_time": "2021-01-20T06:34:04.428930",
     "exception": false,
     "start_time": "2021-01-20T06:34:04.408112",
     "status": "completed"
    },
    "tags": []
   },
   "source": [
    "Carry for natural gas tends to have extreme values in winter."
   ]
  },
  {
   "cell_type": "code",
   "execution_count": 10,
   "metadata": {
    "execution": {
     "iopub.execute_input": "2021-01-20T06:34:04.492742Z",
     "iopub.status.busy": "2021-01-20T06:34:04.487712Z",
     "iopub.status.idle": "2021-01-20T06:34:04.724330Z",
     "shell.execute_reply": "2021-01-20T06:34:04.723793Z",
     "shell.execute_reply.started": "2020-11-26T06:23:03.796481Z"
    },
    "papermill": {
     "duration": 0.274999,
     "end_time": "2021-01-20T06:34:04.724442",
     "exception": false,
     "start_time": "2021-01-20T06:34:04.449443",
     "status": "completed"
    },
    "tags": []
   },
   "outputs": [
    {
     "data": {
      "image/png": "[encoded data removed]",
      "text/plain": [
       "<Figure size 1008x288 with 1 Axes>"
      ]
     },
     "metadata": {
      "needs_background": "light"
     },
     "output_type": "display_data"
    }
   ],
   "source": [
    "fig, ax = plt.subplots(figsize=(14, 4))\n",
    "engine.pipeline.pipeline[0].carry.loc['2010':, 'NG'].plot(ax=ax, label='Natural gas');\n",
    "engine.pipeline.pipeline[0].carry.rolling(252).mean().loc['2010':, 'NG'].plot(ax=ax, label='Natural gas (1y average)');\n",
    "ax.yaxis.set_major_formatter(mticker.PercentFormatter(1, decimals=0))\n",
    "ax.axhline(0, color='black', lw=1, ls='--')\n",
    "ax.legend();\n",
    "ax.set_ylabel('Annualised carry');"
   ]
  },
  {
   "cell_type": "markdown",
   "metadata": {
    "papermill": {
     "duration": 0.021871,
     "end_time": "2021-01-20T06:34:04.768665",
     "exception": false,
     "start_time": "2021-01-20T06:34:04.746794",
     "status": "completed"
    },
    "tags": []
   },
   "source": [
    "## Without carry smoothening\n",
    "\n",
    "The carry smoothening does not seem critical when constructing a portfolio. In fact, the portfolio without carry smoothening had higher volatility and Sharpe ratio, although recently it suffered a larger drawdown."
   ]
  },
  {
   "cell_type": "code",
   "execution_count": 11,
   "metadata": {
    "execution": {
     "iopub.execute_input": "2021-01-20T06:34:04.818801Z",
     "iopub.status.busy": "2021-01-20T06:34:04.818258Z",
     "iopub.status.idle": "2021-01-20T07:07:48.212240Z",
     "shell.execute_reply": "2021-01-20T07:07:48.212665Z",
     "shell.execute_reply.started": "2020-11-26T06:23:03.981985Z"
    },
    "papermill": {
     "duration": 2023.421934,
     "end_time": "2021-01-20T07:07:48.212813",
     "exception": false,
     "start_time": "2021-01-20T06:34:04.790879",
     "status": "completed"
    },
    "tags": []
   },
   "outputs": [],
   "source": [
    "engine_wo_sma = BacktestEngine(\n",
    "    strategy=Strategy.DELTA_ONE.value,\n",
    "    instrument=all_futures_hollstein2020.index,\n",
    "    signal=signal.XSCarryFutureFuture(nth_expiry_shift=1, \n",
    "                                      post_process=processing.Pipeline([\n",
    "                                          processing.AsFreq(freq='m', method='pad')\n",
    "                                      ])),\n",
    "    log_level=logging.WARN,\n",
    ")\n",
    "engine_wo_sma.run()"
   ]
  },
  {
   "cell_type": "code",
   "execution_count": 12,
   "metadata": {
    "execution": {
     "iopub.execute_input": "2021-01-20T07:07:48.510972Z",
     "iopub.status.busy": "2021-01-20T07:07:48.300997Z",
     "iopub.status.idle": "2021-01-20T07:09:24.947243Z",
     "shell.execute_reply": "2021-01-20T07:09:24.946745Z",
     "shell.execute_reply.started": "2020-11-26T06:52:52.907985Z"
    },
    "papermill": {
     "duration": 96.712508,
     "end_time": "2021-01-20T07:09:24.947357",
     "exception": false,
     "start_time": "2021-01-20T07:07:48.234849",
     "status": "completed"
    },
    "tags": []
   },
   "outputs": [],
   "source": [
    "portfolio_return_wo_sma = (engine_wo_sma.calculate_equity_curve(calculate_net=False)\n",
    "                           .rename('Commodity term structure portfolio (w/o carry smoothening)'))"
   ]
  },
  {
   "cell_type": "code",
   "execution_count": 13,
   "metadata": {
    "execution": {
     "iopub.execute_input": "2021-01-20T07:09:25.009659Z",
     "iopub.status.busy": "2021-01-20T07:09:24.995298Z",
     "iopub.status.idle": "2021-01-20T07:09:25.499760Z",
     "shell.execute_reply": "2021-01-20T07:09:25.499204Z",
     "shell.execute_reply.started": "2020-11-26T06:54:15.387959Z"
    },
    "papermill": {
     "duration": 0.530679,
     "end_time": "2021-01-20T07:09:25.499873",
     "exception": false,
     "start_time": "2021-01-20T07:09:24.969194",
     "status": "completed"
    },
    "tags": []
   },
   "outputs": [
    {
     "data": {
      "image/png": "[encoded data removed]",
      "text/plain": [
       "<Figure size 576x324 with 1 Axes>"
      ]
     },
     "metadata": {
      "needs_background": "light"
     },
     "output_type": "display_data"
    }
   ],
   "source": [
    "fig, ax = plt.subplots(figsize=(8, 4.5))\n",
    "portfolio_return.plot(ax=ax, logy=True, label='with carry smoothening');\n",
    "portfolio_return_wo_sma.plot(ax=ax, logy=True, label='without carry smoothening');\n",
    "ax.set_title('Commodity term structure portfolio')\n",
    "ax.set_ylabel('Cumulative returns')\n",
    "ax.legend();"
   ]
  },
  {
   "cell_type": "code",
   "execution_count": 14,
   "metadata": {
    "execution": {
     "iopub.execute_input": "2021-01-20T07:09:25.555088Z",
     "iopub.status.busy": "2021-01-20T07:09:25.554574Z",
     "iopub.status.idle": "2021-01-20T07:09:26.085834Z",
     "shell.execute_reply": "2021-01-20T07:09:26.085297Z",
     "shell.execute_reply.started": "2020-11-26T06:54:15.780012Z"
    },
    "papermill": {
     "duration": 0.562268,
     "end_time": "2021-01-20T07:09:26.085945",
     "exception": false,
     "start_time": "2021-01-20T07:09:25.523677",
     "status": "completed"
    },
    "tags": []
   },
   "outputs": [
    {
     "data": {
      "text/html": [
       "<div>\n",
       "<style scoped>\n",
       "    .dataframe tbody tr th:only-of-type {\n",
       "        vertical-align: middle;\n",
       "    }\n",
       "\n",
       "    .dataframe tbody tr th {\n",
       "        vertical-align: top;\n",
       "    }\n",
       "\n",
       "    .dataframe thead th {\n",
       "        text-align: right;\n",
       "    }\n",
       "</style>\n",
       "<table border=\"1\" class=\"dataframe\">\n",
       "  <thead>\n",
       "    <tr style=\"text-align: right;\">\n",
       "      <th></th>\n",
       "      <th>Commodity term structure portfolio</th>\n",
       "      <th>Commodity term structure portfolio (w/o carry smoothening)</th>\n",
       "    </tr>\n",
       "  </thead>\n",
       "  <tbody>\n",
       "    <tr>\n",
       "      <th>annualised return</th>\n",
       "      <td>0.066851</td>\n",
       "      <td>0.116893</td>\n",
       "    </tr>\n",
       "    <tr>\n",
       "      <th>annualised vol</th>\n",
       "      <td>0.113334</td>\n",
       "      <td>0.161142</td>\n",
       "    </tr>\n",
       "    <tr>\n",
       "      <th>Sharpe ratio</th>\n",
       "      <td>0.589862</td>\n",
       "      <td>0.725402</td>\n",
       "    </tr>\n",
       "    <tr>\n",
       "      <th>max drawdown</th>\n",
       "      <td>0.335821</td>\n",
       "      <td>0.473483</td>\n",
       "    </tr>\n",
       "    <tr>\n",
       "      <th>Calmar ratio</th>\n",
       "      <td>0.199069</td>\n",
       "      <td>0.246879</td>\n",
       "    </tr>\n",
       "    <tr>\n",
       "      <th>skewness</th>\n",
       "      <td>-0.134512</td>\n",
       "      <td>-0.050595</td>\n",
       "    </tr>\n",
       "    <tr>\n",
       "      <th>kurtosis</th>\n",
       "      <td>2.574005</td>\n",
       "      <td>5.373979</td>\n",
       "    </tr>\n",
       "    <tr>\n",
       "      <th>worst return</th>\n",
       "      <td>-0.073517</td>\n",
       "      <td>-0.140873</td>\n",
       "    </tr>\n",
       "    <tr>\n",
       "      <th>worst 1d return</th>\n",
       "      <td>-0.073517</td>\n",
       "      <td>-0.140873</td>\n",
       "    </tr>\n",
       "    <tr>\n",
       "      <th>worst 1w return</th>\n",
       "      <td>-0.094895</td>\n",
       "      <td>-0.125046</td>\n",
       "    </tr>\n",
       "    <tr>\n",
       "      <th>worst 1m return</th>\n",
       "      <td>-0.169116</td>\n",
       "      <td>-0.207643</td>\n",
       "    </tr>\n",
       "  </tbody>\n",
       "</table>\n",
       "</div>"
      ],
      "text/plain": [
       "                   Commodity term structure portfolio  \\\n",
       "annualised return                            0.066851   \n",
       "annualised vol                               0.113334   \n",
       "Sharpe ratio                                 0.589862   \n",
       "max drawdown                                 0.335821   \n",
       "Calmar ratio                                 0.199069   \n",
       "skewness                                    -0.134512   \n",
       "kurtosis                                     2.574005   \n",
       "worst return                                -0.073517   \n",
       "worst 1d return                             -0.073517   \n",
       "worst 1w return                             -0.094895   \n",
       "worst 1m return                             -0.169116   \n",
       "\n",
       "                   Commodity term structure portfolio (w/o carry smoothening)  \n",
       "annualised return                                           0.116893           \n",
       "annualised vol                                              0.161142           \n",
       "Sharpe ratio                                                0.725402           \n",
       "max drawdown                                                0.473483           \n",
       "Calmar ratio                                                0.246879           \n",
       "skewness                                                   -0.050595           \n",
       "kurtosis                                                    5.373979           \n",
       "worst return                                               -0.140873           \n",
       "worst 1d return                                            -0.140873           \n",
       "worst 1w return                                            -0.125046           \n",
       "worst 1m return                                            -0.207643           "
      ]
     },
     "execution_count": 14,
     "metadata": {},
     "output_type": "execute_result"
    }
   ],
   "source": [
    "pd.concat((\n",
    "    portfolio_return.pipe(Performance).summary(),\n",
    "    portfolio_return_wo_sma.pipe(Performance).summary(),\n",
    "), axis=1)"
   ]
  },
  {
   "cell_type": "markdown",
   "metadata": {
    "papermill": {
     "duration": 0.023311,
     "end_time": "2021-01-20T07:09:26.133000",
     "exception": false,
     "start_time": "2021-01-20T07:09:26.109689",
     "status": "completed"
    },
    "tags": []
   },
   "source": [
    "# Reference\n",
    "- Bakshi, G., Gao, X. and Rossi, A.G., 2019. Understanding the sources of risk underlying the cross section of commodity returns. Management Science, 65(2), pp.619-641.\n",
    "- Hollstein, F., Prokopczuk, M. and Tharann, B., 2020. Anomalies in commodity futures markets: Risk or mispricing?. Available at SSRN.\n",
    "- Koijen, R.S., Moskowitz, T.J., Pedersen, L.H. and Vrugt, E.B., 2018. Carry. Journal of Financial Economics, 127(2), pp.197-225."
   ]
  },
  {
   "cell_type": "code",
   "execution_count": 15,
   "metadata": {
    "ExecuteTime": {
     "end_time": "2020-08-31T05:52:23.734170Z",
     "start_time": "2020-08-31T05:52:23.731627Z"
    },
    "execution": {
     "iopub.execute_input": "2021-01-20T07:09:26.184051Z",
     "iopub.status.busy": "2021-01-20T07:09:26.183530Z",
     "iopub.status.idle": "2021-01-20T07:09:26.186124Z",
     "shell.execute_reply": "2021-01-20T07:09:26.185694Z",
     "shell.execute_reply.started": "2020-11-26T06:54:16.160058Z"
    },
    "papermill": {
     "duration": 0.029877,
     "end_time": "2021-01-20T07:09:26.186234",
     "exception": false,
     "start_time": "2021-01-20T07:09:26.156357",
     "status": "completed"
    },
    "tags": []
   },
   "outputs": [
    {
     "name": "stdout",
     "output_type": "stream",
     "text": [
      "Updated: 20-Jan-2021 07:09\n"
     ]
    }
   ],
   "source": [
    "print(f'Updated: {datetime.utcnow().strftime(\"%d-%b-%Y %H:%M\")}')"
   ]
  }
 ],
 "metadata": {
  "kernelspec": {
   "display_name": "Python 3",
   "language": "python",
   "name": "python3"
  },
  "language_info": {
   "codemirror_mode": {
    "name": "ipython",
    "version": 3
   },
   "file_extension": ".py",
   "mimetype": "text/x-python",
   "name": "python",
   "nbconvert_exporter": "python",
   "pygments_lexer": "ipython3",
   "version": "3.8.2"
  },
  "papermill": {
   "default_parameters": {},
   "duration": 4144.253036,
   "end_time": "2021-01-20T07:09:28.791151",
   "environment_variables": {},
   "exception": null,
   "input_path": "notebooks/papermill/commodity_term_structure.ipynb",
   "output_path": "notebooks/commodity_term_structure.ipynb",
   "parameters": {},
   "start_time": "2021-01-20T06:00:24.538115",
   "version": "2.2.2"
  },
  "toc": {
   "base_numbering": 1,
   "nav_menu": {},
   "number_sections": true,
   "sideBar": true,
   "skip_h1_title": false,
   "title_cell": "Table of Contents",
   "title_sidebar": "Contents",
   "toc_cell": true,
   "toc_position": {
    "height": "calc(100% - 180px)",
    "left": "10px",
    "top": "150px",
    "width": "165px"
   },
   "toc_section_display": true,
   "toc_window_display": true
  },
  "toc-autonumbering": true,
  "toc-showmarkdowntxt": true,
  "toc-showtags": false
 },
 "nbformat": 4,
 "nbformat_minor": 4
}