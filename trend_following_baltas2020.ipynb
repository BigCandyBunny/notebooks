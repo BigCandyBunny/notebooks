{
 "cells": [
  {
   "cell_type": "markdown",
   "id": "359ae535",
   "metadata": {
    "papermill": {
     "duration": 0.033786,
     "end_time": "2021-09-18T08:36:15.296020",
     "exception": false,
     "start_time": "2021-09-18T08:36:15.262234",
     "status": "completed"
    },
    "tags": []
   },
   "source": [
    "# Trend-following\n",
    "\n",
    "This notebook implements a few improvements that Baltas and Kosowski (2020) (BK2020, hereafter) propose to the time-series momentum strategy which originally appeared in Moskowitz et al (2012).\n",
    "\n",
    "Note that like other notebooks, all backtests are performed by using a private library called `vivace`."
   ]
  },
  {
   "cell_type": "code",
   "execution_count": 1,
   "id": "c71c3d06",
   "metadata": {
    "ExecuteTime": {
     "end_time": "2020-08-30T21:08:49.524262Z",
     "start_time": "2020-08-30T21:08:48.720115Z"
    },
    "execution": {
     "iopub.execute_input": "2021-09-18T08:36:15.368418Z",
     "iopub.status.busy": "2021-09-18T08:36:15.367891Z",
     "iopub.status.idle": "2021-09-18T08:36:18.191216Z",
     "shell.execute_reply": "2021-09-18T08:36:18.191671Z",
     "shell.execute_reply.started": "2020-11-29T13:12:07.955569Z"
    },
    "papermill": {
     "duration": 2.865914,
     "end_time": "2021-09-18T08:36:18.191873",
     "exception": false,
     "start_time": "2021-09-18T08:36:15.325959",
     "status": "completed"
    },
    "tags": []
   },
   "outputs": [],
   "source": [
    "%matplotlib inline\n",
    "from datetime import datetime\n",
    "import logging\n",
    "import warnings\n",
    "warnings.simplefilter(action='ignore', category=FutureWarning)\n",
    "\n",
    "import pandas as pd\n",
    "import matplotlib.pyplot as plt\n",
    "import matplotlib.ticker as mticker\n",
    "plt.style.use('bmh')\n",
    "\n",
    "from vivace.backtest import signal\n",
    "from vivace.backtest import processing\n",
    "from vivace.backtest.contract import all_futures_baltas2020\n",
    "from vivace.backtest.engine import BacktestEngine\n",
    "from vivace.backtest.enums import Strategy, Weighting, RealisedVolatility\n",
    "from vivace.backtest.stats import Performance"
   ]
  },
  {
   "cell_type": "markdown",
   "id": "3a288074",
   "metadata": {
    "papermill": {
     "duration": 0.0342,
     "end_time": "2021-09-18T08:36:18.256857",
     "exception": false,
     "start_time": "2021-09-18T08:36:18.222657",
     "status": "completed"
    },
    "tags": []
   },
   "source": [
    "# Data"
   ]
  },
  {
   "cell_type": "code",
   "execution_count": 2,
   "id": "06e95ec3",
   "metadata": {
    "ExecuteTime": {
     "end_time": "2020-08-30T21:08:49.529214Z",
     "start_time": "2020-08-30T21:08:49.525465Z"
    },
    "execution": {
     "iopub.execute_input": "2021-09-18T08:36:18.328204Z",
     "iopub.status.busy": "2021-09-18T08:36:18.327538Z",
     "iopub.status.idle": "2021-09-18T08:36:18.329981Z",
     "shell.execute_reply": "2021-09-18T08:36:18.330413Z",
     "shell.execute_reply.started": "2020-11-29T13:12:08.940280Z"
    },
    "papermill": {
     "duration": 0.039457,
     "end_time": "2021-09-18T08:36:18.330546",
     "exception": false,
     "start_time": "2021-09-18T08:36:18.291089",
     "status": "completed"
    },
    "tags": []
   },
   "outputs": [
    {
     "data": {
      "text/plain": [
       "array(['WTI Crude Oil', 'Brent Crude Oil', 'Heating Oil', 'Natural Gas',\n",
       "       'Gasoline', 'Copper', 'Gold', 'Palladium', 'Platinum', 'Silver',\n",
       "       'Feeder Cattle', 'Live Cattle', 'Lean Hog', 'Corn', 'Oats',\n",
       "       'Soybean Oil', 'Soybean Meal', 'Soybean', 'Wheat', 'Cocoa',\n",
       "       'Coffee', 'Cotton', 'Lumber', 'Orange Juice', 'Sugar',\n",
       "       'Australian Dollar', 'Canadian Dollar', 'Swiss Franc', 'Euro',\n",
       "       'British Pound', 'Japanese Yen', 'E-Mini Nasdaq 100',\n",
       "       'E-mini S&P 500', 'E-mini Russell 2000', 'FTSE 100', 'DAX',\n",
       "       'CAC 40', 'IBEX 35', 'AEX', 'Swiss Market Index', 'SPI 200',\n",
       "       'Topix', 'Hang Seng', 'US 2-year Treasury', 'US 5-year Treasury',\n",
       "       'US 10-year Treasury', 'US treasury Bond', 'Germany Schatz',\n",
       "       'Germany Bobl', 'Germany Bund', 'Germany Buxl', 'Gilt',\n",
       "       'Canada 10-year Treasury', 'JGB'], dtype=object)"
      ]
     },
     "execution_count": 2,
     "metadata": {},
     "output_type": "execute_result"
    }
   ],
   "source": [
    "all_futures_baltas2020['name'].values"
   ]
  },
  {
   "cell_type": "code",
   "execution_count": 3,
   "id": "04b57b20",
   "metadata": {
    "ExecuteTime": {
     "end_time": "2020-08-30T21:08:49.542477Z",
     "start_time": "2020-08-30T21:08:49.530487Z"
    },
    "execution": {
     "iopub.execute_input": "2021-09-18T08:36:18.404042Z",
     "iopub.status.busy": "2021-09-18T08:36:18.403436Z",
     "iopub.status.idle": "2021-09-18T08:36:18.405599Z",
     "shell.execute_reply": "2021-09-18T08:36:18.406032Z",
     "shell.execute_reply.started": "2020-11-29T13:12:08.945057Z"
    },
    "papermill": {
     "duration": 0.03791,
     "end_time": "2021-09-18T08:36:18.406169",
     "exception": false,
     "start_time": "2021-09-18T08:36:18.368259",
     "status": "completed"
    },
    "tags": []
   },
   "outputs": [
    {
     "name": "stdout",
     "output_type": "stream",
     "text": [
      "54\n"
     ]
    }
   ],
   "source": [
    "print(len(all_futures_baltas2020))"
   ]
  },
  {
   "cell_type": "markdown",
   "id": "eb77adf2",
   "metadata": {
    "papermill": {
     "duration": 0.042165,
     "end_time": "2021-09-18T08:36:18.479461",
     "exception": false,
     "start_time": "2021-09-18T08:36:18.437296",
     "status": "completed"
    },
    "tags": []
   },
   "source": [
    "We try to use the same contract as the original paper where possible, resulting 54 futures contracts to analyse. The trading universe covers a wide range of asset classes and regions, and is made up of following instruments:\n",
    "- Equity index futures\n",
    "- Government bond futures\n",
    "- FX futures\n",
    "- Commodity futures\n",
    "\n",
    "where the same trend detection method is applied."
   ]
  },
  {
   "cell_type": "markdown",
   "id": "15832694",
   "metadata": {
    "papermill": {
     "duration": 0.046535,
     "end_time": "2021-09-18T08:36:18.576884",
     "exception": false,
     "start_time": "2021-09-18T08:36:18.530349",
     "status": "completed"
    },
    "tags": []
   },
   "source": [
    "# Performance\n"
   ]
  },
  {
   "cell_type": "markdown",
   "id": "ee35f2db",
   "metadata": {
    "papermill": {
     "duration": 0.035128,
     "end_time": "2021-09-18T08:36:18.646333",
     "exception": false,
     "start_time": "2021-09-18T08:36:18.611205",
     "status": "completed"
    },
    "tags": []
   },
   "source": [
    "## Moskowitz et al\n",
    "\n",
    "First we calculate the original trend-following portfolio with a more traditional close-to-close realised volatility estimator. Although Moskowitz et al uses the exponentially weighted standard deviation, BK2020 appears to compare against the rolling standard deviation."
   ]
  },
  {
   "cell_type": "code",
   "execution_count": 4,
   "id": "31c9e1b7",
   "metadata": {
    "execution": {
     "iopub.execute_input": "2021-09-18T08:36:18.719720Z",
     "iopub.status.busy": "2021-09-18T08:36:18.719182Z",
     "iopub.status.idle": "2021-09-18T08:45:30.259313Z",
     "shell.execute_reply": "2021-09-18T08:45:30.258731Z",
     "shell.execute_reply.started": "2020-11-29T13:12:08.958110Z"
    },
    "papermill": {
     "duration": 551.578119,
     "end_time": "2021-09-18T08:45:30.259437",
     "exception": false,
     "start_time": "2021-09-18T08:36:18.681318",
     "status": "completed"
    },
    "tags": []
   },
   "outputs": [],
   "source": [
    "engine_original = BacktestEngine(\n",
    "    strategy=Strategy.DELTA_ONE.value,\n",
    "    instrument=all_futures_baltas2020.index,\n",
    "    signal=signal.ParallelSignal([\n",
    "        signal.VolatilityScale(agg_method='rolling', window=21, ann_factor=261, \n",
    "                               target_volatility=0.4, signal_cap=0.95),\n",
    "        signal.TSMOMMoskowitz2012(post_process=processing.AsFreq(freq='m', method='pad'))\n",
    "    ], weighting='product'),\n",
    "    weighting=Weighting.EQUAL_WEIGHT.value,\n",
    "    log_level=logging.WARN,\n",
    ")\n",
    "engine_original.run()"
   ]
  },
  {
   "cell_type": "code",
   "execution_count": 5,
   "id": "b773b375",
   "metadata": {
    "execution": {
     "iopub.execute_input": "2021-09-18T08:45:30.733230Z",
     "iopub.status.busy": "2021-09-18T08:45:30.332698Z",
     "iopub.status.idle": "2021-09-18T08:46:46.232716Z",
     "shell.execute_reply": "2021-09-18T08:46:46.232155Z",
     "shell.execute_reply.started": "2020-11-29T13:18:03.984259Z"
    },
    "papermill": {
     "duration": 75.942438,
     "end_time": "2021-09-18T08:46:46.232833",
     "exception": false,
     "start_time": "2021-09-18T08:45:30.290395",
     "status": "completed"
    },
    "tags": []
   },
   "outputs": [],
   "source": [
    "engine_original_eq = (engine_original.calculate_equity_curve(calculate_net=False, rebalance_freq='m')\n",
    "                      .rename('Trend-following portfolio (Moskowitz 2012)'))"
   ]
  },
  {
   "cell_type": "code",
   "execution_count": 6,
   "id": "327bfc42",
   "metadata": {
    "execution": {
     "iopub.execute_input": "2021-09-18T08:46:46.318242Z",
     "iopub.status.busy": "2021-09-18T08:46:46.317700Z",
     "iopub.status.idle": "2021-09-18T08:46:47.006249Z",
     "shell.execute_reply": "2021-09-18T08:46:47.005723Z",
     "shell.execute_reply.started": "2020-11-29T13:18:53.828767Z"
    },
    "papermill": {
     "duration": 0.742482,
     "end_time": "2021-09-18T08:46:47.006360",
     "exception": false,
     "start_time": "2021-09-18T08:46:46.263878",
     "status": "completed"
    },
    "tags": []
   },
   "outputs": [
    {
     "data": {
      "image/png": "[encoded data removed]",
      "text/plain": [
       "<Figure size 576x324 with 1 Axes>"
      ]
     },
     "metadata": {
      "needs_background": "light"
     },
     "output_type": "display_data"
    }
   ],
   "source": [
    "fig, ax = plt.subplots(figsize=(8, 4.5))\n",
    "engine_original_eq.plot(ax=ax, logy=True)\n",
    "ax.set_title('Trend-following portfolio (Moskowitz 2012)')\n",
    "ax.set_ylabel('Cumulative returns');"
   ]
  },
  {
   "cell_type": "code",
   "execution_count": 7,
   "id": "60c33fc9",
   "metadata": {
    "execution": {
     "iopub.execute_input": "2021-09-18T08:46:47.073785Z",
     "iopub.status.busy": "2021-09-18T08:46:47.073265Z",
     "iopub.status.idle": "2021-09-18T08:46:47.102443Z",
     "shell.execute_reply": "2021-09-18T08:46:47.101911Z",
     "shell.execute_reply.started": "2020-11-29T13:18:54.295145Z"
    },
    "papermill": {
     "duration": 0.064535,
     "end_time": "2021-09-18T08:46:47.102554",
     "exception": false,
     "start_time": "2021-09-18T08:46:47.038019",
     "status": "completed"
    },
    "tags": []
   },
   "outputs": [
    {
     "data": {
      "text/html": [
       "<div>\n",
       "<style scoped>\n",
       "    .dataframe tbody tr th:only-of-type {\n",
       "        vertical-align: middle;\n",
       "    }\n",
       "\n",
       "    .dataframe tbody tr th {\n",
       "        vertical-align: top;\n",
       "    }\n",
       "\n",
       "    .dataframe thead th {\n",
       "        text-align: right;\n",
       "    }\n",
       "</style>\n",
       "<table border=\"1\" class=\"dataframe\">\n",
       "  <thead>\n",
       "    <tr style=\"text-align: right;\">\n",
       "      <th></th>\n",
       "      <th>Trend-following portfolio (Moskowitz 2012)</th>\n",
       "    </tr>\n",
       "  </thead>\n",
       "  <tbody>\n",
       "    <tr>\n",
       "      <th>CAGR</th>\n",
       "      <td>0.146393</td>\n",
       "    </tr>\n",
       "    <tr>\n",
       "      <th>Annualised vol</th>\n",
       "      <td>0.124663</td>\n",
       "    </tr>\n",
       "    <tr>\n",
       "      <th>Sharpe ratio</th>\n",
       "      <td>1.174307</td>\n",
       "    </tr>\n",
       "    <tr>\n",
       "      <th>Max drawdown</th>\n",
       "      <td>0.259239</td>\n",
       "    </tr>\n",
       "    <tr>\n",
       "      <th>Calmar ratio</th>\n",
       "      <td>0.564701</td>\n",
       "    </tr>\n",
       "    <tr>\n",
       "      <th>Skewness</th>\n",
       "      <td>0.116697</td>\n",
       "    </tr>\n",
       "    <tr>\n",
       "      <th>Kurtosis</th>\n",
       "      <td>19.525891</td>\n",
       "    </tr>\n",
       "    <tr>\n",
       "      <th>Worst return</th>\n",
       "      <td>-0.126276</td>\n",
       "    </tr>\n",
       "    <tr>\n",
       "      <th>Worst 1d return</th>\n",
       "      <td>-0.126276</td>\n",
       "    </tr>\n",
       "    <tr>\n",
       "      <th>Worst 1w return</th>\n",
       "      <td>-0.168665</td>\n",
       "    </tr>\n",
       "    <tr>\n",
       "      <th>Worst 1m return</th>\n",
       "      <td>-0.178303</td>\n",
       "    </tr>\n",
       "  </tbody>\n",
       "</table>\n",
       "</div>"
      ],
      "text/plain": [
       "                 Trend-following portfolio (Moskowitz 2012)\n",
       "CAGR                                               0.146393\n",
       "Annualised vol                                     0.124663\n",
       "Sharpe ratio                                       1.174307\n",
       "Max drawdown                                       0.259239\n",
       "Calmar ratio                                       0.564701\n",
       "Skewness                                           0.116697\n",
       "Kurtosis                                          19.525891\n",
       "Worst return                                      -0.126276\n",
       "Worst 1d return                                   -0.126276\n",
       "Worst 1w return                                   -0.168665\n",
       "Worst 1m return                                   -0.178303"
      ]
     },
     "execution_count": 7,
     "metadata": {},
     "output_type": "execute_result"
    }
   ],
   "source": [
    "engine_original_eq.pipe(Performance).summary()"
   ]
  },
  {
   "cell_type": "markdown",
   "id": "3967140e",
   "metadata": {
    "papermill": {
     "duration": 0.031738,
     "end_time": "2021-09-18T08:46:47.166142",
     "exception": false,
     "start_time": "2021-09-18T08:46:47.134404",
     "status": "completed"
    },
    "tags": []
   },
   "source": [
    "\n",
    "## Volatility estimator\n",
    "BK2020 proposes a few changes in order to enhance the original trend-following strategy Moskowitz et al reported. The first thing is to use a more sophisticated realised volatility estimators for volatility scaling. Moskowitz used the exponentially weighted standard deviation with close-to-close. On the other hand, BK2020 suggests to use Yang-Zhang estimator as it is much more efficient."
   ]
  },
  {
   "cell_type": "code",
   "execution_count": 8,
   "id": "25dc6335",
   "metadata": {
    "ExecuteTime": {
     "end_time": "2020-08-30T21:18:24.661167Z",
     "start_time": "2020-08-30T21:08:49.544232Z"
    },
    "execution": {
     "iopub.execute_input": "2021-09-18T08:46:47.236584Z",
     "iopub.status.busy": "2021-09-18T08:46:47.236061Z",
     "iopub.status.idle": "2021-09-18T09:04:53.035126Z",
     "shell.execute_reply": "2021-09-18T09:04:53.034544Z",
     "shell.execute_reply.started": "2020-11-29T13:18:54.469866Z"
    },
    "papermill": {
     "duration": 1085.837182,
     "end_time": "2021-09-18T09:04:53.035243",
     "exception": false,
     "start_time": "2021-09-18T08:46:47.198061",
     "status": "completed"
    },
    "tags": []
   },
   "outputs": [],
   "source": [
    "engine_vol = BacktestEngine(\n",
    "    strategy=Strategy.DELTA_ONE.value,\n",
    "    instrument=all_futures_baltas2020.index,\n",
    "    signal=signal.ParallelSignal([\n",
    "        signal.VolatilityScale(volatility_type=RealisedVolatility.YZ.value,\n",
    "                               agg_method='rolling', window=21, min_periods=10,\n",
    "                               target_volatility=0.4, signal_cap=0.95, ann_factor=261),\n",
    "        signal.TSMOMMoskowitz2012(post_process=processing.AsFreq(freq='m', method='pad'))\n",
    "    ], weighting='product'),\n",
    "    weighting=Weighting.EQUAL_WEIGHT.value,\n",
    "    log_level=logging.WARN,\n",
    ")\n",
    "engine_vol.run()"
   ]
  },
  {
   "cell_type": "code",
   "execution_count": 9,
   "id": "d40098b9",
   "metadata": {
    "execution": {
     "iopub.execute_input": "2021-09-18T09:04:53.247186Z",
     "iopub.status.busy": "2021-09-18T09:04:53.151378Z",
     "iopub.status.idle": "2021-09-18T09:06:03.939385Z",
     "shell.execute_reply": "2021-09-18T09:06:03.938844Z",
     "shell.execute_reply.started": "2020-11-29T13:31:00.559296Z"
    },
    "papermill": {
     "duration": 70.871337,
     "end_time": "2021-09-18T09:06:03.939499",
     "exception": false,
     "start_time": "2021-09-18T09:04:53.068162",
     "status": "completed"
    },
    "tags": []
   },
   "outputs": [],
   "source": [
    "engine_vol_eq = (engine_vol.calculate_equity_curve(calculate_net=False, rebalance_freq='m')\n",
    "                 .rename('Trend-following portfolio (YZ estimator)'))"
   ]
  },
  {
   "cell_type": "code",
   "execution_count": 10,
   "id": "f48afc60",
   "metadata": {
    "execution": {
     "iopub.execute_input": "2021-09-18T09:06:04.010186Z",
     "iopub.status.busy": "2021-09-18T09:06:04.009682Z",
     "iopub.status.idle": "2021-09-18T09:06:04.577114Z",
     "shell.execute_reply": "2021-09-18T09:06:04.577515Z",
     "shell.execute_reply.started": "2020-11-29T13:31:47.913420Z"
    },
    "papermill": {
     "duration": 0.60588,
     "end_time": "2021-09-18T09:06:04.577646",
     "exception": false,
     "start_time": "2021-09-18T09:06:03.971766",
     "status": "completed"
    },
    "tags": []
   },
   "outputs": [
    {
     "data": {
      "image/png": "[encoded data removed]",
      "text/plain": [
       "<Figure size 576x324 with 1 Axes>"
      ]
     },
     "metadata": {
      "needs_background": "light"
     },
     "output_type": "display_data"
    }
   ],
   "source": [
    "fig, ax = plt.subplots(figsize=(8, 4.5))\n",
    "engine_vol_eq.plot(ax=ax, logy=True);\n",
    "ax.set_title('Trend-following portfolio (YZ estimator)')\n",
    "ax.set_ylabel('Cumulative returns');"
   ]
  },
  {
   "cell_type": "code",
   "execution_count": 11,
   "id": "557f3259",
   "metadata": {
    "execution": {
     "iopub.execute_input": "2021-09-18T09:06:04.647865Z",
     "iopub.status.busy": "2021-09-18T09:06:04.647311Z",
     "iopub.status.idle": "2021-09-18T09:06:04.671750Z",
     "shell.execute_reply": "2021-09-18T09:06:04.672150Z",
     "shell.execute_reply.started": "2020-11-29T13:31:48.172339Z"
    },
    "papermill": {
     "duration": 0.061624,
     "end_time": "2021-09-18T09:06:04.672280",
     "exception": false,
     "start_time": "2021-09-18T09:06:04.610656",
     "status": "completed"
    },
    "tags": []
   },
   "outputs": [
    {
     "data": {
      "text/html": [
       "<div>\n",
       "<style scoped>\n",
       "    .dataframe tbody tr th:only-of-type {\n",
       "        vertical-align: middle;\n",
       "    }\n",
       "\n",
       "    .dataframe tbody tr th {\n",
       "        vertical-align: top;\n",
       "    }\n",
       "\n",
       "    .dataframe thead th {\n",
       "        text-align: right;\n",
       "    }\n",
       "</style>\n",
       "<table border=\"1\" class=\"dataframe\">\n",
       "  <thead>\n",
       "    <tr style=\"text-align: right;\">\n",
       "      <th></th>\n",
       "      <th>Trend-following portfolio (YZ estimator)</th>\n",
       "    </tr>\n",
       "  </thead>\n",
       "  <tbody>\n",
       "    <tr>\n",
       "      <th>CAGR</th>\n",
       "      <td>0.147424</td>\n",
       "    </tr>\n",
       "    <tr>\n",
       "      <th>Annualised vol</th>\n",
       "      <td>0.126860</td>\n",
       "    </tr>\n",
       "    <tr>\n",
       "      <th>Sharpe ratio</th>\n",
       "      <td>1.162100</td>\n",
       "    </tr>\n",
       "    <tr>\n",
       "      <th>Max drawdown</th>\n",
       "      <td>0.305877</td>\n",
       "    </tr>\n",
       "    <tr>\n",
       "      <th>Calmar ratio</th>\n",
       "      <td>0.481972</td>\n",
       "    </tr>\n",
       "    <tr>\n",
       "      <th>Skewness</th>\n",
       "      <td>0.327894</td>\n",
       "    </tr>\n",
       "    <tr>\n",
       "      <th>Kurtosis</th>\n",
       "      <td>22.450659</td>\n",
       "    </tr>\n",
       "    <tr>\n",
       "      <th>Worst return</th>\n",
       "      <td>-0.137043</td>\n",
       "    </tr>\n",
       "    <tr>\n",
       "      <th>Worst 1d return</th>\n",
       "      <td>-0.137043</td>\n",
       "    </tr>\n",
       "    <tr>\n",
       "      <th>Worst 1w return</th>\n",
       "      <td>-0.180921</td>\n",
       "    </tr>\n",
       "    <tr>\n",
       "      <th>Worst 1m return</th>\n",
       "      <td>-0.198025</td>\n",
       "    </tr>\n",
       "  </tbody>\n",
       "</table>\n",
       "</div>"
      ],
      "text/plain": [
       "                 Trend-following portfolio (YZ estimator)\n",
       "CAGR                                             0.147424\n",
       "Annualised vol                                   0.126860\n",
       "Sharpe ratio                                     1.162100\n",
       "Max drawdown                                     0.305877\n",
       "Calmar ratio                                     0.481972\n",
       "Skewness                                         0.327894\n",
       "Kurtosis                                        22.450659\n",
       "Worst return                                    -0.137043\n",
       "Worst 1d return                                 -0.137043\n",
       "Worst 1w return                                 -0.180921\n",
       "Worst 1m return                                 -0.198025"
      ]
     },
     "execution_count": 11,
     "metadata": {},
     "output_type": "execute_result"
    }
   ],
   "source": [
    "engine_vol_eq.pipe(Performance).summary()"
   ]
  },
  {
   "cell_type": "markdown",
   "id": "cd904b74",
   "metadata": {
    "papermill": {
     "duration": 0.032856,
     "end_time": "2021-09-18T09:06:04.737746",
     "exception": false,
     "start_time": "2021-09-18T09:06:04.704890",
     "status": "completed"
    },
    "tags": []
   },
   "source": [
    "## TREND signal\n",
    "\n",
    "Another improvement BK2020 proposes is to use a continuous signal rather than a binary one in order to reduce the turnover when signals are weak. Specifically they used the t-values with the Newey-West standard error as the signal. They further capped and floored the signal between -1 and +1 to avoid extreme positions.\n",
    "\n",
    "`statsmodels`'s `OLS` class provides a method to compute the Newey-West standard error. https://www.statsmodels.org/stable/generated/statsmodels.regression.linear_model.OLS.html"
   ]
  },
  {
   "cell_type": "code",
   "execution_count": 12,
   "id": "65c5ad77",
   "metadata": {
    "execution": {
     "iopub.execute_input": "2021-09-18T09:06:04.809392Z",
     "iopub.status.busy": "2021-09-18T09:06:04.808881Z",
     "iopub.status.idle": "2021-09-18T09:21:55.065912Z",
     "shell.execute_reply": "2021-09-18T09:21:55.065440Z",
     "shell.execute_reply.started": "2020-11-29T13:31:48.356714Z"
    },
    "papermill": {
     "duration": 950.295345,
     "end_time": "2021-09-18T09:21:55.066023",
     "exception": false,
     "start_time": "2021-09-18T09:06:04.770678",
     "status": "completed"
    },
    "tags": []
   },
   "outputs": [],
   "source": [
    "engine_trend = BacktestEngine(\n",
    "    strategy=Strategy.DELTA_ONE.value,\n",
    "    instrument=all_futures_baltas2020.index,\n",
    "    signal=signal.ParallelSignal([\n",
    "        signal.VolatilityScale(agg_method='rolling', window=21, ann_factor=261, \n",
    "                               target_volatility=0.4, signal_cap=0.95),\n",
    "        signal.TSMOMBaltas2020()\n",
    "    ], weighting='product'),\n",
    "    weighting=Weighting.EQUAL_WEIGHT.value,\n",
    "    log_level=logging.WARN,\n",
    ")\n",
    "engine_trend.run()"
   ]
  },
  {
   "cell_type": "code",
   "execution_count": 13,
   "id": "c5d93198",
   "metadata": {
    "execution": {
     "iopub.execute_input": "2021-09-18T09:21:55.204078Z",
     "iopub.status.busy": "2021-09-18T09:21:55.197589Z",
     "iopub.status.idle": "2021-09-18T09:23:08.390554Z",
     "shell.execute_reply": "2021-09-18T09:23:08.390017Z",
     "shell.execute_reply.started": "2020-11-29T13:43:37.547435Z"
    },
    "papermill": {
     "duration": 73.29091,
     "end_time": "2021-09-18T09:23:08.390664",
     "exception": false,
     "start_time": "2021-09-18T09:21:55.099754",
     "status": "completed"
    },
    "tags": []
   },
   "outputs": [],
   "source": [
    "engine_trend_eq = (engine_trend.calculate_equity_curve(calculate_net=False, rebalance_freq='m')\n",
    "                   .rename('Trend-following portfolio (TREND signal)'))"
   ]
  },
  {
   "cell_type": "code",
   "execution_count": 14,
   "id": "a67e2ae6",
   "metadata": {
    "execution": {
     "iopub.execute_input": "2021-09-18T09:23:08.467010Z",
     "iopub.status.busy": "2021-09-18T09:23:08.466485Z",
     "iopub.status.idle": "2021-09-18T09:23:09.030960Z",
     "shell.execute_reply": "2021-09-18T09:23:09.030423Z",
     "shell.execute_reply.started": "2020-11-29T13:44:27.100036Z"
    },
    "papermill": {
     "duration": 0.606351,
     "end_time": "2021-09-18T09:23:09.031071",
     "exception": false,
     "start_time": "2021-09-18T09:23:08.424720",
     "status": "completed"
    },
    "tags": []
   },
   "outputs": [
    {
     "data": {
      "image/png": "[encoded data removed]",
      "text/plain": [
       "<Figure size 576x324 with 1 Axes>"
      ]
     },
     "metadata": {
      "needs_background": "light"
     },
     "output_type": "display_data"
    }
   ],
   "source": [
    "fig, ax = plt.subplots(figsize=(8, 4.5))\n",
    "engine_trend_eq.plot(ax=ax, logy=True);\n",
    "ax.set_title('Trend-following portfolio (TREND signal)')\n",
    "ax.set_ylabel('Cumulative returns');"
   ]
  },
  {
   "cell_type": "code",
   "execution_count": 15,
   "id": "1d5dc49a",
   "metadata": {
    "execution": {
     "iopub.execute_input": "2021-09-18T09:23:09.105269Z",
     "iopub.status.busy": "2021-09-18T09:23:09.104759Z",
     "iopub.status.idle": "2021-09-18T09:23:09.130312Z",
     "shell.execute_reply": "2021-09-18T09:23:09.129799Z",
     "shell.execute_reply.started": "2020-11-29T13:44:28.329619Z"
    },
    "papermill": {
     "duration": 0.064591,
     "end_time": "2021-09-18T09:23:09.130420",
     "exception": false,
     "start_time": "2021-09-18T09:23:09.065829",
     "status": "completed"
    },
    "tags": []
   },
   "outputs": [
    {
     "data": {
      "text/html": [
       "<div>\n",
       "<style scoped>\n",
       "    .dataframe tbody tr th:only-of-type {\n",
       "        vertical-align: middle;\n",
       "    }\n",
       "\n",
       "    .dataframe tbody tr th {\n",
       "        vertical-align: top;\n",
       "    }\n",
       "\n",
       "    .dataframe thead th {\n",
       "        text-align: right;\n",
       "    }\n",
       "</style>\n",
       "<table border=\"1\" class=\"dataframe\">\n",
       "  <thead>\n",
       "    <tr style=\"text-align: right;\">\n",
       "      <th></th>\n",
       "      <th>Trend-following portfolio (TREND signal)</th>\n",
       "    </tr>\n",
       "  </thead>\n",
       "  <tbody>\n",
       "    <tr>\n",
       "      <th>CAGR</th>\n",
       "      <td>0.138623</td>\n",
       "    </tr>\n",
       "    <tr>\n",
       "      <th>Annualised vol</th>\n",
       "      <td>0.107597</td>\n",
       "    </tr>\n",
       "    <tr>\n",
       "      <th>Sharpe ratio</th>\n",
       "      <td>1.288357</td>\n",
       "    </tr>\n",
       "    <tr>\n",
       "      <th>Max drawdown</th>\n",
       "      <td>0.294584</td>\n",
       "    </tr>\n",
       "    <tr>\n",
       "      <th>Calmar ratio</th>\n",
       "      <td>0.470574</td>\n",
       "    </tr>\n",
       "    <tr>\n",
       "      <th>Skewness</th>\n",
       "      <td>0.216560</td>\n",
       "    </tr>\n",
       "    <tr>\n",
       "      <th>Kurtosis</th>\n",
       "      <td>28.378433</td>\n",
       "    </tr>\n",
       "    <tr>\n",
       "      <th>Worst return</th>\n",
       "      <td>-0.121269</td>\n",
       "    </tr>\n",
       "    <tr>\n",
       "      <th>Worst 1d return</th>\n",
       "      <td>-0.121269</td>\n",
       "    </tr>\n",
       "    <tr>\n",
       "      <th>Worst 1w return</th>\n",
       "      <td>-0.179193</td>\n",
       "    </tr>\n",
       "    <tr>\n",
       "      <th>Worst 1m return</th>\n",
       "      <td>-0.189603</td>\n",
       "    </tr>\n",
       "  </tbody>\n",
       "</table>\n",
       "</div>"
      ],
      "text/plain": [
       "                 Trend-following portfolio (TREND signal)\n",
       "CAGR                                             0.138623\n",
       "Annualised vol                                   0.107597\n",
       "Sharpe ratio                                     1.288357\n",
       "Max drawdown                                     0.294584\n",
       "Calmar ratio                                     0.470574\n",
       "Skewness                                         0.216560\n",
       "Kurtosis                                        28.378433\n",
       "Worst return                                    -0.121269\n",
       "Worst 1d return                                 -0.121269\n",
       "Worst 1w return                                 -0.179193\n",
       "Worst 1m return                                 -0.189603"
      ]
     },
     "execution_count": 15,
     "metadata": {},
     "output_type": "execute_result"
    }
   ],
   "source": [
    "engine_trend_eq.pipe(Performance).summary()"
   ]
  },
  {
   "cell_type": "markdown",
   "id": "d4436c1e",
   "metadata": {
    "papermill": {
     "duration": 0.037433,
     "end_time": "2021-09-18T09:23:09.203659",
     "exception": false,
     "start_time": "2021-09-18T09:23:09.166226",
     "status": "completed"
    },
    "tags": []
   },
   "source": [
    "## Combined\n",
    "\n",
    "Finally we run a backtest by using both the Yang-Zhang volatility estimator and the TREND signal."
   ]
  },
  {
   "cell_type": "code",
   "execution_count": 16,
   "id": "083b971e",
   "metadata": {
    "execution": {
     "iopub.execute_input": "2021-09-18T09:23:09.287829Z",
     "iopub.status.busy": "2021-09-18T09:23:09.287312Z",
     "iopub.status.idle": "2021-09-18T09:47:03.602388Z",
     "shell.execute_reply": "2021-09-18T09:47:03.601826Z",
     "shell.execute_reply.started": "2020-11-29T13:44:28.516275Z"
    },
    "papermill": {
     "duration": 1434.356049,
     "end_time": "2021-09-18T09:47:03.602514",
     "exception": false,
     "start_time": "2021-09-18T09:23:09.246465",
     "status": "completed"
    },
    "tags": []
   },
   "outputs": [],
   "source": [
    "engine_combined = BacktestEngine(\n",
    "    strategy=Strategy.DELTA_ONE.value,\n",
    "    instrument=all_futures_baltas2020.index,\n",
    "    signal=signal.ParallelSignal([\n",
    "        signal.VolatilityScale(volatility_type=RealisedVolatility.YZ.value,\n",
    "                               agg_method='rolling', window=21, min_periods=10,\n",
    "                               target_volatility=0.4, signal_cap=0.95, ann_factor=261),\n",
    "        signal.TSMOMBaltas2020()\n",
    "    ], weighting='product'),\n",
    "    weighting=Weighting.EQUAL_WEIGHT.value,\n",
    "    log_level=logging.WARN,\n",
    ")\n",
    "engine_combined.run()"
   ]
  },
  {
   "cell_type": "code",
   "execution_count": 17,
   "id": "033b843e",
   "metadata": {
    "execution": {
     "iopub.execute_input": "2021-09-18T09:47:03.898985Z",
     "iopub.status.busy": "2021-09-18T09:47:03.893836Z",
     "iopub.status.idle": "2021-09-18T09:48:11.188228Z",
     "shell.execute_reply": "2021-09-18T09:48:11.187767Z",
     "shell.execute_reply.started": "2020-11-29T14:02:02.912527Z"
    },
    "papermill": {
     "duration": 67.550406,
     "end_time": "2021-09-18T09:48:11.188339",
     "exception": false,
     "start_time": "2021-09-18T09:47:03.637933",
     "status": "completed"
    },
    "tags": []
   },
   "outputs": [],
   "source": [
    "engine_combined_eq = (engine_combined.calculate_equity_curve(calculate_net=False, rebalance_freq='m')\n",
    "                      .rename('Trend-following portfolio (YZ estimator + TREND signal)'))"
   ]
  },
  {
   "cell_type": "code",
   "execution_count": 18,
   "id": "f8630a77",
   "metadata": {
    "execution": {
     "iopub.execute_input": "2021-09-18T09:48:11.278503Z",
     "iopub.status.busy": "2021-09-18T09:48:11.275920Z",
     "iopub.status.idle": "2021-09-18T09:48:11.787064Z",
     "shell.execute_reply": "2021-09-18T09:48:11.786623Z",
     "shell.execute_reply.started": "2020-11-29T14:02:50.359402Z"
    },
    "papermill": {
     "duration": 0.567423,
     "end_time": "2021-09-18T09:48:11.787175",
     "exception": false,
     "start_time": "2021-09-18T09:48:11.219752",
     "status": "completed"
    },
    "tags": []
   },
   "outputs": [
    {
     "data": {
      "image/png": "[encoded data removed]",
      "text/plain": [
       "<Figure size 576x324 with 1 Axes>"
      ]
     },
     "metadata": {
      "needs_background": "light"
     },
     "output_type": "display_data"
    }
   ],
   "source": [
    "fig, ax = plt.subplots(figsize=(8, 4.5))\n",
    "engine_combined_eq.plot(ax=ax, logy=True)\n",
    "ax.set_title('Trend-following portfolio (YZ estimator + TREND signal)')\n",
    "ax.set_ylabel('Cumulative returns');"
   ]
  },
  {
   "cell_type": "code",
   "execution_count": 19,
   "id": "0854ffb2",
   "metadata": {
    "execution": {
     "iopub.execute_input": "2021-09-18T09:48:11.857638Z",
     "iopub.status.busy": "2021-09-18T09:48:11.857127Z",
     "iopub.status.idle": "2021-09-18T09:48:11.881508Z",
     "shell.execute_reply": "2021-09-18T09:48:11.880998Z",
     "shell.execute_reply.started": "2020-11-29T14:02:50.674925Z"
    },
    "papermill": {
     "duration": 0.06398,
     "end_time": "2021-09-18T09:48:11.881614",
     "exception": false,
     "start_time": "2021-09-18T09:48:11.817634",
     "status": "completed"
    },
    "tags": []
   },
   "outputs": [
    {
     "data": {
      "text/html": [
       "<div>\n",
       "<style scoped>\n",
       "    .dataframe tbody tr th:only-of-type {\n",
       "        vertical-align: middle;\n",
       "    }\n",
       "\n",
       "    .dataframe tbody tr th {\n",
       "        vertical-align: top;\n",
       "    }\n",
       "\n",
       "    .dataframe thead th {\n",
       "        text-align: right;\n",
       "    }\n",
       "</style>\n",
       "<table border=\"1\" class=\"dataframe\">\n",
       "  <thead>\n",
       "    <tr style=\"text-align: right;\">\n",
       "      <th></th>\n",
       "      <th>Trend-following portfolio (YZ estimator + TREND signal)</th>\n",
       "    </tr>\n",
       "  </thead>\n",
       "  <tbody>\n",
       "    <tr>\n",
       "      <th>CAGR</th>\n",
       "      <td>0.138676</td>\n",
       "    </tr>\n",
       "    <tr>\n",
       "      <th>Annualised vol</th>\n",
       "      <td>0.110313</td>\n",
       "    </tr>\n",
       "    <tr>\n",
       "      <th>Sharpe ratio</th>\n",
       "      <td>1.257112</td>\n",
       "    </tr>\n",
       "    <tr>\n",
       "      <th>Max drawdown</th>\n",
       "      <td>0.313945</td>\n",
       "    </tr>\n",
       "    <tr>\n",
       "      <th>Calmar ratio</th>\n",
       "      <td>0.441721</td>\n",
       "    </tr>\n",
       "    <tr>\n",
       "      <th>Skewness</th>\n",
       "      <td>0.348260</td>\n",
       "    </tr>\n",
       "    <tr>\n",
       "      <th>Kurtosis</th>\n",
       "      <td>33.092129</td>\n",
       "    </tr>\n",
       "    <tr>\n",
       "      <th>Worst return</th>\n",
       "      <td>-0.130152</td>\n",
       "    </tr>\n",
       "    <tr>\n",
       "      <th>Worst 1d return</th>\n",
       "      <td>-0.130152</td>\n",
       "    </tr>\n",
       "    <tr>\n",
       "      <th>Worst 1w return</th>\n",
       "      <td>-0.190726</td>\n",
       "    </tr>\n",
       "    <tr>\n",
       "      <th>Worst 1m return</th>\n",
       "      <td>-0.207888</td>\n",
       "    </tr>\n",
       "  </tbody>\n",
       "</table>\n",
       "</div>"
      ],
      "text/plain": [
       "                 Trend-following portfolio (YZ estimator + TREND signal)\n",
       "CAGR                                                      0.138676      \n",
       "Annualised vol                                            0.110313      \n",
       "Sharpe ratio                                              1.257112      \n",
       "Max drawdown                                              0.313945      \n",
       "Calmar ratio                                              0.441721      \n",
       "Skewness                                                  0.348260      \n",
       "Kurtosis                                                 33.092129      \n",
       "Worst return                                             -0.130152      \n",
       "Worst 1d return                                          -0.130152      \n",
       "Worst 1w return                                          -0.190726      \n",
       "Worst 1m return                                          -0.207888      "
      ]
     },
     "execution_count": 19,
     "metadata": {},
     "output_type": "execute_result"
    }
   ],
   "source": [
    "engine_combined_eq.pipe(Performance).summary()"
   ]
  },
  {
   "cell_type": "markdown",
   "id": "ab41e60d",
   "metadata": {
    "papermill": {
     "duration": 0.036315,
     "end_time": "2021-09-18T09:48:11.953745",
     "exception": false,
     "start_time": "2021-09-18T09:48:11.917430",
     "status": "completed"
    },
    "tags": []
   },
   "source": [
    "# Comparison\n",
    "\n",
    "In this section we compare the above 4 backtests."
   ]
  },
  {
   "cell_type": "markdown",
   "id": "127ac075",
   "metadata": {
    "papermill": {
     "duration": 0.041067,
     "end_time": "2021-09-18T09:48:12.611592",
     "exception": false,
     "start_time": "2021-09-18T09:48:12.570525",
     "status": "completed"
    },
    "tags": []
   },
   "source": [
    "## Performance\n",
    "\n",
    "As reported in BK2020, using the YZ estimator and TREND signal does not alter the performance characteristics. Rather, the TREND signal somewhat improves the Sharpe ratio. Also the TREND signal lowers the annualised volatility from 12.5% to 10.8% with the close-to-close realised volatility."
   ]
  },
  {
   "cell_type": "code",
   "execution_count": 20,
   "id": "9a6ed6d2",
   "metadata": {
    "execution": {
     "iopub.execute_input": "2021-09-18T09:48:12.688759Z",
     "iopub.status.busy": "2021-09-18T09:48:12.688239Z",
     "iopub.status.idle": "2021-09-18T09:48:12.700201Z",
     "shell.execute_reply": "2021-09-18T09:48:12.699714Z",
     "shell.execute_reply.started": "2020-11-29T14:02:50.858766Z"
    },
    "papermill": {
     "duration": 0.052384,
     "end_time": "2021-09-18T09:48:12.700318",
     "exception": false,
     "start_time": "2021-09-18T09:48:12.647934",
     "status": "completed"
    },
    "tags": []
   },
   "outputs": [],
   "source": [
    "performance_comp = pd.concat((engine_original_eq, engine_vol_eq, \n",
    "                              engine_trend_eq, engine_combined_eq), axis=1)"
   ]
  },
  {
   "cell_type": "code",
   "execution_count": 21,
   "id": "83e2a11d",
   "metadata": {
    "execution": {
     "iopub.execute_input": "2021-09-18T09:48:12.781507Z",
     "iopub.status.busy": "2021-09-18T09:48:12.780971Z",
     "iopub.status.idle": "2021-09-18T09:48:13.545361Z",
     "shell.execute_reply": "2021-09-18T09:48:13.544833Z",
     "shell.execute_reply.started": "2020-11-29T14:02:50.869368Z"
    },
    "papermill": {
     "duration": 0.808886,
     "end_time": "2021-09-18T09:48:13.545471",
     "exception": false,
     "start_time": "2021-09-18T09:48:12.736585",
     "status": "completed"
    },
    "tags": []
   },
   "outputs": [
    {
     "data": {
      "image/png": "[encoded data removed]",
      "text/plain": [
       "<Figure size 576x324 with 1 Axes>"
      ]
     },
     "metadata": {
      "needs_background": "light"
     },
     "output_type": "display_data"
    }
   ],
   "source": [
    "fig, ax = plt.subplots(figsize=(8, 4.5))\n",
    "performance_comp.plot(ax=ax, logy=True);\n",
    "ax.set_title('Trend-following portfolio')\n",
    "ax.set_ylabel('Cumulative returns');"
   ]
  },
  {
   "cell_type": "code",
   "execution_count": 22,
   "id": "2be1d0aa",
   "metadata": {
    "execution": {
     "iopub.execute_input": "2021-09-18T09:48:13.634538Z",
     "iopub.status.busy": "2021-09-18T09:48:13.634019Z",
     "iopub.status.idle": "2021-09-18T09:48:13.673384Z",
     "shell.execute_reply": "2021-09-18T09:48:13.672926Z",
     "shell.execute_reply.started": "2020-11-29T14:02:51.255594Z"
    },
    "papermill": {
     "duration": 0.083289,
     "end_time": "2021-09-18T09:48:13.673496",
     "exception": false,
     "start_time": "2021-09-18T09:48:13.590207",
     "status": "completed"
    },
    "tags": []
   },
   "outputs": [
    {
     "data": {
      "text/html": [
       "<div>\n",
       "<style scoped>\n",
       "    .dataframe tbody tr th:only-of-type {\n",
       "        vertical-align: middle;\n",
       "    }\n",
       "\n",
       "    .dataframe tbody tr th {\n",
       "        vertical-align: top;\n",
       "    }\n",
       "\n",
       "    .dataframe thead th {\n",
       "        text-align: right;\n",
       "    }\n",
       "</style>\n",
       "<table border=\"1\" class=\"dataframe\">\n",
       "  <thead>\n",
       "    <tr style=\"text-align: right;\">\n",
       "      <th></th>\n",
       "      <th>Trend-following portfolio (Moskowitz 2012)</th>\n",
       "      <th>Trend-following portfolio (YZ estimator)</th>\n",
       "      <th>Trend-following portfolio (TREND signal)</th>\n",
       "      <th>Trend-following portfolio (YZ estimator + TREND signal)</th>\n",
       "    </tr>\n",
       "  </thead>\n",
       "  <tbody>\n",
       "    <tr>\n",
       "      <th>CAGR</th>\n",
       "      <td>0.146393</td>\n",
       "      <td>0.147056</td>\n",
       "      <td>0.138623</td>\n",
       "      <td>0.138330</td>\n",
       "    </tr>\n",
       "    <tr>\n",
       "      <th>Annualised vol</th>\n",
       "      <td>0.124663</td>\n",
       "      <td>0.126703</td>\n",
       "      <td>0.107597</td>\n",
       "      <td>0.110177</td>\n",
       "    </tr>\n",
       "    <tr>\n",
       "      <th>Sharpe ratio</th>\n",
       "      <td>1.174307</td>\n",
       "      <td>1.160640</td>\n",
       "      <td>1.288357</td>\n",
       "      <td>1.255532</td>\n",
       "    </tr>\n",
       "    <tr>\n",
       "      <th>Max drawdown</th>\n",
       "      <td>0.259239</td>\n",
       "      <td>0.305877</td>\n",
       "      <td>0.294584</td>\n",
       "      <td>0.313945</td>\n",
       "    </tr>\n",
       "    <tr>\n",
       "      <th>Calmar ratio</th>\n",
       "      <td>0.564701</td>\n",
       "      <td>0.480769</td>\n",
       "      <td>0.470574</td>\n",
       "      <td>0.440619</td>\n",
       "    </tr>\n",
       "    <tr>\n",
       "      <th>Skewness</th>\n",
       "      <td>0.116697</td>\n",
       "      <td>0.328873</td>\n",
       "      <td>0.216560</td>\n",
       "      <td>0.349304</td>\n",
       "    </tr>\n",
       "    <tr>\n",
       "      <th>Kurtosis</th>\n",
       "      <td>19.525891</td>\n",
       "      <td>22.513767</td>\n",
       "      <td>28.378433</td>\n",
       "      <td>33.181395</td>\n",
       "    </tr>\n",
       "    <tr>\n",
       "      <th>Worst return</th>\n",
       "      <td>-0.126276</td>\n",
       "      <td>-0.137043</td>\n",
       "      <td>-0.121269</td>\n",
       "      <td>-0.130152</td>\n",
       "    </tr>\n",
       "    <tr>\n",
       "      <th>Worst 1d return</th>\n",
       "      <td>-0.126276</td>\n",
       "      <td>-0.137043</td>\n",
       "      <td>-0.121269</td>\n",
       "      <td>-0.130152</td>\n",
       "    </tr>\n",
       "    <tr>\n",
       "      <th>Worst 1w return</th>\n",
       "      <td>-0.168665</td>\n",
       "      <td>-0.180921</td>\n",
       "      <td>-0.179193</td>\n",
       "      <td>-0.190726</td>\n",
       "    </tr>\n",
       "    <tr>\n",
       "      <th>Worst 1m return</th>\n",
       "      <td>-0.178303</td>\n",
       "      <td>-0.198025</td>\n",
       "      <td>-0.189603</td>\n",
       "      <td>-0.207888</td>\n",
       "    </tr>\n",
       "  </tbody>\n",
       "</table>\n",
       "</div>"
      ],
      "text/plain": [
       "                 Trend-following portfolio (Moskowitz 2012)  \\\n",
       "CAGR                                               0.146393   \n",
       "Annualised vol                                     0.124663   \n",
       "Sharpe ratio                                       1.174307   \n",
       "Max drawdown                                       0.259239   \n",
       "Calmar ratio                                       0.564701   \n",
       "Skewness                                           0.116697   \n",
       "Kurtosis                                          19.525891   \n",
       "Worst return                                      -0.126276   \n",
       "Worst 1d return                                   -0.126276   \n",
       "Worst 1w return                                   -0.168665   \n",
       "Worst 1m return                                   -0.178303   \n",
       "\n",
       "                 Trend-following portfolio (YZ estimator)  \\\n",
       "CAGR                                             0.147056   \n",
       "Annualised vol                                   0.126703   \n",
       "Sharpe ratio                                     1.160640   \n",
       "Max drawdown                                     0.305877   \n",
       "Calmar ratio                                     0.480769   \n",
       "Skewness                                         0.328873   \n",
       "Kurtosis                                        22.513767   \n",
       "Worst return                                    -0.137043   \n",
       "Worst 1d return                                 -0.137043   \n",
       "Worst 1w return                                 -0.180921   \n",
       "Worst 1m return                                 -0.198025   \n",
       "\n",
       "                 Trend-following portfolio (TREND signal)  \\\n",
       "CAGR                                             0.138623   \n",
       "Annualised vol                                   0.107597   \n",
       "Sharpe ratio                                     1.288357   \n",
       "Max drawdown                                     0.294584   \n",
       "Calmar ratio                                     0.470574   \n",
       "Skewness                                         0.216560   \n",
       "Kurtosis                                        28.378433   \n",
       "Worst return                                    -0.121269   \n",
       "Worst 1d return                                 -0.121269   \n",
       "Worst 1w return                                 -0.179193   \n",
       "Worst 1m return                                 -0.189603   \n",
       "\n",
       "                 Trend-following portfolio (YZ estimator + TREND signal)  \n",
       "CAGR                                                      0.138330        \n",
       "Annualised vol                                            0.110177        \n",
       "Sharpe ratio                                              1.255532        \n",
       "Max drawdown                                              0.313945        \n",
       "Calmar ratio                                              0.440619        \n",
       "Skewness                                                  0.349304        \n",
       "Kurtosis                                                 33.181395        \n",
       "Worst return                                             -0.130152        \n",
       "Worst 1d return                                          -0.130152        \n",
       "Worst 1w return                                          -0.190726        \n",
       "Worst 1m return                                          -0.207888        "
      ]
     },
     "execution_count": 22,
     "metadata": {},
     "output_type": "execute_result"
    }
   ],
   "source": [
    "performance_comp.pipe(Performance).summary()"
   ]
  },
  {
   "cell_type": "markdown",
   "id": "0a01953d",
   "metadata": {
    "papermill": {
     "duration": 0.037875,
     "end_time": "2021-09-18T09:48:13.749902",
     "exception": false,
     "start_time": "2021-09-18T09:48:13.712027",
     "status": "completed"
    },
    "tags": []
   },
   "source": [
    "## Turnover reduction\n",
    "\n",
    "Again, as reported in BK2020, both enhancements reduce the turnover significantly while not affecting the performance. The chart below shows the reduction in turnover for each futures contract. By utilising the YZ realised volatility and the TREND signal, overall the turnover is reduced by more than 30%."
   ]
  },
  {
   "cell_type": "code",
   "execution_count": null,
   "id": "9a406020",
   "metadata": {
    "execution": {
     "iopub.execute_input": "2020-11-29T14:02:51.467010Z",
     "iopub.status.busy": "2020-11-29T14:02:51.466881Z",
     "iopub.status.idle": "2020-11-29T14:05:55.467518Z",
     "shell.execute_reply": "2020-11-29T14:05:55.467015Z",
     "shell.execute_reply.started": "2020-11-29T14:02:51.466993Z"
    },
    "papermill": {
     "duration": null,
     "end_time": null,
     "exception": false,
     "start_time": "2021-09-18T09:48:13.787634",
     "status": "running"
    },
    "tags": []
   },
   "outputs": [],
   "source": [
    "engine_original_pos = engine_original.get_position_by_instrument()\n",
    "engine_vol_pos = engine_vol.get_position_by_instrument()\n",
    "engine_trend_pos = engine_trend.get_position_by_instrument()\n",
    "engine_combined_pos = engine_combined.get_position_by_instrument()"
   ]
  },
  {
   "cell_type": "code",
   "execution_count": null,
   "id": "5c0e1acd",
   "metadata": {
    "execution": {
     "iopub.execute_input": "2020-11-29T14:05:55.468286Z",
     "iopub.status.busy": "2020-11-29T14:05:55.468155Z",
     "iopub.status.idle": "2020-11-29T14:05:55.484346Z",
     "shell.execute_reply": "2020-11-29T14:05:55.483841Z",
     "shell.execute_reply.started": "2020-11-29T14:05:55.468269Z"
    },
    "papermill": {
     "duration": null,
     "end_time": null,
     "exception": null,
     "start_time": null,
     "status": "pending"
    },
    "tags": []
   },
   "outputs": [],
   "source": [
    "engine_original_turnover = (engine_original_pos.diff().abs().mean().mul(261)\n",
    "                            .rename('Trend-following portfolio (Moskowitz 2012)'))\n",
    "engine_vol_turnover = (engine_vol_pos.diff().abs().mean().mul(261)\n",
    "                       .rename('Trend-following portfolio (YZ estimator)'))\n",
    "engine_trend_turnover = (engine_trend_pos.diff().abs().mean().mul(261)\n",
    "                         .rename('Trend-following portfolio (TREND signal)'))\n",
    "engine_combined_turnover = (engine_combined_pos.diff().abs().mean().mul(261)\n",
    "                            .rename('Trend-following portfolio (YZ estimator + TREND signal)'))"
   ]
  },
  {
   "cell_type": "code",
   "execution_count": null,
   "id": "ffd0cf5a",
   "metadata": {
    "execution": {
     "iopub.execute_input": "2020-11-29T14:05:55.485055Z",
     "iopub.status.busy": "2020-11-29T14:05:55.484919Z",
     "iopub.status.idle": "2020-11-29T14:05:55.495065Z",
     "shell.execute_reply": "2020-11-29T14:05:55.494584Z",
     "shell.execute_reply.started": "2020-11-29T14:05:55.485032Z"
    },
    "papermill": {
     "duration": null,
     "end_time": null,
     "exception": null,
     "start_time": null,
     "status": "pending"
    },
    "tags": []
   },
   "outputs": [],
   "source": [
    "turnover_reduction = (\n",
    "    pd.concat((engine_vol_turnover, engine_trend_turnover, engine_combined_turnover), axis=1)\n",
    "    .div(engine_original_turnover, axis=0)\n",
    "    .sub(1)\n",
    "    .reindex(index=all_futures_baltas2020.index)\n",
    "    .rename(index=all_futures_baltas2020['name'])\n",
    ")"
   ]
  },
  {
   "cell_type": "code",
   "execution_count": null,
   "id": "d02bdfd4",
   "metadata": {
    "execution": {
     "iopub.execute_input": "2020-11-29T14:05:55.495740Z",
     "iopub.status.busy": "2020-11-29T14:05:55.495610Z",
     "iopub.status.idle": "2020-11-29T14:05:55.514631Z",
     "shell.execute_reply": "2020-11-29T14:05:55.514250Z",
     "shell.execute_reply.started": "2020-11-29T14:05:55.495723Z"
    },
    "papermill": {
     "duration": null,
     "end_time": null,
     "exception": null,
     "start_time": null,
     "status": "pending"
    },
    "tags": []
   },
   "outputs": [],
   "source": [
    "turnover_reduction.mean()"
   ]
  },
  {
   "cell_type": "code",
   "execution_count": null,
   "id": "87ff5790",
   "metadata": {
    "execution": {
     "iopub.execute_input": "2020-11-29T14:05:55.516218Z",
     "iopub.status.busy": "2020-11-29T14:05:55.516087Z",
     "iopub.status.idle": "2020-11-29T14:05:56.351004Z",
     "shell.execute_reply": "2020-11-29T14:05:56.350641Z",
     "shell.execute_reply.started": "2020-11-29T14:05:55.516201Z"
    },
    "papermill": {
     "duration": null,
     "end_time": null,
     "exception": null,
     "start_time": null,
     "status": "pending"
    },
    "tags": []
   },
   "outputs": [],
   "source": [
    "ax = turnover_reduction.plot(kind='bar', figsize=(14, 4))\n",
    "ax.yaxis.set_major_formatter(mticker.PercentFormatter(1))\n",
    "ax.axhline(0, color='black', lw=1)\n",
    "ax.axvline(24.5, color='black', lw=1)\n",
    "ax.axvline(30.5, color='black', lw=1)\n",
    "ax.axvline(42.5, color='black', lw=1)\n",
    "ax.set_xlabel('Contract')\n",
    "ax.set_ylabel('Turnover reduction');"
   ]
  },
  {
   "cell_type": "markdown",
   "id": "9e06f5f3",
   "metadata": {
    "papermill": {
     "duration": null,
     "end_time": null,
     "exception": null,
     "start_time": null,
     "status": "pending"
    },
    "tags": []
   },
   "source": [
    "# Recent performance"
   ]
  },
  {
   "cell_type": "code",
   "execution_count": null,
   "id": "a7b7db95",
   "metadata": {
    "execution": {
     "iopub.execute_input": "2020-11-29T14:05:56.351727Z",
     "iopub.status.busy": "2020-11-29T14:05:56.351580Z",
     "iopub.status.idle": "2020-11-29T14:05:56.638686Z",
     "shell.execute_reply": "2020-11-29T14:05:56.638230Z",
     "shell.execute_reply.started": "2020-11-29T14:05:56.351710Z"
    },
    "papermill": {
     "duration": null,
     "end_time": null,
     "exception": null,
     "start_time": null,
     "status": "pending"
    },
    "tags": []
   },
   "outputs": [],
   "source": [
    "fig, ax = plt.subplots(figsize=(8, 4.5))\n",
    "performance_comp.tail(252 * 2).pct_change().fillna(0).add(1).cumprod().plot(ax=ax, logy=True);\n",
    "ax.set_title('Trend-following portfolio')\n",
    "ax.set_ylabel('Cumulative returns');"
   ]
  },
  {
   "cell_type": "markdown",
   "id": "b5d8ce39",
   "metadata": {
    "papermill": {
     "duration": null,
     "end_time": null,
     "exception": null,
     "start_time": null,
     "status": "pending"
    },
    "tags": []
   },
   "source": [
    "# Reference\n",
    "\n",
    "- Baltas, N. and Kosowski, R., 2020. Demystifying time-series momentum strategies: Volatility estimators, trading rules and pairwise correlations. Market Momentum: Theory and Practice\", Wiley.\n",
    "- Moskowitz, T.J., Ooi, Y.H. and Pedersen, L.H., 2012. Time series momentum. Journal of financial economics, 104(2), pp.228-250."
   ]
  },
  {
   "cell_type": "code",
   "execution_count": null,
   "id": "3ccced2a",
   "metadata": {
    "ExecuteTime": {
     "end_time": "2020-08-30T21:20:32.431574Z",
     "start_time": "2020-08-30T21:20:32.429370Z"
    },
    "execution": {
     "iopub.execute_input": "2020-11-29T14:05:56.639493Z",
     "iopub.status.busy": "2020-11-29T14:05:56.639306Z",
     "iopub.status.idle": "2020-11-29T14:05:56.642004Z",
     "shell.execute_reply": "2020-11-29T14:05:56.641537Z",
     "shell.execute_reply.started": "2020-11-29T14:05:56.639476Z"
    },
    "papermill": {
     "duration": null,
     "end_time": null,
     "exception": null,
     "start_time": null,
     "status": "pending"
    },
    "tags": []
   },
   "outputs": [],
   "source": [
    "print(f'Updated: {datetime.utcnow():%d-%b-%Y %H:%M}')"
   ]
  }
 ],
 "metadata": {
  "hide_input": false,
  "kernelspec": {
   "display_name": "Python 3",
   "language": "python",
   "name": "python3"
  },
  "language_info": {
   "codemirror_mode": {
    "name": "ipython",
    "version": 3
   },
   "file_extension": ".py",
   "mimetype": "text/x-python",
   "name": "python",
   "nbconvert_exporter": "python",
   "pygments_lexer": "ipython3",
   "version": "3.8.1"
  },
  "nav_menu": {},
  "papermill": {
   "duration": null,
   "end_time": null,
   "environment_variables": {},
   "exception": null,
   "input_path": "notebooks/papermill/trend_following_baltas2020.ipynb",
   "output_path": "notebooks/trend_following_baltas2020.ipynb",
   "parameters": {},
   "start_time": "2021-09-18T08:36:14.292083",
   "version": "2.1.3"
  },
  "toc": {
   "base_numbering": 1,
   "nav_menu": {},
   "number_sections": true,
   "sideBar": true,
   "skip_h1_title": false,
   "title_cell": "Table of Contents",
   "title_sidebar": "Contents",
   "toc_cell": true,
   "toc_position": {
    "height": "calc(100% - 180px)",
    "left": "10px",
    "top": "150px",
    "width": "165px"
   },
   "toc_section_display": "block",
   "toc_window_display": true
  }
 },
 "nbformat": 4,
 "nbformat_minor": 5
}