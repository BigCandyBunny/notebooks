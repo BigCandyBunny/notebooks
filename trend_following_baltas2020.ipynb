{
 "cells": [
  {
   "cell_type": "markdown",
   "id": "30aa73ed",
   "metadata": {
    "tags": [
     "papermill-error-cell-tag"
    ]
   },
   "source": [
    "<span style=\"color:red; font-family:Helvetica Neue, Helvetica, Arial, sans-serif; font-size:2em;\">An Exception was encountered at '<a href=\"#papermill-error-cell\">In [16]</a>'.</span>"
   ]
  },
  {
   "cell_type": "markdown",
   "id": "1d6822c1",
   "metadata": {
    "papermill": {
     "duration": 0.064398,
     "end_time": "2022-01-12T06:24:39.147942",
     "exception": false,
     "start_time": "2022-01-12T06:24:39.083544",
     "status": "completed"
    },
    "tags": []
   },
   "source": [
    "# Trend-following\n",
    "\n",
    "This notebook implements a few improvements that Baltas and Kosowski (2020) (BK2020, hereafter) propose to the time-series momentum strategy which originally appeared in Moskowitz et al (2012).\n",
    "\n",
    "Note that like other notebooks, all backtests are performed by using a private library called `vivace`."
   ]
  },
  {
   "cell_type": "code",
   "execution_count": 1,
   "id": "9f1858c6",
   "metadata": {
    "ExecuteTime": {
     "end_time": "2020-08-30T21:08:49.524262Z",
     "start_time": "2020-08-30T21:08:48.720115Z"
    },
    "execution": {
     "iopub.execute_input": "2022-01-12T06:24:39.277300Z",
     "iopub.status.busy": "2022-01-12T06:24:39.276740Z",
     "iopub.status.idle": "2022-01-12T06:24:42.669453Z",
     "shell.execute_reply": "2022-01-12T06:24:42.668555Z",
     "shell.execute_reply.started": "2020-11-29T13:12:07.955569Z"
    },
    "papermill": {
     "duration": 3.459326,
     "end_time": "2022-01-12T06:24:42.669634",
     "exception": false,
     "start_time": "2022-01-12T06:24:39.210308",
     "status": "completed"
    },
    "tags": []
   },
   "outputs": [],
   "source": [
    "%matplotlib inline\n",
    "from datetime import datetime\n",
    "import logging\n",
    "import warnings\n",
    "warnings.simplefilter(action='ignore', category=FutureWarning)\n",
    "\n",
    "import pandas as pd\n",
    "import matplotlib.pyplot as plt\n",
    "import matplotlib.ticker as mticker\n",
    "plt.style.use('bmh')\n",
    "\n",
    "from vivace.backtest import signal\n",
    "from vivace.backtest import processing\n",
    "from vivace.backtest.contract import all_futures_baltas2020\n",
    "from vivace.backtest.engine import BacktestEngine\n",
    "from vivace.backtest.enums import Strategy, Weighting, RealisedVolatility\n",
    "from vivace.backtest.stats import Performance"
   ]
  },
  {
   "cell_type": "markdown",
   "id": "d5ab5c67",
   "metadata": {
    "papermill": {
     "duration": 0.056037,
     "end_time": "2022-01-12T06:24:42.782740",
     "exception": false,
     "start_time": "2022-01-12T06:24:42.726703",
     "status": "completed"
    },
    "tags": []
   },
   "source": [
    "# Data"
   ]
  },
  {
   "cell_type": "code",
   "execution_count": 2,
   "id": "7ce12ef0",
   "metadata": {
    "ExecuteTime": {
     "end_time": "2020-08-30T21:08:49.529214Z",
     "start_time": "2020-08-30T21:08:49.525465Z"
    },
    "execution": {
     "iopub.execute_input": "2022-01-12T06:24:42.872331Z",
     "iopub.status.busy": "2022-01-12T06:24:42.871801Z",
     "iopub.status.idle": "2022-01-12T06:24:42.874444Z",
     "shell.execute_reply": "2022-01-12T06:24:42.874900Z",
     "shell.execute_reply.started": "2020-11-29T13:12:08.940280Z"
    },
    "papermill": {
     "duration": 0.047937,
     "end_time": "2022-01-12T06:24:42.875030",
     "exception": false,
     "start_time": "2022-01-12T06:24:42.827093",
     "status": "completed"
    },
    "tags": []
   },
   "outputs": [
    {
     "data": {
      "text/plain": [
       "array(['WTI Crude Oil', 'Brent Crude Oil', 'Heating Oil', 'Natural Gas',\n",
       "       'Gasoline', 'Copper', 'Gold', 'Palladium', 'Platinum', 'Silver',\n",
       "       'Feeder Cattle', 'Live Cattle', 'Lean Hog', 'Corn', 'Oats',\n",
       "       'Soybean Oil', 'Soybean Meal', 'Soybean', 'Wheat', 'Cocoa',\n",
       "       'Coffee', 'Cotton', 'Lumber', 'Orange Juice', 'Sugar',\n",
       "       'Australian Dollar', 'Canadian Dollar', 'Swiss Franc', 'Euro',\n",
       "       'British Pound', 'Japanese Yen', 'E-Mini Nasdaq 100',\n",
       "       'E-mini S&P 500', 'E-mini Russell 2000', 'FTSE 100', 'DAX',\n",
       "       'CAC 40', 'IBEX 35', 'AEX', 'Swiss Market Index', 'SPI 200',\n",
       "       'Topix', 'Hang Seng', 'US 2-year Treasury', 'US 5-year Treasury',\n",
       "       'US 10-year Treasury', 'US treasury Bond', 'Germany Schatz',\n",
       "       'Germany Bobl', 'Germany Bund', 'Germany Buxl', 'Gilt',\n",
       "       'Canada 10-year Treasury', 'JGB'], dtype=object)"
      ]
     },
     "execution_count": 2,
     "metadata": {},
     "output_type": "execute_result"
    }
   ],
   "source": [
    "all_futures_baltas2020['name'].values"
   ]
  },
  {
   "cell_type": "code",
   "execution_count": 3,
   "id": "0046e3f1",
   "metadata": {
    "ExecuteTime": {
     "end_time": "2020-08-30T21:08:49.542477Z",
     "start_time": "2020-08-30T21:08:49.530487Z"
    },
    "execution": {
     "iopub.execute_input": "2022-01-12T06:24:42.963399Z",
     "iopub.status.busy": "2022-01-12T06:24:42.962861Z",
     "iopub.status.idle": "2022-01-12T06:24:42.965384Z",
     "shell.execute_reply": "2022-01-12T06:24:42.965818Z",
     "shell.execute_reply.started": "2020-11-29T13:12:08.945057Z"
    },
    "papermill": {
     "duration": 0.050145,
     "end_time": "2022-01-12T06:24:42.965957",
     "exception": false,
     "start_time": "2022-01-12T06:24:42.915812",
     "status": "completed"
    },
    "tags": []
   },
   "outputs": [
    {
     "name": "stdout",
     "output_type": "stream",
     "text": [
      "54\n"
     ]
    }
   ],
   "source": [
    "print(len(all_futures_baltas2020))"
   ]
  },
  {
   "cell_type": "markdown",
   "id": "7c8a3ca7",
   "metadata": {
    "papermill": {
     "duration": 0.044643,
     "end_time": "2022-01-12T06:24:43.053669",
     "exception": false,
     "start_time": "2022-01-12T06:24:43.009026",
     "status": "completed"
    },
    "tags": []
   },
   "source": [
    "We try to use the same contract as the original paper where possible, resulting 54 futures contracts to analyse. The trading universe covers a wide range of asset classes and regions, and is made up of following instruments:\n",
    "- Equity index futures\n",
    "- Government bond futures\n",
    "- FX futures\n",
    "- Commodity futures\n",
    "\n",
    "where the same trend detection method is applied."
   ]
  },
  {
   "cell_type": "markdown",
   "id": "bfd329cb",
   "metadata": {
    "papermill": {
     "duration": 0.041546,
     "end_time": "2022-01-12T06:24:43.134744",
     "exception": false,
     "start_time": "2022-01-12T06:24:43.093198",
     "status": "completed"
    },
    "tags": []
   },
   "source": [
    "# Performance\n"
   ]
  },
  {
   "cell_type": "markdown",
   "id": "ce1ba3e1",
   "metadata": {
    "papermill": {
     "duration": 0.039517,
     "end_time": "2022-01-12T06:24:43.215871",
     "exception": false,
     "start_time": "2022-01-12T06:24:43.176354",
     "status": "completed"
    },
    "tags": []
   },
   "source": [
    "## Moskowitz et al\n",
    "\n",
    "First we calculate the original trend-following portfolio with a more traditional close-to-close realised volatility estimator. Although Moskowitz et al uses the exponentially weighted standard deviation, BK2020 appears to compare against the rolling standard deviation."
   ]
  },
  {
   "cell_type": "code",
   "execution_count": 4,
   "id": "5c9bd1e3",
   "metadata": {
    "execution": {
     "iopub.execute_input": "2022-01-12T06:24:43.300970Z",
     "iopub.status.busy": "2022-01-12T06:24:43.300433Z",
     "iopub.status.idle": "2022-01-12T06:37:21.894465Z",
     "shell.execute_reply": "2022-01-12T06:37:21.893849Z",
     "shell.execute_reply.started": "2020-11-29T13:12:08.958110Z"
    },
    "papermill": {
     "duration": 758.639398,
     "end_time": "2022-01-12T06:37:21.894590",
     "exception": false,
     "start_time": "2022-01-12T06:24:43.255192",
     "status": "completed"
    },
    "tags": []
   },
   "outputs": [],
   "source": [
    "engine_original = BacktestEngine(\n",
    "    strategy=Strategy.DELTA_ONE.value,\n",
    "    instrument=all_futures_baltas2020.index,\n",
    "    signal=signal.ParallelSignal([\n",
    "        signal.VolatilityScale(agg_method='rolling', window=21, ann_factor=261, \n",
    "                               target_volatility=0.4, signal_cap=0.95),\n",
    "        signal.TSMOMMoskowitz2012(post_process=processing.AsFreq(freq='m', method='pad'))\n",
    "    ], weighting='product'),\n",
    "    weighting=Weighting.EQUAL_WEIGHT.value,\n",
    "    log_level=logging.WARN,\n",
    ")\n",
    "engine_original.run()"
   ]
  },
  {
   "cell_type": "code",
   "execution_count": 5,
   "id": "0b8fb1bd",
   "metadata": {
    "execution": {
     "iopub.execute_input": "2022-01-12T06:37:22.379586Z",
     "iopub.status.busy": "2022-01-12T06:37:22.064348Z",
     "iopub.status.idle": "2022-01-12T06:38:48.033432Z",
     "shell.execute_reply": "2022-01-12T06:38:48.033862Z",
     "shell.execute_reply.started": "2020-11-29T13:18:03.984259Z"
    },
    "papermill": {
     "duration": 86.099318,
     "end_time": "2022-01-12T06:38:48.033996",
     "exception": false,
     "start_time": "2022-01-12T06:37:21.934678",
     "status": "completed"
    },
    "tags": []
   },
   "outputs": [],
   "source": [
    "engine_original_eq = (engine_original.calculate_equity_curve(calculate_net=False, rebalance_freq='m')\n",
    "                      .rename('Trend-following portfolio (Moskowitz 2012)'))"
   ]
  },
  {
   "cell_type": "code",
   "execution_count": 6,
   "id": "b18bad20",
   "metadata": {
    "execution": {
     "iopub.execute_input": "2022-01-12T06:38:48.134117Z",
     "iopub.status.busy": "2022-01-12T06:38:48.117757Z",
     "iopub.status.idle": "2022-01-12T06:38:48.847739Z",
     "shell.execute_reply": "2022-01-12T06:38:48.848168Z",
     "shell.execute_reply.started": "2020-11-29T13:18:53.828767Z"
    },
    "papermill": {
     "duration": 0.775221,
     "end_time": "2022-01-12T06:38:48.848299",
     "exception": false,
     "start_time": "2022-01-12T06:38:48.073078",
     "status": "completed"
    },
    "tags": []
   },
   "outputs": [
    {
     "data": {
      "image/png": "[encoded data removed]",
      "text/plain": [
       "<Figure size 576x324 with 1 Axes>"
      ]
     },
     "metadata": {
      "needs_background": "light"
     },
     "output_type": "display_data"
    }
   ],
   "source": [
    "fig, ax = plt.subplots(figsize=(8, 4.5))\n",
    "engine_original_eq.plot(ax=ax, logy=True)\n",
    "ax.set_title('Trend-following portfolio (Moskowitz 2012)')\n",
    "ax.set_ylabel('Cumulative returns');"
   ]
  },
  {
   "cell_type": "code",
   "execution_count": 7,
   "id": "15d18a97",
   "metadata": {
    "execution": {
     "iopub.execute_input": "2022-01-12T06:38:48.931260Z",
     "iopub.status.busy": "2022-01-12T06:38:48.930720Z",
     "iopub.status.idle": "2022-01-12T06:38:49.016980Z",
     "shell.execute_reply": "2022-01-12T06:38:49.016453Z",
     "shell.execute_reply.started": "2020-11-29T13:18:54.295145Z"
    },
    "papermill": {
     "duration": 0.129149,
     "end_time": "2022-01-12T06:38:49.017087",
     "exception": false,
     "start_time": "2022-01-12T06:38:48.887938",
     "status": "completed"
    },
    "tags": []
   },
   "outputs": [
    {
     "data": {
      "text/html": [
       "<div>\n",
       "<style scoped>\n",
       "    .dataframe tbody tr th:only-of-type {\n",
       "        vertical-align: middle;\n",
       "    }\n",
       "\n",
       "    .dataframe tbody tr th {\n",
       "        vertical-align: top;\n",
       "    }\n",
       "\n",
       "    .dataframe thead th {\n",
       "        text-align: right;\n",
       "    }\n",
       "</style>\n",
       "<table border=\"1\" class=\"dataframe\">\n",
       "  <thead>\n",
       "    <tr style=\"text-align: right;\">\n",
       "      <th></th>\n",
       "      <th>Trend-following portfolio (Moskowitz 2012)</th>\n",
       "    </tr>\n",
       "  </thead>\n",
       "  <tbody>\n",
       "    <tr>\n",
       "      <th>CAGR</th>\n",
       "      <td>0.146274</td>\n",
       "    </tr>\n",
       "    <tr>\n",
       "      <th>Annualised vol</th>\n",
       "      <td>0.125024</td>\n",
       "    </tr>\n",
       "    <tr>\n",
       "      <th>Sharpe ratio</th>\n",
       "      <td>1.169967</td>\n",
       "    </tr>\n",
       "    <tr>\n",
       "      <th>Max drawdown</th>\n",
       "      <td>0.259239</td>\n",
       "    </tr>\n",
       "    <tr>\n",
       "      <th>Calmar ratio</th>\n",
       "      <td>0.564243</td>\n",
       "    </tr>\n",
       "    <tr>\n",
       "      <th>Skewness</th>\n",
       "      <td>0.075208</td>\n",
       "    </tr>\n",
       "    <tr>\n",
       "      <th>Kurtosis</th>\n",
       "      <td>19.503110</td>\n",
       "    </tr>\n",
       "    <tr>\n",
       "      <th>Worst return</th>\n",
       "      <td>-0.126276</td>\n",
       "    </tr>\n",
       "    <tr>\n",
       "      <th>Worst 1d return</th>\n",
       "      <td>-0.126276</td>\n",
       "    </tr>\n",
       "    <tr>\n",
       "      <th>Worst 1w return</th>\n",
       "      <td>-0.107725</td>\n",
       "    </tr>\n",
       "    <tr>\n",
       "      <th>Worst 1m return</th>\n",
       "      <td>-0.152667</td>\n",
       "    </tr>\n",
       "  </tbody>\n",
       "</table>\n",
       "</div>"
      ],
      "text/plain": [
       "                 Trend-following portfolio (Moskowitz 2012)\n",
       "CAGR                                               0.146274\n",
       "Annualised vol                                     0.125024\n",
       "Sharpe ratio                                       1.169967\n",
       "Max drawdown                                       0.259239\n",
       "Calmar ratio                                       0.564243\n",
       "Skewness                                           0.075208\n",
       "Kurtosis                                          19.503110\n",
       "Worst return                                      -0.126276\n",
       "Worst 1d return                                   -0.126276\n",
       "Worst 1w return                                   -0.107725\n",
       "Worst 1m return                                   -0.152667"
      ]
     },
     "execution_count": 7,
     "metadata": {},
     "output_type": "execute_result"
    }
   ],
   "source": [
    "engine_original_eq.pipe(Performance).summary()"
   ]
  },
  {
   "cell_type": "markdown",
   "id": "a2ff1e11",
   "metadata": {
    "papermill": {
     "duration": 0.040665,
     "end_time": "2022-01-12T06:38:49.099183",
     "exception": false,
     "start_time": "2022-01-12T06:38:49.058518",
     "status": "completed"
    },
    "tags": []
   },
   "source": [
    "\n",
    "## Volatility estimator\n",
    "BK2020 proposes a few changes in order to enhance the original trend-following strategy Moskowitz et al reported. The first thing is to use a more sophisticated realised volatility estimators for volatility scaling. Moskowitz used the exponentially weighted standard deviation with close-to-close. On the other hand, BK2020 suggests to use Yang-Zhang estimator as it is much more efficient."
   ]
  },
  {
   "cell_type": "code",
   "execution_count": 8,
   "id": "58822149",
   "metadata": {
    "ExecuteTime": {
     "end_time": "2020-08-30T21:18:24.661167Z",
     "start_time": "2020-08-30T21:08:49.544232Z"
    },
    "execution": {
     "iopub.execute_input": "2022-01-12T06:38:49.187253Z",
     "iopub.status.busy": "2022-01-12T06:38:49.186709Z",
     "iopub.status.idle": "2022-01-12T06:58:43.261975Z",
     "shell.execute_reply": "2022-01-12T06:58:43.261462Z",
     "shell.execute_reply.started": "2020-11-29T13:18:54.469866Z"
    },
    "papermill": {
     "duration": 1194.122494,
     "end_time": "2022-01-12T06:58:43.262108",
     "exception": false,
     "start_time": "2022-01-12T06:38:49.139614",
     "status": "completed"
    },
    "tags": []
   },
   "outputs": [],
   "source": [
    "engine_vol = BacktestEngine(\n",
    "    strategy=Strategy.DELTA_ONE.value,\n",
    "    instrument=all_futures_baltas2020.index,\n",
    "    signal=signal.ParallelSignal([\n",
    "        signal.VolatilityScale(volatility_type=RealisedVolatility.YZ.value,\n",
    "                               agg_method='rolling', window=21, min_periods=10,\n",
    "                               target_volatility=0.4, signal_cap=0.95, ann_factor=261),\n",
    "        signal.TSMOMMoskowitz2012(post_process=processing.AsFreq(freq='m', method='pad'))\n",
    "    ], weighting='product'),\n",
    "    weighting=Weighting.EQUAL_WEIGHT.value,\n",
    "    log_level=logging.WARN,\n",
    ")\n",
    "engine_vol.run()"
   ]
  },
  {
   "cell_type": "code",
   "execution_count": 9,
   "id": "f98fe0cd",
   "metadata": {
    "execution": {
     "iopub.execute_input": "2022-01-12T06:58:43.508320Z",
     "iopub.status.busy": "2022-01-12T06:58:43.415475Z",
     "iopub.status.idle": "2022-01-12T07:00:06.292756Z",
     "shell.execute_reply": "2022-01-12T07:00:06.293302Z",
     "shell.execute_reply.started": "2020-11-29T13:31:00.559296Z"
    },
    "papermill": {
     "duration": 82.989898,
     "end_time": "2022-01-12T07:00:06.293473",
     "exception": false,
     "start_time": "2022-01-12T06:58:43.303575",
     "status": "completed"
    },
    "tags": []
   },
   "outputs": [],
   "source": [
    "engine_vol_eq = (engine_vol.calculate_equity_curve(calculate_net=False, rebalance_freq='m')\n",
    "                 .rename('Trend-following portfolio (YZ estimator)'))"
   ]
  },
  {
   "cell_type": "code",
   "execution_count": 10,
   "id": "ee252270",
   "metadata": {
    "execution": {
     "iopub.execute_input": "2022-01-12T07:00:06.413695Z",
     "iopub.status.busy": "2022-01-12T07:00:06.411053Z",
     "iopub.status.idle": "2022-01-12T07:00:06.995233Z",
     "shell.execute_reply": "2022-01-12T07:00:06.995675Z",
     "shell.execute_reply.started": "2020-11-29T13:31:47.913420Z"
    },
    "papermill": {
     "duration": 0.655774,
     "end_time": "2022-01-12T07:00:06.995814",
     "exception": false,
     "start_time": "2022-01-12T07:00:06.340040",
     "status": "completed"
    },
    "tags": []
   },
   "outputs": [
    {
     "data": {
      "image/png": "[encoded data removed]",
      "text/plain": [
       "<Figure size 576x324 with 1 Axes>"
      ]
     },
     "metadata": {
      "needs_background": "light"
     },
     "output_type": "display_data"
    }
   ],
   "source": [
    "fig, ax = plt.subplots(figsize=(8, 4.5))\n",
    "engine_vol_eq.plot(ax=ax, logy=True);\n",
    "ax.set_title('Trend-following portfolio (YZ estimator)')\n",
    "ax.set_ylabel('Cumulative returns');"
   ]
  },
  {
   "cell_type": "code",
   "execution_count": 11,
   "id": "fc8c9aaa",
   "metadata": {
    "execution": {
     "iopub.execute_input": "2022-01-12T07:00:07.090551Z",
     "iopub.status.busy": "2022-01-12T07:00:07.089976Z",
     "iopub.status.idle": "2022-01-12T07:00:07.172793Z",
     "shell.execute_reply": "2022-01-12T07:00:07.172266Z",
     "shell.execute_reply.started": "2020-11-29T13:31:48.172339Z"
    },
    "papermill": {
     "duration": 0.130413,
     "end_time": "2022-01-12T07:00:07.172905",
     "exception": false,
     "start_time": "2022-01-12T07:00:07.042492",
     "status": "completed"
    },
    "tags": []
   },
   "outputs": [
    {
     "data": {
      "text/html": [
       "<div>\n",
       "<style scoped>\n",
       "    .dataframe tbody tr th:only-of-type {\n",
       "        vertical-align: middle;\n",
       "    }\n",
       "\n",
       "    .dataframe tbody tr th {\n",
       "        vertical-align: top;\n",
       "    }\n",
       "\n",
       "    .dataframe thead th {\n",
       "        text-align: right;\n",
       "    }\n",
       "</style>\n",
       "<table border=\"1\" class=\"dataframe\">\n",
       "  <thead>\n",
       "    <tr style=\"text-align: right;\">\n",
       "      <th></th>\n",
       "      <th>Trend-following portfolio (YZ estimator)</th>\n",
       "    </tr>\n",
       "  </thead>\n",
       "  <tbody>\n",
       "    <tr>\n",
       "      <th>CAGR</th>\n",
       "      <td>0.147383</td>\n",
       "    </tr>\n",
       "    <tr>\n",
       "      <th>Annualised vol</th>\n",
       "      <td>0.127244</td>\n",
       "    </tr>\n",
       "    <tr>\n",
       "      <th>Sharpe ratio</th>\n",
       "      <td>1.158274</td>\n",
       "    </tr>\n",
       "    <tr>\n",
       "      <th>Max drawdown</th>\n",
       "      <td>0.305877</td>\n",
       "    </tr>\n",
       "    <tr>\n",
       "      <th>Calmar ratio</th>\n",
       "      <td>0.481838</td>\n",
       "    </tr>\n",
       "    <tr>\n",
       "      <th>Skewness</th>\n",
       "      <td>0.284833</td>\n",
       "    </tr>\n",
       "    <tr>\n",
       "      <th>Kurtosis</th>\n",
       "      <td>22.358194</td>\n",
       "    </tr>\n",
       "    <tr>\n",
       "      <th>Worst return</th>\n",
       "      <td>-0.137043</td>\n",
       "    </tr>\n",
       "    <tr>\n",
       "      <th>Worst 1d return</th>\n",
       "      <td>-0.137043</td>\n",
       "    </tr>\n",
       "    <tr>\n",
       "      <th>Worst 1w return</th>\n",
       "      <td>-0.098542</td>\n",
       "    </tr>\n",
       "    <tr>\n",
       "      <th>Worst 1m return</th>\n",
       "      <td>-0.169177</td>\n",
       "    </tr>\n",
       "  </tbody>\n",
       "</table>\n",
       "</div>"
      ],
      "text/plain": [
       "                 Trend-following portfolio (YZ estimator)\n",
       "CAGR                                             0.147383\n",
       "Annualised vol                                   0.127244\n",
       "Sharpe ratio                                     1.158274\n",
       "Max drawdown                                     0.305877\n",
       "Calmar ratio                                     0.481838\n",
       "Skewness                                         0.284833\n",
       "Kurtosis                                        22.358194\n",
       "Worst return                                    -0.137043\n",
       "Worst 1d return                                 -0.137043\n",
       "Worst 1w return                                 -0.098542\n",
       "Worst 1m return                                 -0.169177"
      ]
     },
     "execution_count": 11,
     "metadata": {},
     "output_type": "execute_result"
    }
   ],
   "source": [
    "engine_vol_eq.pipe(Performance).summary()"
   ]
  },
  {
   "cell_type": "markdown",
   "id": "932c7f36",
   "metadata": {
    "papermill": {
     "duration": 0.044864,
     "end_time": "2022-01-12T07:00:07.261309",
     "exception": false,
     "start_time": "2022-01-12T07:00:07.216445",
     "status": "completed"
    },
    "tags": []
   },
   "source": [
    "## TREND signal\n",
    "\n",
    "Another improvement BK2020 proposes is to use a continuous signal rather than a binary one in order to reduce the turnover when signals are weak. Specifically they used the t-values with the Newey-West standard error as the signal. They further capped and floored the signal between -1 and +1 to avoid extreme positions.\n",
    "\n",
    "`statsmodels`'s `OLS` class provides a method to compute the Newey-West standard error. https://www.statsmodels.org/stable/generated/statsmodels.regression.linear_model.OLS.html"
   ]
  },
  {
   "cell_type": "code",
   "execution_count": 12,
   "id": "938b2a80",
   "metadata": {
    "execution": {
     "iopub.execute_input": "2022-01-12T07:00:07.358609Z",
     "iopub.status.busy": "2022-01-12T07:00:07.357778Z",
     "iopub.status.idle": "2022-01-12T07:17:27.821189Z",
     "shell.execute_reply": "2022-01-12T07:17:27.821849Z",
     "shell.execute_reply.started": "2020-11-29T13:31:48.356714Z"
    },
    "papermill": {
     "duration": 1040.515209,
     "end_time": "2022-01-12T07:17:27.822044",
     "exception": false,
     "start_time": "2022-01-12T07:00:07.306835",
     "status": "completed"
    },
    "tags": []
   },
   "outputs": [],
   "source": [
    "engine_trend = BacktestEngine(\n",
    "    strategy=Strategy.DELTA_ONE.value,\n",
    "    instrument=all_futures_baltas2020.index,\n",
    "    signal=signal.ParallelSignal([\n",
    "        signal.VolatilityScale(agg_method='rolling', window=21, ann_factor=261, \n",
    "                               target_volatility=0.4, signal_cap=0.95),\n",
    "        signal.TSMOMBaltas2020()\n",
    "    ], weighting='product'),\n",
    "    weighting=Weighting.EQUAL_WEIGHT.value,\n",
    "    log_level=logging.WARN,\n",
    ")\n",
    "engine_trend.run()"
   ]
  },
  {
   "cell_type": "code",
   "execution_count": 13,
   "id": "1060b674",
   "metadata": {
    "execution": {
     "iopub.execute_input": "2022-01-12T07:17:28.441590Z",
     "iopub.status.busy": "2022-01-12T07:17:28.061127Z",
     "iopub.status.idle": "2022-01-12T07:18:53.496445Z",
     "shell.execute_reply": "2022-01-12T07:18:53.495897Z",
     "shell.execute_reply.started": "2020-11-29T13:43:37.547435Z"
    },
    "papermill": {
     "duration": 85.579198,
     "end_time": "2022-01-12T07:18:53.496555",
     "exception": false,
     "start_time": "2022-01-12T07:17:27.917357",
     "status": "completed"
    },
    "tags": []
   },
   "outputs": [],
   "source": [
    "engine_trend_eq = (engine_trend.calculate_equity_curve(calculate_net=False, rebalance_freq='m')\n",
    "                   .rename('Trend-following portfolio (TREND signal)'))"
   ]
  },
  {
   "cell_type": "code",
   "execution_count": 14,
   "id": "0c8e886d",
   "metadata": {
    "execution": {
     "iopub.execute_input": "2022-01-12T07:18:53.590006Z",
     "iopub.status.busy": "2022-01-12T07:18:53.589494Z",
     "iopub.status.idle": "2022-01-12T07:18:54.287439Z",
     "shell.execute_reply": "2022-01-12T07:18:54.286910Z",
     "shell.execute_reply.started": "2020-11-29T13:44:27.100036Z"
    },
    "papermill": {
     "duration": 0.744761,
     "end_time": "2022-01-12T07:18:54.287556",
     "exception": false,
     "start_time": "2022-01-12T07:18:53.542795",
     "status": "completed"
    },
    "tags": []
   },
   "outputs": [
    {
     "data": {
      "image/png": "[encoded data removed]",
      "text/plain": [
       "<Figure size 576x324 with 1 Axes>"
      ]
     },
     "metadata": {
      "needs_background": "light"
     },
     "output_type": "display_data"
    }
   ],
   "source": [
    "fig, ax = plt.subplots(figsize=(8, 4.5))\n",
    "engine_trend_eq.plot(ax=ax, logy=True);\n",
    "ax.set_title('Trend-following portfolio (TREND signal)')\n",
    "ax.set_ylabel('Cumulative returns');"
   ]
  },
  {
   "cell_type": "code",
   "execution_count": 15,
   "id": "915fa7ed",
   "metadata": {
    "execution": {
     "iopub.execute_input": "2022-01-12T07:18:54.377379Z",
     "iopub.status.busy": "2022-01-12T07:18:54.376861Z",
     "iopub.status.idle": "2022-01-12T07:18:54.456600Z",
     "shell.execute_reply": "2022-01-12T07:18:54.457005Z",
     "shell.execute_reply.started": "2020-11-29T13:44:28.329619Z"
    },
    "papermill": {
     "duration": 0.126407,
     "end_time": "2022-01-12T07:18:54.457136",
     "exception": false,
     "start_time": "2022-01-12T07:18:54.330729",
     "status": "completed"
    },
    "tags": []
   },
   "outputs": [
    {
     "data": {
      "text/html": [
       "<div>\n",
       "<style scoped>\n",
       "    .dataframe tbody tr th:only-of-type {\n",
       "        vertical-align: middle;\n",
       "    }\n",
       "\n",
       "    .dataframe tbody tr th {\n",
       "        vertical-align: top;\n",
       "    }\n",
       "\n",
       "    .dataframe thead th {\n",
       "        text-align: right;\n",
       "    }\n",
       "</style>\n",
       "<table border=\"1\" class=\"dataframe\">\n",
       "  <thead>\n",
       "    <tr style=\"text-align: right;\">\n",
       "      <th></th>\n",
       "      <th>Trend-following portfolio (TREND signal)</th>\n",
       "    </tr>\n",
       "  </thead>\n",
       "  <tbody>\n",
       "    <tr>\n",
       "      <th>CAGR</th>\n",
       "      <td>0.138538</td>\n",
       "    </tr>\n",
       "    <tr>\n",
       "      <th>Annualised vol</th>\n",
       "      <td>0.107954</td>\n",
       "    </tr>\n",
       "    <tr>\n",
       "      <th>Sharpe ratio</th>\n",
       "      <td>1.283297</td>\n",
       "    </tr>\n",
       "    <tr>\n",
       "      <th>Max drawdown</th>\n",
       "      <td>0.294584</td>\n",
       "    </tr>\n",
       "    <tr>\n",
       "      <th>Calmar ratio</th>\n",
       "      <td>0.470282</td>\n",
       "    </tr>\n",
       "    <tr>\n",
       "      <th>Skewness</th>\n",
       "      <td>0.164344</td>\n",
       "    </tr>\n",
       "    <tr>\n",
       "      <th>Kurtosis</th>\n",
       "      <td>28.260299</td>\n",
       "    </tr>\n",
       "    <tr>\n",
       "      <th>Worst return</th>\n",
       "      <td>-0.121269</td>\n",
       "    </tr>\n",
       "    <tr>\n",
       "      <th>Worst 1d return</th>\n",
       "      <td>-0.121269</td>\n",
       "    </tr>\n",
       "    <tr>\n",
       "      <th>Worst 1w return</th>\n",
       "      <td>-0.110077</td>\n",
       "    </tr>\n",
       "    <tr>\n",
       "      <th>Worst 1m return</th>\n",
       "      <td>-0.171789</td>\n",
       "    </tr>\n",
       "  </tbody>\n",
       "</table>\n",
       "</div>"
      ],
      "text/plain": [
       "                 Trend-following portfolio (TREND signal)\n",
       "CAGR                                             0.138538\n",
       "Annualised vol                                   0.107954\n",
       "Sharpe ratio                                     1.283297\n",
       "Max drawdown                                     0.294584\n",
       "Calmar ratio                                     0.470282\n",
       "Skewness                                         0.164344\n",
       "Kurtosis                                        28.260299\n",
       "Worst return                                    -0.121269\n",
       "Worst 1d return                                 -0.121269\n",
       "Worst 1w return                                 -0.110077\n",
       "Worst 1m return                                 -0.171789"
      ]
     },
     "execution_count": 15,
     "metadata": {},
     "output_type": "execute_result"
    }
   ],
   "source": [
    "engine_trend_eq.pipe(Performance).summary()"
   ]
  },
  {
   "cell_type": "markdown",
   "id": "fdf5f3af",
   "metadata": {
    "papermill": {
     "duration": 0.043737,
     "end_time": "2022-01-12T07:18:54.544618",
     "exception": false,
     "start_time": "2022-01-12T07:18:54.500881",
     "status": "completed"
    },
    "tags": []
   },
   "source": [
    "## Combined\n",
    "\n",
    "Finally we run a backtest by using both the Yang-Zhang volatility estimator and the TREND signal."
   ]
  },
  {
   "cell_type": "markdown",
   "id": "c04f12d7",
   "metadata": {
    "tags": [
     "papermill-error-cell-tag"
    ]
   },
   "source": [
    "<span id=\"papermill-error-cell\" style=\"color:red; font-family:Helvetica Neue, Helvetica, Arial, sans-serif; font-size:2em;\">Execution using papermill encountered an exception here and stopped:</span>"
   ]
  },
  {
   "cell_type": "code",
   "execution_count": 16,
   "id": "bab9e710",
   "metadata": {
    "execution": {
     "iopub.execute_input": "2022-01-12T07:18:54.637950Z",
     "iopub.status.busy": "2022-01-12T07:18:54.634465Z",
     "iopub.status.idle": "2022-01-12T07:19:25.172573Z",
     "shell.execute_reply": "2022-01-12T07:19:25.173135Z",
     "shell.execute_reply.started": "2020-11-29T13:44:28.516275Z"
    },
    "papermill": {
     "duration": 30.585193,
     "end_time": "2022-01-12T07:19:25.173361",
     "exception": true,
     "start_time": "2022-01-12T07:18:54.588168",
     "status": "failed"
    },
    "tags": []
   },
   "outputs": [
    {
     "ename": "ServerSelectionTimeoutError",
     "evalue": "192.168.1.163:27017: timed out",
     "output_type": "error",
     "traceback": [
      "\u001b[0;31m---------------------------------------------------------------------------\u001b[0m",
      "\u001b[0;31mServerSelectionTimeoutError\u001b[0m               Traceback (most recent call last)",
      "\u001b[0;32m/tmp/ipykernel_13/1884808403.py\u001b[0m in \u001b[0;36m<module>\u001b[0;34m\u001b[0m\n\u001b[1;32m     11\u001b[0m     \u001b[0mlog_level\u001b[0m\u001b[0;34m=\u001b[0m\u001b[0mlogging\u001b[0m\u001b[0;34m.\u001b[0m\u001b[0mWARN\u001b[0m\u001b[0;34m,\u001b[0m\u001b[0;34m\u001b[0m\u001b[0;34m\u001b[0m\u001b[0m\n\u001b[1;32m     12\u001b[0m )\n\u001b[0;32m---> 13\u001b[0;31m \u001b[0mengine_combined\u001b[0m\u001b[0;34m.\u001b[0m\u001b[0mrun\u001b[0m\u001b[0;34m(\u001b[0m\u001b[0;34m)\u001b[0m\u001b[0;34m\u001b[0m\u001b[0;34m\u001b[0m\u001b[0m\n\u001b[0m",
      "\u001b[0;32m/usr/local/lib/python3.9/site-packages/vivace/backtest/engine.py\u001b[0m in \u001b[0;36mrun\u001b[0;34m(self)\u001b[0m\n\u001b[1;32m     79\u001b[0m     \u001b[0;32mdef\u001b[0m \u001b[0mrun\u001b[0m\u001b[0;34m(\u001b[0m\u001b[0mself\u001b[0m\u001b[0;34m)\u001b[0m\u001b[0;34m:\u001b[0m\u001b[0;34m\u001b[0m\u001b[0;34m\u001b[0m\u001b[0m\n\u001b[1;32m     80\u001b[0m         \u001b[0mlogger\u001b[0m\u001b[0;34m.\u001b[0m\u001b[0minfo\u001b[0m\u001b[0;34m(\u001b[0m\u001b[0;34m'Loading contract data'\u001b[0m\u001b[0;34m)\u001b[0m\u001b[0;34m\u001b[0m\u001b[0;34m\u001b[0m\u001b[0m\n\u001b[0;32m---> 81\u001b[0;31m         \u001b[0mself\u001b[0m\u001b[0;34m.\u001b[0m\u001b[0mcontracts\u001b[0m \u001b[0;34m=\u001b[0m \u001b[0mload_contracts\u001b[0m\u001b[0;34m(\u001b[0m\u001b[0mself\u001b[0m\u001b[0;34m)\u001b[0m\u001b[0;34m\u001b[0m\u001b[0;34m\u001b[0m\u001b[0m\n\u001b[0m\u001b[1;32m     82\u001b[0m         \u001b[0mself\u001b[0m\u001b[0;34m.\u001b[0m\u001b[0m_contract_tree\u001b[0m \u001b[0;34m=\u001b[0m \u001b[0mto_contract_tree\u001b[0m\u001b[0;34m(\u001b[0m\u001b[0mself\u001b[0m\u001b[0;34m.\u001b[0m\u001b[0mcontracts\u001b[0m\u001b[0;34m)\u001b[0m\u001b[0;34m\u001b[0m\u001b[0;34m\u001b[0m\u001b[0m\n\u001b[1;32m     83\u001b[0m \u001b[0;34m\u001b[0m\u001b[0m\n",
      "\u001b[0;32m/usr/local/lib/python3.9/site-packages/vivace/backtest/contract.py\u001b[0m in \u001b[0;36mload_contracts\u001b[0;34m(engine)\u001b[0m\n\u001b[1;32m    995\u001b[0m             \u001b[0;31m# Loading futures is prioritised.\u001b[0m\u001b[0;34m\u001b[0m\u001b[0;34m\u001b[0m\u001b[0;34m\u001b[0m\u001b[0m\n\u001b[1;32m    996\u001b[0m             \u001b[0;32mif\u001b[0m \u001b[0minstrument_def\u001b[0m\u001b[0;34m.\u001b[0m\u001b[0mname\u001b[0m \u001b[0;32min\u001b[0m \u001b[0mall_futures\u001b[0m\u001b[0;34m:\u001b[0m\u001b[0;34m\u001b[0m\u001b[0;34m\u001b[0m\u001b[0m\n\u001b[0;32m--> 997\u001b[0;31m                 \u001b[0mcontracts\u001b[0m\u001b[0;34m.\u001b[0m\u001b[0mappend\u001b[0m\u001b[0;34m(\u001b[0m\u001b[0mload_futures_contract\u001b[0m\u001b[0;34m(\u001b[0m\u001b[0mstart_date\u001b[0m\u001b[0;34m,\u001b[0m \u001b[0mend_date\u001b[0m\u001b[0;34m,\u001b[0m \u001b[0minstrument_def\u001b[0m\u001b[0;34m)\u001b[0m\u001b[0;34m)\u001b[0m\u001b[0;34m\u001b[0m\u001b[0;34m\u001b[0m\u001b[0m\n\u001b[0m\u001b[1;32m    998\u001b[0m             \u001b[0;32melse\u001b[0m\u001b[0;34m:\u001b[0m\u001b[0;34m\u001b[0m\u001b[0;34m\u001b[0m\u001b[0m\n\u001b[1;32m    999\u001b[0m \u001b[0;34m\u001b[0m\u001b[0m\n",
      "\u001b[0;32m/usr/local/lib/python3.9/site-packages/vivace/backtest/contract.py\u001b[0m in \u001b[0;36mload_futures_contract\u001b[0;34m(start_date, end_date, instrument_def)\u001b[0m\n\u001b[1;32m   1133\u001b[0m \u001b[0;34m\u001b[0m\u001b[0m\n\u001b[1;32m   1134\u001b[0m         \u001b[0;32mif\u001b[0m \u001b[0minstrument_def\u001b[0m\u001b[0;34m.\u001b[0m\u001b[0mname\u001b[0m \u001b[0;32min\u001b[0m \u001b[0mbarchart_tickers\u001b[0m\u001b[0;34m:\u001b[0m\u001b[0;34m\u001b[0m\u001b[0;34m\u001b[0m\u001b[0m\n\u001b[0;32m-> 1135\u001b[0;31m             \u001b[0mcontracts\u001b[0m \u001b[0;34m+=\u001b[0m \u001b[0mcreate_contracts\u001b[0m\u001b[0;34m(\u001b[0m\u001b[0mBARCHART_FUTURES_TS\u001b[0m\u001b[0;34m,\u001b[0m \u001b[0mstart_date\u001b[0m\u001b[0;34m,\u001b[0m \u001b[0mend_date\u001b[0m\u001b[0;34m,\u001b[0m \u001b[0minstrument_def\u001b[0m\u001b[0;34m)\u001b[0m\u001b[0;34m\u001b[0m\u001b[0;34m\u001b[0m\u001b[0m\n\u001b[0m\u001b[1;32m   1136\u001b[0m         \u001b[0;32melif\u001b[0m \u001b[0minstrument_def\u001b[0m\u001b[0;34m.\u001b[0m\u001b[0mname\u001b[0m \u001b[0;32min\u001b[0m \u001b[0mquandl_tickers\u001b[0m\u001b[0;34m:\u001b[0m\u001b[0;34m\u001b[0m\u001b[0;34m\u001b[0m\u001b[0m\n\u001b[1;32m   1137\u001b[0m             \u001b[0mcontracts\u001b[0m \u001b[0;34m+=\u001b[0m \u001b[0mcreate_contracts\u001b[0m\u001b[0;34m(\u001b[0m\u001b[0mQUANDL_FUTURES_TS\u001b[0m\u001b[0;34m,\u001b[0m \u001b[0mstart_date\u001b[0m\u001b[0;34m,\u001b[0m \u001b[0mend_date\u001b[0m\u001b[0;34m,\u001b[0m \u001b[0minstrument_def\u001b[0m\u001b[0;34m)\u001b[0m\u001b[0;34m\u001b[0m\u001b[0;34m\u001b[0m\u001b[0m\n",
      "\u001b[0;32m/usr/local/lib/python3.9/site-packages/vivace/backtest/contract.py\u001b[0m in \u001b[0;36mcreate_contracts\u001b[0;34m(library_name, start_date, end_date, instrument_def)\u001b[0m\n\u001b[1;32m   1098\u001b[0m                                           contract_month={'$in': instrument_def.contract_months})\n\u001b[1;32m   1099\u001b[0m         \u001b[0;32melse\u001b[0m\u001b[0;34m:\u001b[0m\u001b[0;34m\u001b[0m\u001b[0;34m\u001b[0m\u001b[0m\n\u001b[0;32m-> 1100\u001b[0;31m             symbols = list_symbols_sorted(library_name, 'last_trade', ticker_prefix=instrument_def.name,\n\u001b[0m\u001b[1;32m   1101\u001b[0m                                           \u001b[0mlast_trade\u001b[0m\u001b[0;34m=\u001b[0m\u001b[0;34m{\u001b[0m\u001b[0;34m'$gt'\u001b[0m\u001b[0;34m:\u001b[0m \u001b[0mstart_date\u001b[0m\u001b[0;34m}\u001b[0m\u001b[0;34m,\u001b[0m \u001b[0mfirst_trade\u001b[0m\u001b[0;34m=\u001b[0m\u001b[0;34m{\u001b[0m\u001b[0;34m'$lt'\u001b[0m\u001b[0;34m:\u001b[0m \u001b[0mend_date\u001b[0m\u001b[0;34m}\u001b[0m\u001b[0;34m,\u001b[0m\u001b[0;34m\u001b[0m\u001b[0;34m\u001b[0m\u001b[0m\n\u001b[1;32m   1102\u001b[0m                                           contract_month={'$in': instrument_def.contract_months})\n",
      "\u001b[0;32m/usr/local/lib/python3.9/site-packages/vivace/io.py\u001b[0m in \u001b[0;36mlist_symbols_sorted\u001b[0;34m(library_name, sort_key, **kwargs)\u001b[0m\n\u001b[1;32m    261\u001b[0m     \u001b[0;34m\"\"\" Get a list of symbols sorted by the `sort_key` \"\"\"\u001b[0m\u001b[0;34m\u001b[0m\u001b[0;34m\u001b[0m\u001b[0m\n\u001b[1;32m    262\u001b[0m     \u001b[0mlibrary\u001b[0m \u001b[0;34m=\u001b[0m \u001b[0mstore\u001b[0m\u001b[0;34m[\u001b[0m\u001b[0mlibrary_name\u001b[0m\u001b[0;34m]\u001b[0m\u001b[0;34m\u001b[0m\u001b[0;34m\u001b[0m\u001b[0m\n\u001b[0;32m--> 263\u001b[0;31m     \u001b[0msymbols\u001b[0m \u001b[0;34m=\u001b[0m \u001b[0mlibrary\u001b[0m\u001b[0;34m.\u001b[0m\u001b[0mlist_symbols\u001b[0m\u001b[0;34m(\u001b[0m\u001b[0;34m**\u001b[0m\u001b[0mkwargs\u001b[0m\u001b[0;34m)\u001b[0m\u001b[0;34m\u001b[0m\u001b[0;34m\u001b[0m\u001b[0m\n\u001b[0m\u001b[1;32m    264\u001b[0m     \u001b[0msymbols\u001b[0m \u001b[0;34m=\u001b[0m \u001b[0msorted\u001b[0m\u001b[0;34m(\u001b[0m\u001b[0msymbols\u001b[0m\u001b[0;34m,\u001b[0m \u001b[0mkey\u001b[0m\u001b[0;34m=\u001b[0m\u001b[0;32mlambda\u001b[0m \u001b[0mx\u001b[0m\u001b[0;34m:\u001b[0m \u001b[0mlibrary\u001b[0m\u001b[0;34m.\u001b[0m\u001b[0mread_metadata\u001b[0m\u001b[0;34m(\u001b[0m\u001b[0mx\u001b[0m\u001b[0;34m)\u001b[0m\u001b[0;34m.\u001b[0m\u001b[0mmetadata\u001b[0m\u001b[0;34m[\u001b[0m\u001b[0msort_key\u001b[0m\u001b[0;34m]\u001b[0m\u001b[0;34m)\u001b[0m\u001b[0;34m\u001b[0m\u001b[0;34m\u001b[0m\u001b[0m\n\u001b[1;32m    265\u001b[0m     \u001b[0;32mreturn\u001b[0m \u001b[0msymbols\u001b[0m\u001b[0;34m\u001b[0m\u001b[0;34m\u001b[0m\u001b[0m\n",
      "\u001b[0;32m/usr/local/lib/python3.9/site-packages/arctic/decorators.py\u001b[0m in \u001b[0;36mf_retry\u001b[0;34m(*args, **kwargs)\u001b[0m\n\u001b[1;32m     48\u001b[0m             \u001b[0;32mwhile\u001b[0m \u001b[0;32mTrue\u001b[0m\u001b[0;34m:\u001b[0m\u001b[0;34m\u001b[0m\u001b[0;34m\u001b[0m\u001b[0m\n\u001b[1;32m     49\u001b[0m                 \u001b[0;32mtry\u001b[0m\u001b[0;34m:\u001b[0m\u001b[0;34m\u001b[0m\u001b[0;34m\u001b[0m\u001b[0m\n\u001b[0;32m---> 50\u001b[0;31m                     \u001b[0;32mreturn\u001b[0m \u001b[0mf\u001b[0m\u001b[0;34m(\u001b[0m\u001b[0;34m*\u001b[0m\u001b[0margs\u001b[0m\u001b[0;34m,\u001b[0m \u001b[0;34m**\u001b[0m\u001b[0mkwargs\u001b[0m\u001b[0;34m)\u001b[0m\u001b[0;34m\u001b[0m\u001b[0;34m\u001b[0m\u001b[0m\n\u001b[0m\u001b[1;32m     51\u001b[0m                 \u001b[0;32mexcept\u001b[0m \u001b[0;34m(\u001b[0m\u001b[0mDuplicateKeyError\u001b[0m\u001b[0;34m,\u001b[0m \u001b[0mServerSelectionTimeoutError\u001b[0m\u001b[0;34m,\u001b[0m \u001b[0mBulkWriteError\u001b[0m\u001b[0;34m)\u001b[0m \u001b[0;32mas\u001b[0m \u001b[0me\u001b[0m\u001b[0;34m:\u001b[0m\u001b[0;34m\u001b[0m\u001b[0;34m\u001b[0m\u001b[0m\n\u001b[1;32m     52\u001b[0m                     \u001b[0;31m# Re-raise errors that won't go away.\u001b[0m\u001b[0;34m\u001b[0m\u001b[0;34m\u001b[0m\u001b[0;34m\u001b[0m\u001b[0m\n",
      "\u001b[0;32m/usr/local/lib/python3.9/site-packages/arctic/store/version_store.py\u001b[0m in \u001b[0;36mlist_symbols\u001b[0;34m(self, all_symbols, snapshot, regex, **kwargs)\u001b[0m\n\u001b[1;32m    182\u001b[0m         \u001b[0;31m# We may hit the group memory limit (100MB), so use allowDiskUse to circumvent this\u001b[0m\u001b[0;34m\u001b[0m\u001b[0;34m\u001b[0m\u001b[0;34m\u001b[0m\u001b[0m\n\u001b[1;32m    183\u001b[0m         \u001b[0;31m#  - https://docs.mongodb.com/manual/reference/operator/aggregation/group/#group-memory-limit\u001b[0m\u001b[0;34m\u001b[0m\u001b[0;34m\u001b[0m\u001b[0;34m\u001b[0m\u001b[0m\n\u001b[0;32m--> 184\u001b[0;31m         \u001b[0;32mreturn\u001b[0m \u001b[0msorted\u001b[0m\u001b[0;34m(\u001b[0m\u001b[0;34m[\u001b[0m\u001b[0mx\u001b[0m\u001b[0;34m[\u001b[0m\u001b[0;34m'_id'\u001b[0m\u001b[0;34m]\u001b[0m \u001b[0;32mfor\u001b[0m \u001b[0mx\u001b[0m \u001b[0;32min\u001b[0m \u001b[0mself\u001b[0m\u001b[0;34m.\u001b[0m\u001b[0m_versions\u001b[0m\u001b[0;34m.\u001b[0m\u001b[0maggregate\u001b[0m\u001b[0;34m(\u001b[0m\u001b[0mpipeline\u001b[0m\u001b[0;34m,\u001b[0m \u001b[0mallowDiskUse\u001b[0m\u001b[0;34m=\u001b[0m\u001b[0;32mTrue\u001b[0m\u001b[0;34m)\u001b[0m\u001b[0;34m]\u001b[0m\u001b[0;34m)\u001b[0m\u001b[0;34m\u001b[0m\u001b[0;34m\u001b[0m\u001b[0m\n\u001b[0m\u001b[1;32m    185\u001b[0m \u001b[0;34m\u001b[0m\u001b[0m\n\u001b[1;32m    186\u001b[0m     \u001b[0;34m@\u001b[0m\u001b[0mmongo_retry\u001b[0m\u001b[0;34m\u001b[0m\u001b[0;34m\u001b[0m\u001b[0m\n",
      "\u001b[0;32m/usr/local/lib/python3.9/site-packages/pymongo/collection.py\u001b[0m in \u001b[0;36maggregate\u001b[0;34m(self, pipeline, session, **kwargs)\u001b[0m\n\u001b[1;32m   2372\u001b[0m             \u001b[0mhttps\u001b[0m\u001b[0;34m:\u001b[0m\u001b[0;34m//\u001b[0m\u001b[0mdocs\u001b[0m\u001b[0;34m.\u001b[0m\u001b[0mmongodb\u001b[0m\u001b[0;34m.\u001b[0m\u001b[0mcom\u001b[0m\u001b[0;34m/\u001b[0m\u001b[0mmanual\u001b[0m\u001b[0;34m/\u001b[0m\u001b[0mreference\u001b[0m\u001b[0;34m/\u001b[0m\u001b[0mcommand\u001b[0m\u001b[0;34m/\u001b[0m\u001b[0maggregate\u001b[0m\u001b[0;34m\u001b[0m\u001b[0;34m\u001b[0m\u001b[0m\n\u001b[1;32m   2373\u001b[0m         \"\"\"\n\u001b[0;32m-> 2374\u001b[0;31m         \u001b[0;32mwith\u001b[0m \u001b[0mself\u001b[0m\u001b[0;34m.\u001b[0m\u001b[0m__database\u001b[0m\u001b[0;34m.\u001b[0m\u001b[0mclient\u001b[0m\u001b[0;34m.\u001b[0m\u001b[0m_tmp_session\u001b[0m\u001b[0;34m(\u001b[0m\u001b[0msession\u001b[0m\u001b[0;34m,\u001b[0m \u001b[0mclose\u001b[0m\u001b[0;34m=\u001b[0m\u001b[0;32mFalse\u001b[0m\u001b[0;34m)\u001b[0m \u001b[0;32mas\u001b[0m \u001b[0ms\u001b[0m\u001b[0;34m:\u001b[0m\u001b[0;34m\u001b[0m\u001b[0;34m\u001b[0m\u001b[0m\n\u001b[0m\u001b[1;32m   2375\u001b[0m             return self._aggregate(_CollectionAggregationCommand,\n\u001b[1;32m   2376\u001b[0m                                    \u001b[0mpipeline\u001b[0m\u001b[0;34m,\u001b[0m\u001b[0;34m\u001b[0m\u001b[0;34m\u001b[0m\u001b[0m\n",
      "\u001b[0;32m/usr/local/lib/python3.9/contextlib.py\u001b[0m in \u001b[0;36m__enter__\u001b[0;34m(self)\u001b[0m\n\u001b[1;32m    115\u001b[0m         \u001b[0;32mdel\u001b[0m \u001b[0mself\u001b[0m\u001b[0;34m.\u001b[0m\u001b[0margs\u001b[0m\u001b[0;34m,\u001b[0m \u001b[0mself\u001b[0m\u001b[0;34m.\u001b[0m\u001b[0mkwds\u001b[0m\u001b[0;34m,\u001b[0m \u001b[0mself\u001b[0m\u001b[0;34m.\u001b[0m\u001b[0mfunc\u001b[0m\u001b[0;34m\u001b[0m\u001b[0;34m\u001b[0m\u001b[0m\n\u001b[1;32m    116\u001b[0m         \u001b[0;32mtry\u001b[0m\u001b[0;34m:\u001b[0m\u001b[0;34m\u001b[0m\u001b[0;34m\u001b[0m\u001b[0m\n\u001b[0;32m--> 117\u001b[0;31m             \u001b[0;32mreturn\u001b[0m \u001b[0mnext\u001b[0m\u001b[0;34m(\u001b[0m\u001b[0mself\u001b[0m\u001b[0;34m.\u001b[0m\u001b[0mgen\u001b[0m\u001b[0;34m)\u001b[0m\u001b[0;34m\u001b[0m\u001b[0;34m\u001b[0m\u001b[0m\n\u001b[0m\u001b[1;32m    118\u001b[0m         \u001b[0;32mexcept\u001b[0m \u001b[0mStopIteration\u001b[0m\u001b[0;34m:\u001b[0m\u001b[0;34m\u001b[0m\u001b[0;34m\u001b[0m\u001b[0m\n\u001b[1;32m    119\u001b[0m             \u001b[0;32mraise\u001b[0m \u001b[0mRuntimeError\u001b[0m\u001b[0;34m(\u001b[0m\u001b[0;34m\"generator didn't yield\"\u001b[0m\u001b[0;34m)\u001b[0m \u001b[0;32mfrom\u001b[0m \u001b[0;32mNone\u001b[0m\u001b[0;34m\u001b[0m\u001b[0;34m\u001b[0m\u001b[0m\n",
      "\u001b[0;32m/usr/local/lib/python3.9/site-packages/pymongo/mongo_client.py\u001b[0m in \u001b[0;36m_tmp_session\u001b[0;34m(self, session, close)\u001b[0m\n\u001b[1;32m   1818\u001b[0m             \u001b[0;32mreturn\u001b[0m\u001b[0;34m\u001b[0m\u001b[0;34m\u001b[0m\u001b[0m\n\u001b[1;32m   1819\u001b[0m \u001b[0;34m\u001b[0m\u001b[0m\n\u001b[0;32m-> 1820\u001b[0;31m         \u001b[0ms\u001b[0m \u001b[0;34m=\u001b[0m \u001b[0mself\u001b[0m\u001b[0;34m.\u001b[0m\u001b[0m_ensure_session\u001b[0m\u001b[0;34m(\u001b[0m\u001b[0msession\u001b[0m\u001b[0;34m)\u001b[0m\u001b[0;34m\u001b[0m\u001b[0;34m\u001b[0m\u001b[0m\n\u001b[0m\u001b[1;32m   1821\u001b[0m         \u001b[0;32mif\u001b[0m \u001b[0ms\u001b[0m \u001b[0;32mand\u001b[0m \u001b[0mclose\u001b[0m\u001b[0;34m:\u001b[0m\u001b[0;34m\u001b[0m\u001b[0;34m\u001b[0m\u001b[0m\n\u001b[1;32m   1822\u001b[0m             \u001b[0;32mwith\u001b[0m \u001b[0ms\u001b[0m\u001b[0;34m:\u001b[0m\u001b[0;34m\u001b[0m\u001b[0;34m\u001b[0m\u001b[0m\n",
      "\u001b[0;32m/usr/local/lib/python3.9/site-packages/pymongo/mongo_client.py\u001b[0m in \u001b[0;36m_ensure_session\u001b[0;34m(self, session)\u001b[0m\n\u001b[1;32m   1805\u001b[0m             \u001b[0;31m# Don't make implicit sessions causally consistent. Applications\u001b[0m\u001b[0;34m\u001b[0m\u001b[0;34m\u001b[0m\u001b[0;34m\u001b[0m\u001b[0m\n\u001b[1;32m   1806\u001b[0m             \u001b[0;31m# should always opt-in.\u001b[0m\u001b[0;34m\u001b[0m\u001b[0;34m\u001b[0m\u001b[0;34m\u001b[0m\u001b[0m\n\u001b[0;32m-> 1807\u001b[0;31m             \u001b[0;32mreturn\u001b[0m \u001b[0mself\u001b[0m\u001b[0;34m.\u001b[0m\u001b[0m__start_session\u001b[0m\u001b[0;34m(\u001b[0m\u001b[0;32mTrue\u001b[0m\u001b[0;34m,\u001b[0m \u001b[0mcausal_consistency\u001b[0m\u001b[0;34m=\u001b[0m\u001b[0;32mFalse\u001b[0m\u001b[0;34m)\u001b[0m\u001b[0;34m\u001b[0m\u001b[0;34m\u001b[0m\u001b[0m\n\u001b[0m\u001b[1;32m   1808\u001b[0m         \u001b[0;32mexcept\u001b[0m \u001b[0;34m(\u001b[0m\u001b[0mConfigurationError\u001b[0m\u001b[0;34m,\u001b[0m \u001b[0mInvalidOperation\u001b[0m\u001b[0;34m)\u001b[0m\u001b[0;34m:\u001b[0m\u001b[0;34m\u001b[0m\u001b[0;34m\u001b[0m\u001b[0m\n\u001b[1;32m   1809\u001b[0m             \u001b[0;31m# Sessions not supported, or multiple users authenticated.\u001b[0m\u001b[0;34m\u001b[0m\u001b[0;34m\u001b[0m\u001b[0;34m\u001b[0m\u001b[0m\n",
      "\u001b[0;32m/usr/local/lib/python3.9/site-packages/pymongo/mongo_client.py\u001b[0m in \u001b[0;36m__start_session\u001b[0;34m(self, implicit, **kwargs)\u001b[0m\n\u001b[1;32m   1758\u001b[0m \u001b[0;34m\u001b[0m\u001b[0m\n\u001b[1;32m   1759\u001b[0m         \u001b[0;31m# Raises ConfigurationError if sessions are not supported.\u001b[0m\u001b[0;34m\u001b[0m\u001b[0;34m\u001b[0m\u001b[0;34m\u001b[0m\u001b[0m\n\u001b[0;32m-> 1760\u001b[0;31m         \u001b[0mserver_session\u001b[0m \u001b[0;34m=\u001b[0m \u001b[0mself\u001b[0m\u001b[0;34m.\u001b[0m\u001b[0m_get_server_session\u001b[0m\u001b[0;34m(\u001b[0m\u001b[0;34m)\u001b[0m\u001b[0;34m\u001b[0m\u001b[0;34m\u001b[0m\u001b[0m\n\u001b[0m\u001b[1;32m   1761\u001b[0m         \u001b[0mopts\u001b[0m \u001b[0;34m=\u001b[0m \u001b[0mclient_session\u001b[0m\u001b[0;34m.\u001b[0m\u001b[0mSessionOptions\u001b[0m\u001b[0;34m(\u001b[0m\u001b[0;34m**\u001b[0m\u001b[0mkwargs\u001b[0m\u001b[0;34m)\u001b[0m\u001b[0;34m\u001b[0m\u001b[0;34m\u001b[0m\u001b[0m\n\u001b[1;32m   1762\u001b[0m         return client_session.ClientSession(\n",
      "\u001b[0;32m/usr/local/lib/python3.9/site-packages/pymongo/mongo_client.py\u001b[0m in \u001b[0;36m_get_server_session\u001b[0;34m(self)\u001b[0m\n\u001b[1;32m   1791\u001b[0m     \u001b[0;32mdef\u001b[0m \u001b[0m_get_server_session\u001b[0m\u001b[0;34m(\u001b[0m\u001b[0mself\u001b[0m\u001b[0;34m)\u001b[0m\u001b[0;34m:\u001b[0m\u001b[0;34m\u001b[0m\u001b[0;34m\u001b[0m\u001b[0m\n\u001b[1;32m   1792\u001b[0m         \u001b[0;34m\"\"\"Internal: start or resume a _ServerSession.\"\"\"\u001b[0m\u001b[0;34m\u001b[0m\u001b[0;34m\u001b[0m\u001b[0m\n\u001b[0;32m-> 1793\u001b[0;31m         \u001b[0;32mreturn\u001b[0m \u001b[0mself\u001b[0m\u001b[0;34m.\u001b[0m\u001b[0m_topology\u001b[0m\u001b[0;34m.\u001b[0m\u001b[0mget_server_session\u001b[0m\u001b[0;34m(\u001b[0m\u001b[0;34m)\u001b[0m\u001b[0;34m\u001b[0m\u001b[0;34m\u001b[0m\u001b[0m\n\u001b[0m\u001b[1;32m   1794\u001b[0m \u001b[0;34m\u001b[0m\u001b[0m\n\u001b[1;32m   1795\u001b[0m     \u001b[0;32mdef\u001b[0m \u001b[0m_return_server_session\u001b[0m\u001b[0;34m(\u001b[0m\u001b[0mself\u001b[0m\u001b[0;34m,\u001b[0m \u001b[0mserver_session\u001b[0m\u001b[0;34m,\u001b[0m \u001b[0mlock\u001b[0m\u001b[0;34m)\u001b[0m\u001b[0;34m:\u001b[0m\u001b[0;34m\u001b[0m\u001b[0;34m\u001b[0m\u001b[0m\n",
      "\u001b[0;32m/usr/local/lib/python3.9/site-packages/pymongo/topology.py\u001b[0m in \u001b[0;36mget_server_session\u001b[0;34m(self)\u001b[0m\n\u001b[1;32m    472\u001b[0m                 \u001b[0;32mif\u001b[0m \u001b[0mself\u001b[0m\u001b[0;34m.\u001b[0m\u001b[0m_description\u001b[0m\u001b[0;34m.\u001b[0m\u001b[0mtopology_type\u001b[0m \u001b[0;34m==\u001b[0m \u001b[0mTOPOLOGY_TYPE\u001b[0m\u001b[0;34m.\u001b[0m\u001b[0mSingle\u001b[0m\u001b[0;34m:\u001b[0m\u001b[0;34m\u001b[0m\u001b[0;34m\u001b[0m\u001b[0m\n\u001b[1;32m    473\u001b[0m                     \u001b[0;32mif\u001b[0m \u001b[0;32mnot\u001b[0m \u001b[0mself\u001b[0m\u001b[0;34m.\u001b[0m\u001b[0m_description\u001b[0m\u001b[0;34m.\u001b[0m\u001b[0mhas_known_servers\u001b[0m\u001b[0;34m:\u001b[0m\u001b[0;34m\u001b[0m\u001b[0;34m\u001b[0m\u001b[0m\n\u001b[0;32m--> 474\u001b[0;31m                         self._select_servers_loop(\n\u001b[0m\u001b[1;32m    475\u001b[0m                             \u001b[0many_server_selector\u001b[0m\u001b[0;34m,\u001b[0m\u001b[0;34m\u001b[0m\u001b[0;34m\u001b[0m\u001b[0m\n\u001b[1;32m    476\u001b[0m                             \u001b[0mself\u001b[0m\u001b[0;34m.\u001b[0m\u001b[0m_settings\u001b[0m\u001b[0;34m.\u001b[0m\u001b[0mserver_selection_timeout\u001b[0m\u001b[0;34m,\u001b[0m\u001b[0;34m\u001b[0m\u001b[0;34m\u001b[0m\u001b[0m\n",
      "\u001b[0;32m/usr/local/lib/python3.9/site-packages/pymongo/topology.py\u001b[0m in \u001b[0;36m_select_servers_loop\u001b[0;34m(self, selector, timeout, address)\u001b[0m\n\u001b[1;32m    202\u001b[0m             \u001b[0;31m# No suitable servers.\u001b[0m\u001b[0;34m\u001b[0m\u001b[0;34m\u001b[0m\u001b[0;34m\u001b[0m\u001b[0m\n\u001b[1;32m    203\u001b[0m             \u001b[0;32mif\u001b[0m \u001b[0mtimeout\u001b[0m \u001b[0;34m==\u001b[0m \u001b[0;36m0\u001b[0m \u001b[0;32mor\u001b[0m \u001b[0mnow\u001b[0m \u001b[0;34m>\u001b[0m \u001b[0mend_time\u001b[0m\u001b[0;34m:\u001b[0m\u001b[0;34m\u001b[0m\u001b[0;34m\u001b[0m\u001b[0m\n\u001b[0;32m--> 204\u001b[0;31m                 raise ServerSelectionTimeoutError(\n\u001b[0m\u001b[1;32m    205\u001b[0m                     self._error_message(selector))\n\u001b[1;32m    206\u001b[0m \u001b[0;34m\u001b[0m\u001b[0m\n",
      "\u001b[0;31mServerSelectionTimeoutError\u001b[0m: 192.168.1.163:27017: timed out"
     ]
    }
   ],
   "source": [
    "engine_combined = BacktestEngine(\n",
    "    strategy=Strategy.DELTA_ONE.value,\n",
    "    instrument=all_futures_baltas2020.index,\n",
    "    signal=signal.ParallelSignal([\n",
    "        signal.VolatilityScale(volatility_type=RealisedVolatility.YZ.value,\n",
    "                               agg_method='rolling', window=21, min_periods=10,\n",
    "                               target_volatility=0.4, signal_cap=0.95, ann_factor=261),\n",
    "        signal.TSMOMBaltas2020()\n",
    "    ], weighting='product'),\n",
    "    weighting=Weighting.EQUAL_WEIGHT.value,\n",
    "    log_level=logging.WARN,\n",
    ")\n",
    "engine_combined.run()"
   ]
  },
  {
   "cell_type": "code",
   "execution_count": null,
   "id": "4147147f",
   "metadata": {
    "execution": {
     "iopub.execute_input": "2020-11-29T14:02:02.912539Z",
     "iopub.status.busy": "2020-11-29T14:02:02.912445Z",
     "iopub.status.idle": "2020-11-29T14:02:50.358639Z",
     "shell.execute_reply": "2020-11-29T14:02:50.358144Z",
     "shell.execute_reply.started": "2020-11-29T14:02:02.912527Z"
    },
    "papermill": {
     "duration": null,
     "end_time": null,
     "exception": null,
     "start_time": null,
     "status": "pending"
    },
    "tags": []
   },
   "outputs": [],
   "source": [
    "engine_combined_eq = (engine_combined.calculate_equity_curve(calculate_net=False, rebalance_freq='m')\n",
    "                      .rename('Trend-following portfolio (YZ estimator + TREND signal)'))"
   ]
  },
  {
   "cell_type": "code",
   "execution_count": null,
   "id": "d2112e7f",
   "metadata": {
    "execution": {
     "iopub.execute_input": "2020-11-29T14:02:50.359419Z",
     "iopub.status.busy": "2020-11-29T14:02:50.359216Z",
     "iopub.status.idle": "2020-11-29T14:02:50.674332Z",
     "shell.execute_reply": "2020-11-29T14:02:50.673964Z",
     "shell.execute_reply.started": "2020-11-29T14:02:50.359402Z"
    },
    "papermill": {
     "duration": null,
     "end_time": null,
     "exception": null,
     "start_time": null,
     "status": "pending"
    },
    "tags": []
   },
   "outputs": [],
   "source": [
    "fig, ax = plt.subplots(figsize=(8, 4.5))\n",
    "engine_combined_eq.plot(ax=ax, logy=True)\n",
    "ax.set_title('Trend-following portfolio (YZ estimator + TREND signal)')\n",
    "ax.set_ylabel('Cumulative returns');"
   ]
  },
  {
   "cell_type": "code",
   "execution_count": null,
   "id": "5f462ab2",
   "metadata": {
    "execution": {
     "iopub.execute_input": "2020-11-29T14:02:50.674937Z",
     "iopub.status.busy": "2020-11-29T14:02:50.674843Z",
     "iopub.status.idle": "2020-11-29T14:02:50.858104Z",
     "shell.execute_reply": "2020-11-29T14:02:50.857652Z",
     "shell.execute_reply.started": "2020-11-29T14:02:50.674925Z"
    },
    "papermill": {
     "duration": null,
     "end_time": null,
     "exception": null,
     "start_time": null,
     "status": "pending"
    },
    "tags": []
   },
   "outputs": [],
   "source": [
    "engine_combined_eq.pipe(Performance).summary()"
   ]
  },
  {
   "cell_type": "markdown",
   "id": "bdbe1887",
   "metadata": {
    "papermill": {
     "duration": null,
     "end_time": null,
     "exception": null,
     "start_time": null,
     "status": "pending"
    },
    "tags": []
   },
   "source": [
    "# Comparison\n",
    "\n",
    "In this section we compare the above 4 backtests."
   ]
  },
  {
   "cell_type": "markdown",
   "id": "573fa9cf",
   "metadata": {
    "papermill": {
     "duration": null,
     "end_time": null,
     "exception": null,
     "start_time": null,
     "status": "pending"
    },
    "tags": []
   },
   "source": [
    "## Performance\n",
    "\n",
    "As reported in BK2020, using the YZ estimator and TREND signal does not alter the performance characteristics. Rather, the TREND signal somewhat improves the Sharpe ratio. Also the TREND signal lowers the annualised volatility from 12.5% to 10.8% with the close-to-close realised volatility."
   ]
  },
  {
   "cell_type": "code",
   "execution_count": null,
   "id": "16e52df9",
   "metadata": {
    "execution": {
     "iopub.execute_input": "2020-11-29T14:02:50.858783Z",
     "iopub.status.busy": "2020-11-29T14:02:50.858638Z",
     "iopub.status.idle": "2020-11-29T14:02:50.868734Z",
     "shell.execute_reply": "2020-11-29T14:02:50.868323Z",
     "shell.execute_reply.started": "2020-11-29T14:02:50.858766Z"
    },
    "papermill": {
     "duration": null,
     "end_time": null,
     "exception": null,
     "start_time": null,
     "status": "pending"
    },
    "tags": []
   },
   "outputs": [],
   "source": [
    "performance_comp = pd.concat((engine_original_eq, engine_vol_eq, \n",
    "                              engine_trend_eq, engine_combined_eq), axis=1)"
   ]
  },
  {
   "cell_type": "code",
   "execution_count": null,
   "id": "4c816223",
   "metadata": {
    "execution": {
     "iopub.execute_input": "2020-11-29T14:02:50.869384Z",
     "iopub.status.busy": "2020-11-29T14:02:50.869257Z",
     "iopub.status.idle": "2020-11-29T14:02:51.254848Z",
     "shell.execute_reply": "2020-11-29T14:02:51.254347Z",
     "shell.execute_reply.started": "2020-11-29T14:02:50.869368Z"
    },
    "papermill": {
     "duration": null,
     "end_time": null,
     "exception": null,
     "start_time": null,
     "status": "pending"
    },
    "tags": []
   },
   "outputs": [],
   "source": [
    "fig, ax = plt.subplots(figsize=(8, 4.5))\n",
    "performance_comp.plot(ax=ax, logy=True);\n",
    "ax.set_title('Trend-following portfolio')\n",
    "ax.set_ylabel('Cumulative returns');"
   ]
  },
  {
   "cell_type": "code",
   "execution_count": null,
   "id": "3f4b7925",
   "metadata": {
    "execution": {
     "iopub.execute_input": "2020-11-29T14:02:51.255611Z",
     "iopub.status.busy": "2020-11-29T14:02:51.255463Z",
     "iopub.status.idle": "2020-11-29T14:02:51.466310Z",
     "shell.execute_reply": "2020-11-29T14:02:51.465842Z",
     "shell.execute_reply.started": "2020-11-29T14:02:51.255594Z"
    },
    "papermill": {
     "duration": null,
     "end_time": null,
     "exception": null,
     "start_time": null,
     "status": "pending"
    },
    "tags": []
   },
   "outputs": [],
   "source": [
    "performance_comp.pipe(Performance).summary()"
   ]
  },
  {
   "cell_type": "markdown",
   "id": "f7e95496",
   "metadata": {
    "papermill": {
     "duration": null,
     "end_time": null,
     "exception": null,
     "start_time": null,
     "status": "pending"
    },
    "tags": []
   },
   "source": [
    "## Turnover reduction\n",
    "\n",
    "Again, as reported in BK2020, both enhancements reduce the turnover significantly while not affecting the performance. The chart below shows the reduction in turnover for each futures contract. By utilising the YZ realised volatility and the TREND signal, overall the turnover is reduced by more than 30%."
   ]
  },
  {
   "cell_type": "code",
   "execution_count": null,
   "id": "6e8afc22",
   "metadata": {
    "execution": {
     "iopub.execute_input": "2020-11-29T14:02:51.467010Z",
     "iopub.status.busy": "2020-11-29T14:02:51.466881Z",
     "iopub.status.idle": "2020-11-29T14:05:55.467518Z",
     "shell.execute_reply": "2020-11-29T14:05:55.467015Z",
     "shell.execute_reply.started": "2020-11-29T14:02:51.466993Z"
    },
    "papermill": {
     "duration": null,
     "end_time": null,
     "exception": null,
     "start_time": null,
     "status": "pending"
    },
    "tags": []
   },
   "outputs": [],
   "source": [
    "engine_original_pos = engine_original.get_position_by_instrument()\n",
    "engine_vol_pos = engine_vol.get_position_by_instrument()\n",
    "engine_trend_pos = engine_trend.get_position_by_instrument()\n",
    "engine_combined_pos = engine_combined.get_position_by_instrument()"
   ]
  },
  {
   "cell_type": "code",
   "execution_count": null,
   "id": "b402da9a",
   "metadata": {
    "execution": {
     "iopub.execute_input": "2020-11-29T14:05:55.468286Z",
     "iopub.status.busy": "2020-11-29T14:05:55.468155Z",
     "iopub.status.idle": "2020-11-29T14:05:55.484346Z",
     "shell.execute_reply": "2020-11-29T14:05:55.483841Z",
     "shell.execute_reply.started": "2020-11-29T14:05:55.468269Z"
    },
    "papermill": {
     "duration": null,
     "end_time": null,
     "exception": null,
     "start_time": null,
     "status": "pending"
    },
    "tags": []
   },
   "outputs": [],
   "source": [
    "engine_original_turnover = (engine_original_pos.diff().abs().mean().mul(261)\n",
    "                            .rename('Trend-following portfolio (Moskowitz 2012)'))\n",
    "engine_vol_turnover = (engine_vol_pos.diff().abs().mean().mul(261)\n",
    "                       .rename('Trend-following portfolio (YZ estimator)'))\n",
    "engine_trend_turnover = (engine_trend_pos.diff().abs().mean().mul(261)\n",
    "                         .rename('Trend-following portfolio (TREND signal)'))\n",
    "engine_combined_turnover = (engine_combined_pos.diff().abs().mean().mul(261)\n",
    "                            .rename('Trend-following portfolio (YZ estimator + TREND signal)'))"
   ]
  },
  {
   "cell_type": "code",
   "execution_count": null,
   "id": "cc3e1ad5",
   "metadata": {
    "execution": {
     "iopub.execute_input": "2020-11-29T14:05:55.485055Z",
     "iopub.status.busy": "2020-11-29T14:05:55.484919Z",
     "iopub.status.idle": "2020-11-29T14:05:55.495065Z",
     "shell.execute_reply": "2020-11-29T14:05:55.494584Z",
     "shell.execute_reply.started": "2020-11-29T14:05:55.485032Z"
    },
    "papermill": {
     "duration": null,
     "end_time": null,
     "exception": null,
     "start_time": null,
     "status": "pending"
    },
    "tags": []
   },
   "outputs": [],
   "source": [
    "turnover_reduction = (\n",
    "    pd.concat((engine_vol_turnover, engine_trend_turnover, engine_combined_turnover), axis=1)\n",
    "    .div(engine_original_turnover, axis=0)\n",
    "    .sub(1)\n",
    "    .reindex(index=all_futures_baltas2020.index)\n",
    "    .rename(index=all_futures_baltas2020['name'])\n",
    ")"
   ]
  },
  {
   "cell_type": "code",
   "execution_count": null,
   "id": "7d4464ed",
   "metadata": {
    "execution": {
     "iopub.execute_input": "2020-11-29T14:05:55.495740Z",
     "iopub.status.busy": "2020-11-29T14:05:55.495610Z",
     "iopub.status.idle": "2020-11-29T14:05:55.514631Z",
     "shell.execute_reply": "2020-11-29T14:05:55.514250Z",
     "shell.execute_reply.started": "2020-11-29T14:05:55.495723Z"
    },
    "papermill": {
     "duration": null,
     "end_time": null,
     "exception": null,
     "start_time": null,
     "status": "pending"
    },
    "tags": []
   },
   "outputs": [],
   "source": [
    "turnover_reduction.mean()"
   ]
  },
  {
   "cell_type": "code",
   "execution_count": null,
   "id": "95908376",
   "metadata": {
    "execution": {
     "iopub.execute_input": "2020-11-29T14:05:55.516218Z",
     "iopub.status.busy": "2020-11-29T14:05:55.516087Z",
     "iopub.status.idle": "2020-11-29T14:05:56.351004Z",
     "shell.execute_reply": "2020-11-29T14:05:56.350641Z",
     "shell.execute_reply.started": "2020-11-29T14:05:55.516201Z"
    },
    "papermill": {
     "duration": null,
     "end_time": null,
     "exception": null,
     "start_time": null,
     "status": "pending"
    },
    "tags": []
   },
   "outputs": [],
   "source": [
    "ax = turnover_reduction.plot(kind='bar', figsize=(14, 4))\n",
    "ax.yaxis.set_major_formatter(mticker.PercentFormatter(1))\n",
    "ax.axhline(0, color='black', lw=1)\n",
    "ax.axvline(24.5, color='black', lw=1)\n",
    "ax.axvline(30.5, color='black', lw=1)\n",
    "ax.axvline(42.5, color='black', lw=1)\n",
    "ax.set_xlabel('Contract')\n",
    "ax.set_ylabel('Turnover reduction');"
   ]
  },
  {
   "cell_type": "markdown",
   "id": "7f75ff58",
   "metadata": {
    "papermill": {
     "duration": null,
     "end_time": null,
     "exception": null,
     "start_time": null,
     "status": "pending"
    },
    "tags": []
   },
   "source": [
    "# Recent performance"
   ]
  },
  {
   "cell_type": "code",
   "execution_count": null,
   "id": "76098671",
   "metadata": {
    "execution": {
     "iopub.execute_input": "2020-11-29T14:05:56.351727Z",
     "iopub.status.busy": "2020-11-29T14:05:56.351580Z",
     "iopub.status.idle": "2020-11-29T14:05:56.638686Z",
     "shell.execute_reply": "2020-11-29T14:05:56.638230Z",
     "shell.execute_reply.started": "2020-11-29T14:05:56.351710Z"
    },
    "papermill": {
     "duration": null,
     "end_time": null,
     "exception": null,
     "start_time": null,
     "status": "pending"
    },
    "tags": []
   },
   "outputs": [],
   "source": [
    "fig, ax = plt.subplots(figsize=(8, 4.5))\n",
    "performance_comp.tail(252 * 2).pct_change().fillna(0).add(1).cumprod().plot(ax=ax, logy=True);\n",
    "ax.set_title('Trend-following portfolio')\n",
    "ax.set_ylabel('Cumulative returns');"
   ]
  },
  {
   "cell_type": "markdown",
   "id": "271d09ff",
   "metadata": {
    "papermill": {
     "duration": null,
     "end_time": null,
     "exception": null,
     "start_time": null,
     "status": "pending"
    },
    "tags": []
   },
   "source": [
    "# Reference\n",
    "\n",
    "- Baltas, N. and Kosowski, R., 2020. Demystifying time-series momentum strategies: Volatility estimators, trading rules and pairwise correlations. Market Momentum: Theory and Practice\", Wiley.\n",
    "- Moskowitz, T.J., Ooi, Y.H. and Pedersen, L.H., 2012. Time series momentum. Journal of financial economics, 104(2), pp.228-250."
   ]
  },
  {
   "cell_type": "code",
   "execution_count": null,
   "id": "53b8670e",
   "metadata": {
    "ExecuteTime": {
     "end_time": "2020-08-30T21:20:32.431574Z",
     "start_time": "2020-08-30T21:20:32.429370Z"
    },
    "execution": {
     "iopub.execute_input": "2020-11-29T14:05:56.639493Z",
     "iopub.status.busy": "2020-11-29T14:05:56.639306Z",
     "iopub.status.idle": "2020-11-29T14:05:56.642004Z",
     "shell.execute_reply": "2020-11-29T14:05:56.641537Z",
     "shell.execute_reply.started": "2020-11-29T14:05:56.639476Z"
    },
    "papermill": {
     "duration": null,
     "end_time": null,
     "exception": null,
     "start_time": null,
     "status": "pending"
    },
    "tags": []
   },
   "outputs": [],
   "source": [
    "print(f'Updated: {datetime.utcnow():%d-%b-%Y %H:%M}')"
   ]
  }
 ],
 "metadata": {
  "hide_input": false,
  "kernelspec": {
   "display_name": "Python 3",
   "language": "python",
   "name": "python3"
  },
  "language_info": {
   "codemirror_mode": {
    "name": "ipython",
    "version": 3
   },
   "file_extension": ".py",
   "mimetype": "text/x-python",
   "name": "python",
   "nbconvert_exporter": "python",
   "pygments_lexer": "ipython3",
   "version": "3.9.6"
  },
  "nav_menu": {},
  "papermill": {
   "duration": 3290.842607,
   "end_time": "2022-01-12T07:19:28.137010",
   "environment_variables": {},
   "exception": true,
   "input_path": "notebooks/papermill/trend_following_baltas2020.ipynb",
   "output_path": "notebooks/trend_following_baltas2020.ipynb",
   "parameters": {},
   "start_time": "2022-01-12T06:24:37.294403",
   "version": "2.1.3"
  },
  "toc": {
   "base_numbering": 1,
   "nav_menu": {},
   "number_sections": true,
   "sideBar": true,
   "skip_h1_title": false,
   "title_cell": "Table of Contents",
   "title_sidebar": "Contents",
   "toc_cell": true,
   "toc_position": {
    "height": "calc(100% - 180px)",
    "left": "10px",
    "top": "150px",
    "width": "165px"
   },
   "toc_section_display": "block",
   "toc_window_display": true
  }
 },
 "nbformat": 4,
 "nbformat_minor": 5
}