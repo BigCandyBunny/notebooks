{
 "cells": [
  {
   "cell_type": "markdown",
   "id": "8ea1af65",
   "metadata": {
    "papermill": {
     "duration": 0.009884,
     "end_time": "2021-05-06T14:59:30.634368",
     "exception": false,
     "start_time": "2021-05-06T14:59:30.624484",
     "status": "completed"
    },
    "tags": []
   },
   "source": [
    "# Commodity skewness\n",
    "\n",
    "This notebook analyses commodity cross-sectional skewness strategy. The strategy takes long positions on contracts with most negative historical skewness and short positions on ones with most positive skewness."
   ]
  },
  {
   "cell_type": "code",
   "execution_count": 1,
   "id": "e0700fd0",
   "metadata": {
    "ExecuteTime": {
     "end_time": "2020-08-31T19:29:24.852122Z",
     "start_time": "2020-08-31T19:29:24.038266Z"
    },
    "execution": {
     "iopub.execute_input": "2021-05-06T14:59:30.661254Z",
     "iopub.status.busy": "2021-05-06T14:59:30.660868Z",
     "iopub.status.idle": "2021-05-06T14:59:33.497027Z",
     "shell.execute_reply": "2021-05-06T14:59:33.496414Z"
    },
    "papermill": {
     "duration": 2.852577,
     "end_time": "2021-05-06T14:59:33.497147",
     "exception": false,
     "start_time": "2021-05-06T14:59:30.644570",
     "status": "completed"
    },
    "tags": []
   },
   "outputs": [],
   "source": [
    "%matplotlib inline\n",
    "from datetime import datetime\n",
    "import logging\n",
    "import warnings\n",
    "warnings.simplefilter(action='ignore', category=FutureWarning)\n",
    "\n",
    "import pandas as pd\n",
    "import matplotlib.pyplot as plt\n",
    "import matplotlib.ticker as mticker\n",
    "plt.style.use('bmh')\n",
    "\n",
    "from vivace.backtest import signal\n",
    "from vivace.backtest import processing\n",
    "from vivace.backtest.contract import all_futures_hollstein2020\n",
    "from vivace.backtest.engine import BacktestEngine\n",
    "from vivace.backtest.enums import Strategy\n",
    "from vivace.backtest.stats import Performance"
   ]
  },
  {
   "cell_type": "markdown",
   "id": "7274741a",
   "metadata": {
    "papermill": {
     "duration": 0.012438,
     "end_time": "2021-05-06T14:59:33.522465",
     "exception": false,
     "start_time": "2021-05-06T14:59:33.510027",
     "status": "completed"
    },
    "tags": []
   },
   "source": [
    "# Data\n",
    "\n",
    "26 commodity futures are used as per Hollstein 2020."
   ]
  },
  {
   "cell_type": "code",
   "execution_count": 2,
   "id": "8fec5b6d",
   "metadata": {
    "ExecuteTime": {
     "end_time": "2020-08-31T19:29:25.399795Z",
     "start_time": "2020-08-31T19:29:25.371862Z"
    },
    "execution": {
     "iopub.execute_input": "2021-05-06T14:59:33.554629Z",
     "iopub.status.busy": "2021-05-06T14:59:33.554102Z",
     "iopub.status.idle": "2021-05-06T14:59:33.561103Z",
     "shell.execute_reply": "2021-05-06T14:59:33.560573Z"
    },
    "papermill": {
     "duration": 0.026329,
     "end_time": "2021-05-06T14:59:33.561206",
     "exception": false,
     "start_time": "2021-05-06T14:59:33.534877",
     "status": "completed"
    },
    "tags": []
   },
   "outputs": [
    {
     "data": {
      "text/html": [
       "<div>\n",
       "<style scoped>\n",
       "    .dataframe tbody tr th:only-of-type {\n",
       "        vertical-align: middle;\n",
       "    }\n",
       "\n",
       "    .dataframe tbody tr th {\n",
       "        vertical-align: top;\n",
       "    }\n",
       "\n",
       "    .dataframe thead th {\n",
       "        text-align: right;\n",
       "    }\n",
       "</style>\n",
       "<table border=\"1\" class=\"dataframe\">\n",
       "  <thead>\n",
       "    <tr style=\"text-align: right;\">\n",
       "      <th></th>\n",
       "      <th>name</th>\n",
       "    </tr>\n",
       "    <tr>\n",
       "      <th>ticker</th>\n",
       "      <th></th>\n",
       "    </tr>\n",
       "  </thead>\n",
       "  <tbody>\n",
       "    <tr>\n",
       "      <th>CO</th>\n",
       "      <td>Brent Crude Oil</td>\n",
       "    </tr>\n",
       "    <tr>\n",
       "      <th>CC</th>\n",
       "      <td>Cocoa</td>\n",
       "    </tr>\n",
       "    <tr>\n",
       "      <th>KC</th>\n",
       "      <td>Coffee</td>\n",
       "    </tr>\n",
       "    <tr>\n",
       "      <th>C</th>\n",
       "      <td>Corn</td>\n",
       "    </tr>\n",
       "    <tr>\n",
       "      <th>CT</th>\n",
       "      <td>Cotton</td>\n",
       "    </tr>\n",
       "    <tr>\n",
       "      <th>FC</th>\n",
       "      <td>Feeder Cattle</td>\n",
       "    </tr>\n",
       "    <tr>\n",
       "      <th>GC</th>\n",
       "      <td>Gold</td>\n",
       "    </tr>\n",
       "    <tr>\n",
       "      <th>HO</th>\n",
       "      <td>Heating Oil</td>\n",
       "    </tr>\n",
       "    <tr>\n",
       "      <th>HG</th>\n",
       "      <td>Copper</td>\n",
       "    </tr>\n",
       "    <tr>\n",
       "      <th>LH</th>\n",
       "      <td>Lean Hog</td>\n",
       "    </tr>\n",
       "    <tr>\n",
       "      <th>LC</th>\n",
       "      <td>Live Cattle</td>\n",
       "    </tr>\n",
       "    <tr>\n",
       "      <th>LB</th>\n",
       "      <td>Lumber</td>\n",
       "    </tr>\n",
       "    <tr>\n",
       "      <th>DA</th>\n",
       "      <td>Milk</td>\n",
       "    </tr>\n",
       "    <tr>\n",
       "      <th>NG</th>\n",
       "      <td>Natural Gas</td>\n",
       "    </tr>\n",
       "    <tr>\n",
       "      <th>ZO</th>\n",
       "      <td>Oats</td>\n",
       "    </tr>\n",
       "    <tr>\n",
       "      <th>OJ</th>\n",
       "      <td>Orange Juice</td>\n",
       "    </tr>\n",
       "    <tr>\n",
       "      <th>PA</th>\n",
       "      <td>Palladium</td>\n",
       "    </tr>\n",
       "    <tr>\n",
       "      <th>PL</th>\n",
       "      <td>Platinum</td>\n",
       "    </tr>\n",
       "    <tr>\n",
       "      <th>RR</th>\n",
       "      <td>Rough Rice</td>\n",
       "    </tr>\n",
       "    <tr>\n",
       "      <th>SI</th>\n",
       "      <td>Silver</td>\n",
       "    </tr>\n",
       "    <tr>\n",
       "      <th>S</th>\n",
       "      <td>Soybean</td>\n",
       "    </tr>\n",
       "    <tr>\n",
       "      <th>SM</th>\n",
       "      <td>Soybean Meal</td>\n",
       "    </tr>\n",
       "    <tr>\n",
       "      <th>BO</th>\n",
       "      <td>Soybean Oil</td>\n",
       "    </tr>\n",
       "    <tr>\n",
       "      <th>SB</th>\n",
       "      <td>Sugar</td>\n",
       "    </tr>\n",
       "    <tr>\n",
       "      <th>W</th>\n",
       "      <td>Wheat</td>\n",
       "    </tr>\n",
       "    <tr>\n",
       "      <th>CL</th>\n",
       "      <td>WTI Crude Oil</td>\n",
       "    </tr>\n",
       "  </tbody>\n",
       "</table>\n",
       "</div>"
      ],
      "text/plain": [
       "                   name\n",
       "ticker                 \n",
       "CO      Brent Crude Oil\n",
       "CC                Cocoa\n",
       "KC               Coffee\n",
       "C                  Corn\n",
       "CT               Cotton\n",
       "FC        Feeder Cattle\n",
       "GC                 Gold\n",
       "HO          Heating Oil\n",
       "HG               Copper\n",
       "LH             Lean Hog\n",
       "LC          Live Cattle\n",
       "LB               Lumber\n",
       "DA                 Milk\n",
       "NG          Natural Gas\n",
       "ZO                 Oats\n",
       "OJ         Orange Juice\n",
       "PA            Palladium\n",
       "PL             Platinum\n",
       "RR           Rough Rice\n",
       "SI               Silver\n",
       "S               Soybean\n",
       "SM         Soybean Meal\n",
       "BO          Soybean Oil\n",
       "SB                Sugar\n",
       "W                 Wheat\n",
       "CL        WTI Crude Oil"
      ]
     },
     "execution_count": 2,
     "metadata": {},
     "output_type": "execute_result"
    }
   ],
   "source": [
    "all_futures_hollstein2020"
   ]
  },
  {
   "cell_type": "code",
   "execution_count": 3,
   "id": "acc07b4c",
   "metadata": {
    "ExecuteTime": {
     "end_time": "2020-08-31T19:29:26.170389Z",
     "start_time": "2020-08-31T19:29:26.166205Z"
    },
    "execution": {
     "iopub.execute_input": "2021-05-06T14:59:33.591208Z",
     "iopub.status.busy": "2021-05-06T14:59:33.590622Z",
     "iopub.status.idle": "2021-05-06T14:59:33.593731Z",
     "shell.execute_reply": "2021-05-06T14:59:33.593024Z"
    },
    "papermill": {
     "duration": 0.019273,
     "end_time": "2021-05-06T14:59:33.593860",
     "exception": false,
     "start_time": "2021-05-06T14:59:33.574587",
     "status": "completed"
    },
    "tags": []
   },
   "outputs": [
    {
     "data": {
      "text/plain": [
       "(26, 1)"
      ]
     },
     "execution_count": 3,
     "metadata": {},
     "output_type": "execute_result"
    }
   ],
   "source": [
    "all_futures_hollstein2020.shape"
   ]
  },
  {
   "cell_type": "markdown",
   "id": "49e42ddf",
   "metadata": {
    "papermill": {
     "duration": 0.013709,
     "end_time": "2021-05-06T14:59:33.622753",
     "exception": false,
     "start_time": "2021-05-06T14:59:33.609044",
     "status": "completed"
    },
    "tags": []
   },
   "source": [
    "# Performance"
   ]
  },
  {
   "cell_type": "markdown",
   "id": "9e0de8c6",
   "metadata": {
    "papermill": {
     "duration": 0.013799,
     "end_time": "2021-05-06T14:59:33.650452",
     "exception": false,
     "start_time": "2021-05-06T14:59:33.636653",
     "status": "completed"
    },
    "tags": []
   },
   "source": [
    "## Run backtest\n",
    "\n",
    "A simple portfolio is constructed by using trailing 1-year returns of each commodity futures. Unlike studies in equities, the recent 1-month is included in the formation period. Positions are rebalanced on a monthly basis.\n",
    "\n",
    "Similar to other popular academic strategies, this commodity momentum signal has been stalling since around 2015."
   ]
  },
  {
   "cell_type": "code",
   "execution_count": 4,
   "id": "950fe8e7",
   "metadata": {
    "ExecuteTime": {
     "end_time": "2020-09-02T22:09:35.368377Z",
     "start_time": "2020-09-02T21:34:59.850395Z"
    },
    "execution": {
     "iopub.execute_input": "2021-05-06T14:59:33.683286Z",
     "iopub.status.busy": "2021-05-06T14:59:33.682758Z",
     "iopub.status.idle": "2021-05-06T15:03:44.653253Z",
     "shell.execute_reply": "2021-05-06T15:03:44.653833Z"
    },
    "papermill": {
     "duration": 250.989868,
     "end_time": "2021-05-06T15:03:44.653997",
     "exception": false,
     "start_time": "2021-05-06T14:59:33.664129",
     "status": "completed"
    },
    "tags": []
   },
   "outputs": [],
   "source": [
    "engine = BacktestEngine(\n",
    "    strategy=Strategy.DELTA_ONE.value,\n",
    "    instrument=all_futures_hollstein2020.index,\n",
    "    signal=signal.XSSkewness(lookback=252, \n",
    "                             post_process=processing.Pipeline([\n",
    "                                 processing.Negate(),\n",
    "                                 processing.AsFreq(freq='m', method='pad')\n",
    "                             ])),\n",
    "    log_level=logging.WARN,\n",
    ")\n",
    "engine.run()"
   ]
  },
  {
   "cell_type": "code",
   "execution_count": 5,
   "id": "32410321",
   "metadata": {
    "ExecuteTime": {
     "end_time": "2020-09-02T20:42:14.779932Z",
     "start_time": "2020-09-02T20:40:39.222688Z"
    },
    "execution": {
     "iopub.execute_input": "2021-05-06T15:03:44.983000Z",
     "iopub.status.busy": "2021-05-06T15:03:44.873957Z",
     "iopub.status.idle": "2021-05-06T15:05:21.534204Z",
     "shell.execute_reply": "2021-05-06T15:05:21.534632Z"
    },
    "papermill": {
     "duration": 96.862041,
     "end_time": "2021-05-06T15:05:21.534773",
     "exception": false,
     "start_time": "2021-05-06T15:03:44.672732",
     "status": "completed"
    },
    "tags": []
   },
   "outputs": [],
   "source": [
    "portfolio_return = (engine.calculate_equity_curve(calculate_net=False)\n",
    "                    .rename('Commodity skewness portfolio'))"
   ]
  },
  {
   "cell_type": "code",
   "execution_count": 6,
   "id": "7afb46a6",
   "metadata": {
    "ExecuteTime": {
     "end_time": "2020-09-02T20:45:59.608937Z",
     "start_time": "2020-09-02T20:45:59.405601Z"
    },
    "execution": {
     "iopub.execute_input": "2021-05-06T15:05:21.587045Z",
     "iopub.status.busy": "2021-05-06T15:05:21.586504Z",
     "iopub.status.idle": "2021-05-06T15:05:22.018054Z",
     "shell.execute_reply": "2021-05-06T15:05:22.017354Z"
    },
    "papermill": {
     "duration": 0.468862,
     "end_time": "2021-05-06T15:05:22.018195",
     "exception": false,
     "start_time": "2021-05-06T15:05:21.549333",
     "status": "completed"
    },
    "tags": []
   },
   "outputs": [
    {
     "data": {
      "image/png": "[encoded data removed]",
      "text/plain": [
       "<Figure size 576x324 with 1 Axes>"
      ]
     },
     "metadata": {
      "needs_background": "light"
     },
     "output_type": "display_data"
    }
   ],
   "source": [
    "fig, ax = plt.subplots(figsize=(8, 4.5))\n",
    "portfolio_return.plot(ax=ax, logy=True);\n",
    "ax.set_title('Commodity skewness portfolio')\n",
    "ax.set_ylabel('Cumulative returns');"
   ]
  },
  {
   "cell_type": "code",
   "execution_count": 7,
   "id": "f436e6b5",
   "metadata": {
    "ExecuteTime": {
     "end_time": "2020-08-31T20:06:51.873126Z",
     "start_time": "2020-08-31T20:06:51.866509Z"
    },
    "execution": {
     "iopub.execute_input": "2021-05-06T15:05:22.054903Z",
     "iopub.status.busy": "2021-05-06T15:05:22.054014Z",
     "iopub.status.idle": "2021-05-06T15:05:22.317803Z",
     "shell.execute_reply": "2021-05-06T15:05:22.317280Z"
    },
    "papermill": {
     "duration": 0.283083,
     "end_time": "2021-05-06T15:05:22.317915",
     "exception": false,
     "start_time": "2021-05-06T15:05:22.034832",
     "status": "completed"
    },
    "tags": []
   },
   "outputs": [
    {
     "data": {
      "text/html": [
       "<div>\n",
       "<style scoped>\n",
       "    .dataframe tbody tr th:only-of-type {\n",
       "        vertical-align: middle;\n",
       "    }\n",
       "\n",
       "    .dataframe tbody tr th {\n",
       "        vertical-align: top;\n",
       "    }\n",
       "\n",
       "    .dataframe thead th {\n",
       "        text-align: right;\n",
       "    }\n",
       "</style>\n",
       "<table border=\"1\" class=\"dataframe\">\n",
       "  <thead>\n",
       "    <tr style=\"text-align: right;\">\n",
       "      <th></th>\n",
       "      <th>Commodity skewness portfolio</th>\n",
       "    </tr>\n",
       "  </thead>\n",
       "  <tbody>\n",
       "    <tr>\n",
       "      <th>annualised return</th>\n",
       "      <td>0.019509</td>\n",
       "    </tr>\n",
       "    <tr>\n",
       "      <th>annualised vol</th>\n",
       "      <td>0.156816</td>\n",
       "    </tr>\n",
       "    <tr>\n",
       "      <th>Sharpe ratio</th>\n",
       "      <td>0.124408</td>\n",
       "    </tr>\n",
       "    <tr>\n",
       "      <th>max drawdown</th>\n",
       "      <td>0.903528</td>\n",
       "    </tr>\n",
       "    <tr>\n",
       "      <th>Calmar ratio</th>\n",
       "      <td>0.021592</td>\n",
       "    </tr>\n",
       "    <tr>\n",
       "      <th>skewness</th>\n",
       "      <td>-0.036657</td>\n",
       "    </tr>\n",
       "    <tr>\n",
       "      <th>kurtosis</th>\n",
       "      <td>2.084902</td>\n",
       "    </tr>\n",
       "    <tr>\n",
       "      <th>worst return</th>\n",
       "      <td>-0.072093</td>\n",
       "    </tr>\n",
       "    <tr>\n",
       "      <th>worst 1d return</th>\n",
       "      <td>-0.072093</td>\n",
       "    </tr>\n",
       "    <tr>\n",
       "      <th>worst 1w return</th>\n",
       "      <td>-0.109418</td>\n",
       "    </tr>\n",
       "    <tr>\n",
       "      <th>worst 1m return</th>\n",
       "      <td>-0.205334</td>\n",
       "    </tr>\n",
       "  </tbody>\n",
       "</table>\n",
       "</div>"
      ],
      "text/plain": [
       "                   Commodity skewness portfolio\n",
       "annualised return                      0.019509\n",
       "annualised vol                         0.156816\n",
       "Sharpe ratio                           0.124408\n",
       "max drawdown                           0.903528\n",
       "Calmar ratio                           0.021592\n",
       "skewness                              -0.036657\n",
       "kurtosis                               2.084902\n",
       "worst return                          -0.072093\n",
       "worst 1d return                       -0.072093\n",
       "worst 1w return                       -0.109418\n",
       "worst 1m return                       -0.205334"
      ]
     },
     "execution_count": 7,
     "metadata": {},
     "output_type": "execute_result"
    }
   ],
   "source": [
    "portfolio_return.pipe(Performance).summary()"
   ]
  },
  {
   "cell_type": "markdown",
   "id": "393f3f16",
   "metadata": {
    "papermill": {
     "duration": 0.015709,
     "end_time": "2021-05-06T15:05:22.351397",
     "exception": false,
     "start_time": "2021-05-06T15:05:22.335688",
     "status": "completed"
    },
    "tags": []
   },
   "source": [
    "## Post publication"
   ]
  },
  {
   "cell_type": "code",
   "execution_count": 8,
   "id": "5954d80c",
   "metadata": {
    "execution": {
     "iopub.execute_input": "2021-05-06T15:05:22.427821Z",
     "iopub.status.busy": "2021-05-06T15:05:22.424982Z",
     "iopub.status.idle": "2021-05-06T15:05:23.013980Z",
     "shell.execute_reply": "2021-05-06T15:05:23.014412Z"
    },
    "papermill": {
     "duration": 0.647434,
     "end_time": "2021-05-06T15:05:23.014539",
     "exception": false,
     "start_time": "2021-05-06T15:05:22.367105",
     "status": "completed"
    },
    "tags": []
   },
   "outputs": [
    {
     "name": "stderr",
     "output_type": "stream",
     "text": [
      "/usr/local/lib/python3.8/site-packages/pandas/plotting/_matplotlib/tools.py:331: MatplotlibDeprecationWarning: \n",
      "The is_first_col function was deprecated in Matplotlib 3.4 and will be removed two minor releases later. Use ax.get_subplotspec().is_first_col() instead.\n",
      "  if ax.is_first_col():\n",
      "/usr/local/lib/python3.8/site-packages/pandas/plotting/_matplotlib/tools.py:331: MatplotlibDeprecationWarning: \n",
      "The is_first_col function was deprecated in Matplotlib 3.4 and will be removed two minor releases later. Use ax.get_subplotspec().is_first_col() instead.\n",
      "  if ax.is_first_col():\n"
     ]
    },
    {
     "data": {
      "image/png": "[encoded data removed]",
      "text/plain": [
       "<Figure size 1008x288 with 2 Axes>"
      ]
     },
     "metadata": {
      "needs_background": "light"
     },
     "output_type": "display_data"
    }
   ],
   "source": [
    "publication_date = datetime(2018, 1, 11)\n",
    "\n",
    "fig, ax = plt.subplots(1, 2, figsize=(14, 4))\n",
    "portfolio_return.plot(ax=ax[0], logy=True);\n",
    "ax[0].set_title('Commodity skewness portfolio')\n",
    "ax[0].set_ylabel('Cumulative returns');\n",
    "ax[0].axvline(publication_date, lw=1, ls='--', color='black')\n",
    "ax[0].text(publication_date, 100, 'Publication date ', ha='right')\n",
    "\n",
    "portfolio_return.loc[publication_date:].plot(ax=ax[1], logy=True);\n",
    "ax[1].set_title('Commodity skewness portfolio (post publication)');"
   ]
  },
  {
   "cell_type": "markdown",
   "id": "3637361a",
   "metadata": {
    "papermill": {
     "duration": 0.017282,
     "end_time": "2021-05-06T15:05:23.049405",
     "exception": false,
     "start_time": "2021-05-06T15:05:23.032123",
     "status": "completed"
    },
    "tags": []
   },
   "source": [
    "Fernandez-Perez et al (2018) only uses data between 1987 and 2014. And in fact the chart below looks better than the full sample period. This result suggests that the skewness signal is weaker than others (e.g., trend, carry) even if it's a priced risk."
   ]
  },
  {
   "cell_type": "code",
   "execution_count": 9,
   "id": "231a0e42",
   "metadata": {
    "execution": {
     "iopub.execute_input": "2021-05-06T15:05:23.101487Z",
     "iopub.status.busy": "2021-05-06T15:05:23.100087Z",
     "iopub.status.idle": "2021-05-06T15:05:23.400633Z",
     "shell.execute_reply": "2021-05-06T15:05:23.401055Z"
    },
    "papermill": {
     "duration": 0.334412,
     "end_time": "2021-05-06T15:05:23.401189",
     "exception": false,
     "start_time": "2021-05-06T15:05:23.066777",
     "status": "completed"
    },
    "tags": []
   },
   "outputs": [
    {
     "data": {
      "image/png": "[encoded data removed]",
      "text/plain": [
       "<Figure size 576x324 with 1 Axes>"
      ]
     },
     "metadata": {
      "needs_background": "light"
     },
     "output_type": "display_data"
    }
   ],
   "source": [
    "fig, ax = plt.subplots(figsize=(8, 4.5))\n",
    "portfolio_return['1987':'2014'].plot(ax=ax, logy=True);\n",
    "ax.set_title('Commodity skewness portfolio')\n",
    "ax.set_ylabel('Cumulative returns');"
   ]
  },
  {
   "cell_type": "markdown",
   "id": "0621256b",
   "metadata": {
    "papermill": {
     "duration": 0.018531,
     "end_time": "2021-05-06T15:05:23.438662",
     "exception": false,
     "start_time": "2021-05-06T15:05:23.420131",
     "status": "completed"
    },
    "tags": []
   },
   "source": [
    "## Recent performance"
   ]
  },
  {
   "cell_type": "code",
   "execution_count": 10,
   "id": "eebb02f2",
   "metadata": {
    "execution": {
     "iopub.execute_input": "2021-05-06T15:05:23.502101Z",
     "iopub.status.busy": "2021-05-06T15:05:23.501557Z",
     "iopub.status.idle": "2021-05-06T15:05:23.778258Z",
     "shell.execute_reply": "2021-05-06T15:05:23.777732Z"
    },
    "papermill": {
     "duration": 0.321217,
     "end_time": "2021-05-06T15:05:23.778364",
     "exception": false,
     "start_time": "2021-05-06T15:05:23.457147",
     "status": "completed"
    },
    "tags": []
   },
   "outputs": [
    {
     "data": {
      "image/png": "[encoded data removed]",
      "text/plain": [
       "<Figure size 576x324 with 1 Axes>"
      ]
     },
     "metadata": {
      "needs_background": "light"
     },
     "output_type": "display_data"
    }
   ],
   "source": [
    "fig, ax = plt.subplots(figsize=(8, 4.5))\n",
    "portfolio_return.tail(252 * 2).plot(ax=ax, logy=True);\n",
    "ax.set_title('Commodity skewness portfolio')\n",
    "ax.set_ylabel('Cumulative returns');"
   ]
  },
  {
   "cell_type": "markdown",
   "id": "0dae98e2",
   "metadata": {
    "papermill": {
     "duration": 0.019472,
     "end_time": "2021-05-06T15:05:23.817640",
     "exception": false,
     "start_time": "2021-05-06T15:05:23.798168",
     "status": "completed"
    },
    "tags": []
   },
   "source": [
    "# Reference\n",
    "- Baltas, N. and Salinas, G., 2019. Cross-Asset Skew. Available at SSRN.\n",
    "- Fernandez-Perez, A., Frijns, B., Fuertes, A.M. and Miffre, J., 2018. The skewness of commodity futures returns. Journal of Banking & Finance, 86, pp.143-158.\n",
    "- Hollstein, F., Prokopczuk, M. and Tharann, B., 2020. Anomalies in commodity futures markets: Risk or mispricing?. Available at SSRN."
   ]
  },
  {
   "cell_type": "code",
   "execution_count": 11,
   "id": "d4983995",
   "metadata": {
    "ExecuteTime": {
     "end_time": "2020-08-31T05:52:23.734170Z",
     "start_time": "2020-08-31T05:52:23.731627Z"
    },
    "execution": {
     "iopub.execute_input": "2021-05-06T15:05:23.860089Z",
     "iopub.status.busy": "2021-05-06T15:05:23.859563Z",
     "iopub.status.idle": "2021-05-06T15:05:23.862100Z",
     "shell.execute_reply": "2021-05-06T15:05:23.861586Z"
    },
    "papermill": {
     "duration": 0.025023,
     "end_time": "2021-05-06T15:05:23.862202",
     "exception": false,
     "start_time": "2021-05-06T15:05:23.837179",
     "status": "completed"
    },
    "tags": []
   },
   "outputs": [
    {
     "name": "stdout",
     "output_type": "stream",
     "text": [
      "Updated: 06-May-2021 15:05\n"
     ]
    }
   ],
   "source": [
    "print(f'Updated: {datetime.utcnow().strftime(\"%d-%b-%Y %H:%M\")}')"
   ]
  }
 ],
 "metadata": {
  "kernelspec": {
   "display_name": "Python 3",
   "language": "python",
   "name": "python3"
  },
  "language_info": {
   "codemirror_mode": {
    "name": "ipython",
    "version": 3
   },
   "file_extension": ".py",
   "mimetype": "text/x-python",
   "name": "python",
   "nbconvert_exporter": "python",
   "pygments_lexer": "ipython3",
   "version": "3.8.2"
  },
  "papermill": {
   "default_parameters": {},
   "duration": 355.255333,
   "end_time": "2021-05-06T15:05:24.989054",
   "environment_variables": {},
   "exception": null,
   "input_path": "notebooks/papermill/commodity_skewness.ipynb",
   "output_path": "notebooks/commodity_skewness.ipynb",
   "parameters": {},
   "start_time": "2021-05-06T14:59:29.733721",
   "version": "2.3.3"
  },
  "toc": {
   "base_numbering": 1,
   "nav_menu": {},
   "number_sections": true,
   "sideBar": true,
   "skip_h1_title": false,
   "title_cell": "Table of Contents",
   "title_sidebar": "Contents",
   "toc_cell": true,
   "toc_position": {
    "height": "calc(100% - 180px)",
    "left": "10px",
    "top": "150px",
    "width": "165px"
   },
   "toc_section_display": true,
   "toc_window_display": true
  },
  "toc-autonumbering": true,
  "toc-showmarkdowntxt": true,
  "toc-showtags": false
 },
 "nbformat": 4,
 "nbformat_minor": 5
}