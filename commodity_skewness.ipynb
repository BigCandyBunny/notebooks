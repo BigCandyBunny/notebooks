{
 "cells": [
  {
   "cell_type": "markdown",
   "id": "2dca2326",
   "metadata": {
    "papermill": {
     "duration": 0.013026,
     "end_time": "2021-07-09T06:31:20.499625",
     "exception": false,
     "start_time": "2021-07-09T06:31:20.486599",
     "status": "completed"
    },
    "tags": []
   },
   "source": [
    "# Commodity skewness\n",
    "\n",
    "This notebook analyses commodity cross-sectional skewness strategy. The strategy takes long positions on contracts with most negative historical skewness and short positions on ones with most positive skewness."
   ]
  },
  {
   "cell_type": "code",
   "execution_count": 1,
   "id": "0f2fc720",
   "metadata": {
    "ExecuteTime": {
     "end_time": "2020-08-31T19:29:24.852122Z",
     "start_time": "2020-08-31T19:29:24.038266Z"
    },
    "execution": {
     "iopub.execute_input": "2021-07-09T06:31:20.538658Z",
     "iopub.status.busy": "2021-07-09T06:31:20.538083Z",
     "iopub.status.idle": "2021-07-09T06:31:23.312979Z",
     "shell.execute_reply": "2021-07-09T06:31:23.312306Z"
    },
    "papermill": {
     "duration": 2.800731,
     "end_time": "2021-07-09T06:31:23.313110",
     "exception": false,
     "start_time": "2021-07-09T06:31:20.512379",
     "status": "completed"
    },
    "tags": []
   },
   "outputs": [],
   "source": [
    "%matplotlib inline\n",
    "from datetime import datetime\n",
    "import logging\n",
    "import warnings\n",
    "warnings.simplefilter(action='ignore', category=FutureWarning)\n",
    "\n",
    "import pandas as pd\n",
    "import matplotlib.pyplot as plt\n",
    "import matplotlib.ticker as mticker\n",
    "plt.style.use('bmh')\n",
    "\n",
    "from vivace.backtest import signal\n",
    "from vivace.backtest import processing\n",
    "from vivace.backtest.contract import all_futures_hollstein2020\n",
    "from vivace.backtest.engine import BacktestEngine\n",
    "from vivace.backtest.enums import Strategy\n",
    "from vivace.backtest.stats import Performance"
   ]
  },
  {
   "cell_type": "markdown",
   "id": "2629b2d5",
   "metadata": {
    "papermill": {
     "duration": 0.012263,
     "end_time": "2021-07-09T06:31:23.338123",
     "exception": false,
     "start_time": "2021-07-09T06:31:23.325860",
     "status": "completed"
    },
    "tags": []
   },
   "source": [
    "# Data\n",
    "\n",
    "26 commodity futures are used as per Hollstein 2020."
   ]
  },
  {
   "cell_type": "code",
   "execution_count": 2,
   "id": "5f13d7ff",
   "metadata": {
    "ExecuteTime": {
     "end_time": "2020-08-31T19:29:25.399795Z",
     "start_time": "2020-08-31T19:29:25.371862Z"
    },
    "execution": {
     "iopub.execute_input": "2021-07-09T06:31:23.371260Z",
     "iopub.status.busy": "2021-07-09T06:31:23.370458Z",
     "iopub.status.idle": "2021-07-09T06:31:23.378239Z",
     "shell.execute_reply": "2021-07-09T06:31:23.377768Z"
    },
    "papermill": {
     "duration": 0.027862,
     "end_time": "2021-07-09T06:31:23.378372",
     "exception": false,
     "start_time": "2021-07-09T06:31:23.350510",
     "status": "completed"
    },
    "tags": []
   },
   "outputs": [
    {
     "data": {
      "text/html": [
       "<div>\n",
       "<style scoped>\n",
       "    .dataframe tbody tr th:only-of-type {\n",
       "        vertical-align: middle;\n",
       "    }\n",
       "\n",
       "    .dataframe tbody tr th {\n",
       "        vertical-align: top;\n",
       "    }\n",
       "\n",
       "    .dataframe thead th {\n",
       "        text-align: right;\n",
       "    }\n",
       "</style>\n",
       "<table border=\"1\" class=\"dataframe\">\n",
       "  <thead>\n",
       "    <tr style=\"text-align: right;\">\n",
       "      <th></th>\n",
       "      <th>name</th>\n",
       "    </tr>\n",
       "    <tr>\n",
       "      <th>ticker</th>\n",
       "      <th></th>\n",
       "    </tr>\n",
       "  </thead>\n",
       "  <tbody>\n",
       "    <tr>\n",
       "      <th>CO</th>\n",
       "      <td>Brent Crude Oil</td>\n",
       "    </tr>\n",
       "    <tr>\n",
       "      <th>CC</th>\n",
       "      <td>Cocoa</td>\n",
       "    </tr>\n",
       "    <tr>\n",
       "      <th>KC</th>\n",
       "      <td>Coffee</td>\n",
       "    </tr>\n",
       "    <tr>\n",
       "      <th>C</th>\n",
       "      <td>Corn</td>\n",
       "    </tr>\n",
       "    <tr>\n",
       "      <th>CT</th>\n",
       "      <td>Cotton</td>\n",
       "    </tr>\n",
       "    <tr>\n",
       "      <th>FC</th>\n",
       "      <td>Feeder Cattle</td>\n",
       "    </tr>\n",
       "    <tr>\n",
       "      <th>GC</th>\n",
       "      <td>Gold</td>\n",
       "    </tr>\n",
       "    <tr>\n",
       "      <th>HO</th>\n",
       "      <td>Heating Oil</td>\n",
       "    </tr>\n",
       "    <tr>\n",
       "      <th>HG</th>\n",
       "      <td>Copper</td>\n",
       "    </tr>\n",
       "    <tr>\n",
       "      <th>LH</th>\n",
       "      <td>Lean Hog</td>\n",
       "    </tr>\n",
       "    <tr>\n",
       "      <th>LC</th>\n",
       "      <td>Live Cattle</td>\n",
       "    </tr>\n",
       "    <tr>\n",
       "      <th>LB</th>\n",
       "      <td>Lumber</td>\n",
       "    </tr>\n",
       "    <tr>\n",
       "      <th>DA</th>\n",
       "      <td>Milk</td>\n",
       "    </tr>\n",
       "    <tr>\n",
       "      <th>NG</th>\n",
       "      <td>Natural Gas</td>\n",
       "    </tr>\n",
       "    <tr>\n",
       "      <th>ZO</th>\n",
       "      <td>Oats</td>\n",
       "    </tr>\n",
       "    <tr>\n",
       "      <th>OJ</th>\n",
       "      <td>Orange Juice</td>\n",
       "    </tr>\n",
       "    <tr>\n",
       "      <th>PA</th>\n",
       "      <td>Palladium</td>\n",
       "    </tr>\n",
       "    <tr>\n",
       "      <th>PL</th>\n",
       "      <td>Platinum</td>\n",
       "    </tr>\n",
       "    <tr>\n",
       "      <th>RR</th>\n",
       "      <td>Rough Rice</td>\n",
       "    </tr>\n",
       "    <tr>\n",
       "      <th>SI</th>\n",
       "      <td>Silver</td>\n",
       "    </tr>\n",
       "    <tr>\n",
       "      <th>S</th>\n",
       "      <td>Soybean</td>\n",
       "    </tr>\n",
       "    <tr>\n",
       "      <th>SM</th>\n",
       "      <td>Soybean Meal</td>\n",
       "    </tr>\n",
       "    <tr>\n",
       "      <th>BO</th>\n",
       "      <td>Soybean Oil</td>\n",
       "    </tr>\n",
       "    <tr>\n",
       "      <th>SB</th>\n",
       "      <td>Sugar</td>\n",
       "    </tr>\n",
       "    <tr>\n",
       "      <th>W</th>\n",
       "      <td>Wheat</td>\n",
       "    </tr>\n",
       "    <tr>\n",
       "      <th>CL</th>\n",
       "      <td>WTI Crude Oil</td>\n",
       "    </tr>\n",
       "  </tbody>\n",
       "</table>\n",
       "</div>"
      ],
      "text/plain": [
       "                   name\n",
       "ticker                 \n",
       "CO      Brent Crude Oil\n",
       "CC                Cocoa\n",
       "KC               Coffee\n",
       "C                  Corn\n",
       "CT               Cotton\n",
       "FC        Feeder Cattle\n",
       "GC                 Gold\n",
       "HO          Heating Oil\n",
       "HG               Copper\n",
       "LH             Lean Hog\n",
       "LC          Live Cattle\n",
       "LB               Lumber\n",
       "DA                 Milk\n",
       "NG          Natural Gas\n",
       "ZO                 Oats\n",
       "OJ         Orange Juice\n",
       "PA            Palladium\n",
       "PL             Platinum\n",
       "RR           Rough Rice\n",
       "SI               Silver\n",
       "S               Soybean\n",
       "SM         Soybean Meal\n",
       "BO          Soybean Oil\n",
       "SB                Sugar\n",
       "W                 Wheat\n",
       "CL        WTI Crude Oil"
      ]
     },
     "execution_count": 2,
     "metadata": {},
     "output_type": "execute_result"
    }
   ],
   "source": [
    "all_futures_hollstein2020"
   ]
  },
  {
   "cell_type": "code",
   "execution_count": 3,
   "id": "f6d69fee",
   "metadata": {
    "ExecuteTime": {
     "end_time": "2020-08-31T19:29:26.170389Z",
     "start_time": "2020-08-31T19:29:26.166205Z"
    },
    "execution": {
     "iopub.execute_input": "2021-07-09T06:31:23.408992Z",
     "iopub.status.busy": "2021-07-09T06:31:23.408397Z",
     "iopub.status.idle": "2021-07-09T06:31:23.410673Z",
     "shell.execute_reply": "2021-07-09T06:31:23.411095Z"
    },
    "papermill": {
     "duration": 0.019782,
     "end_time": "2021-07-09T06:31:23.411255",
     "exception": false,
     "start_time": "2021-07-09T06:31:23.391473",
     "status": "completed"
    },
    "tags": []
   },
   "outputs": [
    {
     "data": {
      "text/plain": [
       "(26, 1)"
      ]
     },
     "execution_count": 3,
     "metadata": {},
     "output_type": "execute_result"
    }
   ],
   "source": [
    "all_futures_hollstein2020.shape"
   ]
  },
  {
   "cell_type": "markdown",
   "id": "cdc28782",
   "metadata": {
    "papermill": {
     "duration": 0.013234,
     "end_time": "2021-07-09T06:31:23.437915",
     "exception": false,
     "start_time": "2021-07-09T06:31:23.424681",
     "status": "completed"
    },
    "tags": []
   },
   "source": [
    "# Performance"
   ]
  },
  {
   "cell_type": "markdown",
   "id": "60100bc8",
   "metadata": {
    "papermill": {
     "duration": 0.013319,
     "end_time": "2021-07-09T06:31:23.465454",
     "exception": false,
     "start_time": "2021-07-09T06:31:23.452135",
     "status": "completed"
    },
    "tags": []
   },
   "source": [
    "## Run backtest\n",
    "\n",
    "A simple portfolio is constructed by using trailing 1-year returns of each commodity futures. Unlike studies in equities, the recent 1-month is included in the formation period. Positions are rebalanced on a monthly basis.\n",
    "\n",
    "Similar to other popular academic strategies, this commodity momentum signal has been stalling since around 2015."
   ]
  },
  {
   "cell_type": "code",
   "execution_count": 4,
   "id": "5b856846",
   "metadata": {
    "ExecuteTime": {
     "end_time": "2020-09-02T22:09:35.368377Z",
     "start_time": "2020-09-02T21:34:59.850395Z"
    },
    "execution": {
     "iopub.execute_input": "2021-07-09T06:31:23.499146Z",
     "iopub.status.busy": "2021-07-09T06:31:23.498558Z",
     "iopub.status.idle": "2021-07-09T06:35:48.703082Z",
     "shell.execute_reply": "2021-07-09T06:35:48.703500Z"
    },
    "papermill": {
     "duration": 265.224542,
     "end_time": "2021-07-09T06:35:48.703640",
     "exception": false,
     "start_time": "2021-07-09T06:31:23.479098",
     "status": "completed"
    },
    "tags": []
   },
   "outputs": [],
   "source": [
    "engine = BacktestEngine(\n",
    "    strategy=Strategy.DELTA_ONE.value,\n",
    "    instrument=all_futures_hollstein2020.index,\n",
    "    signal=signal.XSSkewness(lookback=252, \n",
    "                             post_process=processing.Pipeline([\n",
    "                                 processing.Negate(),\n",
    "                                 processing.AsFreq(freq='m', method='pad')\n",
    "                             ])),\n",
    "    log_level=logging.WARN,\n",
    ")\n",
    "engine.run()"
   ]
  },
  {
   "cell_type": "code",
   "execution_count": 5,
   "id": "e21a00d4",
   "metadata": {
    "ExecuteTime": {
     "end_time": "2020-09-02T20:42:14.779932Z",
     "start_time": "2020-09-02T20:40:39.222688Z"
    },
    "execution": {
     "iopub.execute_input": "2021-07-09T06:35:48.757825Z",
     "iopub.status.busy": "2021-07-09T06:35:48.752306Z",
     "iopub.status.idle": "2021-07-09T06:37:24.785972Z",
     "shell.execute_reply": "2021-07-09T06:37:24.786405Z"
    },
    "papermill": {
     "duration": 96.069273,
     "end_time": "2021-07-09T06:37:24.786562",
     "exception": false,
     "start_time": "2021-07-09T06:35:48.717289",
     "status": "completed"
    },
    "tags": []
   },
   "outputs": [],
   "source": [
    "portfolio_return = (engine.calculate_equity_curve(calculate_net=False)\n",
    "                    .rename('Commodity skewness portfolio'))"
   ]
  },
  {
   "cell_type": "code",
   "execution_count": 6,
   "id": "6ab98395",
   "metadata": {
    "ExecuteTime": {
     "end_time": "2020-09-02T20:45:59.608937Z",
     "start_time": "2020-09-02T20:45:59.405601Z"
    },
    "execution": {
     "iopub.execute_input": "2021-07-09T06:37:24.835823Z",
     "iopub.status.busy": "2021-07-09T06:37:24.833647Z",
     "iopub.status.idle": "2021-07-09T06:37:25.310596Z",
     "shell.execute_reply": "2021-07-09T06:37:25.310058Z"
    },
    "papermill": {
     "duration": 0.510316,
     "end_time": "2021-07-09T06:37:25.310706",
     "exception": false,
     "start_time": "2021-07-09T06:37:24.800390",
     "status": "completed"
    },
    "tags": []
   },
   "outputs": [
    {
     "data": {
      "image/png": "[encoded data removed]",
      "text/plain": [
       "<Figure size 576x324 with 1 Axes>"
      ]
     },
     "metadata": {
      "needs_background": "light"
     },
     "output_type": "display_data"
    }
   ],
   "source": [
    "fig, ax = plt.subplots(figsize=(8, 4.5))\n",
    "portfolio_return.plot(ax=ax, logy=True);\n",
    "ax.set_title('Commodity skewness portfolio')\n",
    "ax.set_ylabel('Cumulative returns');"
   ]
  },
  {
   "cell_type": "code",
   "execution_count": 7,
   "id": "cc5d8b2b",
   "metadata": {
    "ExecuteTime": {
     "end_time": "2020-08-31T20:06:51.873126Z",
     "start_time": "2020-08-31T20:06:51.866509Z"
    },
    "execution": {
     "iopub.execute_input": "2021-07-09T06:37:25.347902Z",
     "iopub.status.busy": "2021-07-09T06:37:25.344588Z",
     "iopub.status.idle": "2021-07-09T06:37:25.610179Z",
     "shell.execute_reply": "2021-07-09T06:37:25.610597Z"
    },
    "papermill": {
     "duration": 0.284926,
     "end_time": "2021-07-09T06:37:25.610733",
     "exception": false,
     "start_time": "2021-07-09T06:37:25.325807",
     "status": "completed"
    },
    "tags": []
   },
   "outputs": [
    {
     "data": {
      "text/html": [
       "<div>\n",
       "<style scoped>\n",
       "    .dataframe tbody tr th:only-of-type {\n",
       "        vertical-align: middle;\n",
       "    }\n",
       "\n",
       "    .dataframe tbody tr th {\n",
       "        vertical-align: top;\n",
       "    }\n",
       "\n",
       "    .dataframe thead th {\n",
       "        text-align: right;\n",
       "    }\n",
       "</style>\n",
       "<table border=\"1\" class=\"dataframe\">\n",
       "  <thead>\n",
       "    <tr style=\"text-align: right;\">\n",
       "      <th></th>\n",
       "      <th>Commodity skewness portfolio</th>\n",
       "    </tr>\n",
       "  </thead>\n",
       "  <tbody>\n",
       "    <tr>\n",
       "      <th>Annualised return</th>\n",
       "      <td>0.018645</td>\n",
       "    </tr>\n",
       "    <tr>\n",
       "      <th>CAGR</th>\n",
       "      <td>0.006355</td>\n",
       "    </tr>\n",
       "    <tr>\n",
       "      <th>Annualised vol</th>\n",
       "      <td>0.156755</td>\n",
       "    </tr>\n",
       "    <tr>\n",
       "      <th>Sharpe ratio</th>\n",
       "      <td>0.118945</td>\n",
       "    </tr>\n",
       "    <tr>\n",
       "      <th>Max drawdown</th>\n",
       "      <td>0.903528</td>\n",
       "    </tr>\n",
       "    <tr>\n",
       "      <th>Calmar ratio</th>\n",
       "      <td>0.020636</td>\n",
       "    </tr>\n",
       "    <tr>\n",
       "      <th>Skewness</th>\n",
       "      <td>-0.036384</td>\n",
       "    </tr>\n",
       "    <tr>\n",
       "      <th>Kurtosis</th>\n",
       "      <td>2.082387</td>\n",
       "    </tr>\n",
       "    <tr>\n",
       "      <th>Worst return</th>\n",
       "      <td>-0.072093</td>\n",
       "    </tr>\n",
       "    <tr>\n",
       "      <th>Worst 1d return</th>\n",
       "      <td>-0.072093</td>\n",
       "    </tr>\n",
       "    <tr>\n",
       "      <th>Worst 1w return</th>\n",
       "      <td>-0.109418</td>\n",
       "    </tr>\n",
       "    <tr>\n",
       "      <th>Worst 1m return</th>\n",
       "      <td>-0.205334</td>\n",
       "    </tr>\n",
       "  </tbody>\n",
       "</table>\n",
       "</div>"
      ],
      "text/plain": [
       "                   Commodity skewness portfolio\n",
       "Annualised return                      0.018645\n",
       "CAGR                                   0.006355\n",
       "Annualised vol                         0.156755\n",
       "Sharpe ratio                           0.118945\n",
       "Max drawdown                           0.903528\n",
       "Calmar ratio                           0.020636\n",
       "Skewness                              -0.036384\n",
       "Kurtosis                               2.082387\n",
       "Worst return                          -0.072093\n",
       "Worst 1d return                       -0.072093\n",
       "Worst 1w return                       -0.109418\n",
       "Worst 1m return                       -0.205334"
      ]
     },
     "execution_count": 7,
     "metadata": {},
     "output_type": "execute_result"
    }
   ],
   "source": [
    "portfolio_return.pipe(Performance).summary()"
   ]
  },
  {
   "cell_type": "markdown",
   "id": "d26ed3f5",
   "metadata": {
    "papermill": {
     "duration": 0.015099,
     "end_time": "2021-07-09T06:37:25.641322",
     "exception": false,
     "start_time": "2021-07-09T06:37:25.626223",
     "status": "completed"
    },
    "tags": []
   },
   "source": [
    "## Post publication"
   ]
  },
  {
   "cell_type": "code",
   "execution_count": 8,
   "id": "58982339",
   "metadata": {
    "execution": {
     "iopub.execute_input": "2021-07-09T06:37:25.714887Z",
     "iopub.status.busy": "2021-07-09T06:37:25.710976Z",
     "iopub.status.idle": "2021-07-09T06:37:26.456391Z",
     "shell.execute_reply": "2021-07-09T06:37:26.455865Z"
    },
    "papermill": {
     "duration": 0.800283,
     "end_time": "2021-07-09T06:37:26.456497",
     "exception": false,
     "start_time": "2021-07-09T06:37:25.656214",
     "status": "completed"
    },
    "tags": []
   },
   "outputs": [
    {
     "data": {
      "image/png": "[encoded data removed]",
      "text/plain": [
       "<Figure size 1008x288 with 2 Axes>"
      ]
     },
     "metadata": {
      "needs_background": "light"
     },
     "output_type": "display_data"
    }
   ],
   "source": [
    "publication_date = datetime(2018, 1, 11)\n",
    "\n",
    "fig, ax = plt.subplots(1, 2, figsize=(14, 4))\n",
    "portfolio_return.plot(ax=ax[0], logy=True);\n",
    "ax[0].set_title('Commodity skewness portfolio')\n",
    "ax[0].set_ylabel('Cumulative returns');\n",
    "ax[0].axvline(publication_date, lw=1, ls='--', color='black')\n",
    "ax[0].text(publication_date, 100, 'Publication date ', ha='right')\n",
    "\n",
    "portfolio_return.loc[publication_date:].plot(ax=ax[1], logy=True);\n",
    "ax[1].set_title('Commodity skewness portfolio (post publication)');"
   ]
  },
  {
   "cell_type": "markdown",
   "id": "ea480f76",
   "metadata": {
    "papermill": {
     "duration": 0.016162,
     "end_time": "2021-07-09T06:37:26.489160",
     "exception": false,
     "start_time": "2021-07-09T06:37:26.472998",
     "status": "completed"
    },
    "tags": []
   },
   "source": [
    "Fernandez-Perez et al (2018) only uses data between 1987 and 2014. And in fact the chart below looks better than the full sample period. This result suggests that the skewness signal is weaker than others (e.g., trend, carry) even if it's a priced risk."
   ]
  },
  {
   "cell_type": "code",
   "execution_count": 9,
   "id": "a29f8547",
   "metadata": {
    "execution": {
     "iopub.execute_input": "2021-07-09T06:37:26.544396Z",
     "iopub.status.busy": "2021-07-09T06:37:26.542936Z",
     "iopub.status.idle": "2021-07-09T06:37:26.914901Z",
     "shell.execute_reply": "2021-07-09T06:37:26.914369Z"
    },
    "papermill": {
     "duration": 0.409663,
     "end_time": "2021-07-09T06:37:26.915010",
     "exception": false,
     "start_time": "2021-07-09T06:37:26.505347",
     "status": "completed"
    },
    "tags": []
   },
   "outputs": [
    {
     "data": {
      "image/png": "[encoded data removed]",
      "text/plain": [
       "<Figure size 576x324 with 1 Axes>"
      ]
     },
     "metadata": {
      "needs_background": "light"
     },
     "output_type": "display_data"
    }
   ],
   "source": [
    "fig, ax = plt.subplots(figsize=(8, 4.5))\n",
    "portfolio_return['1987':'2014'].plot(ax=ax, logy=True);\n",
    "ax.set_title('Commodity skewness portfolio')\n",
    "ax.set_ylabel('Cumulative returns');"
   ]
  },
  {
   "cell_type": "markdown",
   "id": "b2245e0c",
   "metadata": {
    "papermill": {
     "duration": 0.017606,
     "end_time": "2021-07-09T06:37:26.950444",
     "exception": false,
     "start_time": "2021-07-09T06:37:26.932838",
     "status": "completed"
    },
    "tags": []
   },
   "source": [
    "## Recent performance"
   ]
  },
  {
   "cell_type": "code",
   "execution_count": 10,
   "id": "88c35b2b",
   "metadata": {
    "execution": {
     "iopub.execute_input": "2021-07-09T06:37:27.010185Z",
     "iopub.status.busy": "2021-07-09T06:37:26.993497Z",
     "iopub.status.idle": "2021-07-09T06:37:27.358004Z",
     "shell.execute_reply": "2021-07-09T06:37:27.357481Z"
    },
    "papermill": {
     "duration": 0.390202,
     "end_time": "2021-07-09T06:37:27.358111",
     "exception": false,
     "start_time": "2021-07-09T06:37:26.967909",
     "status": "completed"
    },
    "tags": []
   },
   "outputs": [
    {
     "data": {
      "image/png": "[encoded data removed]",
      "text/plain": [
       "<Figure size 576x324 with 1 Axes>"
      ]
     },
     "metadata": {
      "needs_background": "light"
     },
     "output_type": "display_data"
    }
   ],
   "source": [
    "fig, ax = plt.subplots(figsize=(8, 4.5))\n",
    "portfolio_return.tail(252 * 2).plot(ax=ax, logy=True);\n",
    "ax.set_title('Commodity skewness portfolio')\n",
    "ax.set_ylabel('Cumulative returns');"
   ]
  },
  {
   "cell_type": "markdown",
   "id": "3ade4820",
   "metadata": {
    "papermill": {
     "duration": 0.018574,
     "end_time": "2021-07-09T06:37:27.395506",
     "exception": false,
     "start_time": "2021-07-09T06:37:27.376932",
     "status": "completed"
    },
    "tags": []
   },
   "source": [
    "# Reference\n",
    "- Baltas, N. and Salinas, G., 2019. Cross-Asset Skew. Available at SSRN.\n",
    "- Fernandez-Perez, A., Frijns, B., Fuertes, A.M. and Miffre, J., 2018. The skewness of commodity futures returns. Journal of Banking & Finance, 86, pp.143-158.\n",
    "- Hollstein, F., Prokopczuk, M. and Tharann, B., 2020. Anomalies in commodity futures markets: Risk or mispricing?. Available at SSRN."
   ]
  },
  {
   "cell_type": "code",
   "execution_count": 11,
   "id": "baaf9757",
   "metadata": {
    "ExecuteTime": {
     "end_time": "2020-08-31T05:52:23.734170Z",
     "start_time": "2020-08-31T05:52:23.731627Z"
    },
    "execution": {
     "iopub.execute_input": "2021-07-09T06:37:27.435867Z",
     "iopub.status.busy": "2021-07-09T06:37:27.435338Z",
     "iopub.status.idle": "2021-07-09T06:37:27.437610Z",
     "shell.execute_reply": "2021-07-09T06:37:27.438033Z"
    },
    "papermill": {
     "duration": 0.024204,
     "end_time": "2021-07-09T06:37:27.438155",
     "exception": false,
     "start_time": "2021-07-09T06:37:27.413951",
     "status": "completed"
    },
    "tags": []
   },
   "outputs": [
    {
     "name": "stdout",
     "output_type": "stream",
     "text": [
      "Updated: 09-Jul-2021 06:37\n"
     ]
    }
   ],
   "source": [
    "print(f'Updated: {datetime.utcnow().strftime(\"%d-%b-%Y %H:%M\")}')"
   ]
  }
 ],
 "metadata": {
  "kernelspec": {
   "display_name": "Python 3",
   "language": "python",
   "name": "python3"
  },
  "language_info": {
   "codemirror_mode": {
    "name": "ipython",
    "version": 3
   },
   "file_extension": ".py",
   "mimetype": "text/x-python",
   "name": "python",
   "nbconvert_exporter": "python",
   "pygments_lexer": "ipython3",
   "version": "3.9.5"
  },
  "papermill": {
   "default_parameters": {},
   "duration": 370.436823,
   "end_time": "2021-07-09T06:37:29.585847",
   "environment_variables": {},
   "exception": null,
   "input_path": "notebooks/papermill/commodity_skewness.ipynb",
   "output_path": "notebooks/commodity_skewness.ipynb",
   "parameters": {},
   "start_time": "2021-07-09T06:31:19.149024",
   "version": "2.3.3"
  },
  "toc": {
   "base_numbering": 1,
   "nav_menu": {},
   "number_sections": true,
   "sideBar": true,
   "skip_h1_title": false,
   "title_cell": "Table of Contents",
   "title_sidebar": "Contents",
   "toc_cell": true,
   "toc_position": {
    "height": "calc(100% - 180px)",
    "left": "10px",
    "top": "150px",
    "width": "165px"
   },
   "toc_section_display": true,
   "toc_window_display": true
  },
  "toc-autonumbering": true,
  "toc-showmarkdowntxt": true,
  "toc-showtags": false
 },
 "nbformat": 4,
 "nbformat_minor": 5
}