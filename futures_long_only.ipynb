{
 "cells": [
  {
   "cell_type": "markdown",
   "metadata": {
    "papermill": {
     "duration": 0.01147,
     "end_time": "2020-10-12T09:43:36.672111",
     "exception": false,
     "start_time": "2020-10-12T09:43:36.660641",
     "status": "completed"
    },
    "tags": []
   },
   "source": [
    "# Futures long-only performance summary\n",
    "\n",
    "This notebook summarises long-only performance statistics for major futures contracts provided by various data sources. Daily returns are computed by rolling the front contract before either the first notice day or the last trade day to avoid deliveries. Concretely, a daily return on a given day is written as follows:\n",
    "\n",
    "$$\n",
    "r_{t, i} = \\frac{F_{t, i} - F_{t-1, t}}{F_{rolldate, i}}\n",
    "$$\n",
    "\n",
    "where $F_{t, i}$ is the futures price at time $t$ for an instrument $i$, $F_{rolldate, i}$ is the futures price when we roll into the contract. All functionalities as well as underlying data are provided by a private library `vivace`."
   ]
  },
  {
   "cell_type": "code",
   "execution_count": 1,
   "metadata": {
    "ExecuteTime": {
     "end_time": "2020-08-22T16:45:06.161148Z",
     "start_time": "2020-08-22T16:45:05.357848Z"
    },
    "execution": {
     "iopub.execute_input": "2020-10-12T09:43:36.702542Z",
     "iopub.status.busy": "2020-10-12T09:43:36.701929Z",
     "iopub.status.idle": "2020-10-12T09:43:38.651879Z",
     "shell.execute_reply": "2020-10-12T09:43:38.651084Z"
    },
    "papermill": {
     "duration": 1.969247,
     "end_time": "2020-10-12T09:43:38.652070",
     "exception": false,
     "start_time": "2020-10-12T09:43:36.682823",
     "status": "completed"
    },
    "run_control": {
     "frozen": false,
     "read_only": false
    },
    "tags": []
   },
   "outputs": [],
   "source": [
    "%matplotlib inline\n",
    "from datetime import datetime\n",
    "import logging\n",
    "import warnings\n",
    "warnings.simplefilter(action='ignore', category=FutureWarning)\n",
    "\n",
    "import pandas as pd\n",
    "import matplotlib.pyplot as plt\n",
    "plt.style.use('bmh')\n",
    "\n",
    "from vivace.backtest.contract import all_futures_lo_map\n",
    "from vivace.backtest.engine import BacktestEngine\n",
    "from vivace.backtest.enums import Strategy\n",
    "from vivace.backtest.stats import Performance, PerfStats"
   ]
  },
  {
   "cell_type": "markdown",
   "metadata": {
    "papermill": {
     "duration": 0.008497,
     "end_time": "2020-10-12T09:43:38.671614",
     "exception": false,
     "start_time": "2020-10-12T09:43:38.663117",
     "status": "completed"
    },
    "tags": []
   },
   "source": [
    "`all_futures_lo_map` contains the list of all available futures contracts for long-only calculation."
   ]
  },
  {
   "cell_type": "code",
   "execution_count": 2,
   "metadata": {
    "ExecuteTime": {
     "end_time": "2020-08-22T16:45:08.533484Z",
     "start_time": "2020-08-22T16:45:08.516240Z"
    },
    "execution": {
     "iopub.execute_input": "2020-10-12T09:43:38.695371Z",
     "iopub.status.busy": "2020-10-12T09:43:38.694823Z",
     "iopub.status.idle": "2020-10-12T09:43:38.697686Z",
     "shell.execute_reply": "2020-10-12T09:43:38.697147Z"
    },
    "papermill": {
     "duration": 0.017778,
     "end_time": "2020-10-12T09:43:38.697796",
     "exception": false,
     "start_time": "2020-10-12T09:43:38.680018",
     "status": "completed"
    },
    "tags": []
   },
   "outputs": [
    {
     "data": {
      "text/plain": [
       "ticker\n",
       "AC                     MSCI World Index Futures\n",
       "AD                    Australian Dollar Futures\n",
       "AE                          Amsterdam AEX Index\n",
       "AP                                SPI 200 Index\n",
       "BO                          Soybean Oil Futures\n",
       "                        ...                    \n",
       "YE            Three-month Euroyen TIBOR Futures\n",
       "YM    3-Year Commonwealth Treasury Bond Futures\n",
       "Z                        FTSE 100 Index Futures\n",
       "ZB                   New Zealand Dollar Futures\n",
       "ZO                                         Oats\n",
       "Name: name, Length: 128, dtype: object"
      ]
     },
     "execution_count": 2,
     "metadata": {},
     "output_type": "execute_result"
    }
   ],
   "source": [
    "all_futures_lo_map"
   ]
  },
  {
   "cell_type": "markdown",
   "metadata": {
    "papermill": {
     "duration": 0.008813,
     "end_time": "2020-10-12T09:43:38.715531",
     "exception": false,
     "start_time": "2020-10-12T09:43:38.706718",
     "status": "completed"
    },
    "tags": []
   },
   "source": [
    "Without any signals, `BacktestEngine` calculates simple long-only strategies by default. `Performance` computes typical performance metrics such as Sharpe ratio."
   ]
  },
  {
   "cell_type": "code",
   "execution_count": null,
   "metadata": {
    "ExecuteTime": {
     "end_time": "2020-08-22T16:52:59.328899Z",
     "start_time": "2020-08-22T16:45:17.699927Z"
    },
    "papermill": {
     "duration": null,
     "end_time": null,
     "exception": false,
     "start_time": "2020-10-12T09:43:38.724339",
     "status": "running"
    },
    "tags": []
   },
   "outputs": [],
   "source": [
    "results = []\n",
    "\n",
    "for ticker, name in all_futures_lo_map.items():\n",
    "    engine = BacktestEngine(\n",
    "        instrument=ticker,\n",
    "        strategy=Strategy.DELTA_ONE.value,\n",
    "        log_level=logging.WARNING,\n",
    "    )\n",
    "    engine.run()\n",
    "    equity_curve = engine.calculate_equity_curve(calculate_net=False)\n",
    "    stats = Performance(equity_curve).summary().squeeze()\n",
    "    \n",
    "    results.append([\n",
    "        name,\n",
    "        equity_curve.index[0].strftime('%d-%b-%Y'),\n",
    "        equity_curve.index[-1].strftime('%d-%b-%Y'),\n",
    "        stats[PerfStats.ANN_RETURN.value],\n",
    "        stats[PerfStats.ANN_VOL.value],\n",
    "        stats[PerfStats.SHARPE.value],\n",
    "        stats[PerfStats.SKEWNESS.value],\n",
    "    ])\n",
    "    \n",
    "result = pd.DataFrame(results, columns=[\n",
    "    'contract', 'start_end', 'end_date',\n",
    "    PerfStats.ANN_RETURN.value, \n",
    "    PerfStats.ANN_VOL.value,\n",
    "    PerfStats.SHARPE.value,\n",
    "    PerfStats.SKEWNESS.value,\n",
    "]).set_index('contract')"
   ]
  },
  {
   "cell_type": "code",
   "execution_count": null,
   "metadata": {
    "ExecuteTime": {
     "end_time": "2020-08-22T16:53:00.656748Z",
     "start_time": "2020-08-22T16:53:00.652561Z"
    },
    "papermill": {
     "duration": null,
     "end_time": null,
     "exception": null,
     "start_time": null,
     "status": "pending"
    },
    "tags": []
   },
   "outputs": [],
   "source": [
    "result.shape"
   ]
  },
  {
   "cell_type": "markdown",
   "metadata": {
    "papermill": {
     "duration": null,
     "end_time": null,
     "exception": null,
     "start_time": null,
     "status": "pending"
    },
    "tags": []
   },
   "source": [
    "# Performance summary\n",
    "\n",
    "This table displays contract information such as the contract name as well as performance statistics. Bar charts are superimposed for annualised returns and Sharpe ratios based on its value.   Statistics are in contracts' local currencies.\n",
    "Note that some start dates do not match the exact inception of the futures contract because of limited data availability."
   ]
  },
  {
   "cell_type": "code",
   "execution_count": null,
   "metadata": {
    "ExecuteTime": {
     "end_time": "2020-08-22T16:53:01.994912Z",
     "start_time": "2020-08-22T16:53:01.840515Z"
    },
    "papermill": {
     "duration": null,
     "end_time": null,
     "exception": null,
     "start_time": null,
     "status": "pending"
    },
    "tags": []
   },
   "outputs": [],
   "source": [
    "(result\n",
    " .style.format({\n",
    "        PerfStats.ANN_RETURN.value: \"{:.1%}\",\n",
    "        PerfStats.ANN_VOL.value: \"{:.1%}\",\n",
    "        PerfStats.SHARPE.value: \"{:.2f}\",\n",
    "        PerfStats.SKEWNESS.value: \"{:.2f}\",\n",
    "    })\n",
    " .bar(subset=PerfStats.ANN_RETURN.value)\n",
    " .bar(subset=PerfStats.SHARPE.value))"
   ]
  },
  {
   "cell_type": "code",
   "execution_count": null,
   "metadata": {
    "ExecuteTime": {
     "end_time": "2020-08-22T16:53:08.780579Z",
     "start_time": "2020-08-22T16:53:07.582051Z"
    },
    "papermill": {
     "duration": null,
     "end_time": null,
     "exception": null,
     "start_time": null,
     "status": "pending"
    },
    "run_control": {
     "frozen": false,
     "read_only": false
    },
    "tags": []
   },
   "outputs": [],
   "source": [
    "fig, ax = plt.subplots(figsize=(8, 20))\n",
    "ax.set_title(\"Long-only Sharpe ratio\")\n",
    "ax.set_ylabel(\"Sharpe ratio\")\n",
    "result[PerfStats.SHARPE.value].loc[::-1].plot(kind=\"barh\", ax=ax, grid=True);  # reverse the plot order\n",
    "ax.axvline(0, lw=1);"
   ]
  },
  {
   "cell_type": "markdown",
   "metadata": {
    "papermill": {
     "duration": null,
     "end_time": null,
     "exception": null,
     "start_time": null,
     "status": "pending"
    },
    "tags": []
   },
   "source": [
    "# Plot cumulative return series\n",
    "\n",
    "Here only the E-mini S&P 500 futures is shown as an example."
   ]
  },
  {
   "cell_type": "code",
   "execution_count": null,
   "metadata": {
    "ExecuteTime": {
     "end_time": "2020-08-22T16:53:23.509045Z",
     "start_time": "2020-08-22T16:53:21.245532Z"
    },
    "papermill": {
     "duration": null,
     "end_time": null,
     "exception": null,
     "start_time": null,
     "status": "pending"
    },
    "tags": []
   },
   "outputs": [],
   "source": [
    "fig, ax = plt.subplots(figsize=(8, 5))\n",
    "engine = BacktestEngine(\n",
    "    instrument='ES',\n",
    "    strategy=Strategy.DELTA_ONE.value,\n",
    "    log_level=logging.WARNING,\n",
    ")\n",
    "engine.run()\n",
    "engine.calculate_equity_curve(calculate_net=False).plot(ax=ax, logy=True)\n",
    "ax.set_ylabel('Cumulative returns');"
   ]
  },
  {
   "cell_type": "code",
   "execution_count": null,
   "metadata": {
    "ExecuteTime": {
     "end_time": "2020-08-29T04:25:21.960879Z",
     "start_time": "2020-08-29T04:25:21.957555Z"
    },
    "papermill": {
     "duration": null,
     "end_time": null,
     "exception": null,
     "start_time": null,
     "status": "pending"
    },
    "tags": []
   },
   "outputs": [],
   "source": [
    "print(f'Updated: {datetime.utcnow().strftime(\"%d-%b-%Y %H:%M\")}')"
   ]
  }
 ],
 "metadata": {
  "kernelspec": {
   "display_name": "Python 3",
   "language": "python",
   "name": "python3"
  },
  "language_info": {
   "codemirror_mode": {
    "name": "ipython",
    "version": 3
   },
   "file_extension": ".py",
   "mimetype": "text/x-python",
   "name": "python",
   "nbconvert_exporter": "python",
   "pygments_lexer": "ipython3",
   "version": "3.8.1"
  },
  "nav_menu": {},
  "papermill": {
   "duration": null,
   "end_time": null,
   "environment_variables": {},
   "exception": null,
   "input_path": "notebooks/papermill/futures_long_only.ipynb",
   "output_path": "notebooks/futures_long_only.ipynb",
   "parameters": {},
   "start_time": "2020-10-12T09:43:35.615172",
   "version": "2.1.3"
  },
  "toc": {
   "base_numbering": 1,
   "nav_menu": {},
   "number_sections": true,
   "sideBar": true,
   "skip_h1_title": false,
   "title_cell": "Table of Contents",
   "title_sidebar": "Contents",
   "toc_cell": true,
   "toc_position": {
    "height": "calc(100% - 180px)",
    "left": "10px",
    "top": "150px",
    "width": "165px"
   },
   "toc_section_display": "block",
   "toc_window_display": true
  }
 },
 "nbformat": 4,
 "nbformat_minor": 4
}