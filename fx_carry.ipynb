{
 "cells": [
  {
   "cell_type": "markdown",
   "metadata": {
    "tags": [
     "papermill-error-cell-tag"
    ]
   },
   "source": [
    "<span style=\"color:red; font-family:Helvetica Neue, Helvetica, Arial, sans-serif; font-size:2em;\">An Exception was encountered at '<a href=\"#papermill-error-cell\">In [2]</a>'.</span>"
   ]
  },
  {
   "cell_type": "markdown",
   "metadata": {
    "papermill": {
     "duration": 0.015409,
     "end_time": "2020-09-04T07:03:05.353299",
     "exception": false,
     "start_time": "2020-09-04T07:03:05.337890",
     "status": "completed"
    },
    "tags": []
   },
   "source": [
    "# FX Carry\n",
    "\n",
    "This notebook analyses the FX carry trade (aka forward premium anomaly) where we long high-yielding currencies against low-yielding ones. The uncovered interest rate parity (UIP) suggests that higher-yielding currencies should depreciate on average to offset the benefit of higher interest rates. Empirically however that those currencies tended to weaken much less (or even appreciate) than what the UIP predicts. The FX carry strategy tries to exploit this phenomenon by creating a long-short portfolio in the FX market."
   ]
  },
  {
   "cell_type": "code",
   "execution_count": 1,
   "metadata": {
    "ExecuteTime": {
     "end_time": "2020-09-02T20:45:34.675713Z",
     "start_time": "2020-09-02T20:45:33.872425Z"
    },
    "execution": {
     "iopub.execute_input": "2020-09-04T07:03:05.376909Z",
     "iopub.status.busy": "2020-09-04T07:03:05.376363Z",
     "iopub.status.idle": "2020-09-04T07:03:06.890045Z",
     "shell.execute_reply": "2020-09-04T07:03:06.889444Z"
    },
    "papermill": {
     "duration": 1.528666,
     "end_time": "2020-09-04T07:03:06.890170",
     "exception": false,
     "start_time": "2020-09-04T07:03:05.361504",
     "status": "completed"
    },
    "tags": []
   },
   "outputs": [],
   "source": [
    "%matplotlib inline\n",
    "from datetime import datetime\n",
    "import logging\n",
    "import warnings\n",
    "warnings.simplefilter(action='ignore', category=FutureWarning)\n",
    "\n",
    "import pandas as pd\n",
    "import matplotlib.pyplot as plt\n",
    "import matplotlib.ticker as mticker\n",
    "plt.style.use('bmh')\n",
    "\n",
    "from vivace.backtest import signal\n",
    "from vivace.backtest import processing\n",
    "from vivace.backtest.contract import InstrumentDef\n",
    "from vivace.backtest.engine import BacktestEngine\n",
    "from vivace.backtest.enums import Strategy, Weighting\n",
    "from vivace.backtest.stats import Performance, PerfStats"
   ]
  },
  {
   "cell_type": "markdown",
   "metadata": {
    "papermill": {
     "duration": 0.008423,
     "end_time": "2020-09-04T07:03:06.907463",
     "exception": false,
     "start_time": "2020-09-04T07:03:06.899040",
     "status": "completed"
    },
    "tags": []
   },
   "source": [
    "# Performance\n",
    "## Run backtest\n",
    "\n",
    "The `engine` instance below implements a FX carry backtest using FX futures listed on CME. Currencies used in the backtest are EUR, JPY, GBP, CAD, AUD and NZD. Carry is defined as\n",
    "$$\n",
    "Carry_t = {\\rm log} \\left( \\frac{F_{1, t}}{F_{2, t}} \\right) \\cdot annualisationFactor\n",
    "$$\n",
    "where $F_{1, t}$ is the 1st contract price, $F_{2, t}$ is the 2nd contract price and $annualisationFactor$ is  4 as futures contracts are rolled quarterly to make sure we have prices for both 1st and 2nd contracts on a given day.\n",
    "\n",
    "The backtest always invests in the front contract and hence the formula above is not technically measuring the carry associated with invested contracts. On the other hand, this can alleviate the issue of potentially using asynchronous prices (settle prices are used to calculate carry) and as long as futures curve is close to linear, it should provide a gooe approximation of carry.\n",
    "\n",
    "Once instruments are ranked by the $Carry$, it goes long top 33% (i.e., 2 instruments at max) and short bottom 33%. Positions are adjusted on a monthly basis."
   ]
  },
  {
   "cell_type": "markdown",
   "metadata": {
    "tags": [
     "papermill-error-cell-tag"
    ]
   },
   "source": [
    "<span id=\"papermill-error-cell\" style=\"color:red; font-family:Helvetica Neue, Helvetica, Arial, sans-serif; font-size:2em;\">Execution using papermill encountered an exception here and stopped:</span>"
   ]
  },
  {
   "cell_type": "code",
   "execution_count": 2,
   "metadata": {
    "ExecuteTime": {
     "end_time": "2020-09-02T20:46:27.102769Z",
     "start_time": "2020-09-02T20:45:34.676982Z"
    },
    "execution": {
     "iopub.execute_input": "2020-09-04T07:03:06.929155Z",
     "iopub.status.busy": "2020-09-04T07:03:06.928586Z",
     "iopub.status.idle": "2020-09-04T07:03:07.070689Z",
     "shell.execute_reply": "2020-09-04T07:03:07.069786Z"
    },
    "papermill": {
     "duration": 0.155049,
     "end_time": "2020-09-04T07:03:07.070860",
     "exception": true,
     "start_time": "2020-09-04T07:03:06.915811",
     "status": "failed"
    },
    "tags": []
   },
   "outputs": [
    {
     "ename": "TypeError",
     "evalue": "__init__() got an unexpected keyword argument 'contract_months'",
     "output_type": "error",
     "traceback": [
      "\u001b[0;31m---------------------------------------------------------------------------\u001b[0m",
      "\u001b[0;31mTypeError\u001b[0m                                 Traceback (most recent call last)",
      "\u001b[0;32m<ipython-input-2-1291748a1def>\u001b[0m in \u001b[0;36m<module>\u001b[0;34m\u001b[0m\n\u001b[1;32m      1\u001b[0m engine = BacktestEngine(\n\u001b[1;32m      2\u001b[0m     \u001b[0mstrategy\u001b[0m\u001b[0;34m=\u001b[0m\u001b[0mStrategy\u001b[0m\u001b[0;34m.\u001b[0m\u001b[0mDELTA_ONE\u001b[0m\u001b[0;34m.\u001b[0m\u001b[0mvalue\u001b[0m\u001b[0;34m,\u001b[0m\u001b[0;34m\u001b[0m\u001b[0;34m\u001b[0m\u001b[0m\n\u001b[0;32m----> 3\u001b[0;31m     instrument=[InstrumentDef(i, contract_months=(3, 6, 9, 12)) \n\u001b[0m\u001b[1;32m      4\u001b[0m                 for i in ['EC', 'JY', 'BP', 'CD', 'AD', 'ZB']],\n\u001b[1;32m      5\u001b[0m     \u001b[0msignal\u001b[0m\u001b[0;34m=\u001b[0m\u001b[0msignal\u001b[0m\u001b[0;34m.\u001b[0m\u001b[0mXSCarryFutureFuture\u001b[0m\u001b[0;34m(\u001b[0m\u001b[0;34m)\u001b[0m\u001b[0;34m,\u001b[0m\u001b[0;34m\u001b[0m\u001b[0;34m\u001b[0m\u001b[0m\n",
      "\u001b[0;32m<ipython-input-2-1291748a1def>\u001b[0m in \u001b[0;36m<listcomp>\u001b[0;34m(.0)\u001b[0m\n\u001b[1;32m      1\u001b[0m engine = BacktestEngine(\n\u001b[1;32m      2\u001b[0m     \u001b[0mstrategy\u001b[0m\u001b[0;34m=\u001b[0m\u001b[0mStrategy\u001b[0m\u001b[0;34m.\u001b[0m\u001b[0mDELTA_ONE\u001b[0m\u001b[0;34m.\u001b[0m\u001b[0mvalue\u001b[0m\u001b[0;34m,\u001b[0m\u001b[0;34m\u001b[0m\u001b[0;34m\u001b[0m\u001b[0m\n\u001b[0;32m----> 3\u001b[0;31m     instrument=[InstrumentDef(i, contract_months=(3, 6, 9, 12)) \n\u001b[0m\u001b[1;32m      4\u001b[0m                 for i in ['EC', 'JY', 'BP', 'CD', 'AD', 'ZB']],\n\u001b[1;32m      5\u001b[0m     \u001b[0msignal\u001b[0m\u001b[0;34m=\u001b[0m\u001b[0msignal\u001b[0m\u001b[0;34m.\u001b[0m\u001b[0mXSCarryFutureFuture\u001b[0m\u001b[0;34m(\u001b[0m\u001b[0;34m)\u001b[0m\u001b[0;34m,\u001b[0m\u001b[0;34m\u001b[0m\u001b[0;34m\u001b[0m\u001b[0m\n",
      "\u001b[0;31mTypeError\u001b[0m: __init__() got an unexpected keyword argument 'contract_months'"
     ]
    }
   ],
   "source": [
    "engine = BacktestEngine(\n",
    "    strategy=Strategy.DELTA_ONE.value,\n",
    "    instrument=[InstrumentDef(i, contract_months=(3, 6, 9, 12)) \n",
    "                for i in ['EC', 'JY', 'BP', 'CD', 'AD', 'ZB']],\n",
    "    signal=signal.XSCarryFutureFuture(),\n",
    "    log_level=logging.WARN,\n",
    ")\n",
    "engine.run()"
   ]
  },
  {
   "cell_type": "code",
   "execution_count": null,
   "metadata": {
    "ExecuteTime": {
     "end_time": "2020-09-02T20:46:34.857104Z",
     "start_time": "2020-09-02T20:46:27.104071Z"
    },
    "papermill": {
     "duration": null,
     "end_time": null,
     "exception": null,
     "start_time": null,
     "status": "pending"
    },
    "tags": []
   },
   "outputs": [],
   "source": [
    "portfolio_return = (engine.calculate_equity_curve(calculate_net=False)\n",
    "                    .rename('FX carry portfoliot'))"
   ]
  },
  {
   "cell_type": "code",
   "execution_count": null,
   "metadata": {
    "ExecuteTime": {
     "end_time": "2020-09-02T20:46:35.174240Z",
     "start_time": "2020-09-02T20:46:34.858204Z"
    },
    "papermill": {
     "duration": null,
     "end_time": null,
     "exception": null,
     "start_time": null,
     "status": "pending"
    },
    "tags": []
   },
   "outputs": [],
   "source": [
    "fig, ax = plt.subplots(figsize=(8, 4.5))\n",
    "portfolio_return.plot(ax=ax, logy=True);\n",
    "ax.set_title('FX carry portfolio')\n",
    "ax.set_ylabel('Cumulative returns');"
   ]
  },
  {
   "cell_type": "code",
   "execution_count": null,
   "metadata": {
    "ExecuteTime": {
     "end_time": "2020-09-02T20:34:29.709612Z",
     "start_time": "2020-09-02T20:34:29.435887Z"
    },
    "papermill": {
     "duration": null,
     "end_time": null,
     "exception": null,
     "start_time": null,
     "status": "pending"
    },
    "tags": []
   },
   "outputs": [],
   "source": [
    "portfolio_return.pipe(Performance).summary()"
   ]
  },
  {
   "cell_type": "markdown",
   "metadata": {
    "papermill": {
     "duration": null,
     "end_time": null,
     "exception": null,
     "start_time": null,
     "status": "pending"
    },
    "tags": []
   },
   "source": [
    "## Recent performance"
   ]
  },
  {
   "cell_type": "code",
   "execution_count": null,
   "metadata": {
    "ExecuteTime": {
     "end_time": "2020-09-02T20:50:28.774469Z",
     "start_time": "2020-09-02T20:50:28.508223Z"
    },
    "papermill": {
     "duration": null,
     "end_time": null,
     "exception": null,
     "start_time": null,
     "status": "pending"
    },
    "tags": []
   },
   "outputs": [],
   "source": [
    "fig, ax = plt.subplots(figsize=(8, 4.5))\n",
    "portfolio_return.tail(252 * 2).plot(ax=ax, logy=True);\n",
    "ax.set_title('FX carry portfolio')\n",
    "ax.set_ylabel('Cumulative returns');"
   ]
  },
  {
   "cell_type": "markdown",
   "metadata": {
    "papermill": {
     "duration": null,
     "end_time": null,
     "exception": null,
     "start_time": null,
     "status": "pending"
    },
    "tags": []
   },
   "source": [
    "## Carry\n",
    "As can be seen below, carry dispersion in developed market is shrunk significantly recently which explains the weak performance of fx carry trade."
   ]
  },
  {
   "cell_type": "code",
   "execution_count": null,
   "metadata": {
    "ExecuteTime": {
     "end_time": "2020-09-02T20:51:09.416976Z",
     "start_time": "2020-09-02T20:51:09.113780Z"
    },
    "papermill": {
     "duration": null,
     "end_time": null,
     "exception": null,
     "start_time": null,
     "status": "pending"
    },
    "tags": []
   },
   "outputs": [],
   "source": [
    "fig, ax = plt.subplots(figsize=(14, 5))\n",
    "engine.pipeline.pipeline[0].carry.asfreq('m', method='pad').plot(ax=ax)\n",
    "ax.yaxis.set_major_formatter(mticker.PercentFormatter(1, decimals=0))\n",
    "ax.axhline(0, color='black', lw=1, ls='--')\n",
    "ax.set_ylabel('Annualised carry')\n",
    "ax.set_title('Annualised carry vs USD');"
   ]
  },
  {
   "cell_type": "markdown",
   "metadata": {
    "papermill": {
     "duration": null,
     "end_time": null,
     "exception": null,
     "start_time": null,
     "status": "pending"
    },
    "tags": []
   },
   "source": [
    "# Reference\n",
    "\n",
    "- Deutsche Bank, 2009, db Currency Return.\n",
    "- Koijen, R.S., Moskowitz, T.J., Pedersen, L.H. and Vrugt, E.B., 2018. Carry. Journal of Financial Economics, 127(2), pp.197-225."
   ]
  },
  {
   "cell_type": "code",
   "execution_count": null,
   "metadata": {
    "ExecuteTime": {
     "end_time": "2020-08-30T21:10:44.739545Z",
     "start_time": "2020-08-30T21:10:44.736784Z"
    },
    "papermill": {
     "duration": null,
     "end_time": null,
     "exception": null,
     "start_time": null,
     "status": "pending"
    },
    "tags": []
   },
   "outputs": [],
   "source": [
    "print(f'Updated: {datetime.utcnow().strftime(\"%d-%b-%Y %H:%M\")}')"
   ]
  }
 ],
 "metadata": {
  "kernelspec": {
   "display_name": "Python 3",
   "language": "python",
   "name": "python3"
  },
  "language_info": {
   "codemirror_mode": {
    "name": "ipython",
    "version": 3
   },
   "file_extension": ".py",
   "mimetype": "text/x-python",
   "name": "python",
   "nbconvert_exporter": "python",
   "pygments_lexer": "ipython3",
   "version": "3.8.2"
  },
  "papermill": {
   "duration": 3.135244,
   "end_time": "2020-09-04T07:03:07.585662",
   "environment_variables": {},
   "exception": true,
   "input_path": "notebooks/papermill/fx_carry.ipynb",
   "output_path": "notebooks/fx_carry.ipynb",
   "parameters": {},
   "start_time": "2020-09-04T07:03:04.450418",
   "version": "2.1.3"
  },
  "toc": {
   "base_numbering": 1,
   "nav_menu": {},
   "number_sections": true,
   "sideBar": true,
   "skip_h1_title": false,
   "title_cell": "Table of Contents",
   "title_sidebar": "Contents",
   "toc_cell": true,
   "toc_position": {
    "height": "calc(100% - 180px)",
    "left": "10px",
    "top": "150px",
    "width": "165px"
   },
   "toc_section_display": true,
   "toc_window_display": true
  }
 },
 "nbformat": 4,
 "nbformat_minor": 4
}