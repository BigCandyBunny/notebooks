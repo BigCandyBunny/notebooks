{
 "cells": [
  {
   "cell_type": "markdown",
   "metadata": {
    "papermill": {
     "duration": 0.008889,
     "end_time": "2020-08-31T07:36:47.446318",
     "exception": false,
     "start_time": "2020-08-31T07:36:47.437429",
     "status": "completed"
    },
    "tags": [],
    "toc": true
   },
   "source": [
    "<h1>Table of Contents<span class=\"tocSkip\"></span></h1>\n",
    "<div class=\"toc\"><ul class=\"toc-item\"><li><span><a href=\"#FX-Carry\" data-toc-modified-id=\"FX-Carry-1\"><span class=\"toc-item-num\">1&nbsp;&nbsp;</span>FX Carry</a></span></li><li><span><a href=\"#Performance\" data-toc-modified-id=\"Performance-2\"><span class=\"toc-item-num\">2&nbsp;&nbsp;</span>Performance</a></span><ul class=\"toc-item\"><li><span><a href=\"#Run-backtest\" data-toc-modified-id=\"Run-backtest-2.1\"><span class=\"toc-item-num\">2.1&nbsp;&nbsp;</span>Run backtest</a></span></li><li><span><a href=\"#Recent-performance\" data-toc-modified-id=\"Recent-performance-2.2\"><span class=\"toc-item-num\">2.2&nbsp;&nbsp;</span>Recent performance</a></span></li></ul></li><li><span><a href=\"#Reference\" data-toc-modified-id=\"Reference-3\"><span class=\"toc-item-num\">3&nbsp;&nbsp;</span>Reference</a></span></li></ul></div>"
   ]
  },
  {
   "cell_type": "markdown",
   "metadata": {
    "papermill": {
     "duration": 0.0073,
     "end_time": "2020-08-31T07:36:47.461824",
     "exception": false,
     "start_time": "2020-08-31T07:36:47.454524",
     "status": "completed"
    },
    "tags": []
   },
   "source": [
    "# FX Carry\n",
    "\n",
    "This notebook analyses the FX carry trade (aka forward premium anomaly) where we long high-yielding currencies against low-yielding ones. The uncovered interest rate parity (UIP) suggests that higher-yielding currencies should depreciate on average to offset the benefit of higher interest rates. Empirically however that those currencies tended to weaken much less (or even appreciate) than what the UIP predicts. The FX carry strategy tries to exploit this phenomenon by creating a long-short portfolio in the FX market."
   ]
  },
  {
   "cell_type": "code",
   "execution_count": 1,
   "metadata": {
    "ExecuteTime": {
     "end_time": "2020-08-30T21:09:19.419896Z",
     "start_time": "2020-08-30T21:09:19.414357Z"
    },
    "execution": {
     "iopub.execute_input": "2020-08-31T07:36:47.483172Z",
     "iopub.status.busy": "2020-08-31T07:36:47.482642Z",
     "iopub.status.idle": "2020-08-31T07:36:48.920083Z",
     "shell.execute_reply": "2020-08-31T07:36:48.919512Z"
    },
    "papermill": {
     "duration": 1.451035,
     "end_time": "2020-08-31T07:36:48.920210",
     "exception": false,
     "start_time": "2020-08-31T07:36:47.469175",
     "status": "completed"
    },
    "tags": []
   },
   "outputs": [],
   "source": [
    "%matplotlib inline\n",
    "from datetime import datetime\n",
    "import logging\n",
    "import warnings\n",
    "warnings.simplefilter(action='ignore', category=FutureWarning)\n",
    "\n",
    "import pandas as pd\n",
    "import matplotlib.pyplot as plt\n",
    "plt.style.use('bmh')\n",
    "\n",
    "from vivace.backtest import signal\n",
    "from vivace.backtest import processing\n",
    "from vivace.backtest.engine import BacktestEngine\n",
    "from vivace.backtest.enums import Strategy, Weighting\n",
    "from vivace.backtest.stats import Performance, PerfStats"
   ]
  },
  {
   "cell_type": "markdown",
   "metadata": {
    "papermill": {
     "duration": 0.007514,
     "end_time": "2020-08-31T07:36:48.935621",
     "exception": false,
     "start_time": "2020-08-31T07:36:48.928107",
     "status": "completed"
    },
    "tags": []
   },
   "source": [
    "# Performance\n",
    "## Run backtest\n",
    "\n",
    "The `engine` instance below implements a FX carry backtest using FX futures listed on CME. Currencies used in the backtest are EUR, JPY, GBP, CAD, AUD and NZD. Carry is defined as\n",
    "$$\n",
    "Carry_t = \\frac{F_{1, t} - F_{2, t}}{annualisationFactor}\n",
    "$$\n",
    "where $F_{1, t}$ is the 1st contract price, $F_{2, t}$ is the 2nd contract price and $annualisationFactor$ is 12 or 4 if futures are monthly or quarterly respectively to make the price spread annual.\n",
    "\n",
    "The backtest always invests in the front contract and hence the formula above is not technically measuring the carry associated with invested contracts. On the other hand, this can alleviate the issue of potentially using asynchronous prices (settle prices are used to calculate carry) and as long as futures curve is close to linear, it should provide a gooe measure of carry."
   ]
  },
  {
   "cell_type": "code",
   "execution_count": 2,
   "metadata": {
    "ExecuteTime": {
     "end_time": "2020-08-30T21:10:33.913505Z",
     "start_time": "2020-08-30T21:09:19.421048Z"
    },
    "execution": {
     "iopub.execute_input": "2020-08-31T07:36:48.955228Z",
     "iopub.status.busy": "2020-08-31T07:36:48.954701Z",
     "iopub.status.idle": "2020-08-31T07:38:02.648379Z",
     "shell.execute_reply": "2020-08-31T07:38:02.647826Z"
    },
    "papermill": {
     "duration": 73.705362,
     "end_time": "2020-08-31T07:38:02.648495",
     "exception": false,
     "start_time": "2020-08-31T07:36:48.943133",
     "status": "completed"
    },
    "tags": []
   },
   "outputs": [],
   "source": [
    "engine = BacktestEngine(\n",
    "    strategy=Strategy.DELTA_ONE.value,\n",
    "    instrument=['EC', 'JY', 'BP', 'CD', 'AD', 'ZB'],\n",
    "    signal=signal.XSCarryFutureFuture(),\n",
    "    log_level=logging.WARN,\n",
    ")\n",
    "engine.run()"
   ]
  },
  {
   "cell_type": "code",
   "execution_count": 3,
   "metadata": {
    "ExecuteTime": {
     "end_time": "2020-08-30T21:10:43.913848Z",
     "start_time": "2020-08-30T21:10:33.914755Z"
    },
    "execution": {
     "iopub.execute_input": "2020-08-31T07:38:02.786797Z",
     "iopub.status.busy": "2020-08-31T07:38:02.684322Z",
     "iopub.status.idle": "2020-08-31T07:38:13.322629Z",
     "shell.execute_reply": "2020-08-31T07:38:13.323046Z"
    },
    "papermill": {
     "duration": 10.666713,
     "end_time": "2020-08-31T07:38:13.323190",
     "exception": false,
     "start_time": "2020-08-31T07:38:02.656477",
     "status": "completed"
    },
    "tags": []
   },
   "outputs": [],
   "source": [
    "portfolio_return = (engine.calculate_equity_curve(calculate_net=False)\n",
    "                    .rename('FX carry portfoliot'))"
   ]
  },
  {
   "cell_type": "code",
   "execution_count": 4,
   "metadata": {
    "ExecuteTime": {
     "end_time": "2020-08-30T21:10:44.199957Z",
     "start_time": "2020-08-30T21:10:43.915248Z"
    },
    "execution": {
     "iopub.execute_input": "2020-08-31T07:38:13.360112Z",
     "iopub.status.busy": "2020-08-31T07:38:13.359577Z",
     "iopub.status.idle": "2020-08-31T07:38:13.763943Z",
     "shell.execute_reply": "2020-08-31T07:38:13.764375Z"
    },
    "papermill": {
     "duration": 0.433302,
     "end_time": "2020-08-31T07:38:13.764513",
     "exception": false,
     "start_time": "2020-08-31T07:38:13.331211",
     "status": "completed"
    },
    "tags": []
   },
   "outputs": [
    {
     "data": {
      "image/png": "[encoded data removed]",
      "text/plain": [
       "<Figure size 576x324 with 1 Axes>"
      ]
     },
     "metadata": {
      "needs_background": "light"
     },
     "output_type": "display_data"
    }
   ],
   "source": [
    "fig, ax = plt.subplots(figsize=(8, 4.5))\n",
    "portfolio_return.plot(ax=ax, logy=True);\n",
    "ax.set_title('FX carry portfolio')\n",
    "ax.set_ylabel('Cumulative returns');"
   ]
  },
  {
   "cell_type": "code",
   "execution_count": 5,
   "metadata": {
    "ExecuteTime": {
     "end_time": "2020-08-30T21:10:44.453686Z",
     "start_time": "2020-08-30T21:10:44.201646Z"
    },
    "execution": {
     "iopub.execute_input": "2020-08-31T07:38:13.786176Z",
     "iopub.status.busy": "2020-08-31T07:38:13.785657Z",
     "iopub.status.idle": "2020-08-31T07:38:14.007485Z",
     "shell.execute_reply": "2020-08-31T07:38:14.006997Z"
    },
    "papermill": {
     "duration": 0.234054,
     "end_time": "2020-08-31T07:38:14.007600",
     "exception": false,
     "start_time": "2020-08-31T07:38:13.773546",
     "status": "completed"
    },
    "tags": []
   },
   "outputs": [
    {
     "data": {
      "text/html": [
       "<div>\n",
       "<style scoped>\n",
       "    .dataframe tbody tr th:only-of-type {\n",
       "        vertical-align: middle;\n",
       "    }\n",
       "\n",
       "    .dataframe tbody tr th {\n",
       "        vertical-align: top;\n",
       "    }\n",
       "\n",
       "    .dataframe thead th {\n",
       "        text-align: right;\n",
       "    }\n",
       "</style>\n",
       "<table border=\"1\" class=\"dataframe\">\n",
       "  <thead>\n",
       "    <tr style=\"text-align: right;\">\n",
       "      <th></th>\n",
       "      <th>FX carry portfoliot</th>\n",
       "    </tr>\n",
       "  </thead>\n",
       "  <tbody>\n",
       "    <tr>\n",
       "      <th>annualised return</th>\n",
       "      <td>0.041164</td>\n",
       "    </tr>\n",
       "    <tr>\n",
       "      <th>annualised vol</th>\n",
       "      <td>0.109273</td>\n",
       "    </tr>\n",
       "    <tr>\n",
       "      <th>Sharpe ratio</th>\n",
       "      <td>0.376704</td>\n",
       "    </tr>\n",
       "    <tr>\n",
       "      <th>max drawdown</th>\n",
       "      <td>0.470048</td>\n",
       "    </tr>\n",
       "    <tr>\n",
       "      <th>Calmar ratio</th>\n",
       "      <td>0.087573</td>\n",
       "    </tr>\n",
       "    <tr>\n",
       "      <th>skewness</th>\n",
       "      <td>-0.464787</td>\n",
       "    </tr>\n",
       "    <tr>\n",
       "      <th>kurtosis</th>\n",
       "      <td>7.527768</td>\n",
       "    </tr>\n",
       "    <tr>\n",
       "      <th>worst return</th>\n",
       "      <td>-0.091076</td>\n",
       "    </tr>\n",
       "    <tr>\n",
       "      <th>worst 1d return</th>\n",
       "      <td>-0.091076</td>\n",
       "    </tr>\n",
       "    <tr>\n",
       "      <th>worst 1w return</th>\n",
       "      <td>-0.114315</td>\n",
       "    </tr>\n",
       "    <tr>\n",
       "      <th>worst 1m return</th>\n",
       "      <td>-0.125683</td>\n",
       "    </tr>\n",
       "  </tbody>\n",
       "</table>\n",
       "</div>"
      ],
      "text/plain": [
       "                   FX carry portfoliot\n",
       "annualised return             0.041164\n",
       "annualised vol                0.109273\n",
       "Sharpe ratio                  0.376704\n",
       "max drawdown                  0.470048\n",
       "Calmar ratio                  0.087573\n",
       "skewness                     -0.464787\n",
       "kurtosis                      7.527768\n",
       "worst return                 -0.091076\n",
       "worst 1d return              -0.091076\n",
       "worst 1w return              -0.114315\n",
       "worst 1m return              -0.125683"
      ]
     },
     "execution_count": 5,
     "metadata": {},
     "output_type": "execute_result"
    }
   ],
   "source": [
    "portfolio_return.pipe(Performance).summary()"
   ]
  },
  {
   "cell_type": "markdown",
   "metadata": {
    "papermill": {
     "duration": 0.009442,
     "end_time": "2020-08-31T07:38:14.027501",
     "exception": false,
     "start_time": "2020-08-31T07:38:14.018059",
     "status": "completed"
    },
    "tags": []
   },
   "source": [
    "## Recent performance"
   ]
  },
  {
   "cell_type": "code",
   "execution_count": 6,
   "metadata": {
    "ExecuteTime": {
     "end_time": "2020-08-30T21:10:44.735473Z",
     "start_time": "2020-08-30T21:10:44.454866Z"
    },
    "execution": {
     "iopub.execute_input": "2020-08-31T07:38:14.078706Z",
     "iopub.status.busy": "2020-08-31T07:38:14.078152Z",
     "iopub.status.idle": "2020-08-31T07:38:14.481264Z",
     "shell.execute_reply": "2020-08-31T07:38:14.480815Z"
    },
    "papermill": {
     "duration": 0.444371,
     "end_time": "2020-08-31T07:38:14.481382",
     "exception": false,
     "start_time": "2020-08-31T07:38:14.037011",
     "status": "completed"
    },
    "tags": []
   },
   "outputs": [
    {
     "data": {
      "image/png": "[encoded data removed]",
      "text/plain": [
       "<Figure size 576x324 with 1 Axes>"
      ]
     },
     "metadata": {
      "needs_background": "light"
     },
     "output_type": "display_data"
    }
   ],
   "source": [
    "fig, ax = plt.subplots(figsize=(8, 4.5))\n",
    "portfolio_return.tail(252 * 2).plot(ax=ax, logy=True);\n",
    "ax.set_title('FX carry portfolio')\n",
    "ax.set_ylabel('Cumulative returns');"
   ]
  },
  {
   "cell_type": "markdown",
   "metadata": {
    "papermill": {
     "duration": 0.010725,
     "end_time": "2020-08-31T07:38:14.503138",
     "exception": false,
     "start_time": "2020-08-31T07:38:14.492413",
     "status": "completed"
    },
    "tags": []
   },
   "source": [
    "# Reference\n",
    "\n",
    "- Deutsche Bank, 2009, db Currency Return.\n",
    "- Koijen, R.S., Moskowitz, T.J., Pedersen, L.H. and Vrugt, E.B., 2018. Carry. Journal of Financial Economics, 127(2), pp.197-225."
   ]
  },
  {
   "cell_type": "code",
   "execution_count": 7,
   "metadata": {
    "ExecuteTime": {
     "end_time": "2020-08-30T21:10:44.739545Z",
     "start_time": "2020-08-30T21:10:44.736784Z"
    },
    "execution": {
     "iopub.execute_input": "2020-08-31T07:38:14.527863Z",
     "iopub.status.busy": "2020-08-31T07:38:14.527342Z",
     "iopub.status.idle": "2020-08-31T07:38:14.529640Z",
     "shell.execute_reply": "2020-08-31T07:38:14.530048Z"
    },
    "papermill": {
     "duration": 0.016263,
     "end_time": "2020-08-31T07:38:14.530173",
     "exception": false,
     "start_time": "2020-08-31T07:38:14.513910",
     "status": "completed"
    },
    "tags": []
   },
   "outputs": [
    {
     "name": "stdout",
     "output_type": "stream",
     "text": [
      "Updated: 31-Aug-2020 07:38\n"
     ]
    }
   ],
   "source": [
    "print(f'Updated: {datetime.utcnow().strftime(\"%d-%b-%Y %H:%M\")}')"
   ]
  }
 ],
 "metadata": {
  "kernelspec": {
   "display_name": "Python 3",
   "language": "python",
   "name": "python3"
  },
  "language_info": {
   "codemirror_mode": {
    "name": "ipython",
    "version": 3
   },
   "file_extension": ".py",
   "mimetype": "text/x-python",
   "name": "python",
   "nbconvert_exporter": "python",
   "pygments_lexer": "ipython3",
   "version": "3.8.2"
  },
  "papermill": {
   "duration": 88.79672,
   "end_time": "2020-08-31T07:38:15.348465",
   "environment_variables": {},
   "exception": null,
   "input_path": "notebooks/papermill/fx_carry.ipynb",
   "output_path": "notebooks/fx_carry.ipynb",
   "parameters": {},
   "start_time": "2020-08-31T07:36:46.551745",
   "version": "2.1.3"
  },
  "toc": {
   "base_numbering": 1,
   "nav_menu": {},
   "number_sections": true,
   "sideBar": true,
   "skip_h1_title": false,
   "title_cell": "Table of Contents",
   "title_sidebar": "Contents",
   "toc_cell": true,
   "toc_position": {
    "height": "calc(100% - 180px)",
    "left": "10px",
    "top": "150px",
    "width": "165px"
   },
   "toc_section_display": true,
   "toc_window_display": true
  }
 },
 "nbformat": 4,
 "nbformat_minor": 4
}