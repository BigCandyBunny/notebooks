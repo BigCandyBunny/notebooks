{
 "cells": [
  {
   "cell_type": "markdown",
   "metadata": {
    "_uuid": "56f3c3499260fe04c9d0c6535f59ea3320b8c987",
    "collapsed": true
   },
   "source": [
    "Please go through Giba's post and kernel  to underrstand what this leak is all about\n",
    "https://www.kaggle.com/titericz/the-property-by-giba (kernel)\n",
    "https://www.kaggle.com/c/santander-value-prediction-challenge/discussion/61329 (post)\n",
    "\n",
    "Also, go through this Jiazhen's kernel which finds more columns to exploit leak\n",
    "https://www.kaggle.com/johnfarrell/giba-s-property-extended-result\n",
    "\n",
    "I just exploit data property in brute force way and then fill in remaining by row non zero means! This should bring everyone on level-playing field.\n",
    "\n",
    "**Let the competition begin! :D**"
   ]
  },
  {
   "cell_type": "code",
   "execution_count": 1,
   "metadata": {
    "ExecuteTime": {
     "end_time": "2018-07-29T09:59:05.319842Z",
     "start_time": "2018-07-29T09:59:04.563792Z"
    },
    "_cell_guid": "b1076dfc-b9ad-4769-8c92-a6c4dae69d19",
    "_uuid": "8f2839f25d086af736a60e9eeb907d3b93b6e0e5"
   },
   "outputs": [],
   "source": [
    "import numpy as np # linear algebra\n",
    "import pandas as pd # data processing, CSV file I/O (e.g. pd.read_csv)\n",
    "import os\n",
    "from os.path import join\n",
    "\n",
    "from sklearn.metrics import mean_squared_error\n",
    "\n",
    "import matplotlib.pyplot as plt\n",
    "\n",
    "from tqdm import tqdm, tqdm_notebook\n",
    "tqdm.pandas(tqdm_notebook)\n",
    "# Any results you write to the current directory are saved as output."
   ]
  },
  {
   "cell_type": "code",
   "execution_count": 2,
   "metadata": {
    "ExecuteTime": {
     "end_time": "2018-07-29T09:59:55.666535Z",
     "start_time": "2018-07-29T09:59:05.319842Z"
    }
   },
   "outputs": [],
   "source": [
    "input_dir = join(os.getcwd())\n",
    "train = pd.read_csv(join(input_dir, 'train.csv'))\n",
    "test = pd.read_csv(join(input_dir, 'test.csv'))"
   ]
  },
  {
   "cell_type": "code",
   "execution_count": 3,
   "metadata": {
    "ExecuteTime": {
     "end_time": "2018-07-29T09:59:55.693557Z",
     "start_time": "2018-07-29T09:59:55.666535Z"
    },
    "_uuid": "dc37a766646b5993cef0bc87ad6882728dd20cb2"
   },
   "outputs": [],
   "source": [
    "transact_cols = [f for f in train.columns if f not in [\"ID\", \"target\"]]\n",
    "y = np.log1p(train[\"target\"]).values"
   ]
  },
  {
   "cell_type": "code",
   "execution_count": 4,
   "metadata": {
    "ExecuteTime": {
     "end_time": "2018-07-29T09:59:55.709484Z",
     "start_time": "2018-07-29T09:59:55.697510Z"
    }
   },
   "outputs": [],
   "source": [
    "test[\"target\"] = train[\"target\"].mean()"
   ]
  },
  {
   "cell_type": "markdown",
   "metadata": {},
   "source": [
    "# get all leak columns"
   ]
  },
  {
   "cell_type": "code",
   "execution_count": 7,
   "metadata": {
    "ExecuteTime": {
     "end_time": "2018-07-29T10:04:46.766859Z",
     "start_time": "2018-07-29T10:04:46.704022Z"
    },
    "_uuid": "d61c75092518f50a879e9e3d5883ab752f73912b"
   },
   "outputs": [],
   "source": [
    "def _get_leak(df, cols, lag=0):\n",
    "    d1 = df[cols[:-lag - 2]].apply(tuple, axis=1).to_frame().rename(columns={0: 'key'})\n",
    "    d2 = df[cols[lag + 2:]].apply(tuple, axis=1).to_frame().rename(columns={0: 'key'})\n",
    "    d2['pred'] = df[cols[lag]]\n",
    "    d3 = d2[~d2.duplicated(['key'], keep=False)]\n",
    "    return d1.merge(d3, how='left', on='key').pred.fillna(0)\n",
    "\n",
    "def get_all_leak(cols=None, nlags=15):\n",
    "    \"\"\"\n",
    "    We just recursively fetch target value for different lags\n",
    "    \"\"\"\n",
    "    print('number of columns = {}'.format(len(cols)))\n",
    "    print('used columns = {}'.format(cols))\n",
    "    \n",
    "    df = pd.concat([train[[\"ID\", \"target\"] + cols], \n",
    "                    test[[\"ID\", \"target\"] + cols]]).reset_index(drop=True)\n",
    "    \n",
    "    for i in tqdm_notebook(range(nlags)):\n",
    "        df[\"leaked_target_\"+str(i)] = _get_leak(df, cols, i)\n",
    "        \n",
    "    leaky_cols = [\"leaked_target_{}\".format(i) for i in range(nlags)]\n",
    "    train_with_leaked = train.join(df.set_index(\"ID\")[leaky_cols], on=\"ID\", how=\"left\")\n",
    "    test_with_leaked = test.join(df.set_index(\"ID\")[leaky_cols], on=\"ID\", how=\"left\")\n",
    "    \n",
    "    return train_with_leaked, test_with_leaked"
   ]
  },
  {
   "cell_type": "markdown",
   "metadata": {
    "_uuid": "6dcfc4df1340c38bfeac43fd4d19ba2763b3b916"
   },
   "source": [
    "We take time series columns from [here](https://www.kaggle.com/johnfarrell/giba-s-property-extended-result)"
   ]
  },
  {
   "cell_type": "code",
   "execution_count": 8,
   "metadata": {
    "ExecuteTime": {
     "end_time": "2018-07-29T10:05:39.171478Z",
     "start_time": "2018-07-29T10:04:47.451626Z"
    }
   },
   "outputs": [
    {
     "name": "stdout",
     "output_type": "stream",
     "text": [
      "number of columns = 40\n",
      "used columns = ['f190486d6', '58e2e02e6', 'eeb9cd3aa', '9fd594eec', '6eef030c1', '15ace8c9f', 'fb0f5dbfe', '58e056e12', '20aa07010', '024c577b9', 'd6bb78916', 'b43a7cfd5', '58232a6fb', '1702b5bf0', '324921c7b', '62e59a501', '2ec5b290f', '241f0f867', 'fb49e4212', '66ace2992', 'f74e8f13d', '5c6487af1', '963a49cdc', '26fc93eb7', '1931ccfdd', '703885424', '70feb1494', '491b9ee45', '23310aa6f', 'e176a204a', '6619d81fc', '1db387535', 'fc99f9426', '91f701ba2', '0572565c2', '190db8488', 'adb64ff71', 'c47340d97', 'c5a231d81', '0ff32eb98']\n"
     ]
    },
    {
     "data": {
      "application/vnd.jupyter.widget-view+json": {
       "model_id": "738eb0c6faea4b4abbb92dafd0c3b43c",
       "version_major": 2,
       "version_minor": 0
      },
      "text/html": [
       "<p>Failed to display Jupyter Widget of type <code>HBox</code>.</p>\n",
       "<p>\n",
       "  If you're reading this message in the Jupyter Notebook or JupyterLab Notebook, it may mean\n",
       "  that the widgets JavaScript is still loading. If this message persists, it\n",
       "  likely means that the widgets JavaScript library is either not installed or\n",
       "  not enabled. See the <a href=\"https://ipywidgets.readthedocs.io/en/stable/user_install.html\">Jupyter\n",
       "  Widgets Documentation</a> for setup instructions.\n",
       "</p>\n",
       "<p>\n",
       "  If you're reading this message in another frontend (for example, a static\n",
       "  rendering on GitHub or <a href=\"https://nbviewer.jupyter.org/\">NBViewer</a>),\n",
       "  it may mean that your frontend doesn't currently support widgets.\n",
       "</p>\n"
      ],
      "text/plain": [
       "HBox(children=(IntProgress(value=0, max=25), HTML(value='')))"
      ]
     },
     "metadata": {},
     "output_type": "display_data"
    },
    {
     "name": "stdout",
     "output_type": "stream",
     "text": [
      "\n"
     ]
    }
   ],
   "source": [
    "train_leak1, test_leak1 = get_all_leak(\n",
    "    cols=['f190486d6', '58e2e02e6', 'eeb9cd3aa', '9fd594eec', '6eef030c1',\n",
    "          '15ace8c9f', 'fb0f5dbfe', '58e056e12', '20aa07010', '024c577b9',\n",
    "          'd6bb78916', 'b43a7cfd5', '58232a6fb', '1702b5bf0', '324921c7b', \n",
    "          '62e59a501', '2ec5b290f', '241f0f867', 'fb49e4212',  '66ace2992',\n",
    "          'f74e8f13d', '5c6487af1', '963a49cdc', '26fc93eb7', '1931ccfdd', \n",
    "          '703885424', '70feb1494', '491b9ee45', '23310aa6f', 'e176a204a',\n",
    "          '6619d81fc', '1db387535', 'fc99f9426', '91f701ba2',  '0572565c2',\n",
    "          '190db8488',  'adb64ff71', 'c47340d97', 'c5a231d81', '0ff32eb98'], \n",
    "    nlags=25\n",
    ")"
   ]
  },
  {
   "cell_type": "code",
   "execution_count": 9,
   "metadata": {
    "ExecuteTime": {
     "end_time": "2018-07-29T10:06:05.101469Z",
     "start_time": "2018-07-29T10:06:04.768978Z"
    }
   },
   "outputs": [
    {
     "data": {
      "text/html": [
       "<div>\n",
       "<style scoped>\n",
       "    .dataframe tbody tr th:only-of-type {\n",
       "        vertical-align: middle;\n",
       "    }\n",
       "\n",
       "    .dataframe tbody tr th {\n",
       "        vertical-align: top;\n",
       "    }\n",
       "\n",
       "    .dataframe thead th {\n",
       "        text-align: right;\n",
       "    }\n",
       "</style>\n",
       "<table border=\"1\" class=\"dataframe\">\n",
       "  <thead>\n",
       "    <tr style=\"text-align: right;\">\n",
       "      <th></th>\n",
       "      <th>target</th>\n",
       "      <th>leaked_target_0</th>\n",
       "      <th>leaked_target_1</th>\n",
       "      <th>leaked_target_2</th>\n",
       "      <th>leaked_target_3</th>\n",
       "      <th>leaked_target_4</th>\n",
       "      <th>leaked_target_5</th>\n",
       "      <th>leaked_target_6</th>\n",
       "      <th>leaked_target_7</th>\n",
       "      <th>leaked_target_8</th>\n",
       "      <th>...</th>\n",
       "      <th>leaked_target_15</th>\n",
       "      <th>leaked_target_16</th>\n",
       "      <th>leaked_target_17</th>\n",
       "      <th>leaked_target_18</th>\n",
       "      <th>leaked_target_19</th>\n",
       "      <th>leaked_target_20</th>\n",
       "      <th>leaked_target_21</th>\n",
       "      <th>leaked_target_22</th>\n",
       "      <th>leaked_target_23</th>\n",
       "      <th>leaked_target_24</th>\n",
       "    </tr>\n",
       "  </thead>\n",
       "  <tbody>\n",
       "    <tr>\n",
       "      <th>0</th>\n",
       "      <td>38000000.0</td>\n",
       "      <td>38000000.0</td>\n",
       "      <td>38000000.0</td>\n",
       "      <td>38000000.0</td>\n",
       "      <td>0.0</td>\n",
       "      <td>38000000.0</td>\n",
       "      <td>0.0</td>\n",
       "      <td>38000000.0</td>\n",
       "      <td>0.0</td>\n",
       "      <td>0.0</td>\n",
       "      <td>...</td>\n",
       "      <td>0.0</td>\n",
       "      <td>0.0</td>\n",
       "      <td>38000000.0</td>\n",
       "      <td>0.0</td>\n",
       "      <td>38000000.0</td>\n",
       "      <td>0.0</td>\n",
       "      <td>0.0</td>\n",
       "      <td>0.0</td>\n",
       "      <td>0.0</td>\n",
       "      <td>0.0</td>\n",
       "    </tr>\n",
       "    <tr>\n",
       "      <th>1</th>\n",
       "      <td>600000.0</td>\n",
       "      <td>600000.0</td>\n",
       "      <td>0.0</td>\n",
       "      <td>0.0</td>\n",
       "      <td>0.0</td>\n",
       "      <td>0.0</td>\n",
       "      <td>0.0</td>\n",
       "      <td>600000.0</td>\n",
       "      <td>0.0</td>\n",
       "      <td>600000.0</td>\n",
       "      <td>...</td>\n",
       "      <td>600000.0</td>\n",
       "      <td>0.0</td>\n",
       "      <td>0.0</td>\n",
       "      <td>0.0</td>\n",
       "      <td>0.0</td>\n",
       "      <td>0.0</td>\n",
       "      <td>0.0</td>\n",
       "      <td>0.0</td>\n",
       "      <td>0.0</td>\n",
       "      <td>0.0</td>\n",
       "    </tr>\n",
       "    <tr>\n",
       "      <th>2</th>\n",
       "      <td>10000000.0</td>\n",
       "      <td>0.0</td>\n",
       "      <td>0.0</td>\n",
       "      <td>0.0</td>\n",
       "      <td>0.0</td>\n",
       "      <td>0.0</td>\n",
       "      <td>0.0</td>\n",
       "      <td>0.0</td>\n",
       "      <td>0.0</td>\n",
       "      <td>0.0</td>\n",
       "      <td>...</td>\n",
       "      <td>0.0</td>\n",
       "      <td>0.0</td>\n",
       "      <td>0.0</td>\n",
       "      <td>0.0</td>\n",
       "      <td>0.0</td>\n",
       "      <td>0.0</td>\n",
       "      <td>0.0</td>\n",
       "      <td>0.0</td>\n",
       "      <td>0.0</td>\n",
       "      <td>0.0</td>\n",
       "    </tr>\n",
       "    <tr>\n",
       "      <th>3</th>\n",
       "      <td>2000000.0</td>\n",
       "      <td>0.0</td>\n",
       "      <td>0.0</td>\n",
       "      <td>0.0</td>\n",
       "      <td>0.0</td>\n",
       "      <td>0.0</td>\n",
       "      <td>0.0</td>\n",
       "      <td>0.0</td>\n",
       "      <td>0.0</td>\n",
       "      <td>0.0</td>\n",
       "      <td>...</td>\n",
       "      <td>0.0</td>\n",
       "      <td>0.0</td>\n",
       "      <td>0.0</td>\n",
       "      <td>0.0</td>\n",
       "      <td>0.0</td>\n",
       "      <td>0.0</td>\n",
       "      <td>0.0</td>\n",
       "      <td>0.0</td>\n",
       "      <td>0.0</td>\n",
       "      <td>0.0</td>\n",
       "    </tr>\n",
       "    <tr>\n",
       "      <th>4</th>\n",
       "      <td>14400000.0</td>\n",
       "      <td>0.0</td>\n",
       "      <td>0.0</td>\n",
       "      <td>0.0</td>\n",
       "      <td>0.0</td>\n",
       "      <td>0.0</td>\n",
       "      <td>0.0</td>\n",
       "      <td>0.0</td>\n",
       "      <td>0.0</td>\n",
       "      <td>0.0</td>\n",
       "      <td>...</td>\n",
       "      <td>0.0</td>\n",
       "      <td>0.0</td>\n",
       "      <td>0.0</td>\n",
       "      <td>0.0</td>\n",
       "      <td>0.0</td>\n",
       "      <td>0.0</td>\n",
       "      <td>0.0</td>\n",
       "      <td>0.0</td>\n",
       "      <td>0.0</td>\n",
       "      <td>0.0</td>\n",
       "    </tr>\n",
       "    <tr>\n",
       "      <th>5</th>\n",
       "      <td>2800000.0</td>\n",
       "      <td>0.0</td>\n",
       "      <td>0.0</td>\n",
       "      <td>0.0</td>\n",
       "      <td>2800000.0</td>\n",
       "      <td>0.0</td>\n",
       "      <td>0.0</td>\n",
       "      <td>0.0</td>\n",
       "      <td>2800000.0</td>\n",
       "      <td>0.0</td>\n",
       "      <td>...</td>\n",
       "      <td>2800000.0</td>\n",
       "      <td>0.0</td>\n",
       "      <td>0.0</td>\n",
       "      <td>0.0</td>\n",
       "      <td>2800000.0</td>\n",
       "      <td>0.0</td>\n",
       "      <td>2800000.0</td>\n",
       "      <td>2800000.0</td>\n",
       "      <td>0.0</td>\n",
       "      <td>0.0</td>\n",
       "    </tr>\n",
       "    <tr>\n",
       "      <th>6</th>\n",
       "      <td>164000.0</td>\n",
       "      <td>0.0</td>\n",
       "      <td>0.0</td>\n",
       "      <td>0.0</td>\n",
       "      <td>164000.0</td>\n",
       "      <td>0.0</td>\n",
       "      <td>164000.0</td>\n",
       "      <td>0.0</td>\n",
       "      <td>0.0</td>\n",
       "      <td>0.0</td>\n",
       "      <td>...</td>\n",
       "      <td>0.0</td>\n",
       "      <td>164000.0</td>\n",
       "      <td>0.0</td>\n",
       "      <td>0.0</td>\n",
       "      <td>164000.0</td>\n",
       "      <td>0.0</td>\n",
       "      <td>0.0</td>\n",
       "      <td>0.0</td>\n",
       "      <td>0.0</td>\n",
       "      <td>0.0</td>\n",
       "    </tr>\n",
       "    <tr>\n",
       "      <th>7</th>\n",
       "      <td>600000.0</td>\n",
       "      <td>600000.0</td>\n",
       "      <td>0.0</td>\n",
       "      <td>0.0</td>\n",
       "      <td>0.0</td>\n",
       "      <td>0.0</td>\n",
       "      <td>0.0</td>\n",
       "      <td>600000.0</td>\n",
       "      <td>0.0</td>\n",
       "      <td>0.0</td>\n",
       "      <td>...</td>\n",
       "      <td>600000.0</td>\n",
       "      <td>0.0</td>\n",
       "      <td>0.0</td>\n",
       "      <td>0.0</td>\n",
       "      <td>0.0</td>\n",
       "      <td>0.0</td>\n",
       "      <td>0.0</td>\n",
       "      <td>0.0</td>\n",
       "      <td>600000.0</td>\n",
       "      <td>0.0</td>\n",
       "    </tr>\n",
       "    <tr>\n",
       "      <th>8</th>\n",
       "      <td>979000.0</td>\n",
       "      <td>979000.0</td>\n",
       "      <td>979000.0</td>\n",
       "      <td>979000.0</td>\n",
       "      <td>979000.0</td>\n",
       "      <td>979000.0</td>\n",
       "      <td>979000.0</td>\n",
       "      <td>0.0</td>\n",
       "      <td>0.0</td>\n",
       "      <td>0.0</td>\n",
       "      <td>...</td>\n",
       "      <td>979000.0</td>\n",
       "      <td>0.0</td>\n",
       "      <td>979000.0</td>\n",
       "      <td>979000.0</td>\n",
       "      <td>0.0</td>\n",
       "      <td>0.0</td>\n",
       "      <td>0.0</td>\n",
       "      <td>0.0</td>\n",
       "      <td>0.0</td>\n",
       "      <td>0.0</td>\n",
       "    </tr>\n",
       "    <tr>\n",
       "      <th>9</th>\n",
       "      <td>460000.0</td>\n",
       "      <td>0.0</td>\n",
       "      <td>0.0</td>\n",
       "      <td>0.0</td>\n",
       "      <td>0.0</td>\n",
       "      <td>0.0</td>\n",
       "      <td>0.0</td>\n",
       "      <td>0.0</td>\n",
       "      <td>460000.0</td>\n",
       "      <td>0.0</td>\n",
       "      <td>...</td>\n",
       "      <td>0.0</td>\n",
       "      <td>0.0</td>\n",
       "      <td>0.0</td>\n",
       "      <td>0.0</td>\n",
       "      <td>0.0</td>\n",
       "      <td>460000.0</td>\n",
       "      <td>460000.0</td>\n",
       "      <td>0.0</td>\n",
       "      <td>0.0</td>\n",
       "      <td>0.0</td>\n",
       "    </tr>\n",
       "  </tbody>\n",
       "</table>\n",
       "<p>10 rows × 26 columns</p>\n",
       "</div>"
      ],
      "text/plain": [
       "       target  leaked_target_0  leaked_target_1  leaked_target_2  \\\n",
       "0  38000000.0       38000000.0       38000000.0       38000000.0   \n",
       "1    600000.0         600000.0              0.0              0.0   \n",
       "2  10000000.0              0.0              0.0              0.0   \n",
       "3   2000000.0              0.0              0.0              0.0   \n",
       "4  14400000.0              0.0              0.0              0.0   \n",
       "5   2800000.0              0.0              0.0              0.0   \n",
       "6    164000.0              0.0              0.0              0.0   \n",
       "7    600000.0         600000.0              0.0              0.0   \n",
       "8    979000.0         979000.0         979000.0         979000.0   \n",
       "9    460000.0              0.0              0.0              0.0   \n",
       "\n",
       "   leaked_target_3  leaked_target_4  leaked_target_5  leaked_target_6  \\\n",
       "0              0.0       38000000.0              0.0       38000000.0   \n",
       "1              0.0              0.0              0.0         600000.0   \n",
       "2              0.0              0.0              0.0              0.0   \n",
       "3              0.0              0.0              0.0              0.0   \n",
       "4              0.0              0.0              0.0              0.0   \n",
       "5        2800000.0              0.0              0.0              0.0   \n",
       "6         164000.0              0.0         164000.0              0.0   \n",
       "7              0.0              0.0              0.0         600000.0   \n",
       "8         979000.0         979000.0         979000.0              0.0   \n",
       "9              0.0              0.0              0.0              0.0   \n",
       "\n",
       "   leaked_target_7  leaked_target_8        ...         leaked_target_15  \\\n",
       "0              0.0              0.0        ...                      0.0   \n",
       "1              0.0         600000.0        ...                 600000.0   \n",
       "2              0.0              0.0        ...                      0.0   \n",
       "3              0.0              0.0        ...                      0.0   \n",
       "4              0.0              0.0        ...                      0.0   \n",
       "5        2800000.0              0.0        ...                2800000.0   \n",
       "6              0.0              0.0        ...                      0.0   \n",
       "7              0.0              0.0        ...                 600000.0   \n",
       "8              0.0              0.0        ...                 979000.0   \n",
       "9         460000.0              0.0        ...                      0.0   \n",
       "\n",
       "   leaked_target_16  leaked_target_17  leaked_target_18  leaked_target_19  \\\n",
       "0               0.0        38000000.0               0.0        38000000.0   \n",
       "1               0.0               0.0               0.0               0.0   \n",
       "2               0.0               0.0               0.0               0.0   \n",
       "3               0.0               0.0               0.0               0.0   \n",
       "4               0.0               0.0               0.0               0.0   \n",
       "5               0.0               0.0               0.0         2800000.0   \n",
       "6          164000.0               0.0               0.0          164000.0   \n",
       "7               0.0               0.0               0.0               0.0   \n",
       "8               0.0          979000.0          979000.0               0.0   \n",
       "9               0.0               0.0               0.0               0.0   \n",
       "\n",
       "   leaked_target_20  leaked_target_21  leaked_target_22  leaked_target_23  \\\n",
       "0               0.0               0.0               0.0               0.0   \n",
       "1               0.0               0.0               0.0               0.0   \n",
       "2               0.0               0.0               0.0               0.0   \n",
       "3               0.0               0.0               0.0               0.0   \n",
       "4               0.0               0.0               0.0               0.0   \n",
       "5               0.0         2800000.0         2800000.0               0.0   \n",
       "6               0.0               0.0               0.0               0.0   \n",
       "7               0.0               0.0               0.0          600000.0   \n",
       "8               0.0               0.0               0.0               0.0   \n",
       "9          460000.0          460000.0               0.0               0.0   \n",
       "\n",
       "   leaked_target_24  \n",
       "0               0.0  \n",
       "1               0.0  \n",
       "2               0.0  \n",
       "3               0.0  \n",
       "4               0.0  \n",
       "5               0.0  \n",
       "6               0.0  \n",
       "7               0.0  \n",
       "8               0.0  \n",
       "9               0.0  \n",
       "\n",
       "[10 rows x 26 columns]"
      ]
     },
     "execution_count": 9,
     "metadata": {},
     "output_type": "execute_result"
    }
   ],
   "source": [
    "pd.concat((train_leak1['target'], train_leak1.filter(regex='leaked_target', axis=1)), axis=1).head(10)"
   ]
  },
  {
   "cell_type": "code",
   "execution_count": 10,
   "metadata": {
    "ExecuteTime": {
     "end_time": "2018-07-29T10:06:20.359255Z",
     "start_time": "2018-07-29T10:06:05.104204Z"
    }
   },
   "outputs": [
    {
     "data": {
      "image/png": "[encoded data removed]",
      "text/plain": [
       "<Figure size 1008x288 with 2 Axes>"
      ]
     },
     "metadata": {},
     "output_type": "display_data"
    }
   ],
   "source": [
    "fig, ax = plt.subplots(1, 2, figsize=(14, 4))\n",
    "train_leak1.filter(regex='leaked_target', axis=1).where(lambda x: x != 0).nunique(axis=1).plot(ax=ax[0]);\n",
    "test_leak1.filter(regex='leaked_target', axis=1).where(lambda x: x != 0).nunique(axis=1).plot(ax=ax[1]);"
   ]
  },
  {
   "cell_type": "markdown",
   "metadata": {},
   "source": [
    "# complied leak"
   ]
  },
  {
   "cell_type": "code",
   "execution_count": 14,
   "metadata": {
    "ExecuteTime": {
     "end_time": "2018-07-29T10:06:51.592823Z",
     "start_time": "2018-07-29T10:06:51.538966Z"
    }
   },
   "outputs": [],
   "source": [
    "def append_compiled_leak(train, test):\n",
    "    train[\"nonzero_mean\"] = train[transact_cols].progress_apply(lambda x: np.expm1(np.log1p(x[x != 0]).mean()), axis=1)\n",
    "    test[\"nonzero_mean\"] = test[transact_cols].progress_apply(lambda x: np.expm1(np.log1p(x[x != 0]).mean()), axis=1)\n",
    "    train[\"compiled_leak\"] = 0\n",
    "    test[\"compiled_leak\"] = 0\n",
    "    \n",
    "    nlags = train.filter(regex='leaked_target', axis=1).shape[1]\n",
    "    \n",
    "    for i in tqdm_notebook(range(nlags)):\n",
    "        train['compiled_leak'] = train['compiled_leak'].where(lambda x: x != 0, train['leaked_target_{}'.format(i)])\n",
    "        test['compiled_leak'] = test['compiled_leak'].where(lambda x: x != 0, test['leaked_target_{}'.format(i)])\n",
    "    \n",
    "    print('Leak values found in train: {} columns, {}%'\n",
    "      .format(sum(train[\"compiled_leak\"] > 0), sum(train[\"compiled_leak\"] > 0) / len(train) * 100))\n",
    "    print('Leak values found in test: {} columns, {}%'\n",
    "          .format(sum(test[\"compiled_leak\"] > 0), sum(test[\"compiled_leak\"] > 0) / len(test) * 100))\n",
    "    print(\"% of correct leaks values in train {}\"\n",
    "          .format(sum(train[\"compiled_leak\"] == train[\"target\"]) / sum(train[\"compiled_leak\"] > 0)))\n",
    "\n",
    "    train['compiled_leak'] = train['compiled_leak'].where(lambda x: x != 0, train['nonzero_mean'])\n",
    "    test['compiled_leak'] = test['compiled_leak'].where(lambda x: x != 0, test['nonzero_mean'])\n",
    "    \n",
    "    return train, test"
   ]
  },
  {
   "cell_type": "code",
   "execution_count": 15,
   "metadata": {
    "ExecuteTime": {
     "end_time": "2018-07-29T10:07:40.371651Z",
     "start_time": "2018-07-29T10:06:52.740067Z"
    }
   },
   "outputs": [
    {
     "name": "stderr",
     "output_type": "stream",
     "text": [
      "100%|████████████████████████████████████████████████████████████████████████████| 4459/4459 [00:02<00:00, 1536.48it/s]\n",
      "100%|██████████████████████████████████████████████████████████████████████████| 49342/49342 [00:34<00:00, 1410.27it/s]\n"
     ]
    },
    {
     "data": {
      "application/vnd.jupyter.widget-view+json": {
       "model_id": "79a42adc1be14319b02c99d57409ffe6",
       "version_major": 2,
       "version_minor": 0
      },
      "text/html": [
       "<p>Failed to display Jupyter Widget of type <code>HBox</code>.</p>\n",
       "<p>\n",
       "  If you're reading this message in the Jupyter Notebook or JupyterLab Notebook, it may mean\n",
       "  that the widgets JavaScript is still loading. If this message persists, it\n",
       "  likely means that the widgets JavaScript library is either not installed or\n",
       "  not enabled. See the <a href=\"https://ipywidgets.readthedocs.io/en/stable/user_install.html\">Jupyter\n",
       "  Widgets Documentation</a> for setup instructions.\n",
       "</p>\n",
       "<p>\n",
       "  If you're reading this message in another frontend (for example, a static\n",
       "  rendering on GitHub or <a href=\"https://nbviewer.jupyter.org/\">NBViewer</a>),\n",
       "  it may mean that your frontend doesn't currently support widgets.\n",
       "</p>\n"
      ],
      "text/plain": [
       "HBox(children=(IntProgress(value=0, max=25), HTML(value='')))"
      ]
     },
     "metadata": {},
     "output_type": "display_data"
    },
    {
     "name": "stdout",
     "output_type": "stream",
     "text": [
      "\n",
      "Leak values found in train: 3577 columns, 80.21978021978022%\n",
      "Leak values found in test: 7662 columns, 15.528353127153338%\n",
      "% of correct leaks values in train 0.977914453452614\n"
     ]
    }
   ],
   "source": [
    "train_leak1, test_leak1 = append_compiled_leak(train_leak1, test_leak1)"
   ]
  },
  {
   "cell_type": "code",
   "execution_count": 16,
   "metadata": {
    "ExecuteTime": {
     "end_time": "2018-07-29T10:07:40.395598Z",
     "start_time": "2018-07-29T10:07:40.378630Z"
    },
    "_uuid": "49c9d5e53e52c4307aef6ac402868aaee8566700"
   },
   "outputs": [
    {
     "data": {
      "text/plain": [
       "0.78830043228908975"
      ]
     },
     "execution_count": 16,
     "metadata": {},
     "output_type": "execute_result"
    }
   ],
   "source": [
    "np.sqrt(mean_squared_error(y, np.log1p(train_leak1[\"compiled_leak\"]).fillna(14.49)))"
   ]
  },
  {
   "cell_type": "markdown",
   "metadata": {},
   "source": [
    "# submit"
   ]
  },
  {
   "cell_type": "code",
   "execution_count": 18,
   "metadata": {
    "ExecuteTime": {
     "end_time": "2018-07-29T10:11:03.186332Z",
     "start_time": "2018-07-29T10:10:57.738510Z"
    },
    "_uuid": "dc2e522df90f97456e67f26977fde364acf02876"
   },
   "outputs": [],
   "source": [
    "#submission\n",
    "sub = test_leak1[['ID', 'compiled_leak']].rename(columns={'compiled_leak': 'target'}).head()\n",
    "sub.to_csv(\"baseline_submission_with_leaks.csv\", index=False)"
   ]
  }
 ],
 "metadata": {
  "kernelspec": {
   "display_name": "Python 3",
   "language": "python",
   "name": "python3"
  },
  "language_info": {
   "codemirror_mode": {
    "name": "ipython",
    "version": 3
   },
   "file_extension": ".py",
   "mimetype": "text/x-python",
   "name": "python",
   "nbconvert_exporter": "python",
   "pygments_lexer": "ipython3",
   "version": "3.6.4"
  },
  "toc": {
   "base_numbering": 1,
   "nav_menu": {},
   "number_sections": true,
   "sideBar": true,
   "skip_h1_title": false,
   "title_cell": "Table of Contents",
   "title_sidebar": "Contents",
   "toc_cell": false,
   "toc_position": {
    "height": "calc(100% - 180px)",
    "left": "10px",
    "top": "150px",
    "width": "165px"
   },
   "toc_section_display": true,
   "toc_window_display": true
  }
 },
 "nbformat": 4,
 "nbformat_minor": 1
}
