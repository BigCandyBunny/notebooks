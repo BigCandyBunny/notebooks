{
 "cells": [
  {
   "cell_type": "markdown",
   "id": "172ca5c5",
   "metadata": {
    "papermill": {
     "duration": 0.062237,
     "end_time": "2022-02-02T06:10:36.845412",
     "exception": false,
     "start_time": "2022-02-02T06:10:36.783175",
     "status": "completed"
    },
    "tags": []
   },
   "source": [
    "# Commodity crack spread statistical arbitrage\n",
    "\n",
    "In this notebook, the mean-rereversion strategy proposed in Girma and Paulson 1999 (henthforth GP1999) is investigated. It focuses on a various combination of the crude oil (WTI) crack spread. "
   ]
  },
  {
   "cell_type": "code",
   "execution_count": 1,
   "id": "7daa9dab",
   "metadata": {
    "execution": {
     "iopub.execute_input": "2022-02-02T06:10:36.973856Z",
     "iopub.status.busy": "2022-02-02T06:10:36.973105Z",
     "iopub.status.idle": "2022-02-02T06:10:39.548311Z",
     "shell.execute_reply": "2022-02-02T06:10:39.547431Z",
     "shell.execute_reply.started": "2021-12-03T07:10:36.569519Z"
    },
    "papermill": {
     "duration": 2.642648,
     "end_time": "2022-02-02T06:10:39.548443",
     "exception": false,
     "start_time": "2022-02-02T06:10:36.905795",
     "status": "completed"
    },
    "tags": []
   },
   "outputs": [],
   "source": [
    "%matplotlib inline\n",
    "from datetime import datetime\n",
    "import logging\n",
    "import warnings\n",
    "warnings.simplefilter(action='ignore', category=FutureWarning)\n",
    "\n",
    "import pandas as pd\n",
    "import statsmodels.api as sm\n",
    "import matplotlib.pyplot as plt\n",
    "plt.style.use('bmh')\n",
    "\n",
    "from vivace.backtest import BacktestEngine, signal, InstrumentDef\n",
    "from vivace.backtest.analytics import rebase\n",
    "from vivace.backtest.contract import get_futures_curve_snapshot\n",
    "from vivace.backtest.enums import Strategy, Weighting, RollRule\n",
    "from vivace.backtest.stats import Performance"
   ]
  },
  {
   "cell_type": "markdown",
   "id": "68aa8ccf",
   "metadata": {
    "papermill": {
     "duration": 0.060469,
     "end_time": "2022-02-02T06:10:39.669506",
     "exception": false,
     "start_time": "2022-02-02T06:10:39.609037",
     "status": "completed"
    },
    "tags": []
   },
   "source": [
    "# Cointegration test\n",
    "\n",
    "GP1999 first checks if the crack spread is cointegrated. To do that, first let's see futures prices are non-stationary or not. As per usual, the generic price is populated by running a simple long-only backtest by rolling the front contract."
   ]
  },
  {
   "cell_type": "markdown",
   "id": "824e7302",
   "metadata": {
    "papermill": {
     "duration": 0.061705,
     "end_time": "2022-02-02T06:10:39.791222",
     "exception": false,
     "start_time": "2022-02-02T06:10:39.729517",
     "status": "completed"
    },
    "tags": []
   },
   "source": [
    "## ADF test\n",
    "\n",
    "The ADF test is done by the `adfuller` function in `statsmodels`. (cf. https://www.statsmodels.org/dev/generated/statsmodels.tsa.stattools.adfuller.html)"
   ]
  },
  {
   "cell_type": "code",
   "execution_count": 2,
   "id": "4eb3103c",
   "metadata": {
    "execution": {
     "iopub.execute_input": "2022-02-02T06:10:39.919435Z",
     "iopub.status.busy": "2022-02-02T06:10:39.918888Z",
     "iopub.status.idle": "2022-02-02T06:10:48.537817Z",
     "shell.execute_reply": "2022-02-02T06:10:48.537090Z",
     "shell.execute_reply.started": "2021-12-03T06:36:10.163450Z"
    },
    "papermill": {
     "duration": 8.686734,
     "end_time": "2022-02-02T06:10:48.537970",
     "exception": false,
     "start_time": "2022-02-02T06:10:39.851236",
     "status": "completed"
    },
    "tags": []
   },
   "outputs": [],
   "source": [
    "cl_1st = BacktestEngine(instrument='CL', log_level=logging.WARN)\n",
    "cl_1st.run()"
   ]
  },
  {
   "cell_type": "code",
   "execution_count": 3,
   "id": "9910ecff",
   "metadata": {
    "execution": {
     "iopub.execute_input": "2022-02-02T06:10:48.697094Z",
     "iopub.status.busy": "2022-02-02T06:10:48.696561Z",
     "iopub.status.idle": "2022-02-02T06:10:58.097788Z",
     "shell.execute_reply": "2022-02-02T06:10:58.097242Z",
     "shell.execute_reply.started": "2021-12-03T06:36:18.338428Z"
    },
    "papermill": {
     "duration": 9.467982,
     "end_time": "2022-02-02T06:10:58.097899",
     "exception": false,
     "start_time": "2022-02-02T06:10:48.629917",
     "status": "completed"
    },
    "tags": []
   },
   "outputs": [],
   "source": [
    "ho_1st = BacktestEngine(instrument='HO', log_level=logging.WARN)\n",
    "ho_1st.run()"
   ]
  },
  {
   "cell_type": "code",
   "execution_count": 4,
   "id": "32cec4c3",
   "metadata": {
    "execution": {
     "iopub.execute_input": "2022-02-02T06:10:58.234525Z",
     "iopub.status.busy": "2022-02-02T06:10:58.233761Z",
     "iopub.status.idle": "2022-02-02T06:11:10.085143Z",
     "shell.execute_reply": "2022-02-02T06:11:10.084653Z",
     "shell.execute_reply.started": "2021-12-03T06:36:25.919037Z"
    },
    "papermill": {
     "duration": 11.918044,
     "end_time": "2022-02-02T06:11:10.085261",
     "exception": false,
     "start_time": "2022-02-02T06:10:58.167217",
     "status": "completed"
    },
    "tags": []
   },
   "outputs": [],
   "source": [
    "xb_1st = BacktestEngine(instrument='XB', log_level=logging.WARN)\n",
    "xb_1st.run()"
   ]
  },
  {
   "cell_type": "code",
   "execution_count": 5,
   "id": "a602ffe8",
   "metadata": {
    "execution": {
     "iopub.execute_input": "2022-02-02T06:11:10.478982Z",
     "iopub.status.busy": "2022-02-02T06:11:10.463586Z",
     "iopub.status.idle": "2022-02-02T06:11:26.725735Z",
     "shell.execute_reply": "2022-02-02T06:11:26.726394Z",
     "shell.execute_reply.started": "2021-12-03T06:36:32.982734Z"
    },
    "papermill": {
     "duration": 16.580451,
     "end_time": "2022-02-02T06:11:26.726581",
     "exception": false,
     "start_time": "2022-02-02T06:11:10.146130",
     "status": "completed"
    },
    "tags": []
   },
   "outputs": [],
   "source": [
    "cl_price = cl_1st.get_generic_price().squeeze().fillna(method='pad').rename('Crude oil')\n",
    "ho_price = ho_1st.get_generic_price().squeeze().fillna(method='pad').rename('Heating oil')\n",
    "xb_price = xb_1st.get_generic_price().squeeze().fillna(method='pad').rename('Gasoline')"
   ]
  },
  {
   "cell_type": "code",
   "execution_count": 6,
   "id": "81a1c9be",
   "metadata": {
    "execution": {
     "iopub.execute_input": "2022-02-02T06:11:26.912557Z",
     "iopub.status.busy": "2022-02-02T06:11:26.911773Z",
     "iopub.status.idle": "2022-02-02T06:11:26.913539Z",
     "shell.execute_reply": "2022-02-02T06:11:26.914159Z",
     "shell.execute_reply.started": "2021-12-03T06:36:47.351540Z"
    },
    "papermill": {
     "duration": 0.096963,
     "end_time": "2022-02-02T06:11:26.914342",
     "exception": false,
     "start_time": "2022-02-02T06:11:26.817379",
     "status": "completed"
    },
    "tags": []
   },
   "outputs": [],
   "source": [
    "def adf(ts: pd.Series, **kwargs) -> pd.Series:\n",
    "    \"\"\" Run the ADF test and return a cleaned result \"\"\"\n",
    "    adf_result = sm.tsa.stattools.adfuller(ts, **kwargs)\n",
    "    cleaned = {\n",
    "        'adf': adf_result[0],\n",
    "        'p_value': adf_result[1],\n",
    "        'used_lag': adf_result[2],\n",
    "        'n_obs': adf_result[3],\n",
    "        'ci_0.01': adf_result[4]['1%'],\n",
    "        'ci_0.05': adf_result[4]['5%'],\n",
    "        'ci_0.1': adf_result[4]['10%'],\n",
    "        'ic_best': adf_result[5],\n",
    "    }\n",
    "    return pd.Series(cleaned, name=ts.name)"
   ]
  },
  {
   "cell_type": "markdown",
   "id": "73a9df64",
   "metadata": {
    "papermill": {
     "duration": 0.087684,
     "end_time": "2022-02-02T06:11:27.089663",
     "exception": false,
     "start_time": "2022-02-02T06:11:27.001979",
     "status": "completed"
    },
    "tags": []
   },
   "source": [
    "GP1999 uses Schwarz's information criterion (i.e., BIC) to select the optimal number of lags included in the ADF test."
   ]
  },
  {
   "cell_type": "code",
   "execution_count": 7,
   "id": "b69649d6",
   "metadata": {
    "execution": {
     "iopub.execute_input": "2022-02-02T06:11:27.227132Z",
     "iopub.status.busy": "2022-02-02T06:11:27.226588Z",
     "iopub.status.idle": "2022-02-02T06:11:27.870600Z",
     "shell.execute_reply": "2022-02-02T06:11:27.871260Z",
     "shell.execute_reply.started": "2021-12-03T06:36:47.357535Z"
    },
    "papermill": {
     "duration": 0.711242,
     "end_time": "2022-02-02T06:11:27.871462",
     "exception": false,
     "start_time": "2022-02-02T06:11:27.160220",
     "status": "completed"
    },
    "tags": []
   },
   "outputs": [],
   "source": [
    "adf_result = pd.concat((\n",
    "    adf(cl_price['1983-04':'1994-11'], autolag='BIC').to_frame().T,\n",
    "    adf(ho_price['1983-04':'1994-11'], autolag='BIC').to_frame().T,\n",
    "    adf(xb_price['1984-12':'1994-11'], autolag='BIC').to_frame().T,\n",
    "))"
   ]
  },
  {
   "cell_type": "markdown",
   "id": "1396f87e",
   "metadata": {
    "papermill": {
     "duration": 0.090325,
     "end_time": "2022-02-02T06:11:28.078534",
     "exception": false,
     "start_time": "2022-02-02T06:11:27.988209",
     "status": "completed"
    },
    "tags": []
   },
   "source": [
    "In the ADF test, $H_0$ is that the time-series is non-stationary. Based on this result below, $H_0$ cannot be rejected for crude oil, however is rejected for heating oil and gasoline at the 10% and 5% level respectively.\n",
    "\n",
    "This is interesting because usually almost always asset prices are non-stationary."
   ]
  },
  {
   "cell_type": "code",
   "execution_count": 8,
   "id": "3655e953",
   "metadata": {
    "execution": {
     "iopub.execute_input": "2022-02-02T06:11:28.292469Z",
     "iopub.status.busy": "2022-02-02T06:11:28.291698Z",
     "iopub.status.idle": "2022-02-02T06:11:28.303510Z",
     "shell.execute_reply": "2022-02-02T06:11:28.302751Z",
     "shell.execute_reply.started": "2021-12-03T06:36:48.064712Z"
    },
    "papermill": {
     "duration": 0.130482,
     "end_time": "2022-02-02T06:11:28.303666",
     "exception": false,
     "start_time": "2022-02-02T06:11:28.173184",
     "status": "completed"
    },
    "tags": []
   },
   "outputs": [
    {
     "data": {
      "text/html": [
       "<div>\n",
       "<style scoped>\n",
       "    .dataframe tbody tr th:only-of-type {\n",
       "        vertical-align: middle;\n",
       "    }\n",
       "\n",
       "    .dataframe tbody tr th {\n",
       "        vertical-align: top;\n",
       "    }\n",
       "\n",
       "    .dataframe thead th {\n",
       "        text-align: right;\n",
       "    }\n",
       "</style>\n",
       "<table border=\"1\" class=\"dataframe\">\n",
       "  <thead>\n",
       "    <tr style=\"text-align: right;\">\n",
       "      <th></th>\n",
       "      <th>adf</th>\n",
       "      <th>p_value</th>\n",
       "      <th>used_lag</th>\n",
       "      <th>n_obs</th>\n",
       "      <th>ci_0.01</th>\n",
       "      <th>ci_0.05</th>\n",
       "      <th>ci_0.1</th>\n",
       "      <th>ic_best</th>\n",
       "    </tr>\n",
       "  </thead>\n",
       "  <tbody>\n",
       "    <tr>\n",
       "      <th>Crude oil</th>\n",
       "      <td>-2.185213</td>\n",
       "      <td>0.211656</td>\n",
       "      <td>8.0</td>\n",
       "      <td>2924.0</td>\n",
       "      <td>-3.432588</td>\n",
       "      <td>-2.862529</td>\n",
       "      <td>-2.567296</td>\n",
       "      <td>4195.186424</td>\n",
       "    </tr>\n",
       "    <tr>\n",
       "      <th>Heating oil</th>\n",
       "      <td>-2.743636</td>\n",
       "      <td>0.066787</td>\n",
       "      <td>3.0</td>\n",
       "      <td>2929.0</td>\n",
       "      <td>-3.432585</td>\n",
       "      <td>-2.862527</td>\n",
       "      <td>-2.567296</td>\n",
       "      <td>-15763.929006</td>\n",
       "    </tr>\n",
       "    <tr>\n",
       "      <th>Gasoline</th>\n",
       "      <td>-3.003758</td>\n",
       "      <td>0.034545</td>\n",
       "      <td>3.0</td>\n",
       "      <td>2510.0</td>\n",
       "      <td>-3.432958</td>\n",
       "      <td>-2.862692</td>\n",
       "      <td>-2.567383</td>\n",
       "      <td>-14006.551367</td>\n",
       "    </tr>\n",
       "  </tbody>\n",
       "</table>\n",
       "</div>"
      ],
      "text/plain": [
       "                  adf   p_value  used_lag   n_obs   ci_0.01   ci_0.05  \\\n",
       "Crude oil   -2.185213  0.211656       8.0  2924.0 -3.432588 -2.862529   \n",
       "Heating oil -2.743636  0.066787       3.0  2929.0 -3.432585 -2.862527   \n",
       "Gasoline    -3.003758  0.034545       3.0  2510.0 -3.432958 -2.862692   \n",
       "\n",
       "               ci_0.1       ic_best  \n",
       "Crude oil   -2.567296   4195.186424  \n",
       "Heating oil -2.567296 -15763.929006  \n",
       "Gasoline    -2.567383 -14006.551367  "
      ]
     },
     "execution_count": 8,
     "metadata": {},
     "output_type": "execute_result"
    }
   ],
   "source": [
    "adf_result"
   ]
  },
  {
   "cell_type": "markdown",
   "id": "cb465c0a",
   "metadata": {
    "papermill": {
     "duration": 0.074839,
     "end_time": "2022-02-02T06:11:28.463767",
     "exception": false,
     "start_time": "2022-02-02T06:11:28.388928",
     "status": "completed"
    },
    "tags": []
   },
   "source": [
    "Probably it is to do with the sampling period. It may look a stationary process especially after 1986, however clearly it is heteroskedastic and the price move in 1986 seems like a shift in the level."
   ]
  },
  {
   "cell_type": "code",
   "execution_count": 9,
   "id": "11339aae",
   "metadata": {
    "execution": {
     "iopub.execute_input": "2022-02-02T06:11:28.622070Z",
     "iopub.status.busy": "2022-02-02T06:11:28.611782Z",
     "iopub.status.idle": "2022-02-02T06:11:28.981658Z",
     "shell.execute_reply": "2022-02-02T06:11:28.981126Z",
     "shell.execute_reply.started": "2021-12-03T06:36:48.107910Z"
    },
    "papermill": {
     "duration": 0.454707,
     "end_time": "2022-02-02T06:11:28.981775",
     "exception": false,
     "start_time": "2022-02-02T06:11:28.527068",
     "status": "completed"
    },
    "tags": []
   },
   "outputs": [
    {
     "data": {
      "image/png": "[encoded data removed]",
      "text/plain": [
       "<Figure size 576x360 with 2 Axes>"
      ]
     },
     "metadata": {
      "needs_background": "light"
     },
     "output_type": "display_data"
    }
   ],
   "source": [
    "fig, ax = plt.subplots(figsize=(8, 5))\n",
    "pd.concat((\n",
    "    cl_price['1983-04':'1994-11'],\n",
    "    ho_price['1983-04':'1994-11'],\n",
    "    xb_price['1984-12':'1994-11'],\n",
    "), axis=1).plot(secondary_y=['Heating oil', 'Gasoline'], ax=ax);\n",
    "ax.set_title('Futures prices (generic 1st)');"
   ]
  },
  {
   "cell_type": "markdown",
   "id": "47068957",
   "metadata": {
    "papermill": {
     "duration": 0.068344,
     "end_time": "2022-02-02T06:11:29.116999",
     "exception": false,
     "start_time": "2022-02-02T06:11:29.048655",
     "status": "completed"
    },
    "tags": []
   },
   "source": [
    "In fact, in the long-run $H_0$ cannot be rejected for all contracts based on both BIC and AIC."
   ]
  },
  {
   "cell_type": "code",
   "execution_count": 10,
   "id": "47dcef74",
   "metadata": {
    "execution": {
     "iopub.execute_input": "2022-02-02T06:11:29.253082Z",
     "iopub.status.busy": "2022-02-02T06:11:29.252536Z",
     "iopub.status.idle": "2022-02-02T06:11:32.225712Z",
     "shell.execute_reply": "2022-02-02T06:11:32.226961Z",
     "shell.execute_reply.started": "2021-12-03T06:36:48.435839Z"
    },
    "papermill": {
     "duration": 3.045587,
     "end_time": "2022-02-02T06:11:32.227210",
     "exception": false,
     "start_time": "2022-02-02T06:11:29.181623",
     "status": "completed"
    },
    "tags": []
   },
   "outputs": [
    {
     "data": {
      "text/html": [
       "<div>\n",
       "<style scoped>\n",
       "    .dataframe tbody tr th:only-of-type {\n",
       "        vertical-align: middle;\n",
       "    }\n",
       "\n",
       "    .dataframe tbody tr th {\n",
       "        vertical-align: top;\n",
       "    }\n",
       "\n",
       "    .dataframe thead th {\n",
       "        text-align: right;\n",
       "    }\n",
       "</style>\n",
       "<table border=\"1\" class=\"dataframe\">\n",
       "  <thead>\n",
       "    <tr style=\"text-align: right;\">\n",
       "      <th></th>\n",
       "      <th>adf</th>\n",
       "      <th>p_value</th>\n",
       "      <th>used_lag</th>\n",
       "      <th>n_obs</th>\n",
       "      <th>ci_0.01</th>\n",
       "      <th>ci_0.05</th>\n",
       "      <th>ci_0.1</th>\n",
       "      <th>ic_best</th>\n",
       "    </tr>\n",
       "  </thead>\n",
       "  <tbody>\n",
       "    <tr>\n",
       "      <th>Crude oil</th>\n",
       "      <td>-1.528694</td>\n",
       "      <td>0.519272</td>\n",
       "      <td>1.0</td>\n",
       "      <td>9754.0</td>\n",
       "      <td>-3.431021</td>\n",
       "      <td>-2.861836</td>\n",
       "      <td>-2.566928</td>\n",
       "      <td>29330.518473</td>\n",
       "    </tr>\n",
       "    <tr>\n",
       "      <th>Heating oil</th>\n",
       "      <td>-1.358374</td>\n",
       "      <td>0.602061</td>\n",
       "      <td>0.0</td>\n",
       "      <td>9756.0</td>\n",
       "      <td>-3.431020</td>\n",
       "      <td>-2.861836</td>\n",
       "      <td>-2.566928</td>\n",
       "      <td>-40553.529247</td>\n",
       "    </tr>\n",
       "    <tr>\n",
       "      <th>Gasoline</th>\n",
       "      <td>-1.757033</td>\n",
       "      <td>0.401993</td>\n",
       "      <td>0.0</td>\n",
       "      <td>9336.0</td>\n",
       "      <td>-3.431051</td>\n",
       "      <td>-2.861850</td>\n",
       "      <td>-2.566935</td>\n",
       "      <td>-36568.036997</td>\n",
       "    </tr>\n",
       "  </tbody>\n",
       "</table>\n",
       "</div>"
      ],
      "text/plain": [
       "                  adf   p_value  used_lag   n_obs   ci_0.01   ci_0.05  \\\n",
       "Crude oil   -1.528694  0.519272       1.0  9754.0 -3.431021 -2.861836   \n",
       "Heating oil -1.358374  0.602061       0.0  9756.0 -3.431020 -2.861836   \n",
       "Gasoline    -1.757033  0.401993       0.0  9336.0 -3.431051 -2.861850   \n",
       "\n",
       "               ci_0.1       ic_best  \n",
       "Crude oil   -2.566928  29330.518473  \n",
       "Heating oil -2.566928 -40553.529247  \n",
       "Gasoline    -2.566935 -36568.036997  "
      ]
     },
     "execution_count": 10,
     "metadata": {},
     "output_type": "execute_result"
    }
   ],
   "source": [
    "pd.concat((\n",
    "    adf(cl_price['1983-04':], autolag='BIC').to_frame().T,\n",
    "    adf(ho_price['1983-04':], autolag='BIC').to_frame().T,\n",
    "    adf(xb_price['1984-12':], autolag='BIC').to_frame().T,\n",
    "))"
   ]
  },
  {
   "cell_type": "code",
   "execution_count": 11,
   "id": "6cda4738",
   "metadata": {
    "execution": {
     "iopub.execute_input": "2022-02-02T06:11:32.383121Z",
     "iopub.status.busy": "2022-02-02T06:11:32.382453Z",
     "iopub.status.idle": "2022-02-02T06:11:43.600494Z",
     "shell.execute_reply": "2022-02-02T06:11:43.601505Z",
     "shell.execute_reply.started": "2021-12-03T06:36:50.823809Z"
    },
    "papermill": {
     "duration": 11.286594,
     "end_time": "2022-02-02T06:11:43.601746",
     "exception": false,
     "start_time": "2022-02-02T06:11:32.315152",
     "status": "completed"
    },
    "tags": []
   },
   "outputs": [
    {
     "data": {
      "text/html": [
       "<div>\n",
       "<style scoped>\n",
       "    .dataframe tbody tr th:only-of-type {\n",
       "        vertical-align: middle;\n",
       "    }\n",
       "\n",
       "    .dataframe tbody tr th {\n",
       "        vertical-align: top;\n",
       "    }\n",
       "\n",
       "    .dataframe thead th {\n",
       "        text-align: right;\n",
       "    }\n",
       "</style>\n",
       "<table border=\"1\" class=\"dataframe\">\n",
       "  <thead>\n",
       "    <tr style=\"text-align: right;\">\n",
       "      <th></th>\n",
       "      <th>adf</th>\n",
       "      <th>p_value</th>\n",
       "      <th>used_lag</th>\n",
       "      <th>n_obs</th>\n",
       "      <th>ci_0.01</th>\n",
       "      <th>ci_0.05</th>\n",
       "      <th>ci_0.1</th>\n",
       "      <th>ic_best</th>\n",
       "    </tr>\n",
       "  </thead>\n",
       "  <tbody>\n",
       "    <tr>\n",
       "      <th>Crude oil</th>\n",
       "      <td>-1.966244</td>\n",
       "      <td>0.301567</td>\n",
       "      <td>28.0</td>\n",
       "      <td>9727.0</td>\n",
       "      <td>-3.431022</td>\n",
       "      <td>-2.861837</td>\n",
       "      <td>-2.566928</td>\n",
       "      <td>29292.423580</td>\n",
       "    </tr>\n",
       "    <tr>\n",
       "      <th>Heating oil</th>\n",
       "      <td>-1.318501</td>\n",
       "      <td>0.620666</td>\n",
       "      <td>4.0</td>\n",
       "      <td>9752.0</td>\n",
       "      <td>-3.431021</td>\n",
       "      <td>-2.861836</td>\n",
       "      <td>-2.566928</td>\n",
       "      <td>-40578.417097</td>\n",
       "    </tr>\n",
       "    <tr>\n",
       "      <th>Gasoline</th>\n",
       "      <td>-1.974242</td>\n",
       "      <td>0.297980</td>\n",
       "      <td>14.0</td>\n",
       "      <td>9322.0</td>\n",
       "      <td>-3.431052</td>\n",
       "      <td>-2.861850</td>\n",
       "      <td>-2.566935</td>\n",
       "      <td>-36594.825139</td>\n",
       "    </tr>\n",
       "  </tbody>\n",
       "</table>\n",
       "</div>"
      ],
      "text/plain": [
       "                  adf   p_value  used_lag   n_obs   ci_0.01   ci_0.05  \\\n",
       "Crude oil   -1.966244  0.301567      28.0  9727.0 -3.431022 -2.861837   \n",
       "Heating oil -1.318501  0.620666       4.0  9752.0 -3.431021 -2.861836   \n",
       "Gasoline    -1.974242  0.297980      14.0  9322.0 -3.431052 -2.861850   \n",
       "\n",
       "               ci_0.1       ic_best  \n",
       "Crude oil   -2.566928  29292.423580  \n",
       "Heating oil -2.566928 -40578.417097  \n",
       "Gasoline    -2.566935 -36594.825139  "
      ]
     },
     "execution_count": 11,
     "metadata": {},
     "output_type": "execute_result"
    }
   ],
   "source": [
    "pd.concat((\n",
    "    adf(cl_price['1983-04':], autolag='AIC').to_frame().T,\n",
    "    adf(ho_price['1983-04':], autolag='AIC').to_frame().T,\n",
    "    adf(xb_price['1984-12':], autolag='AIC').to_frame().T,\n",
    "))"
   ]
  },
  {
   "cell_type": "markdown",
   "id": "eda29bdf",
   "metadata": {
    "papermill": {
     "duration": 0.072935,
     "end_time": "2022-02-02T06:11:43.774803",
     "exception": false,
     "start_time": "2022-02-02T06:11:43.701868",
     "status": "completed"
    },
    "tags": []
   },
   "source": [
    "Test for two unit roots shows the $H_0$ is rejected for all assets so it would be safe to assume prices are all $I(1)$ processes."
   ]
  },
  {
   "cell_type": "code",
   "execution_count": 12,
   "id": "5cc64e78",
   "metadata": {
    "execution": {
     "iopub.execute_input": "2022-02-02T06:11:43.920860Z",
     "iopub.status.busy": "2022-02-02T06:11:43.920262Z",
     "iopub.status.idle": "2022-02-02T06:11:45.487206Z",
     "shell.execute_reply": "2022-02-02T06:11:45.487686Z",
     "shell.execute_reply.started": "2021-12-03T06:36:52.384428Z"
    },
    "papermill": {
     "duration": 1.644274,
     "end_time": "2022-02-02T06:11:45.487838",
     "exception": false,
     "start_time": "2022-02-02T06:11:43.843564",
     "status": "completed"
    },
    "tags": []
   },
   "outputs": [
    {
     "data": {
      "text/html": [
       "<div>\n",
       "<style scoped>\n",
       "    .dataframe tbody tr th:only-of-type {\n",
       "        vertical-align: middle;\n",
       "    }\n",
       "\n",
       "    .dataframe tbody tr th {\n",
       "        vertical-align: top;\n",
       "    }\n",
       "\n",
       "    .dataframe thead th {\n",
       "        text-align: right;\n",
       "    }\n",
       "</style>\n",
       "<table border=\"1\" class=\"dataframe\">\n",
       "  <thead>\n",
       "    <tr style=\"text-align: right;\">\n",
       "      <th></th>\n",
       "      <th>adf</th>\n",
       "      <th>p_value</th>\n",
       "      <th>used_lag</th>\n",
       "      <th>n_obs</th>\n",
       "      <th>ci_0.01</th>\n",
       "      <th>ci_0.05</th>\n",
       "      <th>ci_0.1</th>\n",
       "      <th>ic_best</th>\n",
       "    </tr>\n",
       "  </thead>\n",
       "  <tbody>\n",
       "    <tr>\n",
       "      <th>Crude oil</th>\n",
       "      <td>-22.609167</td>\n",
       "      <td>0.0</td>\n",
       "      <td>7.0</td>\n",
       "      <td>2924.0</td>\n",
       "      <td>-3.432588</td>\n",
       "      <td>-2.862529</td>\n",
       "      <td>-2.567296</td>\n",
       "      <td>4191.382386</td>\n",
       "    </tr>\n",
       "    <tr>\n",
       "      <th>Heating oil</th>\n",
       "      <td>-23.732562</td>\n",
       "      <td>0.0</td>\n",
       "      <td>7.0</td>\n",
       "      <td>2924.0</td>\n",
       "      <td>-3.432588</td>\n",
       "      <td>-2.862529</td>\n",
       "      <td>-2.567296</td>\n",
       "      <td>-15759.438574</td>\n",
       "    </tr>\n",
       "    <tr>\n",
       "      <th>Gasoline</th>\n",
       "      <td>-31.046797</td>\n",
       "      <td>0.0</td>\n",
       "      <td>2.0</td>\n",
       "      <td>2510.0</td>\n",
       "      <td>-3.432958</td>\n",
       "      <td>-2.862692</td>\n",
       "      <td>-2.567383</td>\n",
       "      <td>-13998.959272</td>\n",
       "    </tr>\n",
       "  </tbody>\n",
       "</table>\n",
       "</div>"
      ],
      "text/plain": [
       "                   adf  p_value  used_lag   n_obs   ci_0.01   ci_0.05  \\\n",
       "Crude oil   -22.609167      0.0       7.0  2924.0 -3.432588 -2.862529   \n",
       "Heating oil -23.732562      0.0       7.0  2924.0 -3.432588 -2.862529   \n",
       "Gasoline    -31.046797      0.0       2.0  2510.0 -3.432958 -2.862692   \n",
       "\n",
       "               ci_0.1       ic_best  \n",
       "Crude oil   -2.567296   4191.382386  \n",
       "Heating oil -2.567296 -15759.438574  \n",
       "Gasoline    -2.567383 -13998.959272  "
      ]
     },
     "execution_count": 12,
     "metadata": {},
     "output_type": "execute_result"
    }
   ],
   "source": [
    "pd.concat((\n",
    "    adf(cl_price['1983-04':'1994-11'].diff().dropna(), autolag='BIC').to_frame().T,\n",
    "    adf(ho_price['1983-04':'1994-11'].diff().dropna(), autolag='BIC').to_frame().T,\n",
    "    adf(xb_price['1984-12':'1994-11'].diff().dropna(), autolag='BIC').to_frame().T,\n",
    "))"
   ]
  },
  {
   "cell_type": "markdown",
   "id": "5443698a",
   "metadata": {
    "papermill": {
     "duration": 0.06452,
     "end_time": "2022-02-02T06:11:45.616350",
     "exception": false,
     "start_time": "2022-02-02T06:11:45.551830",
     "status": "completed"
    },
    "tags": []
   },
   "source": [
    "## Engle-Granger test\n",
    "\n",
    "Next, let's check if the crack spread is cointegrated. The cointegration vector is estimated by OLS and the stationarity of the residual is tested with the ADF test.\n",
    "The test is done by the `coint` function in `statsmodels`. (cf. https://www.statsmodels.org/dev/generated/statsmodels.tsa.stattools.coint.html)"
   ]
  },
  {
   "cell_type": "code",
   "execution_count": 13,
   "id": "15663029",
   "metadata": {
    "execution": {
     "iopub.execute_input": "2022-02-02T06:11:45.756847Z",
     "iopub.status.busy": "2022-02-02T06:11:45.755754Z",
     "iopub.status.idle": "2022-02-02T06:11:45.766352Z",
     "shell.execute_reply": "2022-02-02T06:11:45.765816Z",
     "shell.execute_reply.started": "2021-12-03T06:36:53.059490Z"
    },
    "papermill": {
     "duration": 0.080846,
     "end_time": "2022-02-02T06:11:45.766463",
     "exception": false,
     "start_time": "2022-02-02T06:11:45.685617",
     "status": "completed"
    },
    "tags": []
   },
   "outputs": [],
   "source": [
    "price_concat = pd.concat((\n",
    "    cl_price,\n",
    "    ho_price,\n",
    "    xb_price,\n",
    "), axis=1).fillna(method='pad').dropna()"
   ]
  },
  {
   "cell_type": "code",
   "execution_count": 14,
   "id": "cf731a5e",
   "metadata": {
    "execution": {
     "iopub.execute_input": "2022-02-02T06:11:45.908243Z",
     "iopub.status.busy": "2022-02-02T06:11:45.907610Z",
     "iopub.status.idle": "2022-02-02T06:11:45.909359Z",
     "shell.execute_reply": "2022-02-02T06:11:45.909783Z",
     "shell.execute_reply.started": "2021-12-03T06:36:53.085796Z"
    },
    "papermill": {
     "duration": 0.072325,
     "end_time": "2022-02-02T06:11:45.909917",
     "exception": false,
     "start_time": "2022-02-02T06:11:45.837592",
     "status": "completed"
    },
    "tags": []
   },
   "outputs": [],
   "source": [
    "def coint(y: pd.Series, x: pd.DataFrame) -> pd.Series:\n",
    "    \"\"\" Run the cointegration test and return a cleaned result \"\"\"\n",
    "    result = sm.tsa.stattools.coint(y, x)\n",
    "    cleaned = {\n",
    "        't_value': result[0],\n",
    "        'p_value': result[1],\n",
    "        'ci_0.01': result[2][0],\n",
    "        'ci_0.05': result[2][1],\n",
    "        'ci_0.1': result[2][2],\n",
    "    }\n",
    "    return pd.Series(cleaned)"
   ]
  },
  {
   "cell_type": "code",
   "execution_count": 15,
   "id": "4299196b",
   "metadata": {
    "execution": {
     "iopub.execute_input": "2022-02-02T06:11:46.047504Z",
     "iopub.status.busy": "2022-02-02T06:11:46.046939Z",
     "iopub.status.idle": "2022-02-02T06:11:46.957181Z",
     "shell.execute_reply": "2022-02-02T06:11:46.957927Z",
     "shell.execute_reply.started": "2021-12-03T06:36:53.097640Z"
    },
    "papermill": {
     "duration": 0.98397,
     "end_time": "2022-02-02T06:11:46.958129",
     "exception": false,
     "start_time": "2022-02-02T06:11:45.974159",
     "status": "completed"
    },
    "tags": []
   },
   "outputs": [],
   "source": [
    "coint_result = pd.concat((\n",
    "    coint(\n",
    "        price_concat.loc[:'1994-11', 'Crude oil'],\n",
    "        price_concat.loc[:'1994-11', ['Heating oil', 'Gasoline']]\n",
    "    ).to_frame('CL vs HO + XB').T,\n",
    "    coint(\n",
    "        price_concat.loc[:'1994-11', 'Crude oil'],\n",
    "        price_concat.loc[:'1994-11', ['Gasoline']]\n",
    "    ).to_frame('CL vs XB').T,\n",
    "    coint(\n",
    "        price_concat.loc[:'1994-11', 'Crude oil'],\n",
    "        price_concat.loc[:'1994-11', ['Heating oil']]\n",
    "    ).to_frame('CL vs HO').T,\n",
    "))"
   ]
  },
  {
   "cell_type": "markdown",
   "id": "ea294ded",
   "metadata": {
    "papermill": {
     "duration": 0.063826,
     "end_time": "2022-02-02T06:11:47.132319",
     "exception": false,
     "start_time": "2022-02-02T06:11:47.068493",
     "status": "completed"
    },
    "tags": []
   },
   "source": [
    "The $H_0$ is that there is no cointegration. As per GP1999, all three crack spreads are cointegrated. "
   ]
  },
  {
   "cell_type": "code",
   "execution_count": 16,
   "id": "1824345d",
   "metadata": {
    "execution": {
     "iopub.execute_input": "2022-02-02T06:11:47.267662Z",
     "iopub.status.busy": "2022-02-02T06:11:47.267034Z",
     "iopub.status.idle": "2022-02-02T06:11:47.269282Z",
     "shell.execute_reply": "2022-02-02T06:11:47.269703Z",
     "shell.execute_reply.started": "2021-12-03T06:36:54.118494Z"
    },
    "papermill": {
     "duration": 0.074123,
     "end_time": "2022-02-02T06:11:47.269831",
     "exception": false,
     "start_time": "2022-02-02T06:11:47.195708",
     "status": "completed"
    },
    "tags": []
   },
   "outputs": [
    {
     "data": {
      "text/html": [
       "<div>\n",
       "<style scoped>\n",
       "    .dataframe tbody tr th:only-of-type {\n",
       "        vertical-align: middle;\n",
       "    }\n",
       "\n",
       "    .dataframe tbody tr th {\n",
       "        vertical-align: top;\n",
       "    }\n",
       "\n",
       "    .dataframe thead th {\n",
       "        text-align: right;\n",
       "    }\n",
       "</style>\n",
       "<table border=\"1\" class=\"dataframe\">\n",
       "  <thead>\n",
       "    <tr style=\"text-align: right;\">\n",
       "      <th></th>\n",
       "      <th>t_value</th>\n",
       "      <th>p_value</th>\n",
       "      <th>ci_0.01</th>\n",
       "      <th>ci_0.05</th>\n",
       "      <th>ci_0.1</th>\n",
       "    </tr>\n",
       "  </thead>\n",
       "  <tbody>\n",
       "    <tr>\n",
       "      <th>CL vs HO + XB</th>\n",
       "      <td>-6.110715</td>\n",
       "      <td>0.000005</td>\n",
       "      <td>-4.299485</td>\n",
       "      <td>-3.744067</td>\n",
       "      <td>-3.454651</td>\n",
       "    </tr>\n",
       "    <tr>\n",
       "      <th>CL vs XB</th>\n",
       "      <td>-5.762029</td>\n",
       "      <td>0.000005</td>\n",
       "      <td>-3.900800</td>\n",
       "      <td>-3.338561</td>\n",
       "      <td>-3.046137</td>\n",
       "    </tr>\n",
       "    <tr>\n",
       "      <th>CL vs HO</th>\n",
       "      <td>-5.708354</td>\n",
       "      <td>0.000007</td>\n",
       "      <td>-3.900800</td>\n",
       "      <td>-3.338561</td>\n",
       "      <td>-3.046137</td>\n",
       "    </tr>\n",
       "  </tbody>\n",
       "</table>\n",
       "</div>"
      ],
      "text/plain": [
       "                t_value   p_value   ci_0.01   ci_0.05    ci_0.1\n",
       "CL vs HO + XB -6.110715  0.000005 -4.299485 -3.744067 -3.454651\n",
       "CL vs XB      -5.762029  0.000005 -3.900800 -3.338561 -3.046137\n",
       "CL vs HO      -5.708354  0.000007 -3.900800 -3.338561 -3.046137"
      ]
     },
     "execution_count": 16,
     "metadata": {},
     "output_type": "execute_result"
    }
   ],
   "source": [
    "coint_result"
   ]
  },
  {
   "cell_type": "markdown",
   "id": "2f816c06",
   "metadata": {
    "papermill": {
     "duration": 0.064645,
     "end_time": "2022-02-02T06:11:47.398677",
     "exception": false,
     "start_time": "2022-02-02T06:11:47.334032",
     "status": "completed"
    },
    "tags": []
   },
   "source": [
    "This seems to hold with the full sample."
   ]
  },
  {
   "cell_type": "code",
   "execution_count": 17,
   "id": "467771dc",
   "metadata": {
    "execution": {
     "iopub.execute_input": "2022-02-02T06:11:47.543576Z",
     "iopub.status.busy": "2022-02-02T06:11:47.542564Z",
     "iopub.status.idle": "2022-02-02T06:11:52.314343Z",
     "shell.execute_reply": "2022-02-02T06:11:52.314971Z",
     "shell.execute_reply.started": "2021-12-03T06:36:54.136011Z"
    },
    "papermill": {
     "duration": 4.851243,
     "end_time": "2022-02-02T06:11:52.315173",
     "exception": false,
     "start_time": "2022-02-02T06:11:47.463930",
     "status": "completed"
    },
    "tags": []
   },
   "outputs": [
    {
     "data": {
      "text/html": [
       "<div>\n",
       "<style scoped>\n",
       "    .dataframe tbody tr th:only-of-type {\n",
       "        vertical-align: middle;\n",
       "    }\n",
       "\n",
       "    .dataframe tbody tr th {\n",
       "        vertical-align: top;\n",
       "    }\n",
       "\n",
       "    .dataframe thead th {\n",
       "        text-align: right;\n",
       "    }\n",
       "</style>\n",
       "<table border=\"1\" class=\"dataframe\">\n",
       "  <thead>\n",
       "    <tr style=\"text-align: right;\">\n",
       "      <th></th>\n",
       "      <th>t_value</th>\n",
       "      <th>p_value</th>\n",
       "      <th>ci_0.01</th>\n",
       "      <th>ci_0.05</th>\n",
       "      <th>ci_0.1</th>\n",
       "    </tr>\n",
       "  </thead>\n",
       "  <tbody>\n",
       "    <tr>\n",
       "      <th>CL vs HO + XB</th>\n",
       "      <td>-4.845935</td>\n",
       "      <td>1.412265e-03</td>\n",
       "      <td>-4.295286</td>\n",
       "      <td>-3.741577</td>\n",
       "      <td>-3.452845</td>\n",
       "    </tr>\n",
       "    <tr>\n",
       "      <th>CL vs XB</th>\n",
       "      <td>-6.791216</td>\n",
       "      <td>2.670647e-08</td>\n",
       "      <td>-3.897613</td>\n",
       "      <td>-3.336784</td>\n",
       "      <td>-3.044904</td>\n",
       "    </tr>\n",
       "    <tr>\n",
       "      <th>CL vs HO</th>\n",
       "      <td>-4.878794</td>\n",
       "      <td>2.733187e-04</td>\n",
       "      <td>-3.897613</td>\n",
       "      <td>-3.336784</td>\n",
       "      <td>-3.044904</td>\n",
       "    </tr>\n",
       "  </tbody>\n",
       "</table>\n",
       "</div>"
      ],
      "text/plain": [
       "                t_value       p_value   ci_0.01   ci_0.05    ci_0.1\n",
       "CL vs HO + XB -4.845935  1.412265e-03 -4.295286 -3.741577 -3.452845\n",
       "CL vs XB      -6.791216  2.670647e-08 -3.897613 -3.336784 -3.044904\n",
       "CL vs HO      -4.878794  2.733187e-04 -3.897613 -3.336784 -3.044904"
      ]
     },
     "execution_count": 17,
     "metadata": {},
     "output_type": "execute_result"
    }
   ],
   "source": [
    "pd.concat((\n",
    "    coint(\n",
    "        price_concat.loc[:, 'Crude oil'],\n",
    "        price_concat.loc[:, ['Heating oil', 'Gasoline']]\n",
    "    ).to_frame('CL vs HO + XB').T,\n",
    "    coint(\n",
    "        price_concat.loc[:, 'Crude oil'],\n",
    "        price_concat.loc[:, ['Gasoline']]\n",
    "    ).to_frame('CL vs XB').T,\n",
    "    coint(\n",
    "        price_concat.loc[:, 'Crude oil'],\n",
    "        price_concat.loc[:, ['Heating oil']]\n",
    "    ).to_frame('CL vs HO').T,\n",
    "))"
   ]
  },
  {
   "cell_type": "markdown",
   "id": "9107b072",
   "metadata": {
    "papermill": {
     "duration": 0.081065,
     "end_time": "2022-02-02T06:11:52.501562",
     "exception": false,
     "start_time": "2022-02-02T06:11:52.420497",
     "status": "completed"
    },
    "tags": []
   },
   "source": [
    "However the confidence level is somewhat weakend with recent data although they are at least still cointegrated at the 5% level."
   ]
  },
  {
   "cell_type": "code",
   "execution_count": 18,
   "id": "3898183b",
   "metadata": {
    "execution": {
     "iopub.execute_input": "2022-02-02T06:11:52.644861Z",
     "iopub.status.busy": "2022-02-02T06:11:52.644196Z",
     "iopub.status.idle": "2022-02-02T06:11:53.545593Z",
     "shell.execute_reply": "2022-02-02T06:11:53.546366Z",
     "shell.execute_reply.started": "2021-12-03T06:36:58.651001Z"
    },
    "papermill": {
     "duration": 0.979446,
     "end_time": "2022-02-02T06:11:53.546562",
     "exception": false,
     "start_time": "2022-02-02T06:11:52.567116",
     "status": "completed"
    },
    "tags": []
   },
   "outputs": [
    {
     "data": {
      "text/html": [
       "<div>\n",
       "<style scoped>\n",
       "    .dataframe tbody tr th:only-of-type {\n",
       "        vertical-align: middle;\n",
       "    }\n",
       "\n",
       "    .dataframe tbody tr th {\n",
       "        vertical-align: top;\n",
       "    }\n",
       "\n",
       "    .dataframe thead th {\n",
       "        text-align: right;\n",
       "    }\n",
       "</style>\n",
       "<table border=\"1\" class=\"dataframe\">\n",
       "  <thead>\n",
       "    <tr style=\"text-align: right;\">\n",
       "      <th></th>\n",
       "      <th>t_value</th>\n",
       "      <th>p_value</th>\n",
       "      <th>ci_0.01</th>\n",
       "      <th>ci_0.05</th>\n",
       "      <th>ci_0.1</th>\n",
       "    </tr>\n",
       "  </thead>\n",
       "  <tbody>\n",
       "    <tr>\n",
       "      <th>CL vs HO + XB</th>\n",
       "      <td>-4.037955</td>\n",
       "      <td>0.022058</td>\n",
       "      <td>-4.298486</td>\n",
       "      <td>-3.743474</td>\n",
       "      <td>-3.454222</td>\n",
       "    </tr>\n",
       "    <tr>\n",
       "      <th>CL vs XB</th>\n",
       "      <td>-4.808828</td>\n",
       "      <td>0.000364</td>\n",
       "      <td>-3.900041</td>\n",
       "      <td>-3.338138</td>\n",
       "      <td>-3.045844</td>\n",
       "    </tr>\n",
       "    <tr>\n",
       "      <th>CL vs HO</th>\n",
       "      <td>-3.896041</td>\n",
       "      <td>0.010045</td>\n",
       "      <td>-3.900041</td>\n",
       "      <td>-3.338138</td>\n",
       "      <td>-3.045844</td>\n",
       "    </tr>\n",
       "  </tbody>\n",
       "</table>\n",
       "</div>"
      ],
      "text/plain": [
       "                t_value   p_value   ci_0.01   ci_0.05    ci_0.1\n",
       "CL vs HO + XB -4.037955  0.022058 -4.298486 -3.743474 -3.454222\n",
       "CL vs XB      -4.808828  0.000364 -3.900041 -3.338138 -3.045844\n",
       "CL vs HO      -3.896041  0.010045 -3.900041 -3.338138 -3.045844"
      ]
     },
     "execution_count": 18,
     "metadata": {},
     "output_type": "execute_result"
    }
   ],
   "source": [
    "pd.concat((\n",
    "    coint(\n",
    "        price_concat.loc['2010':, 'Crude oil'],\n",
    "        price_concat.loc['2010':, ['Heating oil', 'Gasoline']]\n",
    "    ).to_frame('CL vs HO + XB').T,\n",
    "    coint(\n",
    "        price_concat.loc['2010':, 'Crude oil'],\n",
    "        price_concat.loc['2010':, ['Gasoline']]\n",
    "    ).to_frame('CL vs XB').T,\n",
    "    coint(\n",
    "        price_concat.loc['2010':, 'Crude oil'],\n",
    "        price_concat.loc['2010':, ['Heating oil']]\n",
    "    ).to_frame('CL vs HO').T,\n",
    "))"
   ]
  },
  {
   "cell_type": "markdown",
   "id": "f22325d0",
   "metadata": {
    "papermill": {
     "duration": 0.072369,
     "end_time": "2022-02-02T06:11:53.731843",
     "exception": false,
     "start_time": "2022-02-02T06:11:53.659474",
     "status": "completed"
    },
    "tags": []
   },
   "source": [
    "## Crack spreads\n",
    "\n",
    "Additionally, GP1999 tests the stationarity of the popularly traded crack spread -- 3:2:1 crack spread (CS), 1:1:0 gasoline crack spread (GCS) and 1:0:1 heating oil crack spread (HOCS).\n",
    "\n",
    "Note that the crude oil contract is priced in barrels while the other two are priced in gallon, and there are 42 gallons per 1 barrel. Some unit conversions are required to calculate such spreads."
   ]
  },
  {
   "cell_type": "code",
   "execution_count": 19,
   "id": "015bb3e9",
   "metadata": {
    "execution": {
     "iopub.execute_input": "2022-02-02T06:11:53.894562Z",
     "iopub.status.busy": "2022-02-02T06:11:53.893945Z",
     "iopub.status.idle": "2022-02-02T06:11:53.897692Z",
     "shell.execute_reply": "2022-02-02T06:11:53.897186Z",
     "shell.execute_reply.started": "2021-12-03T06:37:00.212361Z"
    },
    "papermill": {
     "duration": 0.089879,
     "end_time": "2022-02-02T06:11:53.897852",
     "exception": false,
     "start_time": "2022-02-02T06:11:53.807973",
     "status": "completed"
    },
    "tags": []
   },
   "outputs": [],
   "source": [
    "cs = (price_concat['Heating oil'].mul(42).mul(2 / 3) + \n",
    "      price_concat['Gasoline'].mul(42).mul(1 / 3) - \n",
    "      price_concat['Crude oil'])\n",
    "gcs = (price_concat['Gasoline'].mul(42) - \n",
    "       price_concat['Crude oil'])\n",
    "hocs = (price_concat['Heating oil'].mul(42) - \n",
    "        price_concat['Crude oil'])"
   ]
  },
  {
   "cell_type": "markdown",
   "id": "6608463f",
   "metadata": {
    "papermill": {
     "duration": 0.06559,
     "end_time": "2022-02-02T06:11:54.030370",
     "exception": false,
     "start_time": "2022-02-02T06:11:53.964780",
     "status": "completed"
    },
    "tags": []
   },
   "source": [
    "As can be seen visually below, these spreads appear stationary until around 2000 after which they started to drift away from a certain level. This could be related to the financialisation of commodities. There are some evidence suggesting that index investments and speculative trades influence the commodity markets. (cf https://www.ecb.europa.eu/pub/financial-stability/fsr/focus/2011/pdf/ecb~6fdfdfce1c.fsrbox201112_04.pdf)"
   ]
  },
  {
   "cell_type": "code",
   "execution_count": 20,
   "id": "0b27db24",
   "metadata": {
    "execution": {
     "iopub.execute_input": "2022-02-02T06:11:54.190373Z",
     "iopub.status.busy": "2022-02-02T06:11:54.187302Z",
     "iopub.status.idle": "2022-02-02T06:11:54.905159Z",
     "shell.execute_reply": "2022-02-02T06:11:54.905829Z",
     "shell.execute_reply.started": "2021-12-03T06:37:00.228669Z"
    },
    "papermill": {
     "duration": 0.81018,
     "end_time": "2022-02-02T06:11:54.906032",
     "exception": false,
     "start_time": "2022-02-02T06:11:54.095852",
     "status": "completed"
    },
    "tags": []
   },
   "outputs": [
    {
     "data": {
      "image/png": "[encoded data removed]",
      "text/plain": [
       "<Figure size 864x288 with 3 Axes>"
      ]
     },
     "metadata": {
      "needs_background": "light"
     },
     "output_type": "display_data"
    }
   ],
   "source": [
    "fig, ax = plt.subplots(1, 3, figsize=(12, 4), sharey=True)\n",
    "cs.plot(ax=ax[0])\n",
    "gcs.plot(ax=ax[1])\n",
    "hocs.plot(ax=ax[2])\n",
    "\n",
    "ax[0].set_title('3:2:1 crack spread')\n",
    "ax[1].set_title('1:1:0 gasoline crack spread')\n",
    "ax[2].set_title('1:0:1 heating oil crack spread')\n",
    "ax[0].set_ylabel('Crack spread ($)')\n",
    "\n",
    "fig.tight_layout();"
   ]
  },
  {
   "cell_type": "markdown",
   "id": "ddba6b40",
   "metadata": {
    "papermill": {
     "duration": 0.067855,
     "end_time": "2022-02-02T06:11:55.059625",
     "exception": false,
     "start_time": "2022-02-02T06:11:54.991770",
     "status": "completed"
    },
    "tags": []
   },
   "source": [
    "More formally, the ADF tests below show that they were stationary until Nov-1994."
   ]
  },
  {
   "cell_type": "code",
   "execution_count": 21,
   "id": "bd58dd0b",
   "metadata": {
    "execution": {
     "iopub.execute_input": "2022-02-02T06:11:55.202317Z",
     "iopub.status.busy": "2022-02-02T06:11:55.201758Z",
     "iopub.status.idle": "2022-02-02T06:11:55.575788Z",
     "shell.execute_reply": "2022-02-02T06:11:55.577000Z",
     "shell.execute_reply.started": "2021-12-03T06:37:00.926032Z"
    },
    "papermill": {
     "duration": 0.44986,
     "end_time": "2022-02-02T06:11:55.577266",
     "exception": false,
     "start_time": "2022-02-02T06:11:55.127406",
     "status": "completed"
    },
    "tags": []
   },
   "outputs": [
    {
     "data": {
      "text/html": [
       "<div>\n",
       "<style scoped>\n",
       "    .dataframe tbody tr th:only-of-type {\n",
       "        vertical-align: middle;\n",
       "    }\n",
       "\n",
       "    .dataframe tbody tr th {\n",
       "        vertical-align: top;\n",
       "    }\n",
       "\n",
       "    .dataframe thead th {\n",
       "        text-align: right;\n",
       "    }\n",
       "</style>\n",
       "<table border=\"1\" class=\"dataframe\">\n",
       "  <thead>\n",
       "    <tr style=\"text-align: right;\">\n",
       "      <th></th>\n",
       "      <th>adf</th>\n",
       "      <th>p_value</th>\n",
       "      <th>used_lag</th>\n",
       "      <th>n_obs</th>\n",
       "      <th>ci_0.01</th>\n",
       "      <th>ci_0.05</th>\n",
       "      <th>ci_0.1</th>\n",
       "      <th>ic_best</th>\n",
       "    </tr>\n",
       "  </thead>\n",
       "  <tbody>\n",
       "    <tr>\n",
       "      <th>0</th>\n",
       "      <td>-7.926287</td>\n",
       "      <td>3.611421e-12</td>\n",
       "      <td>0.0</td>\n",
       "      <td>2515.0</td>\n",
       "      <td>-3.432953</td>\n",
       "      <td>-2.86269</td>\n",
       "      <td>-2.567382</td>\n",
       "      <td>1757.165999</td>\n",
       "    </tr>\n",
       "    <tr>\n",
       "      <th>0</th>\n",
       "      <td>-5.640046</td>\n",
       "      <td>1.041538e-06</td>\n",
       "      <td>1.0</td>\n",
       "      <td>2514.0</td>\n",
       "      <td>-3.432954</td>\n",
       "      <td>-2.86269</td>\n",
       "      <td>-2.567382</td>\n",
       "      <td>2505.871051</td>\n",
       "    </tr>\n",
       "    <tr>\n",
       "      <th>0</th>\n",
       "      <td>-6.999952</td>\n",
       "      <td>7.365777e-10</td>\n",
       "      <td>0.0</td>\n",
       "      <td>2515.0</td>\n",
       "      <td>-3.432953</td>\n",
       "      <td>-2.86269</td>\n",
       "      <td>-2.567382</td>\n",
       "      <td>2815.457971</td>\n",
       "    </tr>\n",
       "  </tbody>\n",
       "</table>\n",
       "</div>"
      ],
      "text/plain": [
       "        adf       p_value  used_lag   n_obs   ci_0.01  ci_0.05    ci_0.1  \\\n",
       "0 -7.926287  3.611421e-12       0.0  2515.0 -3.432953 -2.86269 -2.567382   \n",
       "0 -5.640046  1.041538e-06       1.0  2514.0 -3.432954 -2.86269 -2.567382   \n",
       "0 -6.999952  7.365777e-10       0.0  2515.0 -3.432953 -2.86269 -2.567382   \n",
       "\n",
       "       ic_best  \n",
       "0  1757.165999  \n",
       "0  2505.871051  \n",
       "0  2815.457971  "
      ]
     },
     "execution_count": 21,
     "metadata": {},
     "output_type": "execute_result"
    }
   ],
   "source": [
    "pd.concat((\n",
    "    adf(cs[:'1994-11'], autolag='BIC').to_frame().T,\n",
    "    adf(gcs[:'1994-11'], autolag='BIC').to_frame().T,\n",
    "    adf(hocs[:'1994-11'], autolag='BIC').to_frame().T,\n",
    "))"
   ]
  },
  {
   "cell_type": "markdown",
   "id": "6e2c8692",
   "metadata": {
    "papermill": {
     "duration": 0.070491,
     "end_time": "2022-02-02T06:11:55.742365",
     "exception": false,
     "start_time": "2022-02-02T06:11:55.671874",
     "status": "completed"
    },
    "tags": []
   },
   "source": [
    "Statistically though these spreads are still stationary at the 1% confidence level even after 2000."
   ]
  },
  {
   "cell_type": "code",
   "execution_count": 22,
   "id": "d3f9d7a9",
   "metadata": {
    "execution": {
     "iopub.execute_input": "2022-02-02T06:11:55.885498Z",
     "iopub.status.busy": "2022-02-02T06:11:55.884921Z",
     "iopub.status.idle": "2022-02-02T06:11:57.461942Z",
     "shell.execute_reply": "2022-02-02T06:11:57.462970Z",
     "shell.execute_reply.started": "2021-12-03T06:37:01.658276Z"
    },
    "papermill": {
     "duration": 1.652051,
     "end_time": "2022-02-02T06:11:57.463210",
     "exception": false,
     "start_time": "2022-02-02T06:11:55.811159",
     "status": "completed"
    },
    "tags": []
   },
   "outputs": [
    {
     "data": {
      "text/html": [
       "<div>\n",
       "<style scoped>\n",
       "    .dataframe tbody tr th:only-of-type {\n",
       "        vertical-align: middle;\n",
       "    }\n",
       "\n",
       "    .dataframe tbody tr th {\n",
       "        vertical-align: top;\n",
       "    }\n",
       "\n",
       "    .dataframe thead th {\n",
       "        text-align: right;\n",
       "    }\n",
       "</style>\n",
       "<table border=\"1\" class=\"dataframe\">\n",
       "  <thead>\n",
       "    <tr style=\"text-align: right;\">\n",
       "      <th></th>\n",
       "      <th>adf</th>\n",
       "      <th>p_value</th>\n",
       "      <th>used_lag</th>\n",
       "      <th>n_obs</th>\n",
       "      <th>ci_0.01</th>\n",
       "      <th>ci_0.05</th>\n",
       "      <th>ci_0.1</th>\n",
       "      <th>ic_best</th>\n",
       "    </tr>\n",
       "  </thead>\n",
       "  <tbody>\n",
       "    <tr>\n",
       "      <th>0</th>\n",
       "      <td>-3.685288</td>\n",
       "      <td>0.004325</td>\n",
       "      <td>0.0</td>\n",
       "      <td>5546.0</td>\n",
       "      <td>-3.43153</td>\n",
       "      <td>-2.862061</td>\n",
       "      <td>-2.567047</td>\n",
       "      <td>13207.559861</td>\n",
       "    </tr>\n",
       "    <tr>\n",
       "      <th>0</th>\n",
       "      <td>-5.383971</td>\n",
       "      <td>0.000004</td>\n",
       "      <td>0.0</td>\n",
       "      <td>5546.0</td>\n",
       "      <td>-3.43153</td>\n",
       "      <td>-2.862061</td>\n",
       "      <td>-2.567047</td>\n",
       "      <td>17360.200444</td>\n",
       "    </tr>\n",
       "    <tr>\n",
       "      <th>0</th>\n",
       "      <td>-3.416286</td>\n",
       "      <td>0.010416</td>\n",
       "      <td>0.0</td>\n",
       "      <td>5546.0</td>\n",
       "      <td>-3.43153</td>\n",
       "      <td>-2.862061</td>\n",
       "      <td>-2.567047</td>\n",
       "      <td>13861.499996</td>\n",
       "    </tr>\n",
       "  </tbody>\n",
       "</table>\n",
       "</div>"
      ],
      "text/plain": [
       "        adf   p_value  used_lag   n_obs  ci_0.01   ci_0.05    ci_0.1  \\\n",
       "0 -3.685288  0.004325       0.0  5546.0 -3.43153 -2.862061 -2.567047   \n",
       "0 -5.383971  0.000004       0.0  5546.0 -3.43153 -2.862061 -2.567047   \n",
       "0 -3.416286  0.010416       0.0  5546.0 -3.43153 -2.862061 -2.567047   \n",
       "\n",
       "        ic_best  \n",
       "0  13207.559861  \n",
       "0  17360.200444  \n",
       "0  13861.499996  "
      ]
     },
     "execution_count": 22,
     "metadata": {},
     "output_type": "execute_result"
    }
   ],
   "source": [
    "pd.concat((\n",
    "    adf(cs['2000':], autolag='BIC').to_frame().T,\n",
    "    adf(gcs['2000':], autolag='BIC').to_frame().T,\n",
    "    adf(hocs['2000':], autolag='BIC').to_frame().T,\n",
    "))"
   ]
  },
  {
   "cell_type": "markdown",
   "id": "eb6c197c",
   "metadata": {
    "papermill": {
     "duration": 0.068608,
     "end_time": "2022-02-02T06:11:57.625914",
     "exception": false,
     "start_time": "2022-02-02T06:11:57.557306",
     "status": "completed"
    },
    "tags": []
   },
   "source": [
    "# Backtest"
   ]
  },
  {
   "cell_type": "markdown",
   "id": "4bbb1506",
   "metadata": {
    "papermill": {
     "duration": 0.067354,
     "end_time": "2022-02-02T06:11:57.761061",
     "exception": false,
     "start_time": "2022-02-02T06:11:57.693707",
     "status": "completed"
    },
    "tags": []
   },
   "source": [
    "It's not entirely clear how many back contracts are used in the original analysis as they only mentioned they used *all spreads*. In this notebook, the first 6 contracts are used for the sake of simplicity. Beyond 6, there tends to be more missing prices because of inactivity.\n",
    "\n",
    "In practice, one might want to consider liquidity of each contract to decide which one to trade as not all contract months have the same liquidity. In the case of crude oil, after certain points only June and December contracts are actually traded even though other months are listed."
   ]
  },
  {
   "cell_type": "code",
   "execution_count": 23,
   "id": "4aebb8bd",
   "metadata": {
    "execution": {
     "iopub.execute_input": "2022-02-02T06:11:57.900547Z",
     "iopub.status.busy": "2022-02-02T06:11:57.900002Z",
     "iopub.status.idle": "2022-02-02T06:11:58.488811Z",
     "shell.execute_reply": "2022-02-02T06:11:58.488089Z",
     "shell.execute_reply.started": "2021-12-03T06:37:02.717053Z"
    },
    "papermill": {
     "duration": 0.660164,
     "end_time": "2022-02-02T06:11:58.488957",
     "exception": false,
     "start_time": "2022-02-02T06:11:57.828793",
     "status": "completed"
    },
    "tags": []
   },
   "outputs": [],
   "source": [
    "cl_curve = get_futures_curve_snapshot('CL', datetime(2021, 12, 1), 'volume')"
   ]
  },
  {
   "cell_type": "code",
   "execution_count": 24,
   "id": "c2bd035a",
   "metadata": {
    "execution": {
     "iopub.execute_input": "2022-02-02T06:11:58.660727Z",
     "iopub.status.busy": "2022-02-02T06:11:58.636249Z",
     "iopub.status.idle": "2022-02-02T06:11:59.111396Z",
     "shell.execute_reply": "2022-02-02T06:11:59.110843Z",
     "shell.execute_reply.started": "2021-12-03T06:37:03.317876Z"
    },
    "papermill": {
     "duration": 0.553467,
     "end_time": "2022-02-02T06:11:59.111509",
     "exception": false,
     "start_time": "2022-02-02T06:11:58.558042",
     "status": "completed"
    },
    "tags": []
   },
   "outputs": [
    {
     "data": {
      "image/png": "[encoded data removed]",
      "text/plain": [
       "<Figure size 1008x216 with 1 Axes>"
      ]
     },
     "metadata": {
      "needs_background": "light"
     },
     "output_type": "display_data"
    }
   ],
   "source": [
    "ax = cl_curve.loc[:'2024'].set_index('symbol')['volume'].plot(kind='bar', figsize=(14, 3));\n",
    "ax.set_ylabel('Volume')\n",
    "ax.set_title('Crude oil traded volume per contract');"
   ]
  },
  {
   "cell_type": "markdown",
   "id": "9de6acec",
   "metadata": {
    "papermill": {
     "duration": 0.070465,
     "end_time": "2022-02-02T06:11:59.252314",
     "exception": false,
     "start_time": "2022-02-02T06:11:59.181849",
     "status": "completed"
    },
    "tags": []
   },
   "source": [
    "## Crack spread\n",
    "\n",
    "First define the instruments. `roll_rule` is defined to make sure futures are rolled on month-ends. As per the analysis done for crush spreads, some arbitrary collateral of 100k USD is used to meature futures returns."
   ]
  },
  {
   "cell_type": "code",
   "execution_count": 25,
   "id": "5d159539",
   "metadata": {
    "execution": {
     "iopub.execute_input": "2022-02-02T06:11:59.407261Z",
     "iopub.status.busy": "2022-02-02T06:11:59.406647Z",
     "iopub.status.idle": "2022-02-02T06:11:59.408287Z",
     "shell.execute_reply": "2022-02-02T06:11:59.408713Z",
     "shell.execute_reply.started": "2021-12-03T06:37:03.702667Z"
    },
    "papermill": {
     "duration": 0.078405,
     "end_time": "2022-02-02T06:11:59.408846",
     "exception": false,
     "start_time": "2022-02-02T06:11:59.330441",
     "status": "completed"
    },
    "tags": []
   },
   "outputs": [],
   "source": [
    "max_expiry = 6\n",
    "instrument = []\n",
    "for i in range(1, max_expiry + 1):\n",
    "    ho = InstrumentDef('HO', id=f'HO_{i}', collateral=100_000, roll_rule=RollRule.MONTH_END.value, nth_expiry=i)\n",
    "    xb = InstrumentDef('XB', id=f'XB_{i}', collateral=100_000, roll_rule=RollRule.MONTH_END.value, nth_expiry=i)\n",
    "    cl = InstrumentDef('CL', id=f'CL_{i}', collateral=100_000, roll_rule=RollRule.MONTH_END.value, nth_expiry=i)\n",
    "    instrument.append(ho)\n",
    "    instrument.append(xb)\n",
    "    instrument.append(cl)"
   ]
  },
  {
   "cell_type": "code",
   "execution_count": 26,
   "id": "19851a3b",
   "metadata": {
    "execution": {
     "iopub.execute_input": "2022-02-02T06:11:59.552960Z",
     "iopub.status.busy": "2022-02-02T06:11:59.552322Z",
     "iopub.status.idle": "2022-02-02T06:11:59.554863Z",
     "shell.execute_reply": "2022-02-02T06:11:59.555291Z",
     "shell.execute_reply.started": "2021-12-03T06:37:03.708075Z"
    },
    "papermill": {
     "duration": 0.077344,
     "end_time": "2022-02-02T06:11:59.555429",
     "exception": false,
     "start_time": "2022-02-02T06:11:59.478085",
     "status": "completed"
    },
    "tags": []
   },
   "outputs": [
    {
     "data": {
      "text/plain": [
       "18"
      ]
     },
     "execution_count": 26,
     "metadata": {},
     "output_type": "execute_result"
    }
   ],
   "source": [
    "len(instrument)"
   ]
  },
  {
   "cell_type": "code",
   "execution_count": 27,
   "id": "729399c3",
   "metadata": {
    "execution": {
     "iopub.execute_input": "2022-02-02T06:11:59.712679Z",
     "iopub.status.busy": "2022-02-02T06:11:59.712120Z",
     "iopub.status.idle": "2022-02-02T06:17:42.920370Z",
     "shell.execute_reply": "2022-02-02T06:17:42.921036Z",
     "shell.execute_reply.started": "2021-12-03T06:37:03.728155Z"
    },
    "papermill": {
     "duration": 343.283685,
     "end_time": "2022-02-02T06:17:42.921246",
     "exception": false,
     "start_time": "2022-02-02T06:11:59.637561",
     "status": "completed"
    },
    "tags": []
   },
   "outputs": [],
   "source": [
    "engine_cs = BacktestEngine(\n",
    "    start_date=datetime(1985, 1, 1),\n",
    "    strategy=Strategy.DELTA_ONE.value,\n",
    "    instrument=instrument,\n",
    "    signal=signal.CrackSpreadGP1999(\n",
    "        ma_lookback=5,\n",
    "        entry_sigma=2,\n",
    "    ),\n",
    "    weighting=Weighting.SUM.value,\n",
    "    log_level=logging.WARN,\n",
    ")\n",
    "engine_cs.run()"
   ]
  },
  {
   "cell_type": "code",
   "execution_count": 28,
   "id": "f08e3ad6",
   "metadata": {
    "execution": {
     "iopub.execute_input": "2022-02-02T06:17:43.192768Z",
     "iopub.status.busy": "2022-02-02T06:17:43.155355Z",
     "iopub.status.idle": "2022-02-02T06:19:06.847518Z",
     "shell.execute_reply": "2022-02-02T06:19:06.847027Z",
     "shell.execute_reply.started": "2021-12-03T06:42:16.903750Z"
    },
    "papermill": {
     "duration": 83.826638,
     "end_time": "2022-02-02T06:19:06.847634",
     "exception": false,
     "start_time": "2022-02-02T06:17:43.020996",
     "status": "completed"
    },
    "tags": []
   },
   "outputs": [],
   "source": [
    "levels_cs = engine_cs.calculate_equity_curve(calculate_net=False).rename('Crack spread')"
   ]
  },
  {
   "cell_type": "markdown",
   "id": "46f2eaf9",
   "metadata": {
    "papermill": {
     "duration": 0.068806,
     "end_time": "2022-02-02T06:19:06.985674",
     "exception": false,
     "start_time": "2022-02-02T06:19:06.916868",
     "status": "completed"
    },
    "tags": []
   },
   "source": [
    "## Gasoline crack spread"
   ]
  },
  {
   "cell_type": "code",
   "execution_count": 29,
   "id": "ea2825c3",
   "metadata": {
    "execution": {
     "iopub.execute_input": "2022-02-02T06:19:07.129353Z",
     "iopub.status.busy": "2022-02-02T06:19:07.128659Z",
     "iopub.status.idle": "2022-02-02T06:19:07.130342Z",
     "shell.execute_reply": "2022-02-02T06:19:07.130765Z",
     "shell.execute_reply.started": "2021-12-03T06:43:30.816159Z"
    },
    "papermill": {
     "duration": 0.076365,
     "end_time": "2022-02-02T06:19:07.130896",
     "exception": false,
     "start_time": "2022-02-02T06:19:07.054531",
     "status": "completed"
    },
    "tags": []
   },
   "outputs": [],
   "source": [
    "max_expiry = 6\n",
    "instrument = []\n",
    "for i in range(1, max_expiry + 1):\n",
    "    xb = InstrumentDef('XB', id=f'XB_{i}', collateral=100_000, roll_rule=RollRule.MONTH_END.value, nth_expiry=i)\n",
    "    cl = InstrumentDef('CL', id=f'CL_{i}', collateral=100_000, roll_rule=RollRule.MONTH_END.value, nth_expiry=i)\n",
    "    instrument.append(xb)\n",
    "    instrument.append(cl)"
   ]
  },
  {
   "cell_type": "code",
   "execution_count": 30,
   "id": "553fbe4b",
   "metadata": {
    "execution": {
     "iopub.execute_input": "2022-02-02T06:19:07.276086Z",
     "iopub.status.busy": "2022-02-02T06:19:07.275534Z",
     "iopub.status.idle": "2022-02-02T06:22:54.623198Z",
     "shell.execute_reply": "2022-02-02T06:22:54.622624Z",
     "shell.execute_reply.started": "2021-12-03T06:43:30.820603Z"
    },
    "papermill": {
     "duration": 227.423519,
     "end_time": "2022-02-02T06:22:54.623324",
     "exception": false,
     "start_time": "2022-02-02T06:19:07.199805",
     "status": "completed"
    },
    "tags": []
   },
   "outputs": [],
   "source": [
    "engine_gcs = BacktestEngine(\n",
    "    start_date=datetime(1985, 1, 1),\n",
    "    strategy=Strategy.DELTA_ONE.value,\n",
    "    instrument=instrument,\n",
    "    signal=signal.CrackSpreadGP1999(\n",
    "        weights={'XB': 42 * 1000, 'CL': -1 * 1000},\n",
    "        ma_lookback=5,\n",
    "        entry_sigma=2,\n",
    "    ),\n",
    "    weighting=Weighting.SUM.value,\n",
    "    log_level=logging.WARN,\n",
    ")\n",
    "engine_gcs.run()"
   ]
  },
  {
   "cell_type": "code",
   "execution_count": 31,
   "id": "4d87519a",
   "metadata": {
    "execution": {
     "iopub.execute_input": "2022-02-02T06:22:55.059000Z",
     "iopub.status.busy": "2022-02-02T06:22:55.009734Z",
     "iopub.status.idle": "2022-02-02T06:23:47.243462Z",
     "shell.execute_reply": "2022-02-02T06:23:47.242933Z",
     "shell.execute_reply.started": "2021-12-03T06:46:36.439575Z"
    },
    "papermill": {
     "duration": 52.549044,
     "end_time": "2022-02-02T06:23:47.243583",
     "exception": false,
     "start_time": "2022-02-02T06:22:54.694539",
     "status": "completed"
    },
    "tags": []
   },
   "outputs": [],
   "source": [
    "levels_gcs = engine_gcs.calculate_equity_curve(calculate_net=False).rename('Gasoline crack spread')"
   ]
  },
  {
   "cell_type": "markdown",
   "id": "8d456942",
   "metadata": {
    "papermill": {
     "duration": 0.074564,
     "end_time": "2022-02-02T06:23:47.387302",
     "exception": false,
     "start_time": "2022-02-02T06:23:47.312738",
     "status": "completed"
    },
    "tags": []
   },
   "source": [
    "## Heating oil crack spread"
   ]
  },
  {
   "cell_type": "code",
   "execution_count": 32,
   "id": "9cb7c150",
   "metadata": {
    "execution": {
     "iopub.execute_input": "2022-02-02T06:23:47.530461Z",
     "iopub.status.busy": "2022-02-02T06:23:47.529930Z",
     "iopub.status.idle": "2022-02-02T06:23:47.532088Z",
     "shell.execute_reply": "2022-02-02T06:23:47.531651Z",
     "shell.execute_reply.started": "2021-12-03T06:47:22.681997Z"
    },
    "papermill": {
     "duration": 0.075682,
     "end_time": "2022-02-02T06:23:47.532199",
     "exception": false,
     "start_time": "2022-02-02T06:23:47.456517",
     "status": "completed"
    },
    "tags": []
   },
   "outputs": [],
   "source": [
    "max_expiry = 6\n",
    "instrument = []\n",
    "for i in range(1, max_expiry + 1):\n",
    "    ho = InstrumentDef('HO', id=f'HO_{i}', collateral=100_000, roll_rule=RollRule.MONTH_END.value, nth_expiry=i)\n",
    "    cl = InstrumentDef('CL', id=f'CL_{i}', collateral=100_000, roll_rule=RollRule.MONTH_END.value, nth_expiry=i)\n",
    "    instrument.append(ho)\n",
    "    instrument.append(cl)"
   ]
  },
  {
   "cell_type": "code",
   "execution_count": 33,
   "id": "9338a131",
   "metadata": {
    "execution": {
     "iopub.execute_input": "2022-02-02T06:23:47.676238Z",
     "iopub.status.busy": "2022-02-02T06:23:47.675702Z",
     "iopub.status.idle": "2022-02-02T06:27:30.160983Z",
     "shell.execute_reply": "2022-02-02T06:27:30.160472Z",
     "shell.execute_reply.started": "2021-12-03T06:47:22.686616Z"
    },
    "papermill": {
     "duration": 222.559827,
     "end_time": "2022-02-02T06:27:30.161121",
     "exception": false,
     "start_time": "2022-02-02T06:23:47.601294",
     "status": "completed"
    },
    "tags": []
   },
   "outputs": [],
   "source": [
    "engine_hocs = BacktestEngine(\n",
    "    start_date=datetime(1985, 1, 1),\n",
    "    strategy=Strategy.DELTA_ONE.value,\n",
    "    instrument=instrument,\n",
    "    signal=signal.CrackSpreadGP1999(\n",
    "        weights={'HO': 42 * 1000, 'CL': -1 * 1000},\n",
    "        ma_lookback=5,\n",
    "        entry_sigma=2,\n",
    "    ),\n",
    "    weighting=Weighting.SUM.value,\n",
    "    log_level=logging.WARN,\n",
    ")\n",
    "engine_hocs.run()"
   ]
  },
  {
   "cell_type": "code",
   "execution_count": 34,
   "id": "64757694",
   "metadata": {
    "execution": {
     "iopub.execute_input": "2022-02-02T06:27:30.578982Z",
     "iopub.status.busy": "2022-02-02T06:27:30.578283Z",
     "iopub.status.idle": "2022-02-02T06:28:20.614437Z",
     "shell.execute_reply": "2022-02-02T06:28:20.613984Z",
     "shell.execute_reply.started": "2021-12-03T06:50:35.660726Z"
    },
    "papermill": {
     "duration": 50.372512,
     "end_time": "2022-02-02T06:28:20.614553",
     "exception": false,
     "start_time": "2022-02-02T06:27:30.242041",
     "status": "completed"
    },
    "tags": []
   },
   "outputs": [],
   "source": [
    "levels_hocs = engine_hocs.calculate_equity_curve(calculate_net=False).rename('Heating oil crack spread')"
   ]
  },
  {
   "cell_type": "markdown",
   "id": "7d427481",
   "metadata": {
    "papermill": {
     "duration": 0.071147,
     "end_time": "2022-02-02T06:28:20.758168",
     "exception": false,
     "start_time": "2022-02-02T06:28:20.687021",
     "status": "completed"
    },
    "tags": []
   },
   "source": [
    "## Performance\n",
    "During the sample period tested, a mean-reversion on the crack spread worked well."
   ]
  },
  {
   "cell_type": "code",
   "execution_count": 35,
   "id": "348f0796",
   "metadata": {
    "execution": {
     "iopub.execute_input": "2022-02-02T06:28:20.910225Z",
     "iopub.status.busy": "2022-02-02T06:28:20.909697Z",
     "iopub.status.idle": "2022-02-02T06:28:20.918424Z",
     "shell.execute_reply": "2022-02-02T06:28:20.918825Z",
     "shell.execute_reply.started": "2021-12-03T06:51:19.449738Z"
    },
    "papermill": {
     "duration": 0.089608,
     "end_time": "2022-02-02T06:28:20.918961",
     "exception": false,
     "start_time": "2022-02-02T06:28:20.829353",
     "status": "completed"
    },
    "tags": []
   },
   "outputs": [],
   "source": [
    "levels = pd.concat((\n",
    "    levels_cs, levels_gcs, levels_hocs\n",
    "), axis=1)"
   ]
  },
  {
   "cell_type": "code",
   "execution_count": 36,
   "id": "c3b6f7cd",
   "metadata": {
    "execution": {
     "iopub.execute_input": "2022-02-02T06:28:21.086051Z",
     "iopub.status.busy": "2022-02-02T06:28:21.085510Z",
     "iopub.status.idle": "2022-02-02T06:28:21.816206Z",
     "shell.execute_reply": "2022-02-02T06:28:21.816842Z",
     "shell.execute_reply.started": "2021-12-03T06:51:19.460778Z"
    },
    "papermill": {
     "duration": 0.826139,
     "end_time": "2022-02-02T06:28:21.817025",
     "exception": false,
     "start_time": "2022-02-02T06:28:20.990886",
     "status": "completed"
    },
    "tags": []
   },
   "outputs": [
    {
     "data": {
      "image/png": "[encoded data removed]",
      "text/plain": [
       "<Figure size 576x324 with 1 Axes>"
      ]
     },
     "metadata": {
      "needs_background": "light"
     },
     "output_type": "display_data"
    }
   ],
   "source": [
    "fig, ax = plt.subplots(figsize=(8, 4.5))\n",
    "levels[:'1994-11'].plot(ax=ax, logy=True);\n",
    "ax.set_title('Crack spreads mean-reversion (GP1999)')\n",
    "ax.set_ylabel('Cumulative returns');"
   ]
  },
  {
   "cell_type": "code",
   "execution_count": 37,
   "id": "8b9035a4",
   "metadata": {
    "execution": {
     "iopub.execute_input": "2022-02-02T06:28:21.977838Z",
     "iopub.status.busy": "2022-02-02T06:28:21.977327Z",
     "iopub.status.idle": "2022-02-02T06:28:22.017999Z",
     "shell.execute_reply": "2022-02-02T06:28:22.018444Z",
     "shell.execute_reply.started": "2021-12-03T06:51:20.052589Z"
    },
    "papermill": {
     "duration": 0.115562,
     "end_time": "2022-02-02T06:28:22.018572",
     "exception": false,
     "start_time": "2022-02-02T06:28:21.903010",
     "status": "completed"
    },
    "tags": []
   },
   "outputs": [
    {
     "data": {
      "text/html": [
       "<div>\n",
       "<style scoped>\n",
       "    .dataframe tbody tr th:only-of-type {\n",
       "        vertical-align: middle;\n",
       "    }\n",
       "\n",
       "    .dataframe tbody tr th {\n",
       "        vertical-align: top;\n",
       "    }\n",
       "\n",
       "    .dataframe thead th {\n",
       "        text-align: right;\n",
       "    }\n",
       "</style>\n",
       "<table border=\"1\" class=\"dataframe\">\n",
       "  <thead>\n",
       "    <tr style=\"text-align: right;\">\n",
       "      <th></th>\n",
       "      <th>Crack spread</th>\n",
       "      <th>Gasoline crack spread</th>\n",
       "      <th>Heating oil crack spread</th>\n",
       "    </tr>\n",
       "  </thead>\n",
       "  <tbody>\n",
       "    <tr>\n",
       "      <th>CAGR</th>\n",
       "      <td>0.014100</td>\n",
       "      <td>0.007241</td>\n",
       "      <td>0.011715</td>\n",
       "    </tr>\n",
       "    <tr>\n",
       "      <th>Annualised vol</th>\n",
       "      <td>0.018131</td>\n",
       "      <td>0.022948</td>\n",
       "      <td>0.017725</td>\n",
       "    </tr>\n",
       "    <tr>\n",
       "      <th>Sharpe ratio</th>\n",
       "      <td>0.777675</td>\n",
       "      <td>0.315525</td>\n",
       "      <td>0.660914</td>\n",
       "    </tr>\n",
       "    <tr>\n",
       "      <th>Max drawdown</th>\n",
       "      <td>0.071648</td>\n",
       "      <td>0.129760</td>\n",
       "      <td>0.044562</td>\n",
       "    </tr>\n",
       "    <tr>\n",
       "      <th>Calmar ratio</th>\n",
       "      <td>0.196791</td>\n",
       "      <td>0.055800</td>\n",
       "      <td>0.262889</td>\n",
       "    </tr>\n",
       "    <tr>\n",
       "      <th>Skewness</th>\n",
       "      <td>0.791950</td>\n",
       "      <td>4.373877</td>\n",
       "      <td>2.076780</td>\n",
       "    </tr>\n",
       "    <tr>\n",
       "      <th>Kurtosis</th>\n",
       "      <td>45.874931</td>\n",
       "      <td>200.909353</td>\n",
       "      <td>75.098364</td>\n",
       "    </tr>\n",
       "    <tr>\n",
       "      <th>Worst return</th>\n",
       "      <td>-0.012272</td>\n",
       "      <td>-0.022322</td>\n",
       "      <td>-0.013000</td>\n",
       "    </tr>\n",
       "    <tr>\n",
       "      <th>Worst 1d return</th>\n",
       "      <td>-0.012272</td>\n",
       "      <td>-0.022322</td>\n",
       "      <td>-0.013000</td>\n",
       "    </tr>\n",
       "    <tr>\n",
       "      <th>Worst 1w return</th>\n",
       "      <td>-0.018763</td>\n",
       "      <td>-0.034413</td>\n",
       "      <td>-0.019985</td>\n",
       "    </tr>\n",
       "    <tr>\n",
       "      <th>Worst 1m return</th>\n",
       "      <td>-0.030638</td>\n",
       "      <td>-0.029017</td>\n",
       "      <td>-0.026193</td>\n",
       "    </tr>\n",
       "  </tbody>\n",
       "</table>\n",
       "</div>"
      ],
      "text/plain": [
       "                 Crack spread  Gasoline crack spread  Heating oil crack spread\n",
       "CAGR                 0.014100               0.007241                  0.011715\n",
       "Annualised vol       0.018131               0.022948                  0.017725\n",
       "Sharpe ratio         0.777675               0.315525                  0.660914\n",
       "Max drawdown         0.071648               0.129760                  0.044562\n",
       "Calmar ratio         0.196791               0.055800                  0.262889\n",
       "Skewness             0.791950               4.373877                  2.076780\n",
       "Kurtosis            45.874931             200.909353                 75.098364\n",
       "Worst return        -0.012272              -0.022322                 -0.013000\n",
       "Worst 1d return     -0.012272              -0.022322                 -0.013000\n",
       "Worst 1w return     -0.018763              -0.034413                 -0.019985\n",
       "Worst 1m return     -0.030638              -0.029017                 -0.026193"
      ]
     },
     "execution_count": 37,
     "metadata": {},
     "output_type": "execute_result"
    }
   ],
   "source": [
    "levels[:'1994-11'].pipe(Performance).summary()"
   ]
  },
  {
   "cell_type": "markdown",
   "id": "25d81c19",
   "metadata": {
    "papermill": {
     "duration": 0.07172,
     "end_time": "2022-02-02T06:28:22.161886",
     "exception": false,
     "start_time": "2022-02-02T06:28:22.090166",
     "status": "completed"
    },
    "tags": []
   },
   "source": [
    "The underperformance in 1990 coincides with a wider divergence on the crack spread which is intuitive."
   ]
  },
  {
   "cell_type": "code",
   "execution_count": 38,
   "id": "76538675",
   "metadata": {
    "execution": {
     "iopub.execute_input": "2022-02-02T06:28:22.320342Z",
     "iopub.status.busy": "2022-02-02T06:28:22.319813Z",
     "iopub.status.idle": "2022-02-02T06:28:22.721002Z",
     "shell.execute_reply": "2022-02-02T06:28:22.721419Z",
     "shell.execute_reply.started": "2021-12-03T06:51:20.098154Z"
    },
    "papermill": {
     "duration": 0.481505,
     "end_time": "2022-02-02T06:28:22.721546",
     "exception": false,
     "start_time": "2022-02-02T06:28:22.240041",
     "status": "completed"
    },
    "tags": []
   },
   "outputs": [
    {
     "data": {
      "image/png": "[encoded data removed]",
      "text/plain": [
       "<Figure size 576x360 with 2 Axes>"
      ]
     },
     "metadata": {
      "needs_background": "light"
     },
     "output_type": "display_data"
    }
   ],
   "source": [
    "pd.concat((\n",
    "    levels_gcs.rename('Gasoline crack spread strategy'),\n",
    "    gcs.rename('GCS')\n",
    "), axis=1)[:'1994-11'].plot(figsize=(8, 5), secondary_y='GCS');"
   ]
  },
  {
   "cell_type": "markdown",
   "id": "e2d431e2",
   "metadata": {
    "papermill": {
     "duration": 0.096162,
     "end_time": "2022-02-02T06:28:22.890500",
     "exception": false,
     "start_time": "2022-02-02T06:28:22.794338",
     "status": "completed"
    },
    "tags": []
   },
   "source": [
    "## Long-term performance\n",
    "\n",
    "...however as we saw earlier in the time-series of crack spreads, something must have changed in 2000s and the trading strategies stopped working."
   ]
  },
  {
   "cell_type": "code",
   "execution_count": 39,
   "id": "d8a263d6",
   "metadata": {
    "execution": {
     "iopub.execute_input": "2022-02-02T06:28:23.064625Z",
     "iopub.status.busy": "2022-02-02T06:28:23.058132Z",
     "iopub.status.idle": "2022-02-02T06:28:23.601427Z",
     "shell.execute_reply": "2022-02-02T06:28:23.600978Z",
     "shell.execute_reply.started": "2021-12-03T06:51:20.399415Z"
    },
    "papermill": {
     "duration": 0.638554,
     "end_time": "2022-02-02T06:28:23.601532",
     "exception": false,
     "start_time": "2022-02-02T06:28:22.962978",
     "status": "completed"
    },
    "tags": []
   },
   "outputs": [
    {
     "data": {
      "image/png": "[encoded data removed]",
      "text/plain": [
       "<Figure size 576x324 with 1 Axes>"
      ]
     },
     "metadata": {
      "needs_background": "light"
     },
     "output_type": "display_data"
    }
   ],
   "source": [
    "fig, ax = plt.subplots(figsize=(8, 4.5))\n",
    "levels.plot(ax=ax, logy=True);\n",
    "ax.set_title('Crack spreads mean-reversion (GP1999)')\n",
    "ax.set_ylabel('Cumulative returns');"
   ]
  },
  {
   "cell_type": "code",
   "execution_count": 40,
   "id": "b9b01da1",
   "metadata": {
    "execution": {
     "iopub.execute_input": "2022-02-02T06:28:23.801924Z",
     "iopub.status.busy": "2022-02-02T06:28:23.801393Z",
     "iopub.status.idle": "2022-02-02T06:28:23.867666Z",
     "shell.execute_reply": "2022-02-02T06:28:23.868117Z",
     "shell.execute_reply.started": "2021-12-03T06:51:20.790419Z"
    },
    "papermill": {
     "duration": 0.174188,
     "end_time": "2022-02-02T06:28:23.868246",
     "exception": false,
     "start_time": "2022-02-02T06:28:23.694058",
     "status": "completed"
    },
    "tags": []
   },
   "outputs": [
    {
     "data": {
      "text/html": [
       "<div>\n",
       "<style scoped>\n",
       "    .dataframe tbody tr th:only-of-type {\n",
       "        vertical-align: middle;\n",
       "    }\n",
       "\n",
       "    .dataframe tbody tr th {\n",
       "        vertical-align: top;\n",
       "    }\n",
       "\n",
       "    .dataframe thead th {\n",
       "        text-align: right;\n",
       "    }\n",
       "</style>\n",
       "<table border=\"1\" class=\"dataframe\">\n",
       "  <thead>\n",
       "    <tr style=\"text-align: right;\">\n",
       "      <th></th>\n",
       "      <th>Crack spread</th>\n",
       "      <th>Gasoline crack spread</th>\n",
       "      <th>Heating oil crack spread</th>\n",
       "    </tr>\n",
       "  </thead>\n",
       "  <tbody>\n",
       "    <tr>\n",
       "      <th>CAGR</th>\n",
       "      <td>-0.016852</td>\n",
       "      <td>-0.007197</td>\n",
       "      <td>0.006906</td>\n",
       "    </tr>\n",
       "    <tr>\n",
       "      <th>Annualised vol</th>\n",
       "      <td>0.069826</td>\n",
       "      <td>0.044442</td>\n",
       "      <td>0.051073</td>\n",
       "    </tr>\n",
       "    <tr>\n",
       "      <th>Sharpe ratio</th>\n",
       "      <td>-0.241340</td>\n",
       "      <td>-0.161937</td>\n",
       "      <td>0.135225</td>\n",
       "    </tr>\n",
       "    <tr>\n",
       "      <th>Max drawdown</th>\n",
       "      <td>0.657854</td>\n",
       "      <td>0.455942</td>\n",
       "      <td>0.262482</td>\n",
       "    </tr>\n",
       "    <tr>\n",
       "      <th>Calmar ratio</th>\n",
       "      <td>-0.025616</td>\n",
       "      <td>-0.015785</td>\n",
       "      <td>0.026312</td>\n",
       "    </tr>\n",
       "    <tr>\n",
       "      <th>Skewness</th>\n",
       "      <td>0.686582</td>\n",
       "      <td>-1.921425</td>\n",
       "      <td>-1.165190</td>\n",
       "    </tr>\n",
       "    <tr>\n",
       "      <th>Kurtosis</th>\n",
       "      <td>104.084956</td>\n",
       "      <td>69.917521</td>\n",
       "      <td>69.088112</td>\n",
       "    </tr>\n",
       "    <tr>\n",
       "      <th>Worst return</th>\n",
       "      <td>-0.087463</td>\n",
       "      <td>-0.049356</td>\n",
       "      <td>-0.058601</td>\n",
       "    </tr>\n",
       "    <tr>\n",
       "      <th>Worst 1d return</th>\n",
       "      <td>-0.087463</td>\n",
       "      <td>-0.049356</td>\n",
       "      <td>-0.058601</td>\n",
       "    </tr>\n",
       "    <tr>\n",
       "      <th>Worst 1w return</th>\n",
       "      <td>-0.120710</td>\n",
       "      <td>-0.101832</td>\n",
       "      <td>-0.085109</td>\n",
       "    </tr>\n",
       "    <tr>\n",
       "      <th>Worst 1m return</th>\n",
       "      <td>-0.114531</td>\n",
       "      <td>-0.119793</td>\n",
       "      <td>-0.093972</td>\n",
       "    </tr>\n",
       "  </tbody>\n",
       "</table>\n",
       "</div>"
      ],
      "text/plain": [
       "                 Crack spread  Gasoline crack spread  Heating oil crack spread\n",
       "CAGR                -0.016852              -0.007197                  0.006906\n",
       "Annualised vol       0.069826               0.044442                  0.051073\n",
       "Sharpe ratio        -0.241340              -0.161937                  0.135225\n",
       "Max drawdown         0.657854               0.455942                  0.262482\n",
       "Calmar ratio        -0.025616              -0.015785                  0.026312\n",
       "Skewness             0.686582              -1.921425                 -1.165190\n",
       "Kurtosis           104.084956              69.917521                 69.088112\n",
       "Worst return        -0.087463              -0.049356                 -0.058601\n",
       "Worst 1d return     -0.087463              -0.049356                 -0.058601\n",
       "Worst 1w return     -0.120710              -0.101832                 -0.085109\n",
       "Worst 1m return     -0.114531              -0.119793                 -0.093972"
      ]
     },
     "execution_count": 40,
     "metadata": {},
     "output_type": "execute_result"
    }
   ],
   "source": [
    "levels.pipe(Performance).summary()"
   ]
  },
  {
   "cell_type": "markdown",
   "id": "e67cc5fa",
   "metadata": {
    "papermill": {
     "duration": 0.07466,
     "end_time": "2022-02-02T06:28:24.021130",
     "exception": false,
     "start_time": "2022-02-02T06:28:23.946470",
     "status": "completed"
    },
    "tags": []
   },
   "source": [
    "## Post publication"
   ]
  },
  {
   "cell_type": "code",
   "execution_count": 41,
   "id": "94b4f13d",
   "metadata": {
    "execution": {
     "iopub.execute_input": "2022-02-02T06:28:24.194580Z",
     "iopub.status.busy": "2022-02-02T06:28:24.193861Z",
     "iopub.status.idle": "2022-02-02T06:28:24.195458Z",
     "shell.execute_reply": "2022-02-02T06:28:24.196032Z",
     "shell.execute_reply.started": "2021-12-03T06:51:20.849663Z"
    },
    "papermill": {
     "duration": 0.100443,
     "end_time": "2022-02-02T06:28:24.196204",
     "exception": false,
     "start_time": "2022-02-02T06:28:24.095761",
     "status": "completed"
    },
    "tags": []
   },
   "outputs": [],
   "source": [
    "publication_date = datetime(1999, 11, 29)"
   ]
  },
  {
   "cell_type": "code",
   "execution_count": 42,
   "id": "1a2e7f9c",
   "metadata": {
    "execution": {
     "iopub.execute_input": "2022-02-02T06:28:24.373782Z",
     "iopub.status.busy": "2022-02-02T06:28:24.371925Z",
     "iopub.status.idle": "2022-02-02T06:28:25.328315Z",
     "shell.execute_reply": "2022-02-02T06:28:25.328752Z",
     "shell.execute_reply.started": "2021-12-03T06:51:20.853881Z"
    },
    "papermill": {
     "duration": 1.050074,
     "end_time": "2022-02-02T06:28:25.328914",
     "exception": false,
     "start_time": "2022-02-02T06:28:24.278840",
     "status": "completed"
    },
    "tags": []
   },
   "outputs": [
    {
     "data": {
      "image/png": "[encoded data removed]",
      "text/plain": [
       "<Figure size 1008x288 with 2 Axes>"
      ]
     },
     "metadata": {
      "needs_background": "light"
     },
     "output_type": "display_data"
    }
   ],
   "source": [
    "fig, ax = plt.subplots(1, 2, figsize=(14, 4))\n",
    "levels.plot(ax=ax[0], logy=True);\n",
    "ax[0].set_title('Crack spreads mean-reversion (GP1999)')\n",
    "ax[0].set_ylabel('Cumulative returns');\n",
    "ax[0].axvline(publication_date, lw=1, ls='--', color='black')\n",
    "ax[0].text(publication_date, 100, 'Publication date ', ha='right')\n",
    "\n",
    "levels.loc[publication_date:].pipe(rebase).plot(ax=ax[1], logy=True);\n",
    "ax[1].set_title('Post publication');"
   ]
  },
  {
   "cell_type": "markdown",
   "id": "d187127a",
   "metadata": {
    "papermill": {
     "duration": 0.07783,
     "end_time": "2022-02-02T06:28:25.485451",
     "exception": false,
     "start_time": "2022-02-02T06:28:25.407621",
     "status": "completed"
    },
    "tags": []
   },
   "source": [
    "# Reference\n",
    "- Girma, P.B. and Paulson, A.S., 1999. Risk arbitrage opportunities in petroleum futures spreads. Journal of Futures Markets, 19(8), pp.931-955."
   ]
  },
  {
   "cell_type": "code",
   "execution_count": 43,
   "id": "69fe3c8e",
   "metadata": {
    "execution": {
     "iopub.execute_input": "2022-02-02T06:28:25.645780Z",
     "iopub.status.busy": "2022-02-02T06:28:25.645253Z",
     "iopub.status.idle": "2022-02-02T06:28:25.667619Z",
     "shell.execute_reply": "2022-02-02T06:28:25.666939Z",
     "shell.execute_reply.started": "2021-12-03T06:51:21.723848Z"
    },
    "papermill": {
     "duration": 0.104288,
     "end_time": "2022-02-02T06:28:25.667768",
     "exception": false,
     "start_time": "2022-02-02T06:28:25.563480",
     "status": "completed"
    },
    "tags": []
   },
   "outputs": [
    {
     "name": "stdout",
     "output_type": "stream",
     "text": [
      "Updated: 02-Feb-2022 06:28\n"
     ]
    }
   ],
   "source": [
    "print(f'Updated: {datetime.utcnow():%d-%b-%Y %H:%M}')"
   ]
  }
 ],
 "metadata": {
  "kernelspec": {
   "display_name": "Python 3",
   "language": "python",
   "name": "python3"
  },
  "language_info": {
   "codemirror_mode": {
    "name": "ipython",
    "version": 3
   },
   "file_extension": ".py",
   "mimetype": "text/x-python",
   "name": "python",
   "nbconvert_exporter": "python",
   "pygments_lexer": "ipython3",
   "version": "3.9.6"
  },
  "papermill": {
   "default_parameters": {},
   "duration": 1072.764175,
   "end_time": "2022-02-02T06:28:28.176938",
   "environment_variables": {},
   "exception": null,
   "input_path": "notebooks/papermill/commodity_crack_spread_stat_arb.ipynb",
   "output_path": "notebooks/commodity_crack_spread_stat_arb.ipynb",
   "parameters": {},
   "start_time": "2022-02-02T06:10:35.412763",
   "version": "2.3.3"
  },
  "toc-autonumbering": true
 },
 "nbformat": 4,
 "nbformat_minor": 5
}