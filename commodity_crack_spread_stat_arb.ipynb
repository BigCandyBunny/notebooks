{
 "cells": [
  {
   "cell_type": "markdown",
   "id": "172ca5c5",
   "metadata": {
    "papermill": {
     "duration": 0.263989,
     "end_time": "2022-02-01T06:10:20.782440",
     "exception": false,
     "start_time": "2022-02-01T06:10:20.518451",
     "status": "completed"
    },
    "tags": []
   },
   "source": [
    "# Commodity crack spread statistical arbitrage\n",
    "\n",
    "In this notebook, the mean-rereversion strategy proposed in Girma and Paulson 1999 (henthforth GP1999) is investigated. It focuses on a various combination of the crude oil (WTI) crack spread. "
   ]
  },
  {
   "cell_type": "code",
   "execution_count": 1,
   "id": "7daa9dab",
   "metadata": {
    "execution": {
     "iopub.execute_input": "2022-02-01T06:10:20.968824Z",
     "iopub.status.busy": "2022-02-01T06:10:20.967949Z",
     "iopub.status.idle": "2022-02-01T06:10:23.768757Z",
     "shell.execute_reply": "2022-02-01T06:10:23.768132Z",
     "shell.execute_reply.started": "2021-12-03T07:10:36.569519Z"
    },
    "papermill": {
     "duration": 2.899142,
     "end_time": "2022-02-01T06:10:23.768879",
     "exception": false,
     "start_time": "2022-02-01T06:10:20.869737",
     "status": "completed"
    },
    "tags": []
   },
   "outputs": [],
   "source": [
    "%matplotlib inline\n",
    "from datetime import datetime\n",
    "import logging\n",
    "import warnings\n",
    "warnings.simplefilter(action='ignore', category=FutureWarning)\n",
    "\n",
    "import pandas as pd\n",
    "import statsmodels.api as sm\n",
    "import matplotlib.pyplot as plt\n",
    "plt.style.use('bmh')\n",
    "\n",
    "from vivace.backtest import BacktestEngine, signal, InstrumentDef\n",
    "from vivace.backtest.analytics import rebase\n",
    "from vivace.backtest.contract import get_futures_curve_snapshot\n",
    "from vivace.backtest.enums import Strategy, Weighting, RollRule\n",
    "from vivace.backtest.stats import Performance"
   ]
  },
  {
   "cell_type": "markdown",
   "id": "68aa8ccf",
   "metadata": {
    "papermill": {
     "duration": 0.063035,
     "end_time": "2022-02-01T06:10:23.897431",
     "exception": false,
     "start_time": "2022-02-01T06:10:23.834396",
     "status": "completed"
    },
    "tags": []
   },
   "source": [
    "# Cointegration test\n",
    "\n",
    "GP1999 first checks if the crack spread is cointegrated. To do that, first let's see futures prices are non-stationary or not. As per usual, the generic price is populated by running a simple long-only backtest by rolling the front contract."
   ]
  },
  {
   "cell_type": "markdown",
   "id": "824e7302",
   "metadata": {
    "papermill": {
     "duration": 0.064347,
     "end_time": "2022-02-01T06:10:24.026752",
     "exception": false,
     "start_time": "2022-02-01T06:10:23.962405",
     "status": "completed"
    },
    "tags": []
   },
   "source": [
    "## ADF test\n",
    "\n",
    "The ADF test is done by the `adfuller` function in `statsmodels`. (cf. https://www.statsmodels.org/dev/generated/statsmodels.tsa.stattools.adfuller.html)"
   ]
  },
  {
   "cell_type": "code",
   "execution_count": 2,
   "id": "4eb3103c",
   "metadata": {
    "execution": {
     "iopub.execute_input": "2022-02-01T06:10:24.168676Z",
     "iopub.status.busy": "2022-02-01T06:10:24.168049Z",
     "iopub.status.idle": "2022-02-01T06:10:33.337241Z",
     "shell.execute_reply": "2022-02-01T06:10:33.337912Z",
     "shell.execute_reply.started": "2021-12-03T06:36:10.163450Z"
    },
    "papermill": {
     "duration": 9.244871,
     "end_time": "2022-02-01T06:10:33.338108",
     "exception": false,
     "start_time": "2022-02-01T06:10:24.093237",
     "status": "completed"
    },
    "tags": []
   },
   "outputs": [],
   "source": [
    "cl_1st = BacktestEngine(instrument='CL', log_level=logging.WARN)\n",
    "cl_1st.run()"
   ]
  },
  {
   "cell_type": "code",
   "execution_count": 3,
   "id": "9910ecff",
   "metadata": {
    "execution": {
     "iopub.execute_input": "2022-02-01T06:10:33.522135Z",
     "iopub.status.busy": "2022-02-01T06:10:33.521531Z",
     "iopub.status.idle": "2022-02-01T06:10:43.108811Z",
     "shell.execute_reply": "2022-02-01T06:10:43.108258Z",
     "shell.execute_reply.started": "2021-12-03T06:36:18.338428Z"
    },
    "papermill": {
     "duration": 9.680015,
     "end_time": "2022-02-01T06:10:43.108926",
     "exception": false,
     "start_time": "2022-02-01T06:10:33.428911",
     "status": "completed"
    },
    "tags": []
   },
   "outputs": [],
   "source": [
    "ho_1st = BacktestEngine(instrument='HO', log_level=logging.WARN)\n",
    "ho_1st.run()"
   ]
  },
  {
   "cell_type": "code",
   "execution_count": 4,
   "id": "32cec4c3",
   "metadata": {
    "execution": {
     "iopub.execute_input": "2022-02-01T06:10:43.239927Z",
     "iopub.status.busy": "2022-02-01T06:10:43.239383Z",
     "iopub.status.idle": "2022-02-01T06:10:51.784039Z",
     "shell.execute_reply": "2022-02-01T06:10:51.784486Z",
     "shell.execute_reply.started": "2021-12-03T06:36:25.919037Z"
    },
    "papermill": {
     "duration": 8.610483,
     "end_time": "2022-02-01T06:10:51.784625",
     "exception": false,
     "start_time": "2022-02-01T06:10:43.174142",
     "status": "completed"
    },
    "tags": []
   },
   "outputs": [],
   "source": [
    "xb_1st = BacktestEngine(instrument='XB', log_level=logging.WARN)\n",
    "xb_1st.run()"
   ]
  },
  {
   "cell_type": "code",
   "execution_count": 5,
   "id": "a602ffe8",
   "metadata": {
    "execution": {
     "iopub.execute_input": "2022-02-01T06:10:52.138670Z",
     "iopub.status.busy": "2022-02-01T06:10:52.016670Z",
     "iopub.status.idle": "2022-02-01T06:11:10.832160Z",
     "shell.execute_reply": "2022-02-01T06:11:10.831608Z",
     "shell.execute_reply.started": "2021-12-03T06:36:32.982734Z"
    },
    "papermill": {
     "duration": 18.975582,
     "end_time": "2022-02-01T06:11:10.832290",
     "exception": false,
     "start_time": "2022-02-01T06:10:51.856708",
     "status": "completed"
    },
    "tags": []
   },
   "outputs": [],
   "source": [
    "cl_price = cl_1st.get_generic_price().squeeze().fillna(method='pad').rename('Crude oil')\n",
    "ho_price = ho_1st.get_generic_price().squeeze().fillna(method='pad').rename('Heating oil')\n",
    "xb_price = xb_1st.get_generic_price().squeeze().fillna(method='pad').rename('Gasoline')"
   ]
  },
  {
   "cell_type": "code",
   "execution_count": 6,
   "id": "81a1c9be",
   "metadata": {
    "execution": {
     "iopub.execute_input": "2022-02-01T06:11:10.965126Z",
     "iopub.status.busy": "2022-02-01T06:11:10.964547Z",
     "iopub.status.idle": "2022-02-01T06:11:10.966357Z",
     "shell.execute_reply": "2022-02-01T06:11:10.966913Z",
     "shell.execute_reply.started": "2021-12-03T06:36:47.351540Z"
    },
    "papermill": {
     "duration": 0.069645,
     "end_time": "2022-02-01T06:11:10.967092",
     "exception": false,
     "start_time": "2022-02-01T06:11:10.897447",
     "status": "completed"
    },
    "tags": []
   },
   "outputs": [],
   "source": [
    "def adf(ts: pd.Series, **kwargs) -> pd.Series:\n",
    "    \"\"\" Run the ADF test and return a cleaned result \"\"\"\n",
    "    adf_result = sm.tsa.stattools.adfuller(ts, **kwargs)\n",
    "    cleaned = {\n",
    "        'adf': adf_result[0],\n",
    "        'p_value': adf_result[1],\n",
    "        'used_lag': adf_result[2],\n",
    "        'n_obs': adf_result[3],\n",
    "        'ci_0.01': adf_result[4]['1%'],\n",
    "        'ci_0.05': adf_result[4]['5%'],\n",
    "        'ci_0.1': adf_result[4]['10%'],\n",
    "        'ic_best': adf_result[5],\n",
    "    }\n",
    "    return pd.Series(cleaned, name=ts.name)"
   ]
  },
  {
   "cell_type": "markdown",
   "id": "73a9df64",
   "metadata": {
    "papermill": {
     "duration": 0.08099,
     "end_time": "2022-02-01T06:11:11.127986",
     "exception": false,
     "start_time": "2022-02-01T06:11:11.046996",
     "status": "completed"
    },
    "tags": []
   },
   "source": [
    "GP1999 uses Schwarz's information criterion (i.e., BIC) to select the optimal number of lags included in the ADF test."
   ]
  },
  {
   "cell_type": "code",
   "execution_count": 7,
   "id": "b69649d6",
   "metadata": {
    "execution": {
     "iopub.execute_input": "2022-02-01T06:11:11.259175Z",
     "iopub.status.busy": "2022-02-01T06:11:11.258470Z",
     "iopub.status.idle": "2022-02-01T06:11:11.986740Z",
     "shell.execute_reply": "2022-02-01T06:11:12.008550Z",
     "shell.execute_reply.started": "2021-12-03T06:36:47.357535Z"
    },
    "papermill": {
     "duration": 0.816748,
     "end_time": "2022-02-01T06:11:12.008735",
     "exception": false,
     "start_time": "2022-02-01T06:11:11.191987",
     "status": "completed"
    },
    "tags": []
   },
   "outputs": [],
   "source": [
    "adf_result = pd.concat((\n",
    "    adf(cl_price['1983-04':'1994-11'], autolag='BIC').to_frame().T,\n",
    "    adf(ho_price['1983-04':'1994-11'], autolag='BIC').to_frame().T,\n",
    "    adf(xb_price['1984-12':'1994-11'], autolag='BIC').to_frame().T,\n",
    "))"
   ]
  },
  {
   "cell_type": "markdown",
   "id": "1396f87e",
   "metadata": {
    "papermill": {
     "duration": 0.088136,
     "end_time": "2022-02-01T06:11:12.203380",
     "exception": false,
     "start_time": "2022-02-01T06:11:12.115244",
     "status": "completed"
    },
    "tags": []
   },
   "source": [
    "In the ADF test, $H_0$ is that the time-series is non-stationary. Based on this result below, $H_0$ cannot be rejected for crude oil, however is rejected for heating oil and gasoline at the 10% and 5% level respectively.\n",
    "\n",
    "This is interesting because usually almost always asset prices are non-stationary."
   ]
  },
  {
   "cell_type": "code",
   "execution_count": 8,
   "id": "3655e953",
   "metadata": {
    "execution": {
     "iopub.execute_input": "2022-02-01T06:11:12.375326Z",
     "iopub.status.busy": "2022-02-01T06:11:12.374736Z",
     "iopub.status.idle": "2022-02-01T06:11:12.384969Z",
     "shell.execute_reply": "2022-02-01T06:11:12.385406Z",
     "shell.execute_reply.started": "2021-12-03T06:36:48.064712Z"
    },
    "papermill": {
     "duration": 0.115075,
     "end_time": "2022-02-01T06:11:12.385544",
     "exception": false,
     "start_time": "2022-02-01T06:11:12.270469",
     "status": "completed"
    },
    "tags": []
   },
   "outputs": [
    {
     "data": {
      "text/html": [
       "<div>\n",
       "<style scoped>\n",
       "    .dataframe tbody tr th:only-of-type {\n",
       "        vertical-align: middle;\n",
       "    }\n",
       "\n",
       "    .dataframe tbody tr th {\n",
       "        vertical-align: top;\n",
       "    }\n",
       "\n",
       "    .dataframe thead th {\n",
       "        text-align: right;\n",
       "    }\n",
       "</style>\n",
       "<table border=\"1\" class=\"dataframe\">\n",
       "  <thead>\n",
       "    <tr style=\"text-align: right;\">\n",
       "      <th></th>\n",
       "      <th>adf</th>\n",
       "      <th>p_value</th>\n",
       "      <th>used_lag</th>\n",
       "      <th>n_obs</th>\n",
       "      <th>ci_0.01</th>\n",
       "      <th>ci_0.05</th>\n",
       "      <th>ci_0.1</th>\n",
       "      <th>ic_best</th>\n",
       "    </tr>\n",
       "  </thead>\n",
       "  <tbody>\n",
       "    <tr>\n",
       "      <th>Crude oil</th>\n",
       "      <td>-2.185213</td>\n",
       "      <td>0.211656</td>\n",
       "      <td>8.0</td>\n",
       "      <td>2924.0</td>\n",
       "      <td>-3.432588</td>\n",
       "      <td>-2.862529</td>\n",
       "      <td>-2.567296</td>\n",
       "      <td>4195.186424</td>\n",
       "    </tr>\n",
       "    <tr>\n",
       "      <th>Heating oil</th>\n",
       "      <td>-2.743636</td>\n",
       "      <td>0.066787</td>\n",
       "      <td>3.0</td>\n",
       "      <td>2929.0</td>\n",
       "      <td>-3.432585</td>\n",
       "      <td>-2.862527</td>\n",
       "      <td>-2.567296</td>\n",
       "      <td>-15763.929006</td>\n",
       "    </tr>\n",
       "    <tr>\n",
       "      <th>Gasoline</th>\n",
       "      <td>-3.003758</td>\n",
       "      <td>0.034545</td>\n",
       "      <td>3.0</td>\n",
       "      <td>2510.0</td>\n",
       "      <td>-3.432958</td>\n",
       "      <td>-2.862692</td>\n",
       "      <td>-2.567383</td>\n",
       "      <td>-14006.551367</td>\n",
       "    </tr>\n",
       "  </tbody>\n",
       "</table>\n",
       "</div>"
      ],
      "text/plain": [
       "                  adf   p_value  used_lag   n_obs   ci_0.01   ci_0.05  \\\n",
       "Crude oil   -2.185213  0.211656       8.0  2924.0 -3.432588 -2.862529   \n",
       "Heating oil -2.743636  0.066787       3.0  2929.0 -3.432585 -2.862527   \n",
       "Gasoline    -3.003758  0.034545       3.0  2510.0 -3.432958 -2.862692   \n",
       "\n",
       "               ci_0.1       ic_best  \n",
       "Crude oil   -2.567296   4195.186424  \n",
       "Heating oil -2.567296 -15763.929006  \n",
       "Gasoline    -2.567383 -14006.551367  "
      ]
     },
     "execution_count": 8,
     "metadata": {},
     "output_type": "execute_result"
    }
   ],
   "source": [
    "adf_result"
   ]
  },
  {
   "cell_type": "markdown",
   "id": "cb465c0a",
   "metadata": {
    "papermill": {
     "duration": 0.063778,
     "end_time": "2022-02-01T06:11:12.514101",
     "exception": false,
     "start_time": "2022-02-01T06:11:12.450323",
     "status": "completed"
    },
    "tags": []
   },
   "source": [
    "Probably it is to do with the sampling period. It may look a stationary process especially after 1986, however clearly it is heteroskedastic and the price move in 1986 seems like a shift in the level."
   ]
  },
  {
   "cell_type": "code",
   "execution_count": 9,
   "id": "11339aae",
   "metadata": {
    "execution": {
     "iopub.execute_input": "2022-02-01T06:11:12.645825Z",
     "iopub.status.busy": "2022-02-01T06:11:12.644397Z",
     "iopub.status.idle": "2022-02-01T06:11:13.067299Z",
     "shell.execute_reply": "2022-02-01T06:11:13.064438Z",
     "shell.execute_reply.started": "2021-12-03T06:36:48.107910Z"
    },
    "papermill": {
     "duration": 0.490676,
     "end_time": "2022-02-01T06:11:13.067480",
     "exception": false,
     "start_time": "2022-02-01T06:11:12.576804",
     "status": "completed"
    },
    "tags": []
   },
   "outputs": [
    {
     "data": {
      "image/png": "[encoded data removed]",
      "text/plain": [
       "<Figure size 576x360 with 2 Axes>"
      ]
     },
     "metadata": {
      "needs_background": "light"
     },
     "output_type": "display_data"
    }
   ],
   "source": [
    "fig, ax = plt.subplots(figsize=(8, 5))\n",
    "pd.concat((\n",
    "    cl_price['1983-04':'1994-11'],\n",
    "    ho_price['1983-04':'1994-11'],\n",
    "    xb_price['1984-12':'1994-11'],\n",
    "), axis=1).plot(secondary_y=['Heating oil', 'Gasoline'], ax=ax);\n",
    "ax.set_title('Futures prices (generic 1st)');"
   ]
  },
  {
   "cell_type": "markdown",
   "id": "47068957",
   "metadata": {
    "papermill": {
     "duration": 0.06376,
     "end_time": "2022-02-01T06:11:13.227325",
     "exception": false,
     "start_time": "2022-02-01T06:11:13.163565",
     "status": "completed"
    },
    "tags": []
   },
   "source": [
    "In fact, in the long-run $H_0$ cannot be rejected for all contracts based on both BIC and AIC."
   ]
  },
  {
   "cell_type": "code",
   "execution_count": 10,
   "id": "47dcef74",
   "metadata": {
    "execution": {
     "iopub.execute_input": "2022-02-01T06:11:13.362939Z",
     "iopub.status.busy": "2022-02-01T06:11:13.362394Z",
     "iopub.status.idle": "2022-02-01T06:11:17.971548Z",
     "shell.execute_reply": "2022-02-01T06:11:17.972453Z",
     "shell.execute_reply.started": "2021-12-03T06:36:48.435839Z"
    },
    "papermill": {
     "duration": 4.68132,
     "end_time": "2022-02-01T06:11:17.972663",
     "exception": false,
     "start_time": "2022-02-01T06:11:13.291343",
     "status": "completed"
    },
    "tags": []
   },
   "outputs": [
    {
     "data": {
      "text/html": [
       "<div>\n",
       "<style scoped>\n",
       "    .dataframe tbody tr th:only-of-type {\n",
       "        vertical-align: middle;\n",
       "    }\n",
       "\n",
       "    .dataframe tbody tr th {\n",
       "        vertical-align: top;\n",
       "    }\n",
       "\n",
       "    .dataframe thead th {\n",
       "        text-align: right;\n",
       "    }\n",
       "</style>\n",
       "<table border=\"1\" class=\"dataframe\">\n",
       "  <thead>\n",
       "    <tr style=\"text-align: right;\">\n",
       "      <th></th>\n",
       "      <th>adf</th>\n",
       "      <th>p_value</th>\n",
       "      <th>used_lag</th>\n",
       "      <th>n_obs</th>\n",
       "      <th>ci_0.01</th>\n",
       "      <th>ci_0.05</th>\n",
       "      <th>ci_0.1</th>\n",
       "      <th>ic_best</th>\n",
       "    </tr>\n",
       "  </thead>\n",
       "  <tbody>\n",
       "    <tr>\n",
       "      <th>Crude oil</th>\n",
       "      <td>-1.530318</td>\n",
       "      <td>0.518464</td>\n",
       "      <td>1.0</td>\n",
       "      <td>9753.0</td>\n",
       "      <td>-3.431021</td>\n",
       "      <td>-2.861836</td>\n",
       "      <td>-2.566928</td>\n",
       "      <td>29328.488091</td>\n",
       "    </tr>\n",
       "    <tr>\n",
       "      <th>Heating oil</th>\n",
       "      <td>-1.372715</td>\n",
       "      <td>0.595285</td>\n",
       "      <td>0.0</td>\n",
       "      <td>9755.0</td>\n",
       "      <td>-3.431021</td>\n",
       "      <td>-2.861836</td>\n",
       "      <td>-2.566928</td>\n",
       "      <td>-40549.104490</td>\n",
       "    </tr>\n",
       "    <tr>\n",
       "      <th>Gasoline</th>\n",
       "      <td>-1.766976</td>\n",
       "      <td>0.396976</td>\n",
       "      <td>0.0</td>\n",
       "      <td>9335.0</td>\n",
       "      <td>-3.431051</td>\n",
       "      <td>-2.861850</td>\n",
       "      <td>-2.566935</td>\n",
       "      <td>-36563.508361</td>\n",
       "    </tr>\n",
       "  </tbody>\n",
       "</table>\n",
       "</div>"
      ],
      "text/plain": [
       "                  adf   p_value  used_lag   n_obs   ci_0.01   ci_0.05  \\\n",
       "Crude oil   -1.530318  0.518464       1.0  9753.0 -3.431021 -2.861836   \n",
       "Heating oil -1.372715  0.595285       0.0  9755.0 -3.431021 -2.861836   \n",
       "Gasoline    -1.766976  0.396976       0.0  9335.0 -3.431051 -2.861850   \n",
       "\n",
       "               ci_0.1       ic_best  \n",
       "Crude oil   -2.566928  29328.488091  \n",
       "Heating oil -2.566928 -40549.104490  \n",
       "Gasoline    -2.566935 -36563.508361  "
      ]
     },
     "execution_count": 10,
     "metadata": {},
     "output_type": "execute_result"
    }
   ],
   "source": [
    "pd.concat((\n",
    "    adf(cl_price['1983-04':], autolag='BIC').to_frame().T,\n",
    "    adf(ho_price['1983-04':], autolag='BIC').to_frame().T,\n",
    "    adf(xb_price['1984-12':], autolag='BIC').to_frame().T,\n",
    "))"
   ]
  },
  {
   "cell_type": "code",
   "execution_count": 11,
   "id": "6cda4738",
   "metadata": {
    "execution": {
     "iopub.execute_input": "2022-02-01T06:11:18.189961Z",
     "iopub.status.busy": "2022-02-01T06:11:18.189174Z",
     "iopub.status.idle": "2022-02-01T06:11:21.378409Z",
     "shell.execute_reply": "2022-02-01T06:11:21.379362Z",
     "shell.execute_reply.started": "2021-12-03T06:36:50.823809Z"
    },
    "papermill": {
     "duration": 3.289361,
     "end_time": "2022-02-01T06:11:21.379594",
     "exception": false,
     "start_time": "2022-02-01T06:11:18.090233",
     "status": "completed"
    },
    "tags": []
   },
   "outputs": [
    {
     "data": {
      "text/html": [
       "<div>\n",
       "<style scoped>\n",
       "    .dataframe tbody tr th:only-of-type {\n",
       "        vertical-align: middle;\n",
       "    }\n",
       "\n",
       "    .dataframe tbody tr th {\n",
       "        vertical-align: top;\n",
       "    }\n",
       "\n",
       "    .dataframe thead th {\n",
       "        text-align: right;\n",
       "    }\n",
       "</style>\n",
       "<table border=\"1\" class=\"dataframe\">\n",
       "  <thead>\n",
       "    <tr style=\"text-align: right;\">\n",
       "      <th></th>\n",
       "      <th>adf</th>\n",
       "      <th>p_value</th>\n",
       "      <th>used_lag</th>\n",
       "      <th>n_obs</th>\n",
       "      <th>ci_0.01</th>\n",
       "      <th>ci_0.05</th>\n",
       "      <th>ci_0.1</th>\n",
       "      <th>ic_best</th>\n",
       "    </tr>\n",
       "  </thead>\n",
       "  <tbody>\n",
       "    <tr>\n",
       "      <th>Crude oil</th>\n",
       "      <td>-1.964621</td>\n",
       "      <td>0.302298</td>\n",
       "      <td>28.0</td>\n",
       "      <td>9726.0</td>\n",
       "      <td>-3.431023</td>\n",
       "      <td>-2.861837</td>\n",
       "      <td>-2.566928</td>\n",
       "      <td>29290.402345</td>\n",
       "    </tr>\n",
       "    <tr>\n",
       "      <th>Heating oil</th>\n",
       "      <td>-1.330909</td>\n",
       "      <td>0.614915</td>\n",
       "      <td>4.0</td>\n",
       "      <td>9751.0</td>\n",
       "      <td>-3.431021</td>\n",
       "      <td>-2.861836</td>\n",
       "      <td>-2.566928</td>\n",
       "      <td>-40573.824119</td>\n",
       "    </tr>\n",
       "    <tr>\n",
       "      <th>Gasoline</th>\n",
       "      <td>-1.980556</td>\n",
       "      <td>0.295163</td>\n",
       "      <td>14.0</td>\n",
       "      <td>9321.0</td>\n",
       "      <td>-3.431052</td>\n",
       "      <td>-2.861850</td>\n",
       "      <td>-2.566935</td>\n",
       "      <td>-36590.103271</td>\n",
       "    </tr>\n",
       "  </tbody>\n",
       "</table>\n",
       "</div>"
      ],
      "text/plain": [
       "                  adf   p_value  used_lag   n_obs   ci_0.01   ci_0.05  \\\n",
       "Crude oil   -1.964621  0.302298      28.0  9726.0 -3.431023 -2.861837   \n",
       "Heating oil -1.330909  0.614915       4.0  9751.0 -3.431021 -2.861836   \n",
       "Gasoline    -1.980556  0.295163      14.0  9321.0 -3.431052 -2.861850   \n",
       "\n",
       "               ci_0.1       ic_best  \n",
       "Crude oil   -2.566928  29290.402345  \n",
       "Heating oil -2.566928 -40573.824119  \n",
       "Gasoline    -2.566935 -36590.103271  "
      ]
     },
     "execution_count": 11,
     "metadata": {},
     "output_type": "execute_result"
    }
   ],
   "source": [
    "pd.concat((\n",
    "    adf(cl_price['1983-04':], autolag='AIC').to_frame().T,\n",
    "    adf(ho_price['1983-04':], autolag='AIC').to_frame().T,\n",
    "    adf(xb_price['1984-12':], autolag='AIC').to_frame().T,\n",
    "))"
   ]
  },
  {
   "cell_type": "markdown",
   "id": "eda29bdf",
   "metadata": {
    "papermill": {
     "duration": 0.106654,
     "end_time": "2022-02-01T06:11:21.584187",
     "exception": false,
     "start_time": "2022-02-01T06:11:21.477533",
     "status": "completed"
    },
    "tags": []
   },
   "source": [
    "Test for two unit roots shows the $H_0$ is rejected for all assets so it would be safe to assume prices are all $I(1)$ processes."
   ]
  },
  {
   "cell_type": "code",
   "execution_count": 12,
   "id": "5cc64e78",
   "metadata": {
    "execution": {
     "iopub.execute_input": "2022-02-01T06:11:21.737402Z",
     "iopub.status.busy": "2022-02-01T06:11:21.736856Z",
     "iopub.status.idle": "2022-02-01T06:11:22.475009Z",
     "shell.execute_reply": "2022-02-01T06:11:22.475953Z",
     "shell.execute_reply.started": "2021-12-03T06:36:52.384428Z"
    },
    "papermill": {
     "duration": 0.809552,
     "end_time": "2022-02-01T06:11:22.476197",
     "exception": false,
     "start_time": "2022-02-01T06:11:21.666645",
     "status": "completed"
    },
    "tags": []
   },
   "outputs": [
    {
     "data": {
      "text/html": [
       "<div>\n",
       "<style scoped>\n",
       "    .dataframe tbody tr th:only-of-type {\n",
       "        vertical-align: middle;\n",
       "    }\n",
       "\n",
       "    .dataframe tbody tr th {\n",
       "        vertical-align: top;\n",
       "    }\n",
       "\n",
       "    .dataframe thead th {\n",
       "        text-align: right;\n",
       "    }\n",
       "</style>\n",
       "<table border=\"1\" class=\"dataframe\">\n",
       "  <thead>\n",
       "    <tr style=\"text-align: right;\">\n",
       "      <th></th>\n",
       "      <th>adf</th>\n",
       "      <th>p_value</th>\n",
       "      <th>used_lag</th>\n",
       "      <th>n_obs</th>\n",
       "      <th>ci_0.01</th>\n",
       "      <th>ci_0.05</th>\n",
       "      <th>ci_0.1</th>\n",
       "      <th>ic_best</th>\n",
       "    </tr>\n",
       "  </thead>\n",
       "  <tbody>\n",
       "    <tr>\n",
       "      <th>Crude oil</th>\n",
       "      <td>-22.609167</td>\n",
       "      <td>0.0</td>\n",
       "      <td>7.0</td>\n",
       "      <td>2924.0</td>\n",
       "      <td>-3.432588</td>\n",
       "      <td>-2.862529</td>\n",
       "      <td>-2.567296</td>\n",
       "      <td>4191.382386</td>\n",
       "    </tr>\n",
       "    <tr>\n",
       "      <th>Heating oil</th>\n",
       "      <td>-23.732562</td>\n",
       "      <td>0.0</td>\n",
       "      <td>7.0</td>\n",
       "      <td>2924.0</td>\n",
       "      <td>-3.432588</td>\n",
       "      <td>-2.862529</td>\n",
       "      <td>-2.567296</td>\n",
       "      <td>-15759.438574</td>\n",
       "    </tr>\n",
       "    <tr>\n",
       "      <th>Gasoline</th>\n",
       "      <td>-31.046797</td>\n",
       "      <td>0.0</td>\n",
       "      <td>2.0</td>\n",
       "      <td>2510.0</td>\n",
       "      <td>-3.432958</td>\n",
       "      <td>-2.862692</td>\n",
       "      <td>-2.567383</td>\n",
       "      <td>-13998.959272</td>\n",
       "    </tr>\n",
       "  </tbody>\n",
       "</table>\n",
       "</div>"
      ],
      "text/plain": [
       "                   adf  p_value  used_lag   n_obs   ci_0.01   ci_0.05  \\\n",
       "Crude oil   -22.609167      0.0       7.0  2924.0 -3.432588 -2.862529   \n",
       "Heating oil -23.732562      0.0       7.0  2924.0 -3.432588 -2.862529   \n",
       "Gasoline    -31.046797      0.0       2.0  2510.0 -3.432958 -2.862692   \n",
       "\n",
       "               ci_0.1       ic_best  \n",
       "Crude oil   -2.567296   4191.382386  \n",
       "Heating oil -2.567296 -15759.438574  \n",
       "Gasoline    -2.567383 -13998.959272  "
      ]
     },
     "execution_count": 12,
     "metadata": {},
     "output_type": "execute_result"
    }
   ],
   "source": [
    "pd.concat((\n",
    "    adf(cl_price['1983-04':'1994-11'].diff().dropna(), autolag='BIC').to_frame().T,\n",
    "    adf(ho_price['1983-04':'1994-11'].diff().dropna(), autolag='BIC').to_frame().T,\n",
    "    adf(xb_price['1984-12':'1994-11'].diff().dropna(), autolag='BIC').to_frame().T,\n",
    "))"
   ]
  },
  {
   "cell_type": "markdown",
   "id": "5443698a",
   "metadata": {
    "papermill": {
     "duration": 0.065616,
     "end_time": "2022-02-01T06:11:22.634172",
     "exception": false,
     "start_time": "2022-02-01T06:11:22.568556",
     "status": "completed"
    },
    "tags": []
   },
   "source": [
    "## Engle-Granger test\n",
    "\n",
    "Next, let's check if the crack spread is cointegrated. The cointegration vector is estimated by OLS and the stationarity of the residual is tested with the ADF test.\n",
    "The test is done by the `coint` function in `statsmodels`. (cf. https://www.statsmodels.org/dev/generated/statsmodels.tsa.stattools.coint.html)"
   ]
  },
  {
   "cell_type": "code",
   "execution_count": 13,
   "id": "15663029",
   "metadata": {
    "execution": {
     "iopub.execute_input": "2022-02-01T06:11:22.811656Z",
     "iopub.status.busy": "2022-02-01T06:11:22.810835Z",
     "iopub.status.idle": "2022-02-01T06:11:22.824405Z",
     "shell.execute_reply": "2022-02-01T06:11:22.823595Z",
     "shell.execute_reply.started": "2021-12-03T06:36:53.059490Z"
    },
    "papermill": {
     "duration": 0.118461,
     "end_time": "2022-02-01T06:11:22.824559",
     "exception": false,
     "start_time": "2022-02-01T06:11:22.706098",
     "status": "completed"
    },
    "tags": []
   },
   "outputs": [],
   "source": [
    "price_concat = pd.concat((\n",
    "    cl_price,\n",
    "    ho_price,\n",
    "    xb_price,\n",
    "), axis=1).fillna(method='pad').dropna()"
   ]
  },
  {
   "cell_type": "code",
   "execution_count": 14,
   "id": "cf731a5e",
   "metadata": {
    "execution": {
     "iopub.execute_input": "2022-02-01T06:11:22.973424Z",
     "iopub.status.busy": "2022-02-01T06:11:22.972897Z",
     "iopub.status.idle": "2022-02-01T06:11:22.975307Z",
     "shell.execute_reply": "2022-02-01T06:11:22.974883Z",
     "shell.execute_reply.started": "2021-12-03T06:36:53.085796Z"
    },
    "papermill": {
     "duration": 0.073132,
     "end_time": "2022-02-01T06:11:22.975417",
     "exception": false,
     "start_time": "2022-02-01T06:11:22.902285",
     "status": "completed"
    },
    "tags": []
   },
   "outputs": [],
   "source": [
    "def coint(y: pd.Series, x: pd.DataFrame) -> pd.Series:\n",
    "    \"\"\" Run the cointegration test and return a cleaned result \"\"\"\n",
    "    result = sm.tsa.stattools.coint(y, x)\n",
    "    cleaned = {\n",
    "        't_value': result[0],\n",
    "        'p_value': result[1],\n",
    "        'ci_0.01': result[2][0],\n",
    "        'ci_0.05': result[2][1],\n",
    "        'ci_0.1': result[2][2],\n",
    "    }\n",
    "    return pd.Series(cleaned)"
   ]
  },
  {
   "cell_type": "code",
   "execution_count": 15,
   "id": "4299196b",
   "metadata": {
    "execution": {
     "iopub.execute_input": "2022-02-01T06:11:23.116587Z",
     "iopub.status.busy": "2022-02-01T06:11:23.115714Z",
     "iopub.status.idle": "2022-02-01T06:11:23.987176Z",
     "shell.execute_reply": "2022-02-01T06:11:23.988286Z",
     "shell.execute_reply.started": "2021-12-03T06:36:53.097640Z"
    },
    "papermill": {
     "duration": 0.949167,
     "end_time": "2022-02-01T06:11:23.988517",
     "exception": false,
     "start_time": "2022-02-01T06:11:23.039350",
     "status": "completed"
    },
    "tags": []
   },
   "outputs": [],
   "source": [
    "coint_result = pd.concat((\n",
    "    coint(\n",
    "        price_concat.loc[:'1994-11', 'Crude oil'],\n",
    "        price_concat.loc[:'1994-11', ['Heating oil', 'Gasoline']]\n",
    "    ).to_frame('CL vs HO + XB').T,\n",
    "    coint(\n",
    "        price_concat.loc[:'1994-11', 'Crude oil'],\n",
    "        price_concat.loc[:'1994-11', ['Gasoline']]\n",
    "    ).to_frame('CL vs XB').T,\n",
    "    coint(\n",
    "        price_concat.loc[:'1994-11', 'Crude oil'],\n",
    "        price_concat.loc[:'1994-11', ['Heating oil']]\n",
    "    ).to_frame('CL vs HO').T,\n",
    "))"
   ]
  },
  {
   "cell_type": "markdown",
   "id": "ea294ded",
   "metadata": {
    "papermill": {
     "duration": 0.06474,
     "end_time": "2022-02-01T06:11:24.162194",
     "exception": false,
     "start_time": "2022-02-01T06:11:24.097454",
     "status": "completed"
    },
    "tags": []
   },
   "source": [
    "The $H_0$ is that there is no cointegration. As per GP1999, all three crack spreads are cointegrated. "
   ]
  },
  {
   "cell_type": "code",
   "execution_count": 16,
   "id": "1824345d",
   "metadata": {
    "execution": {
     "iopub.execute_input": "2022-02-01T06:11:24.306907Z",
     "iopub.status.busy": "2022-02-01T06:11:24.306130Z",
     "iopub.status.idle": "2022-02-01T06:11:24.308749Z",
     "shell.execute_reply": "2022-02-01T06:11:24.309381Z",
     "shell.execute_reply.started": "2021-12-03T06:36:54.118494Z"
    },
    "papermill": {
     "duration": 0.078723,
     "end_time": "2022-02-01T06:11:24.309537",
     "exception": false,
     "start_time": "2022-02-01T06:11:24.230814",
     "status": "completed"
    },
    "tags": []
   },
   "outputs": [
    {
     "data": {
      "text/html": [
       "<div>\n",
       "<style scoped>\n",
       "    .dataframe tbody tr th:only-of-type {\n",
       "        vertical-align: middle;\n",
       "    }\n",
       "\n",
       "    .dataframe tbody tr th {\n",
       "        vertical-align: top;\n",
       "    }\n",
       "\n",
       "    .dataframe thead th {\n",
       "        text-align: right;\n",
       "    }\n",
       "</style>\n",
       "<table border=\"1\" class=\"dataframe\">\n",
       "  <thead>\n",
       "    <tr style=\"text-align: right;\">\n",
       "      <th></th>\n",
       "      <th>t_value</th>\n",
       "      <th>p_value</th>\n",
       "      <th>ci_0.01</th>\n",
       "      <th>ci_0.05</th>\n",
       "      <th>ci_0.1</th>\n",
       "    </tr>\n",
       "  </thead>\n",
       "  <tbody>\n",
       "    <tr>\n",
       "      <th>CL vs HO + XB</th>\n",
       "      <td>-6.110715</td>\n",
       "      <td>0.000005</td>\n",
       "      <td>-4.299485</td>\n",
       "      <td>-3.744067</td>\n",
       "      <td>-3.454651</td>\n",
       "    </tr>\n",
       "    <tr>\n",
       "      <th>CL vs XB</th>\n",
       "      <td>-5.762029</td>\n",
       "      <td>0.000005</td>\n",
       "      <td>-3.900800</td>\n",
       "      <td>-3.338561</td>\n",
       "      <td>-3.046137</td>\n",
       "    </tr>\n",
       "    <tr>\n",
       "      <th>CL vs HO</th>\n",
       "      <td>-5.708354</td>\n",
       "      <td>0.000007</td>\n",
       "      <td>-3.900800</td>\n",
       "      <td>-3.338561</td>\n",
       "      <td>-3.046137</td>\n",
       "    </tr>\n",
       "  </tbody>\n",
       "</table>\n",
       "</div>"
      ],
      "text/plain": [
       "                t_value   p_value   ci_0.01   ci_0.05    ci_0.1\n",
       "CL vs HO + XB -6.110715  0.000005 -4.299485 -3.744067 -3.454651\n",
       "CL vs XB      -5.762029  0.000005 -3.900800 -3.338561 -3.046137\n",
       "CL vs HO      -5.708354  0.000007 -3.900800 -3.338561 -3.046137"
      ]
     },
     "execution_count": 16,
     "metadata": {},
     "output_type": "execute_result"
    }
   ],
   "source": [
    "coint_result"
   ]
  },
  {
   "cell_type": "markdown",
   "id": "2f816c06",
   "metadata": {
    "papermill": {
     "duration": 0.067445,
     "end_time": "2022-02-01T06:11:24.451718",
     "exception": false,
     "start_time": "2022-02-01T06:11:24.384273",
     "status": "completed"
    },
    "tags": []
   },
   "source": [
    "This seems to hold with the full sample."
   ]
  },
  {
   "cell_type": "code",
   "execution_count": 17,
   "id": "467771dc",
   "metadata": {
    "execution": {
     "iopub.execute_input": "2022-02-01T06:11:24.596049Z",
     "iopub.status.busy": "2022-02-01T06:11:24.595092Z",
     "iopub.status.idle": "2022-02-01T06:11:28.321421Z",
     "shell.execute_reply": "2022-02-01T06:11:28.322494Z",
     "shell.execute_reply.started": "2021-12-03T06:36:54.136011Z"
    },
    "papermill": {
     "duration": 3.802576,
     "end_time": "2022-02-01T06:11:28.322730",
     "exception": false,
     "start_time": "2022-02-01T06:11:24.520154",
     "status": "completed"
    },
    "tags": []
   },
   "outputs": [
    {
     "data": {
      "text/html": [
       "<div>\n",
       "<style scoped>\n",
       "    .dataframe tbody tr th:only-of-type {\n",
       "        vertical-align: middle;\n",
       "    }\n",
       "\n",
       "    .dataframe tbody tr th {\n",
       "        vertical-align: top;\n",
       "    }\n",
       "\n",
       "    .dataframe thead th {\n",
       "        text-align: right;\n",
       "    }\n",
       "</style>\n",
       "<table border=\"1\" class=\"dataframe\">\n",
       "  <thead>\n",
       "    <tr style=\"text-align: right;\">\n",
       "      <th></th>\n",
       "      <th>t_value</th>\n",
       "      <th>p_value</th>\n",
       "      <th>ci_0.01</th>\n",
       "      <th>ci_0.05</th>\n",
       "      <th>ci_0.1</th>\n",
       "    </tr>\n",
       "  </thead>\n",
       "  <tbody>\n",
       "    <tr>\n",
       "      <th>CL vs HO + XB</th>\n",
       "      <td>-4.852804</td>\n",
       "      <td>1.375320e-03</td>\n",
       "      <td>-4.295286</td>\n",
       "      <td>-3.741577</td>\n",
       "      <td>-3.452846</td>\n",
       "    </tr>\n",
       "    <tr>\n",
       "      <th>CL vs XB</th>\n",
       "      <td>-6.792942</td>\n",
       "      <td>2.645917e-08</td>\n",
       "      <td>-3.897613</td>\n",
       "      <td>-3.336784</td>\n",
       "      <td>-3.044904</td>\n",
       "    </tr>\n",
       "    <tr>\n",
       "      <th>CL vs HO</th>\n",
       "      <td>-4.885706</td>\n",
       "      <td>2.656230e-04</td>\n",
       "      <td>-3.897613</td>\n",
       "      <td>-3.336784</td>\n",
       "      <td>-3.044904</td>\n",
       "    </tr>\n",
       "  </tbody>\n",
       "</table>\n",
       "</div>"
      ],
      "text/plain": [
       "                t_value       p_value   ci_0.01   ci_0.05    ci_0.1\n",
       "CL vs HO + XB -4.852804  1.375320e-03 -4.295286 -3.741577 -3.452846\n",
       "CL vs XB      -6.792942  2.645917e-08 -3.897613 -3.336784 -3.044904\n",
       "CL vs HO      -4.885706  2.656230e-04 -3.897613 -3.336784 -3.044904"
      ]
     },
     "execution_count": 17,
     "metadata": {},
     "output_type": "execute_result"
    }
   ],
   "source": [
    "pd.concat((\n",
    "    coint(\n",
    "        price_concat.loc[:, 'Crude oil'],\n",
    "        price_concat.loc[:, ['Heating oil', 'Gasoline']]\n",
    "    ).to_frame('CL vs HO + XB').T,\n",
    "    coint(\n",
    "        price_concat.loc[:, 'Crude oil'],\n",
    "        price_concat.loc[:, ['Gasoline']]\n",
    "    ).to_frame('CL vs XB').T,\n",
    "    coint(\n",
    "        price_concat.loc[:, 'Crude oil'],\n",
    "        price_concat.loc[:, ['Heating oil']]\n",
    "    ).to_frame('CL vs HO').T,\n",
    "))"
   ]
  },
  {
   "cell_type": "markdown",
   "id": "9107b072",
   "metadata": {
    "papermill": {
     "duration": 0.068174,
     "end_time": "2022-02-01T06:11:28.467836",
     "exception": false,
     "start_time": "2022-02-01T06:11:28.399662",
     "status": "completed"
    },
    "tags": []
   },
   "source": [
    "However the confidence level is somewhat weakend with recent data although they are at least still cointegrated at the 5% level."
   ]
  },
  {
   "cell_type": "code",
   "execution_count": 18,
   "id": "3898183b",
   "metadata": {
    "execution": {
     "iopub.execute_input": "2022-02-01T06:11:28.656784Z",
     "iopub.status.busy": "2022-02-01T06:11:28.656192Z",
     "iopub.status.idle": "2022-02-01T06:11:30.262615Z",
     "shell.execute_reply": "2022-02-01T06:11:30.263522Z",
     "shell.execute_reply.started": "2021-12-03T06:36:58.651001Z"
    },
    "papermill": {
     "duration": 1.699837,
     "end_time": "2022-02-01T06:11:30.263726",
     "exception": false,
     "start_time": "2022-02-01T06:11:28.563889",
     "status": "completed"
    },
    "tags": []
   },
   "outputs": [
    {
     "data": {
      "text/html": [
       "<div>\n",
       "<style scoped>\n",
       "    .dataframe tbody tr th:only-of-type {\n",
       "        vertical-align: middle;\n",
       "    }\n",
       "\n",
       "    .dataframe tbody tr th {\n",
       "        vertical-align: top;\n",
       "    }\n",
       "\n",
       "    .dataframe thead th {\n",
       "        text-align: right;\n",
       "    }\n",
       "</style>\n",
       "<table border=\"1\" class=\"dataframe\">\n",
       "  <thead>\n",
       "    <tr style=\"text-align: right;\">\n",
       "      <th></th>\n",
       "      <th>t_value</th>\n",
       "      <th>p_value</th>\n",
       "      <th>ci_0.01</th>\n",
       "      <th>ci_0.05</th>\n",
       "      <th>ci_0.1</th>\n",
       "    </tr>\n",
       "  </thead>\n",
       "  <tbody>\n",
       "    <tr>\n",
       "      <th>CL vs HO + XB</th>\n",
       "      <td>-4.037003</td>\n",
       "      <td>0.022119</td>\n",
       "      <td>-4.298487</td>\n",
       "      <td>-3.743475</td>\n",
       "      <td>-3.454223</td>\n",
       "    </tr>\n",
       "    <tr>\n",
       "      <th>CL vs XB</th>\n",
       "      <td>-4.803594</td>\n",
       "      <td>0.000372</td>\n",
       "      <td>-3.900043</td>\n",
       "      <td>-3.338139</td>\n",
       "      <td>-3.045844</td>\n",
       "    </tr>\n",
       "    <tr>\n",
       "      <th>CL vs HO</th>\n",
       "      <td>-3.898345</td>\n",
       "      <td>0.009972</td>\n",
       "      <td>-3.900043</td>\n",
       "      <td>-3.338139</td>\n",
       "      <td>-3.045844</td>\n",
       "    </tr>\n",
       "  </tbody>\n",
       "</table>\n",
       "</div>"
      ],
      "text/plain": [
       "                t_value   p_value   ci_0.01   ci_0.05    ci_0.1\n",
       "CL vs HO + XB -4.037003  0.022119 -4.298487 -3.743475 -3.454223\n",
       "CL vs XB      -4.803594  0.000372 -3.900043 -3.338139 -3.045844\n",
       "CL vs HO      -3.898345  0.009972 -3.900043 -3.338139 -3.045844"
      ]
     },
     "execution_count": 18,
     "metadata": {},
     "output_type": "execute_result"
    }
   ],
   "source": [
    "pd.concat((\n",
    "    coint(\n",
    "        price_concat.loc['2010':, 'Crude oil'],\n",
    "        price_concat.loc['2010':, ['Heating oil', 'Gasoline']]\n",
    "    ).to_frame('CL vs HO + XB').T,\n",
    "    coint(\n",
    "        price_concat.loc['2010':, 'Crude oil'],\n",
    "        price_concat.loc['2010':, ['Gasoline']]\n",
    "    ).to_frame('CL vs XB').T,\n",
    "    coint(\n",
    "        price_concat.loc['2010':, 'Crude oil'],\n",
    "        price_concat.loc['2010':, ['Heating oil']]\n",
    "    ).to_frame('CL vs HO').T,\n",
    "))"
   ]
  },
  {
   "cell_type": "markdown",
   "id": "f22325d0",
   "metadata": {
    "papermill": {
     "duration": 0.091056,
     "end_time": "2022-02-01T06:11:30.473535",
     "exception": false,
     "start_time": "2022-02-01T06:11:30.382479",
     "status": "completed"
    },
    "tags": []
   },
   "source": [
    "## Crack spreads\n",
    "\n",
    "Additionally, GP1999 tests the stationarity of the popularly traded crack spread -- 3:2:1 crack spread (CS), 1:1:0 gasoline crack spread (GCS) and 1:0:1 heating oil crack spread (HOCS).\n",
    "\n",
    "Note that the crude oil contract is priced in barrels while the other two are priced in gallon, and there are 42 gallons per 1 barrel. Some unit conversions are required to calculate such spreads."
   ]
  },
  {
   "cell_type": "code",
   "execution_count": 19,
   "id": "015bb3e9",
   "metadata": {
    "execution": {
     "iopub.execute_input": "2022-02-01T06:11:30.613190Z",
     "iopub.status.busy": "2022-02-01T06:11:30.612654Z",
     "iopub.status.idle": "2022-02-01T06:11:30.615865Z",
     "shell.execute_reply": "2022-02-01T06:11:30.616304Z",
     "shell.execute_reply.started": "2021-12-03T06:37:00.212361Z"
    },
    "papermill": {
     "duration": 0.07555,
     "end_time": "2022-02-01T06:11:30.616443",
     "exception": false,
     "start_time": "2022-02-01T06:11:30.540893",
     "status": "completed"
    },
    "tags": []
   },
   "outputs": [],
   "source": [
    "cs = (price_concat['Heating oil'].mul(42).mul(2 / 3) + \n",
    "      price_concat['Gasoline'].mul(42).mul(1 / 3) - \n",
    "      price_concat['Crude oil'])\n",
    "gcs = (price_concat['Gasoline'].mul(42) - \n",
    "       price_concat['Crude oil'])\n",
    "hocs = (price_concat['Heating oil'].mul(42) - \n",
    "        price_concat['Crude oil'])"
   ]
  },
  {
   "cell_type": "markdown",
   "id": "6608463f",
   "metadata": {
    "papermill": {
     "duration": 0.066516,
     "end_time": "2022-02-01T06:11:30.749903",
     "exception": false,
     "start_time": "2022-02-01T06:11:30.683387",
     "status": "completed"
    },
    "tags": []
   },
   "source": [
    "As can be seen visually below, these spreads appear stationary until around 2000 after which they started to drift away from a certain level. This could be related to the financialisation of commodities. There are some evidence suggesting that index investments and speculative trades influence the commodity markets. (cf https://www.ecb.europa.eu/pub/financial-stability/fsr/focus/2011/pdf/ecb~6fdfdfce1c.fsrbox201112_04.pdf)"
   ]
  },
  {
   "cell_type": "code",
   "execution_count": 20,
   "id": "0b27db24",
   "metadata": {
    "execution": {
     "iopub.execute_input": "2022-02-01T06:11:30.921309Z",
     "iopub.status.busy": "2022-02-01T06:11:30.903589Z",
     "iopub.status.idle": "2022-02-01T06:11:31.637076Z",
     "shell.execute_reply": "2022-02-01T06:11:31.636532Z",
     "shell.execute_reply.started": "2021-12-03T06:37:00.228669Z"
    },
    "papermill": {
     "duration": 0.820745,
     "end_time": "2022-02-01T06:11:31.637188",
     "exception": false,
     "start_time": "2022-02-01T06:11:30.816443",
     "status": "completed"
    },
    "tags": []
   },
   "outputs": [
    {
     "data": {
      "image/png": "[encoded data removed]",
      "text/plain": [
       "<Figure size 864x288 with 3 Axes>"
      ]
     },
     "metadata": {
      "needs_background": "light"
     },
     "output_type": "display_data"
    }
   ],
   "source": [
    "fig, ax = plt.subplots(1, 3, figsize=(12, 4), sharey=True)\n",
    "cs.plot(ax=ax[0])\n",
    "gcs.plot(ax=ax[1])\n",
    "hocs.plot(ax=ax[2])\n",
    "\n",
    "ax[0].set_title('3:2:1 crack spread')\n",
    "ax[1].set_title('1:1:0 gasoline crack spread')\n",
    "ax[2].set_title('1:0:1 heating oil crack spread')\n",
    "ax[0].set_ylabel('Crack spread ($)')\n",
    "\n",
    "fig.tight_layout();"
   ]
  },
  {
   "cell_type": "markdown",
   "id": "ddba6b40",
   "metadata": {
    "papermill": {
     "duration": 0.068387,
     "end_time": "2022-02-01T06:11:31.776573",
     "exception": false,
     "start_time": "2022-02-01T06:11:31.708186",
     "status": "completed"
    },
    "tags": []
   },
   "source": [
    "More formally, the ADF tests below show that they were stationary until Nov-1994."
   ]
  },
  {
   "cell_type": "code",
   "execution_count": 21,
   "id": "bd58dd0b",
   "metadata": {
    "execution": {
     "iopub.execute_input": "2022-02-01T06:11:31.919957Z",
     "iopub.status.busy": "2022-02-01T06:11:31.919425Z",
     "iopub.status.idle": "2022-02-01T06:11:32.431251Z",
     "shell.execute_reply": "2022-02-01T06:11:32.432075Z",
     "shell.execute_reply.started": "2021-12-03T06:37:00.926032Z"
    },
    "papermill": {
     "duration": 0.587591,
     "end_time": "2022-02-01T06:11:32.432319",
     "exception": false,
     "start_time": "2022-02-01T06:11:31.844728",
     "status": "completed"
    },
    "tags": []
   },
   "outputs": [
    {
     "data": {
      "text/html": [
       "<div>\n",
       "<style scoped>\n",
       "    .dataframe tbody tr th:only-of-type {\n",
       "        vertical-align: middle;\n",
       "    }\n",
       "\n",
       "    .dataframe tbody tr th {\n",
       "        vertical-align: top;\n",
       "    }\n",
       "\n",
       "    .dataframe thead th {\n",
       "        text-align: right;\n",
       "    }\n",
       "</style>\n",
       "<table border=\"1\" class=\"dataframe\">\n",
       "  <thead>\n",
       "    <tr style=\"text-align: right;\">\n",
       "      <th></th>\n",
       "      <th>adf</th>\n",
       "      <th>p_value</th>\n",
       "      <th>used_lag</th>\n",
       "      <th>n_obs</th>\n",
       "      <th>ci_0.01</th>\n",
       "      <th>ci_0.05</th>\n",
       "      <th>ci_0.1</th>\n",
       "      <th>ic_best</th>\n",
       "    </tr>\n",
       "  </thead>\n",
       "  <tbody>\n",
       "    <tr>\n",
       "      <th>0</th>\n",
       "      <td>-7.926287</td>\n",
       "      <td>3.611421e-12</td>\n",
       "      <td>0.0</td>\n",
       "      <td>2515.0</td>\n",
       "      <td>-3.432953</td>\n",
       "      <td>-2.86269</td>\n",
       "      <td>-2.567382</td>\n",
       "      <td>1757.165999</td>\n",
       "    </tr>\n",
       "    <tr>\n",
       "      <th>0</th>\n",
       "      <td>-5.640046</td>\n",
       "      <td>1.041538e-06</td>\n",
       "      <td>1.0</td>\n",
       "      <td>2514.0</td>\n",
       "      <td>-3.432954</td>\n",
       "      <td>-2.86269</td>\n",
       "      <td>-2.567382</td>\n",
       "      <td>2505.871051</td>\n",
       "    </tr>\n",
       "    <tr>\n",
       "      <th>0</th>\n",
       "      <td>-6.999952</td>\n",
       "      <td>7.365777e-10</td>\n",
       "      <td>0.0</td>\n",
       "      <td>2515.0</td>\n",
       "      <td>-3.432953</td>\n",
       "      <td>-2.86269</td>\n",
       "      <td>-2.567382</td>\n",
       "      <td>2815.457971</td>\n",
       "    </tr>\n",
       "  </tbody>\n",
       "</table>\n",
       "</div>"
      ],
      "text/plain": [
       "        adf       p_value  used_lag   n_obs   ci_0.01  ci_0.05    ci_0.1  \\\n",
       "0 -7.926287  3.611421e-12       0.0  2515.0 -3.432953 -2.86269 -2.567382   \n",
       "0 -5.640046  1.041538e-06       1.0  2514.0 -3.432954 -2.86269 -2.567382   \n",
       "0 -6.999952  7.365777e-10       0.0  2515.0 -3.432953 -2.86269 -2.567382   \n",
       "\n",
       "       ic_best  \n",
       "0  1757.165999  \n",
       "0  2505.871051  \n",
       "0  2815.457971  "
      ]
     },
     "execution_count": 21,
     "metadata": {},
     "output_type": "execute_result"
    }
   ],
   "source": [
    "pd.concat((\n",
    "    adf(cs[:'1994-11'], autolag='BIC').to_frame().T,\n",
    "    adf(gcs[:'1994-11'], autolag='BIC').to_frame().T,\n",
    "    adf(hocs[:'1994-11'], autolag='BIC').to_frame().T,\n",
    "))"
   ]
  },
  {
   "cell_type": "markdown",
   "id": "6e2c8692",
   "metadata": {
    "papermill": {
     "duration": 0.069557,
     "end_time": "2022-02-01T06:11:32.607951",
     "exception": false,
     "start_time": "2022-02-01T06:11:32.538394",
     "status": "completed"
    },
    "tags": []
   },
   "source": [
    "Statistically though these spreads are still stationary at the 1% confidence level even after 2000."
   ]
  },
  {
   "cell_type": "code",
   "execution_count": 22,
   "id": "d3f9d7a9",
   "metadata": {
    "execution": {
     "iopub.execute_input": "2022-02-01T06:11:32.753225Z",
     "iopub.status.busy": "2022-02-01T06:11:32.752654Z",
     "iopub.status.idle": "2022-02-01T06:11:34.053225Z",
     "shell.execute_reply": "2022-02-01T06:11:34.053966Z",
     "shell.execute_reply.started": "2021-12-03T06:37:01.658276Z"
    },
    "papermill": {
     "duration": 1.376306,
     "end_time": "2022-02-01T06:11:34.054168",
     "exception": false,
     "start_time": "2022-02-01T06:11:32.677862",
     "status": "completed"
    },
    "tags": []
   },
   "outputs": [
    {
     "data": {
      "text/html": [
       "<div>\n",
       "<style scoped>\n",
       "    .dataframe tbody tr th:only-of-type {\n",
       "        vertical-align: middle;\n",
       "    }\n",
       "\n",
       "    .dataframe tbody tr th {\n",
       "        vertical-align: top;\n",
       "    }\n",
       "\n",
       "    .dataframe thead th {\n",
       "        text-align: right;\n",
       "    }\n",
       "</style>\n",
       "<table border=\"1\" class=\"dataframe\">\n",
       "  <thead>\n",
       "    <tr style=\"text-align: right;\">\n",
       "      <th></th>\n",
       "      <th>adf</th>\n",
       "      <th>p_value</th>\n",
       "      <th>used_lag</th>\n",
       "      <th>n_obs</th>\n",
       "      <th>ci_0.01</th>\n",
       "      <th>ci_0.05</th>\n",
       "      <th>ci_0.1</th>\n",
       "      <th>ic_best</th>\n",
       "    </tr>\n",
       "  </thead>\n",
       "  <tbody>\n",
       "    <tr>\n",
       "      <th>0</th>\n",
       "      <td>-3.702432</td>\n",
       "      <td>0.004079</td>\n",
       "      <td>0.0</td>\n",
       "      <td>5545.0</td>\n",
       "      <td>-3.43153</td>\n",
       "      <td>-2.862061</td>\n",
       "      <td>-2.567048</td>\n",
       "      <td>13204.629146</td>\n",
       "    </tr>\n",
       "    <tr>\n",
       "      <th>0</th>\n",
       "      <td>-5.390183</td>\n",
       "      <td>0.000004</td>\n",
       "      <td>0.0</td>\n",
       "      <td>5545.0</td>\n",
       "      <td>-3.43153</td>\n",
       "      <td>-2.862061</td>\n",
       "      <td>-2.567048</td>\n",
       "      <td>17357.490397</td>\n",
       "    </tr>\n",
       "    <tr>\n",
       "      <th>0</th>\n",
       "      <td>-3.434104</td>\n",
       "      <td>0.009850</td>\n",
       "      <td>0.0</td>\n",
       "      <td>5545.0</td>\n",
       "      <td>-3.43153</td>\n",
       "      <td>-2.862061</td>\n",
       "      <td>-2.567048</td>\n",
       "      <td>13858.434478</td>\n",
       "    </tr>\n",
       "  </tbody>\n",
       "</table>\n",
       "</div>"
      ],
      "text/plain": [
       "        adf   p_value  used_lag   n_obs  ci_0.01   ci_0.05    ci_0.1  \\\n",
       "0 -3.702432  0.004079       0.0  5545.0 -3.43153 -2.862061 -2.567048   \n",
       "0 -5.390183  0.000004       0.0  5545.0 -3.43153 -2.862061 -2.567048   \n",
       "0 -3.434104  0.009850       0.0  5545.0 -3.43153 -2.862061 -2.567048   \n",
       "\n",
       "        ic_best  \n",
       "0  13204.629146  \n",
       "0  17357.490397  \n",
       "0  13858.434478  "
      ]
     },
     "execution_count": 22,
     "metadata": {},
     "output_type": "execute_result"
    }
   ],
   "source": [
    "pd.concat((\n",
    "    adf(cs['2000':], autolag='BIC').to_frame().T,\n",
    "    adf(gcs['2000':], autolag='BIC').to_frame().T,\n",
    "    adf(hocs['2000':], autolag='BIC').to_frame().T,\n",
    "))"
   ]
  },
  {
   "cell_type": "markdown",
   "id": "eb6c197c",
   "metadata": {
    "papermill": {
     "duration": 0.069051,
     "end_time": "2022-02-01T06:11:34.215703",
     "exception": false,
     "start_time": "2022-02-01T06:11:34.146652",
     "status": "completed"
    },
    "tags": []
   },
   "source": [
    "# Backtest"
   ]
  },
  {
   "cell_type": "markdown",
   "id": "4bbb1506",
   "metadata": {
    "papermill": {
     "duration": 0.089052,
     "end_time": "2022-02-01T06:11:34.374104",
     "exception": false,
     "start_time": "2022-02-01T06:11:34.285052",
     "status": "completed"
    },
    "tags": []
   },
   "source": [
    "It's not entirely clear how many back contracts are used in the original analysis as they only mentioned they used *all spreads*. In this notebook, the first 6 contracts are used for the sake of simplicity. Beyond 6, there tends to be more missing prices because of inactivity.\n",
    "\n",
    "In practice, one might want to consider liquidity of each contract to decide which one to trade as not all contract months have the same liquidity. In the case of crude oil, after certain points only June and December contracts are actually traded even though other months are listed."
   ]
  },
  {
   "cell_type": "code",
   "execution_count": 23,
   "id": "4aebb8bd",
   "metadata": {
    "execution": {
     "iopub.execute_input": "2022-02-01T06:11:34.545952Z",
     "iopub.status.busy": "2022-02-01T06:11:34.545410Z",
     "iopub.status.idle": "2022-02-01T06:11:35.225085Z",
     "shell.execute_reply": "2022-02-01T06:11:35.225515Z",
     "shell.execute_reply.started": "2021-12-03T06:37:02.717053Z"
    },
    "papermill": {
     "duration": 0.752881,
     "end_time": "2022-02-01T06:11:35.225660",
     "exception": false,
     "start_time": "2022-02-01T06:11:34.472779",
     "status": "completed"
    },
    "tags": []
   },
   "outputs": [],
   "source": [
    "cl_curve = get_futures_curve_snapshot('CL', datetime(2021, 12, 1), 'volume')"
   ]
  },
  {
   "cell_type": "code",
   "execution_count": 24,
   "id": "c2bd035a",
   "metadata": {
    "execution": {
     "iopub.execute_input": "2022-02-01T06:11:35.369043Z",
     "iopub.status.busy": "2022-02-01T06:11:35.366682Z",
     "iopub.status.idle": "2022-02-01T06:11:35.846705Z",
     "shell.execute_reply": "2022-02-01T06:11:35.846073Z",
     "shell.execute_reply.started": "2021-12-03T06:37:03.317876Z"
    },
    "papermill": {
     "duration": 0.551982,
     "end_time": "2022-02-01T06:11:35.846819",
     "exception": false,
     "start_time": "2022-02-01T06:11:35.294837",
     "status": "completed"
    },
    "tags": []
   },
   "outputs": [
    {
     "data": {
      "image/png": "[encoded data removed]",
      "text/plain": [
       "<Figure size 1008x216 with 1 Axes>"
      ]
     },
     "metadata": {
      "needs_background": "light"
     },
     "output_type": "display_data"
    }
   ],
   "source": [
    "ax = cl_curve.loc[:'2024'].set_index('symbol')['volume'].plot(kind='bar', figsize=(14, 3));\n",
    "ax.set_ylabel('Volume')\n",
    "ax.set_title('Crude oil traded volume per contract');"
   ]
  },
  {
   "cell_type": "markdown",
   "id": "9de6acec",
   "metadata": {
    "papermill": {
     "duration": 0.070027,
     "end_time": "2022-02-01T06:11:35.988534",
     "exception": false,
     "start_time": "2022-02-01T06:11:35.918507",
     "status": "completed"
    },
    "tags": []
   },
   "source": [
    "## Crack spread\n",
    "\n",
    "First define the instruments. `roll_rule` is defined to make sure futures are rolled on month-ends. As per the analysis done for crush spreads, some arbitrary collateral of 100k USD is used to meature futures returns."
   ]
  },
  {
   "cell_type": "code",
   "execution_count": 25,
   "id": "5d159539",
   "metadata": {
    "execution": {
     "iopub.execute_input": "2022-02-01T06:11:36.146292Z",
     "iopub.status.busy": "2022-02-01T06:11:36.145630Z",
     "iopub.status.idle": "2022-02-01T06:11:36.147370Z",
     "shell.execute_reply": "2022-02-01T06:11:36.147771Z",
     "shell.execute_reply.started": "2021-12-03T06:37:03.702667Z"
    },
    "papermill": {
     "duration": 0.083,
     "end_time": "2022-02-01T06:11:36.147907",
     "exception": false,
     "start_time": "2022-02-01T06:11:36.064907",
     "status": "completed"
    },
    "tags": []
   },
   "outputs": [],
   "source": [
    "max_expiry = 6\n",
    "instrument = []\n",
    "for i in range(1, max_expiry + 1):\n",
    "    ho = InstrumentDef('HO', id=f'HO_{i}', collateral=100_000, roll_rule=RollRule.MONTH_END.value, nth_expiry=i)\n",
    "    xb = InstrumentDef('XB', id=f'XB_{i}', collateral=100_000, roll_rule=RollRule.MONTH_END.value, nth_expiry=i)\n",
    "    cl = InstrumentDef('CL', id=f'CL_{i}', collateral=100_000, roll_rule=RollRule.MONTH_END.value, nth_expiry=i)\n",
    "    instrument.append(ho)\n",
    "    instrument.append(xb)\n",
    "    instrument.append(cl)"
   ]
  },
  {
   "cell_type": "code",
   "execution_count": 26,
   "id": "19851a3b",
   "metadata": {
    "execution": {
     "iopub.execute_input": "2022-02-01T06:11:36.310666Z",
     "iopub.status.busy": "2022-02-01T06:11:36.309904Z",
     "iopub.status.idle": "2022-02-01T06:11:36.312667Z",
     "shell.execute_reply": "2022-02-01T06:11:36.313281Z",
     "shell.execute_reply.started": "2021-12-03T06:37:03.708075Z"
    },
    "papermill": {
     "duration": 0.090785,
     "end_time": "2022-02-01T06:11:36.313463",
     "exception": false,
     "start_time": "2022-02-01T06:11:36.222678",
     "status": "completed"
    },
    "tags": []
   },
   "outputs": [
    {
     "data": {
      "text/plain": [
       "18"
      ]
     },
     "execution_count": 26,
     "metadata": {},
     "output_type": "execute_result"
    }
   ],
   "source": [
    "len(instrument)"
   ]
  },
  {
   "cell_type": "code",
   "execution_count": 27,
   "id": "729399c3",
   "metadata": {
    "execution": {
     "iopub.execute_input": "2022-02-01T06:11:36.468110Z",
     "iopub.status.busy": "2022-02-01T06:11:36.467563Z",
     "iopub.status.idle": "2022-02-01T06:17:11.057989Z",
     "shell.execute_reply": "2022-02-01T06:17:11.058678Z",
     "shell.execute_reply.started": "2021-12-03T06:37:03.728155Z"
    },
    "papermill": {
     "duration": 334.667823,
     "end_time": "2022-02-01T06:17:11.058891",
     "exception": false,
     "start_time": "2022-02-01T06:11:36.391068",
     "status": "completed"
    },
    "tags": []
   },
   "outputs": [],
   "source": [
    "engine_cs = BacktestEngine(\n",
    "    start_date=datetime(1985, 1, 1),\n",
    "    strategy=Strategy.DELTA_ONE.value,\n",
    "    instrument=instrument,\n",
    "    signal=signal.CrackSpreadGP1999(\n",
    "        ma_lookback=5,\n",
    "        entry_sigma=2,\n",
    "    ),\n",
    "    weighting=Weighting.SUM.value,\n",
    "    log_level=logging.WARN,\n",
    ")\n",
    "engine_cs.run()"
   ]
  },
  {
   "cell_type": "code",
   "execution_count": 28,
   "id": "f08e3ad6",
   "metadata": {
    "execution": {
     "iopub.execute_input": "2022-02-01T06:17:11.594849Z",
     "iopub.status.busy": "2022-02-01T06:17:11.442693Z",
     "iopub.status.idle": "2022-02-01T06:18:37.744548Z",
     "shell.execute_reply": "2022-02-01T06:18:37.743973Z",
     "shell.execute_reply.started": "2021-12-03T06:42:16.903750Z"
    },
    "papermill": {
     "duration": 86.574964,
     "end_time": "2022-02-01T06:18:37.744663",
     "exception": false,
     "start_time": "2022-02-01T06:17:11.169699",
     "status": "completed"
    },
    "tags": []
   },
   "outputs": [],
   "source": [
    "levels_cs = engine_cs.calculate_equity_curve(calculate_net=False).rename('Crack spread')"
   ]
  },
  {
   "cell_type": "markdown",
   "id": "46f2eaf9",
   "metadata": {
    "papermill": {
     "duration": 0.074033,
     "end_time": "2022-02-01T06:18:37.891442",
     "exception": false,
     "start_time": "2022-02-01T06:18:37.817409",
     "status": "completed"
    },
    "tags": []
   },
   "source": [
    "## Gasoline crack spread"
   ]
  },
  {
   "cell_type": "code",
   "execution_count": 29,
   "id": "ea2825c3",
   "metadata": {
    "execution": {
     "iopub.execute_input": "2022-02-01T06:18:38.045854Z",
     "iopub.status.busy": "2022-02-01T06:18:38.045286Z",
     "iopub.status.idle": "2022-02-01T06:18:38.046752Z",
     "shell.execute_reply": "2022-02-01T06:18:38.047153Z",
     "shell.execute_reply.started": "2021-12-03T06:43:30.816159Z"
    },
    "papermill": {
     "duration": 0.081195,
     "end_time": "2022-02-01T06:18:38.047295",
     "exception": false,
     "start_time": "2022-02-01T06:18:37.966100",
     "status": "completed"
    },
    "tags": []
   },
   "outputs": [],
   "source": [
    "max_expiry = 6\n",
    "instrument = []\n",
    "for i in range(1, max_expiry + 1):\n",
    "    xb = InstrumentDef('XB', id=f'XB_{i}', collateral=100_000, roll_rule=RollRule.MONTH_END.value, nth_expiry=i)\n",
    "    cl = InstrumentDef('CL', id=f'CL_{i}', collateral=100_000, roll_rule=RollRule.MONTH_END.value, nth_expiry=i)\n",
    "    instrument.append(xb)\n",
    "    instrument.append(cl)"
   ]
  },
  {
   "cell_type": "code",
   "execution_count": 30,
   "id": "553fbe4b",
   "metadata": {
    "execution": {
     "iopub.execute_input": "2022-02-01T06:18:38.195480Z",
     "iopub.status.busy": "2022-02-01T06:18:38.194909Z",
     "iopub.status.idle": "2022-02-01T06:22:27.718055Z",
     "shell.execute_reply": "2022-02-01T06:22:27.717525Z",
     "shell.execute_reply.started": "2021-12-03T06:43:30.820603Z"
    },
    "papermill": {
     "duration": 229.599668,
     "end_time": "2022-02-01T06:22:27.718170",
     "exception": false,
     "start_time": "2022-02-01T06:18:38.118502",
     "status": "completed"
    },
    "tags": []
   },
   "outputs": [],
   "source": [
    "engine_gcs = BacktestEngine(\n",
    "    start_date=datetime(1985, 1, 1),\n",
    "    strategy=Strategy.DELTA_ONE.value,\n",
    "    instrument=instrument,\n",
    "    signal=signal.CrackSpreadGP1999(\n",
    "        weights={'XB': 42 * 1000, 'CL': -1 * 1000},\n",
    "        ma_lookback=5,\n",
    "        entry_sigma=2,\n",
    "    ),\n",
    "    weighting=Weighting.SUM.value,\n",
    "    log_level=logging.WARN,\n",
    ")\n",
    "engine_gcs.run()"
   ]
  },
  {
   "cell_type": "code",
   "execution_count": 31,
   "id": "4d87519a",
   "metadata": {
    "execution": {
     "iopub.execute_input": "2022-02-01T06:22:27.928533Z",
     "iopub.status.busy": "2022-02-01T06:22:27.920462Z",
     "iopub.status.idle": "2022-02-01T06:23:22.334408Z",
     "shell.execute_reply": "2022-02-01T06:23:22.333849Z",
     "shell.execute_reply.started": "2021-12-03T06:46:36.439575Z"
    },
    "papermill": {
     "duration": 54.545349,
     "end_time": "2022-02-01T06:23:22.334532",
     "exception": false,
     "start_time": "2022-02-01T06:22:27.789183",
     "status": "completed"
    },
    "tags": []
   },
   "outputs": [],
   "source": [
    "levels_gcs = engine_gcs.calculate_equity_curve(calculate_net=False).rename('Gasoline crack spread')"
   ]
  },
  {
   "cell_type": "markdown",
   "id": "8d456942",
   "metadata": {
    "papermill": {
     "duration": 0.080163,
     "end_time": "2022-02-01T06:23:22.510239",
     "exception": false,
     "start_time": "2022-02-01T06:23:22.430076",
     "status": "completed"
    },
    "tags": []
   },
   "source": [
    "## Heating oil crack spread"
   ]
  },
  {
   "cell_type": "code",
   "execution_count": 32,
   "id": "9cb7c150",
   "metadata": {
    "execution": {
     "iopub.execute_input": "2022-02-01T06:23:22.657393Z",
     "iopub.status.busy": "2022-02-01T06:23:22.656853Z",
     "iopub.status.idle": "2022-02-01T06:23:22.658687Z",
     "shell.execute_reply": "2022-02-01T06:23:22.659085Z",
     "shell.execute_reply.started": "2021-12-03T06:47:22.681997Z"
    },
    "papermill": {
     "duration": 0.078751,
     "end_time": "2022-02-01T06:23:22.659251",
     "exception": false,
     "start_time": "2022-02-01T06:23:22.580500",
     "status": "completed"
    },
    "tags": []
   },
   "outputs": [],
   "source": [
    "max_expiry = 6\n",
    "instrument = []\n",
    "for i in range(1, max_expiry + 1):\n",
    "    ho = InstrumentDef('HO', id=f'HO_{i}', collateral=100_000, roll_rule=RollRule.MONTH_END.value, nth_expiry=i)\n",
    "    cl = InstrumentDef('CL', id=f'CL_{i}', collateral=100_000, roll_rule=RollRule.MONTH_END.value, nth_expiry=i)\n",
    "    instrument.append(ho)\n",
    "    instrument.append(cl)"
   ]
  },
  {
   "cell_type": "code",
   "execution_count": 33,
   "id": "9338a131",
   "metadata": {
    "execution": {
     "iopub.execute_input": "2022-02-01T06:23:22.805510Z",
     "iopub.status.busy": "2022-02-01T06:23:22.804986Z",
     "iopub.status.idle": "2022-02-01T06:27:07.113137Z",
     "shell.execute_reply": "2022-02-01T06:27:07.112482Z",
     "shell.execute_reply.started": "2021-12-03T06:47:22.686616Z"
    },
    "papermill": {
     "duration": 224.383602,
     "end_time": "2022-02-01T06:27:07.113262",
     "exception": false,
     "start_time": "2022-02-01T06:23:22.729660",
     "status": "completed"
    },
    "tags": []
   },
   "outputs": [],
   "source": [
    "engine_hocs = BacktestEngine(\n",
    "    start_date=datetime(1985, 1, 1),\n",
    "    strategy=Strategy.DELTA_ONE.value,\n",
    "    instrument=instrument,\n",
    "    signal=signal.CrackSpreadGP1999(\n",
    "        weights={'HO': 42 * 1000, 'CL': -1 * 1000},\n",
    "        ma_lookback=5,\n",
    "        entry_sigma=2,\n",
    "    ),\n",
    "    weighting=Weighting.SUM.value,\n",
    "    log_level=logging.WARN,\n",
    ")\n",
    "engine_hocs.run()"
   ]
  },
  {
   "cell_type": "code",
   "execution_count": 34,
   "id": "64757694",
   "metadata": {
    "execution": {
     "iopub.execute_input": "2022-02-01T06:27:07.800201Z",
     "iopub.status.busy": "2022-02-01T06:27:07.542677Z",
     "iopub.status.idle": "2022-02-01T06:28:00.303216Z",
     "shell.execute_reply": "2022-02-01T06:28:00.303640Z",
     "shell.execute_reply.started": "2021-12-03T06:50:35.660726Z"
    },
    "papermill": {
     "duration": 53.114541,
     "end_time": "2022-02-01T06:28:00.303822",
     "exception": false,
     "start_time": "2022-02-01T06:27:07.189281",
     "status": "completed"
    },
    "tags": []
   },
   "outputs": [],
   "source": [
    "levels_hocs = engine_hocs.calculate_equity_curve(calculate_net=False).rename('Heating oil crack spread')"
   ]
  },
  {
   "cell_type": "markdown",
   "id": "7d427481",
   "metadata": {
    "papermill": {
     "duration": 0.071959,
     "end_time": "2022-02-01T06:28:00.449065",
     "exception": false,
     "start_time": "2022-02-01T06:28:00.377106",
     "status": "completed"
    },
    "tags": []
   },
   "source": [
    "## Performance\n",
    "During the sample period tested, a mean-reversion on the crack spread worked well."
   ]
  },
  {
   "cell_type": "code",
   "execution_count": 35,
   "id": "348f0796",
   "metadata": {
    "execution": {
     "iopub.execute_input": "2022-02-01T06:28:00.602979Z",
     "iopub.status.busy": "2022-02-01T06:28:00.602429Z",
     "iopub.status.idle": "2022-02-01T06:28:00.613552Z",
     "shell.execute_reply": "2022-02-01T06:28:00.614005Z",
     "shell.execute_reply.started": "2021-12-03T06:51:19.449738Z"
    },
    "papermill": {
     "duration": 0.091237,
     "end_time": "2022-02-01T06:28:00.614150",
     "exception": false,
     "start_time": "2022-02-01T06:28:00.522913",
     "status": "completed"
    },
    "tags": []
   },
   "outputs": [],
   "source": [
    "levels = pd.concat((\n",
    "    levels_cs, levels_gcs, levels_hocs\n",
    "), axis=1)"
   ]
  },
  {
   "cell_type": "code",
   "execution_count": 36,
   "id": "c3b6f7cd",
   "metadata": {
    "execution": {
     "iopub.execute_input": "2022-02-01T06:28:00.779405Z",
     "iopub.status.busy": "2022-02-01T06:28:00.778874Z",
     "iopub.status.idle": "2022-02-01T06:28:01.499372Z",
     "shell.execute_reply": "2022-02-01T06:28:01.499821Z",
     "shell.execute_reply.started": "2021-12-03T06:51:19.460778Z"
    },
    "papermill": {
     "duration": 0.812862,
     "end_time": "2022-02-01T06:28:01.499955",
     "exception": false,
     "start_time": "2022-02-01T06:28:00.687093",
     "status": "completed"
    },
    "tags": []
   },
   "outputs": [
    {
     "data": {
      "image/png": "[encoded data removed]",
      "text/plain": [
       "<Figure size 576x324 with 1 Axes>"
      ]
     },
     "metadata": {
      "needs_background": "light"
     },
     "output_type": "display_data"
    }
   ],
   "source": [
    "fig, ax = plt.subplots(figsize=(8, 4.5))\n",
    "levels[:'1994-11'].plot(ax=ax, logy=True);\n",
    "ax.set_title('Crack spreads mean-reversion (GP1999)')\n",
    "ax.set_ylabel('Cumulative returns');"
   ]
  },
  {
   "cell_type": "code",
   "execution_count": 37,
   "id": "8b9035a4",
   "metadata": {
    "execution": {
     "iopub.execute_input": "2022-02-01T06:28:01.647388Z",
     "iopub.status.busy": "2022-02-01T06:28:01.646874Z",
     "iopub.status.idle": "2022-02-01T06:28:01.688569Z",
     "shell.execute_reply": "2022-02-01T06:28:01.689051Z",
     "shell.execute_reply.started": "2021-12-03T06:51:20.052589Z"
    },
    "papermill": {
     "duration": 0.11679,
     "end_time": "2022-02-01T06:28:01.689184",
     "exception": false,
     "start_time": "2022-02-01T06:28:01.572394",
     "status": "completed"
    },
    "tags": []
   },
   "outputs": [
    {
     "data": {
      "text/html": [
       "<div>\n",
       "<style scoped>\n",
       "    .dataframe tbody tr th:only-of-type {\n",
       "        vertical-align: middle;\n",
       "    }\n",
       "\n",
       "    .dataframe tbody tr th {\n",
       "        vertical-align: top;\n",
       "    }\n",
       "\n",
       "    .dataframe thead th {\n",
       "        text-align: right;\n",
       "    }\n",
       "</style>\n",
       "<table border=\"1\" class=\"dataframe\">\n",
       "  <thead>\n",
       "    <tr style=\"text-align: right;\">\n",
       "      <th></th>\n",
       "      <th>Crack spread</th>\n",
       "      <th>Gasoline crack spread</th>\n",
       "      <th>Heating oil crack spread</th>\n",
       "    </tr>\n",
       "  </thead>\n",
       "  <tbody>\n",
       "    <tr>\n",
       "      <th>CAGR</th>\n",
       "      <td>0.014100</td>\n",
       "      <td>0.007241</td>\n",
       "      <td>0.011715</td>\n",
       "    </tr>\n",
       "    <tr>\n",
       "      <th>Annualised vol</th>\n",
       "      <td>0.018131</td>\n",
       "      <td>0.022948</td>\n",
       "      <td>0.017725</td>\n",
       "    </tr>\n",
       "    <tr>\n",
       "      <th>Sharpe ratio</th>\n",
       "      <td>0.777675</td>\n",
       "      <td>0.315525</td>\n",
       "      <td>0.660914</td>\n",
       "    </tr>\n",
       "    <tr>\n",
       "      <th>Max drawdown</th>\n",
       "      <td>0.071648</td>\n",
       "      <td>0.129760</td>\n",
       "      <td>0.044562</td>\n",
       "    </tr>\n",
       "    <tr>\n",
       "      <th>Calmar ratio</th>\n",
       "      <td>0.196791</td>\n",
       "      <td>0.055800</td>\n",
       "      <td>0.262889</td>\n",
       "    </tr>\n",
       "    <tr>\n",
       "      <th>Skewness</th>\n",
       "      <td>0.791950</td>\n",
       "      <td>4.373877</td>\n",
       "      <td>2.076780</td>\n",
       "    </tr>\n",
       "    <tr>\n",
       "      <th>Kurtosis</th>\n",
       "      <td>45.874931</td>\n",
       "      <td>200.909353</td>\n",
       "      <td>75.098364</td>\n",
       "    </tr>\n",
       "    <tr>\n",
       "      <th>Worst return</th>\n",
       "      <td>-0.012272</td>\n",
       "      <td>-0.022322</td>\n",
       "      <td>-0.013000</td>\n",
       "    </tr>\n",
       "    <tr>\n",
       "      <th>Worst 1d return</th>\n",
       "      <td>-0.012272</td>\n",
       "      <td>-0.022322</td>\n",
       "      <td>-0.013000</td>\n",
       "    </tr>\n",
       "    <tr>\n",
       "      <th>Worst 1w return</th>\n",
       "      <td>-0.018763</td>\n",
       "      <td>-0.034413</td>\n",
       "      <td>-0.019985</td>\n",
       "    </tr>\n",
       "    <tr>\n",
       "      <th>Worst 1m return</th>\n",
       "      <td>-0.030638</td>\n",
       "      <td>-0.029017</td>\n",
       "      <td>-0.026193</td>\n",
       "    </tr>\n",
       "  </tbody>\n",
       "</table>\n",
       "</div>"
      ],
      "text/plain": [
       "                 Crack spread  Gasoline crack spread  Heating oil crack spread\n",
       "CAGR                 0.014100               0.007241                  0.011715\n",
       "Annualised vol       0.018131               0.022948                  0.017725\n",
       "Sharpe ratio         0.777675               0.315525                  0.660914\n",
       "Max drawdown         0.071648               0.129760                  0.044562\n",
       "Calmar ratio         0.196791               0.055800                  0.262889\n",
       "Skewness             0.791950               4.373877                  2.076780\n",
       "Kurtosis            45.874931             200.909353                 75.098364\n",
       "Worst return        -0.012272              -0.022322                 -0.013000\n",
       "Worst 1d return     -0.012272              -0.022322                 -0.013000\n",
       "Worst 1w return     -0.018763              -0.034413                 -0.019985\n",
       "Worst 1m return     -0.030638              -0.029017                 -0.026193"
      ]
     },
     "execution_count": 37,
     "metadata": {},
     "output_type": "execute_result"
    }
   ],
   "source": [
    "levels[:'1994-11'].pipe(Performance).summary()"
   ]
  },
  {
   "cell_type": "markdown",
   "id": "25d81c19",
   "metadata": {
    "papermill": {
     "duration": 0.077215,
     "end_time": "2022-02-01T06:28:01.841756",
     "exception": false,
     "start_time": "2022-02-01T06:28:01.764541",
     "status": "completed"
    },
    "tags": []
   },
   "source": [
    "The underperformance in 1990 coincides with a wider divergence on the crack spread which is intuitive."
   ]
  },
  {
   "cell_type": "code",
   "execution_count": 38,
   "id": "76538675",
   "metadata": {
    "execution": {
     "iopub.execute_input": "2022-02-01T06:28:02.002589Z",
     "iopub.status.busy": "2022-02-01T06:28:02.001561Z",
     "iopub.status.idle": "2022-02-01T06:28:02.396192Z",
     "shell.execute_reply": "2022-02-01T06:28:02.395527Z",
     "shell.execute_reply.started": "2021-12-03T06:51:20.098154Z"
    },
    "papermill": {
     "duration": 0.481577,
     "end_time": "2022-02-01T06:28:02.396312",
     "exception": false,
     "start_time": "2022-02-01T06:28:01.914735",
     "status": "completed"
    },
    "tags": []
   },
   "outputs": [
    {
     "data": {
      "image/png": "[encoded data removed]",
      "text/plain": [
       "<Figure size 576x360 with 2 Axes>"
      ]
     },
     "metadata": {
      "needs_background": "light"
     },
     "output_type": "display_data"
    }
   ],
   "source": [
    "pd.concat((\n",
    "    levels_gcs.rename('Gasoline crack spread strategy'),\n",
    "    gcs.rename('GCS')\n",
    "), axis=1)[:'1994-11'].plot(figsize=(8, 5), secondary_y='GCS');"
   ]
  },
  {
   "cell_type": "markdown",
   "id": "e2d431e2",
   "metadata": {
    "papermill": {
     "duration": 0.078142,
     "end_time": "2022-02-01T06:28:02.552428",
     "exception": false,
     "start_time": "2022-02-01T06:28:02.474286",
     "status": "completed"
    },
    "tags": []
   },
   "source": [
    "## Long-term performance\n",
    "\n",
    "...however as we saw earlier in the time-series of crack spreads, something must have changed in 2000s and the trading strategies stopped working."
   ]
  },
  {
   "cell_type": "code",
   "execution_count": 39,
   "id": "d8a263d6",
   "metadata": {
    "execution": {
     "iopub.execute_input": "2022-02-01T06:28:02.707310Z",
     "iopub.status.busy": "2022-02-01T06:28:02.706792Z",
     "iopub.status.idle": "2022-02-01T06:28:03.191674Z",
     "shell.execute_reply": "2022-02-01T06:28:03.192316Z",
     "shell.execute_reply.started": "2021-12-03T06:51:20.399415Z"
    },
    "papermill": {
     "duration": 0.565862,
     "end_time": "2022-02-01T06:28:03.192495",
     "exception": false,
     "start_time": "2022-02-01T06:28:02.626633",
     "status": "completed"
    },
    "tags": []
   },
   "outputs": [
    {
     "data": {
      "image/png": "[encoded data removed]",
      "text/plain": [
       "<Figure size 576x324 with 1 Axes>"
      ]
     },
     "metadata": {
      "needs_background": "light"
     },
     "output_type": "display_data"
    }
   ],
   "source": [
    "fig, ax = plt.subplots(figsize=(8, 4.5))\n",
    "levels.plot(ax=ax, logy=True);\n",
    "ax.set_title('Crack spreads mean-reversion (GP1999)')\n",
    "ax.set_ylabel('Cumulative returns');"
   ]
  },
  {
   "cell_type": "code",
   "execution_count": 40,
   "id": "b9b01da1",
   "metadata": {
    "execution": {
     "iopub.execute_input": "2022-02-01T06:28:03.366649Z",
     "iopub.status.busy": "2022-02-01T06:28:03.366107Z",
     "iopub.status.idle": "2022-02-01T06:28:03.433628Z",
     "shell.execute_reply": "2022-02-01T06:28:03.434054Z",
     "shell.execute_reply.started": "2021-12-03T06:51:20.790419Z"
    },
    "papermill": {
     "duration": 0.147597,
     "end_time": "2022-02-01T06:28:03.434186",
     "exception": false,
     "start_time": "2022-02-01T06:28:03.286589",
     "status": "completed"
    },
    "tags": []
   },
   "outputs": [
    {
     "data": {
      "text/html": [
       "<div>\n",
       "<style scoped>\n",
       "    .dataframe tbody tr th:only-of-type {\n",
       "        vertical-align: middle;\n",
       "    }\n",
       "\n",
       "    .dataframe tbody tr th {\n",
       "        vertical-align: top;\n",
       "    }\n",
       "\n",
       "    .dataframe thead th {\n",
       "        text-align: right;\n",
       "    }\n",
       "</style>\n",
       "<table border=\"1\" class=\"dataframe\">\n",
       "  <thead>\n",
       "    <tr style=\"text-align: right;\">\n",
       "      <th></th>\n",
       "      <th>Crack spread</th>\n",
       "      <th>Gasoline crack spread</th>\n",
       "      <th>Heating oil crack spread</th>\n",
       "    </tr>\n",
       "  </thead>\n",
       "  <tbody>\n",
       "    <tr>\n",
       "      <th>CAGR</th>\n",
       "      <td>-0.016538</td>\n",
       "      <td>-0.007198</td>\n",
       "      <td>0.006907</td>\n",
       "    </tr>\n",
       "    <tr>\n",
       "      <th>Annualised vol</th>\n",
       "      <td>0.069804</td>\n",
       "      <td>0.044445</td>\n",
       "      <td>0.051076</td>\n",
       "    </tr>\n",
       "    <tr>\n",
       "      <th>Sharpe ratio</th>\n",
       "      <td>-0.236924</td>\n",
       "      <td>-0.161946</td>\n",
       "      <td>0.135232</td>\n",
       "    </tr>\n",
       "    <tr>\n",
       "      <th>Max drawdown</th>\n",
       "      <td>0.657854</td>\n",
       "      <td>0.455942</td>\n",
       "      <td>0.262482</td>\n",
       "    </tr>\n",
       "    <tr>\n",
       "      <th>Calmar ratio</th>\n",
       "      <td>-0.025140</td>\n",
       "      <td>-0.015786</td>\n",
       "      <td>0.026315</td>\n",
       "    </tr>\n",
       "    <tr>\n",
       "      <th>Skewness</th>\n",
       "      <td>0.688400</td>\n",
       "      <td>-1.921319</td>\n",
       "      <td>-1.165131</td>\n",
       "    </tr>\n",
       "    <tr>\n",
       "      <th>Kurtosis</th>\n",
       "      <td>104.225910</td>\n",
       "      <td>69.909696</td>\n",
       "      <td>69.080389</td>\n",
       "    </tr>\n",
       "    <tr>\n",
       "      <th>Worst return</th>\n",
       "      <td>-0.087463</td>\n",
       "      <td>-0.049356</td>\n",
       "      <td>-0.058601</td>\n",
       "    </tr>\n",
       "    <tr>\n",
       "      <th>Worst 1d return</th>\n",
       "      <td>-0.087463</td>\n",
       "      <td>-0.049356</td>\n",
       "      <td>-0.058601</td>\n",
       "    </tr>\n",
       "    <tr>\n",
       "      <th>Worst 1w return</th>\n",
       "      <td>-0.120710</td>\n",
       "      <td>-0.101832</td>\n",
       "      <td>-0.085109</td>\n",
       "    </tr>\n",
       "    <tr>\n",
       "      <th>Worst 1m return</th>\n",
       "      <td>-0.114531</td>\n",
       "      <td>-0.119793</td>\n",
       "      <td>-0.093972</td>\n",
       "    </tr>\n",
       "  </tbody>\n",
       "</table>\n",
       "</div>"
      ],
      "text/plain": [
       "                 Crack spread  Gasoline crack spread  Heating oil crack spread\n",
       "CAGR                -0.016538              -0.007198                  0.006907\n",
       "Annualised vol       0.069804               0.044445                  0.051076\n",
       "Sharpe ratio        -0.236924              -0.161946                  0.135232\n",
       "Max drawdown         0.657854               0.455942                  0.262482\n",
       "Calmar ratio        -0.025140              -0.015786                  0.026315\n",
       "Skewness             0.688400              -1.921319                 -1.165131\n",
       "Kurtosis           104.225910              69.909696                 69.080389\n",
       "Worst return        -0.087463              -0.049356                 -0.058601\n",
       "Worst 1d return     -0.087463              -0.049356                 -0.058601\n",
       "Worst 1w return     -0.120710              -0.101832                 -0.085109\n",
       "Worst 1m return     -0.114531              -0.119793                 -0.093972"
      ]
     },
     "execution_count": 40,
     "metadata": {},
     "output_type": "execute_result"
    }
   ],
   "source": [
    "levels.pipe(Performance).summary()"
   ]
  },
  {
   "cell_type": "markdown",
   "id": "e67cc5fa",
   "metadata": {
    "papermill": {
     "duration": 0.081578,
     "end_time": "2022-02-01T06:28:03.593088",
     "exception": false,
     "start_time": "2022-02-01T06:28:03.511510",
     "status": "completed"
    },
    "tags": []
   },
   "source": [
    "## Post publication"
   ]
  },
  {
   "cell_type": "code",
   "execution_count": 41,
   "id": "94b4f13d",
   "metadata": {
    "execution": {
     "iopub.execute_input": "2022-02-01T06:28:03.753893Z",
     "iopub.status.busy": "2022-02-01T06:28:03.753352Z",
     "iopub.status.idle": "2022-02-01T06:28:03.755004Z",
     "shell.execute_reply": "2022-02-01T06:28:03.755404Z",
     "shell.execute_reply.started": "2021-12-03T06:51:20.849663Z"
    },
    "papermill": {
     "duration": 0.08203,
     "end_time": "2022-02-01T06:28:03.755532",
     "exception": false,
     "start_time": "2022-02-01T06:28:03.673502",
     "status": "completed"
    },
    "tags": []
   },
   "outputs": [],
   "source": [
    "publication_date = datetime(1999, 11, 29)"
   ]
  },
  {
   "cell_type": "code",
   "execution_count": 42,
   "id": "1a2e7f9c",
   "metadata": {
    "execution": {
     "iopub.execute_input": "2022-02-01T06:28:03.917284Z",
     "iopub.status.busy": "2022-02-01T06:28:03.916525Z",
     "iopub.status.idle": "2022-02-01T06:28:04.873095Z",
     "shell.execute_reply": "2022-02-01T06:28:04.873517Z",
     "shell.execute_reply.started": "2021-12-03T06:51:20.853881Z"
    },
    "papermill": {
     "duration": 1.041298,
     "end_time": "2022-02-01T06:28:04.873647",
     "exception": false,
     "start_time": "2022-02-01T06:28:03.832349",
     "status": "completed"
    },
    "tags": []
   },
   "outputs": [
    {
     "data": {
      "image/png": "[encoded data removed]",
      "text/plain": [
       "<Figure size 1008x288 with 2 Axes>"
      ]
     },
     "metadata": {
      "needs_background": "light"
     },
     "output_type": "display_data"
    }
   ],
   "source": [
    "fig, ax = plt.subplots(1, 2, figsize=(14, 4))\n",
    "levels.plot(ax=ax[0], logy=True);\n",
    "ax[0].set_title('Crack spreads mean-reversion (GP1999)')\n",
    "ax[0].set_ylabel('Cumulative returns');\n",
    "ax[0].axvline(publication_date, lw=1, ls='--', color='black')\n",
    "ax[0].text(publication_date, 100, 'Publication date ', ha='right')\n",
    "\n",
    "levels.loc[publication_date:].pipe(rebase).plot(ax=ax[1], logy=True);\n",
    "ax[1].set_title('Post publication');"
   ]
  },
  {
   "cell_type": "markdown",
   "id": "d187127a",
   "metadata": {
    "papermill": {
     "duration": 0.085935,
     "end_time": "2022-02-01T06:28:05.046460",
     "exception": false,
     "start_time": "2022-02-01T06:28:04.960525",
     "status": "completed"
    },
    "tags": []
   },
   "source": [
    "# Reference\n",
    "- Girma, P.B. and Paulson, A.S., 1999. Risk arbitrage opportunities in petroleum futures spreads. Journal of Futures Markets, 19(8), pp.931-955."
   ]
  },
  {
   "cell_type": "code",
   "execution_count": 43,
   "id": "69fe3c8e",
   "metadata": {
    "execution": {
     "iopub.execute_input": "2022-02-01T06:28:05.224467Z",
     "iopub.status.busy": "2022-02-01T06:28:05.223931Z",
     "iopub.status.idle": "2022-02-01T06:28:05.244007Z",
     "shell.execute_reply": "2022-02-01T06:28:05.243439Z",
     "shell.execute_reply.started": "2021-12-03T06:51:21.723848Z"
    },
    "papermill": {
     "duration": 0.110087,
     "end_time": "2022-02-01T06:28:05.244139",
     "exception": false,
     "start_time": "2022-02-01T06:28:05.134052",
     "status": "completed"
    },
    "tags": []
   },
   "outputs": [
    {
     "name": "stdout",
     "output_type": "stream",
     "text": [
      "Updated: 01-Feb-2022 06:28\n"
     ]
    }
   ],
   "source": [
    "print(f'Updated: {datetime.utcnow():%d-%b-%Y %H:%M}')"
   ]
  }
 ],
 "metadata": {
  "kernelspec": {
   "display_name": "Python 3",
   "language": "python",
   "name": "python3"
  },
  "language_info": {
   "codemirror_mode": {
    "name": "ipython",
    "version": 3
   },
   "file_extension": ".py",
   "mimetype": "text/x-python",
   "name": "python",
   "nbconvert_exporter": "python",
   "pygments_lexer": "ipython3",
   "version": "3.9.6"
  },
  "papermill": {
   "default_parameters": {},
   "duration": 1069.189264,
   "end_time": "2022-02-01T06:28:08.056837",
   "environment_variables": {},
   "exception": null,
   "input_path": "notebooks/papermill/commodity_crack_spread_stat_arb.ipynb",
   "output_path": "notebooks/commodity_crack_spread_stat_arb.ipynb",
   "parameters": {},
   "start_time": "2022-02-01T06:10:18.867573",
   "version": "2.3.3"
  },
  "toc-autonumbering": true
 },
 "nbformat": 4,
 "nbformat_minor": 5
}